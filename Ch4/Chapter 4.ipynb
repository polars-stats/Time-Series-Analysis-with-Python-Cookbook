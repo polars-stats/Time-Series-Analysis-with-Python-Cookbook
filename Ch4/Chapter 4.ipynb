{
 "cells": [
  {
   "cell_type": "code",
   "execution_count": 121,
   "id": "20b01b3b-b9cf-4447-9259-93ed9bcdefb3",
   "metadata": {},
   "outputs": [],
   "source": [
    "#%config Completer.use_jedi = False"
   ]
  },
  {
   "cell_type": "markdown",
   "id": "194fd2c3-001f-4949-8a91-a9ee91c87809",
   "metadata": {},
   "source": [
    "# **Chapter 4**\n",
    "## *Persisting Time Series Data to Files*, \n",
    "\n",
    "This chapter covers different options and use cases to store time series data for later retrieval. The techniques will cover various methods and file types, whether on-premises or in the cloud. In addition, this chapter covers serialization, compression, overwriting, or appending to files. \n",
    "\n",
    "We will cover the following recipes on how to ingest data into a pandas DataFrame:\n",
    "* Time series data serialization with pickle\n",
    "* Writing to CSV and other delimited files\n",
    "* Writing data to an Excel file\n",
    "* Storing data to a private S3 bucket"
   ]
  },
  {
   "cell_type": "markdown",
   "id": "b826dd84-6964-4512-90de-50e8d23b5868",
   "metadata": {},
   "source": [
    "# Recipe 1: Serializing time series data with pickle\n",
    "* This recipe explains the concept of data serialization \n",
    "* Demonstrate how pickling works "
   ]
  },
  {
   "cell_type": "code",
   "execution_count": 122,
   "id": "65b6c194-3b9e-410e-ab5b-40c62585d799",
   "metadata": {},
   "outputs": [],
   "source": [
    "import pandas as pd\n",
    "from pathlib import Path"
   ]
  },
  {
   "cell_type": "code",
   "execution_count": 123,
   "id": "e5badf72-9648-4a0d-9d4f-bc96b2f8ab15",
   "metadata": {},
   "outputs": [],
   "source": [
    "file = Path('datasets/time_series_covid19_confirmed_global.csv')\n",
    "df = pd.read_csv(file)"
   ]
  },
  {
   "cell_type": "code",
   "execution_count": 124,
   "id": "e59c28e5-5eb0-4550-9797-53648bc64185",
   "metadata": {},
   "outputs": [
    {
     "data": {
      "text/html": [
       "<div>\n",
       "<style scoped>\n",
       "    .dataframe tbody tr th:only-of-type {\n",
       "        vertical-align: middle;\n",
       "    }\n",
       "\n",
       "    .dataframe tbody tr th {\n",
       "        vertical-align: top;\n",
       "    }\n",
       "\n",
       "    .dataframe thead th {\n",
       "        text-align: right;\n",
       "    }\n",
       "</style>\n",
       "<table border=\"1\" class=\"dataframe\">\n",
       "  <thead>\n",
       "    <tr style=\"text-align: right;\">\n",
       "      <th></th>\n",
       "      <th>Province/State</th>\n",
       "      <th>Country/Region</th>\n",
       "      <th>Lat</th>\n",
       "      <th>Long</th>\n",
       "      <th>1/22/20</th>\n",
       "      <th>1/23/20</th>\n",
       "      <th>1/24/20</th>\n",
       "      <th>1/25/20</th>\n",
       "      <th>1/26/20</th>\n",
       "      <th>1/27/20</th>\n",
       "      <th>...</th>\n",
       "      <th>9/19/21</th>\n",
       "      <th>9/20/21</th>\n",
       "      <th>9/21/21</th>\n",
       "      <th>9/22/21</th>\n",
       "      <th>9/23/21</th>\n",
       "      <th>9/24/21</th>\n",
       "      <th>9/25/21</th>\n",
       "      <th>9/26/21</th>\n",
       "      <th>9/27/21</th>\n",
       "      <th>9/28/21</th>\n",
       "    </tr>\n",
       "  </thead>\n",
       "  <tbody>\n",
       "    <tr>\n",
       "      <th>0</th>\n",
       "      <td>NaN</td>\n",
       "      <td>Afghanistan</td>\n",
       "      <td>33.93911</td>\n",
       "      <td>67.709953</td>\n",
       "      <td>0</td>\n",
       "      <td>0</td>\n",
       "      <td>0</td>\n",
       "      <td>0</td>\n",
       "      <td>0</td>\n",
       "      <td>0</td>\n",
       "      <td>...</td>\n",
       "      <td>154487</td>\n",
       "      <td>154585</td>\n",
       "      <td>154712</td>\n",
       "      <td>154757</td>\n",
       "      <td>154800</td>\n",
       "      <td>154960</td>\n",
       "      <td>154960</td>\n",
       "      <td>154960</td>\n",
       "      <td>155072</td>\n",
       "      <td>155093</td>\n",
       "    </tr>\n",
       "    <tr>\n",
       "      <th>1</th>\n",
       "      <td>NaN</td>\n",
       "      <td>Albania</td>\n",
       "      <td>41.15330</td>\n",
       "      <td>20.168300</td>\n",
       "      <td>0</td>\n",
       "      <td>0</td>\n",
       "      <td>0</td>\n",
       "      <td>0</td>\n",
       "      <td>0</td>\n",
       "      <td>0</td>\n",
       "      <td>...</td>\n",
       "      <td>162953</td>\n",
       "      <td>163404</td>\n",
       "      <td>164276</td>\n",
       "      <td>165096</td>\n",
       "      <td>165864</td>\n",
       "      <td>166690</td>\n",
       "      <td>167354</td>\n",
       "      <td>167893</td>\n",
       "      <td>168188</td>\n",
       "      <td>168782</td>\n",
       "    </tr>\n",
       "    <tr>\n",
       "      <th>2</th>\n",
       "      <td>NaN</td>\n",
       "      <td>Algeria</td>\n",
       "      <td>28.03390</td>\n",
       "      <td>1.659600</td>\n",
       "      <td>0</td>\n",
       "      <td>0</td>\n",
       "      <td>0</td>\n",
       "      <td>0</td>\n",
       "      <td>0</td>\n",
       "      <td>0</td>\n",
       "      <td>...</td>\n",
       "      <td>201600</td>\n",
       "      <td>201766</td>\n",
       "      <td>201948</td>\n",
       "      <td>202122</td>\n",
       "      <td>202283</td>\n",
       "      <td>202449</td>\n",
       "      <td>202574</td>\n",
       "      <td>202722</td>\n",
       "      <td>202877</td>\n",
       "      <td>203045</td>\n",
       "    </tr>\n",
       "    <tr>\n",
       "      <th>3</th>\n",
       "      <td>NaN</td>\n",
       "      <td>Andorra</td>\n",
       "      <td>42.50630</td>\n",
       "      <td>1.521800</td>\n",
       "      <td>0</td>\n",
       "      <td>0</td>\n",
       "      <td>0</td>\n",
       "      <td>0</td>\n",
       "      <td>0</td>\n",
       "      <td>0</td>\n",
       "      <td>...</td>\n",
       "      <td>15124</td>\n",
       "      <td>15140</td>\n",
       "      <td>15140</td>\n",
       "      <td>15153</td>\n",
       "      <td>15156</td>\n",
       "      <td>15167</td>\n",
       "      <td>15167</td>\n",
       "      <td>15167</td>\n",
       "      <td>15189</td>\n",
       "      <td>15192</td>\n",
       "    </tr>\n",
       "    <tr>\n",
       "      <th>4</th>\n",
       "      <td>NaN</td>\n",
       "      <td>Angola</td>\n",
       "      <td>-11.20270</td>\n",
       "      <td>17.873900</td>\n",
       "      <td>0</td>\n",
       "      <td>0</td>\n",
       "      <td>0</td>\n",
       "      <td>0</td>\n",
       "      <td>0</td>\n",
       "      <td>0</td>\n",
       "      <td>...</td>\n",
       "      <td>52307</td>\n",
       "      <td>52644</td>\n",
       "      <td>52968</td>\n",
       "      <td>53387</td>\n",
       "      <td>53840</td>\n",
       "      <td>54280</td>\n",
       "      <td>54795</td>\n",
       "      <td>55121</td>\n",
       "      <td>55583</td>\n",
       "      <td>56040</td>\n",
       "    </tr>\n",
       "  </tbody>\n",
       "</table>\n",
       "<p>5 rows × 620 columns</p>\n",
       "</div>"
      ],
      "text/plain": [
       "  Province/State Country/Region       Lat       Long  1/22/20  1/23/20   \n",
       "0            NaN    Afghanistan  33.93911  67.709953        0        0  \\\n",
       "1            NaN        Albania  41.15330  20.168300        0        0   \n",
       "2            NaN        Algeria  28.03390   1.659600        0        0   \n",
       "3            NaN        Andorra  42.50630   1.521800        0        0   \n",
       "4            NaN         Angola -11.20270  17.873900        0        0   \n",
       "\n",
       "   1/24/20  1/25/20  1/26/20  1/27/20  ...  9/19/21  9/20/21  9/21/21   \n",
       "0        0        0        0        0  ...   154487   154585   154712  \\\n",
       "1        0        0        0        0  ...   162953   163404   164276   \n",
       "2        0        0        0        0  ...   201600   201766   201948   \n",
       "3        0        0        0        0  ...    15124    15140    15140   \n",
       "4        0        0        0        0  ...    52307    52644    52968   \n",
       "\n",
       "   9/22/21  9/23/21  9/24/21  9/25/21  9/26/21  9/27/21  9/28/21  \n",
       "0   154757   154800   154960   154960   154960   155072   155093  \n",
       "1   165096   165864   166690   167354   167893   168188   168782  \n",
       "2   202122   202283   202449   202574   202722   202877   203045  \n",
       "3    15153    15156    15167    15167    15167    15189    15192  \n",
       "4    53387    53840    54280    54795    55121    55583    56040  \n",
       "\n",
       "[5 rows x 620 columns]"
      ]
     },
     "execution_count": 124,
     "metadata": {},
     "output_type": "execute_result"
    }
   ],
   "source": [
    "df.head()"
   ]
  },
  {
   "cell_type": "code",
   "execution_count": 125,
   "id": "1a34737a-9af9-486a-a65a-b7a15f8fdc7d",
   "metadata": {},
   "outputs": [
    {
     "data": {
      "text/html": [
       "<div>\n",
       "<style scoped>\n",
       "    .dataframe tbody tr th:only-of-type {\n",
       "        vertical-align: middle;\n",
       "    }\n",
       "\n",
       "    .dataframe tbody tr th {\n",
       "        vertical-align: top;\n",
       "    }\n",
       "\n",
       "    .dataframe thead th {\n",
       "        text-align: right;\n",
       "    }\n",
       "</style>\n",
       "<table border=\"1\" class=\"dataframe\">\n",
       "  <thead>\n",
       "    <tr style=\"text-align: right;\">\n",
       "      <th></th>\n",
       "      <th>6/1/20</th>\n",
       "      <th>6/2/20</th>\n",
       "      <th>6/3/20</th>\n",
       "      <th>6/4/20</th>\n",
       "      <th>6/5/20</th>\n",
       "      <th>6/6/20</th>\n",
       "      <th>6/7/20</th>\n",
       "      <th>6/8/20</th>\n",
       "      <th>6/9/20</th>\n",
       "      <th>6/10/20</th>\n",
       "      <th>...</th>\n",
       "      <th>9/21/20</th>\n",
       "      <th>9/22/20</th>\n",
       "      <th>9/23/20</th>\n",
       "      <th>9/24/20</th>\n",
       "      <th>9/25/20</th>\n",
       "      <th>9/26/20</th>\n",
       "      <th>9/27/20</th>\n",
       "      <th>9/28/20</th>\n",
       "      <th>9/29/20</th>\n",
       "      <th>9/30/20</th>\n",
       "    </tr>\n",
       "  </thead>\n",
       "  <tbody>\n",
       "    <tr>\n",
       "      <th>254</th>\n",
       "      <td>1816679</td>\n",
       "      <td>1837948</td>\n",
       "      <td>1857728</td>\n",
       "      <td>1879463</td>\n",
       "      <td>1904375</td>\n",
       "      <td>1925849</td>\n",
       "      <td>1944117</td>\n",
       "      <td>1960815</td>\n",
       "      <td>1978823</td>\n",
       "      <td>2000019</td>\n",
       "      <td>...</td>\n",
       "      <td>6860254</td>\n",
       "      <td>6900324</td>\n",
       "      <td>6939235</td>\n",
       "      <td>6986604</td>\n",
       "      <td>7034971</td>\n",
       "      <td>7079902</td>\n",
       "      <td>7117964</td>\n",
       "      <td>7150631</td>\n",
       "      <td>7194195</td>\n",
       "      <td>7233295</td>\n",
       "    </tr>\n",
       "  </tbody>\n",
       "</table>\n",
       "<p>1 rows × 122 columns</p>\n",
       "</div>"
      ],
      "text/plain": [
       "      6/1/20   6/2/20   6/3/20   6/4/20   6/5/20   6/6/20   6/7/20   6/8/20   \n",
       "254  1816679  1837948  1857728  1879463  1904375  1925849  1944117  1960815  \\\n",
       "\n",
       "      6/9/20  6/10/20  ...  9/21/20  9/22/20  9/23/20  9/24/20  9/25/20   \n",
       "254  1978823  2000019  ...  6860254  6900324  6939235  6986604  7034971  \\\n",
       "\n",
       "     9/26/20  9/27/20  9/28/20  9/29/20  9/30/20  \n",
       "254  7079902  7117964  7150631  7194195  7233295  \n",
       "\n",
       "[1 rows x 122 columns]"
      ]
     },
     "execution_count": 125,
     "metadata": {},
     "output_type": "execute_result"
    }
   ],
   "source": [
    "# filter data where Country is United States\n",
    "df_usa = df[df['Country/Region'] == 'US']\n",
    "# filter columns from June to end of September\n",
    "df_usa_summer = df_usa.loc[:, '6/1/20':'9/30/20']\n",
    "# pivot the data \n",
    "df_usa_summer"
   ]
  },
  {
   "cell_type": "code",
   "execution_count": 126,
   "id": "33c445c9-1d8f-4a22-9632-7a3fbe8da2f0",
   "metadata": {},
   "outputs": [
    {
     "name": "stdout",
     "output_type": "stream",
     "text": [
      "<class 'pandas.core.frame.DataFrame'>\n",
      "DatetimeIndex: 122 entries, 2020-06-01 to 2020-09-30\n",
      "Data columns (total 1 columns):\n",
      " #   Column  Non-Null Count  Dtype\n",
      "---  ------  --------------  -----\n",
      " 0   cases   122 non-null    int64\n",
      "dtypes: int64(1)\n",
      "memory usage: 1.9 KB\n"
     ]
    },
    {
     "name": "stderr",
     "output_type": "stream",
     "text": [
      "/tmp/ipykernel_49295/3746536897.py:6: UserWarning: Could not infer format, so each element will be parsed individually, falling back to `dateutil`. To ensure parsing is consistent and as-expected, please specify a format.\n",
      "  df_usa_summer_unpivoted.index = pd.to_datetime(df_usa_summer_unpivoted.index)\n"
     ]
    }
   ],
   "source": [
    "# unpivot using pd.melt()\n",
    "df_usa_summer_unpivoted = pd.melt(df_usa_summer,\n",
    "                                  value_vars=df_usa_summer.columns,\n",
    "                                  value_name='cases',\n",
    "                                  var_name='date').set_index('date')\n",
    "df_usa_summer_unpivoted.index = pd.to_datetime(df_usa_summer_unpivoted.index)\n",
    "df_usa_summer_unpivoted.info()"
   ]
  },
  {
   "cell_type": "code",
   "execution_count": 127,
   "id": "7483557b-191d-47d4-909a-d2d98eada98a",
   "metadata": {},
   "outputs": [
    {
     "data": {
      "text/html": [
       "<div>\n",
       "<style scoped>\n",
       "    .dataframe tbody tr th:only-of-type {\n",
       "        vertical-align: middle;\n",
       "    }\n",
       "\n",
       "    .dataframe tbody tr th {\n",
       "        vertical-align: top;\n",
       "    }\n",
       "\n",
       "    .dataframe thead th {\n",
       "        text-align: right;\n",
       "    }\n",
       "</style>\n",
       "<table border=\"1\" class=\"dataframe\">\n",
       "  <thead>\n",
       "    <tr style=\"text-align: right;\">\n",
       "      <th></th>\n",
       "      <th>cases</th>\n",
       "    </tr>\n",
       "    <tr>\n",
       "      <th>date</th>\n",
       "      <th></th>\n",
       "    </tr>\n",
       "  </thead>\n",
       "  <tbody>\n",
       "    <tr>\n",
       "      <th>2020-06-01</th>\n",
       "      <td>1816679</td>\n",
       "    </tr>\n",
       "    <tr>\n",
       "      <th>2020-06-02</th>\n",
       "      <td>1837948</td>\n",
       "    </tr>\n",
       "    <tr>\n",
       "      <th>2020-06-03</th>\n",
       "      <td>1857728</td>\n",
       "    </tr>\n",
       "    <tr>\n",
       "      <th>2020-06-04</th>\n",
       "      <td>1879463</td>\n",
       "    </tr>\n",
       "    <tr>\n",
       "      <th>2020-06-05</th>\n",
       "      <td>1904375</td>\n",
       "    </tr>\n",
       "  </tbody>\n",
       "</table>\n",
       "</div>"
      ],
      "text/plain": [
       "              cases\n",
       "date               \n",
       "2020-06-01  1816679\n",
       "2020-06-02  1837948\n",
       "2020-06-03  1857728\n",
       "2020-06-04  1879463\n",
       "2020-06-05  1904375"
      ]
     },
     "execution_count": 127,
     "metadata": {},
     "output_type": "execute_result"
    }
   ],
   "source": [
    "df_usa_summer_unpivoted.head()"
   ]
  },
  {
   "cell_type": "code",
   "execution_count": 128,
   "id": "e9ef960f-d0cf-4180-b10f-d698bd393a8e",
   "metadata": {},
   "outputs": [],
   "source": [
    "output = Path('datasets/covid_usa_summer_2020.pkl')\n",
    "df_usa_summer_unpivoted.to_pickle(output)"
   ]
  },
  {
   "cell_type": "code",
   "execution_count": 129,
   "id": "a7e93ae0-7435-41cd-9e4e-d6136c6cf82e",
   "metadata": {},
   "outputs": [
    {
     "name": "stdout",
     "output_type": "stream",
     "text": [
      "<class 'pandas.core.frame.DataFrame'>\n",
      "DatetimeIndex: 122 entries, 2020-06-01 to 2020-09-30\n",
      "Data columns (total 1 columns):\n",
      " #   Column  Non-Null Count  Dtype\n",
      "---  ------  --------------  -----\n",
      " 0   cases   122 non-null    int64\n",
      "dtypes: int64(1)\n",
      "memory usage: 1.9 KB\n"
     ]
    }
   ],
   "source": [
    "unpickled_df = pd.read_pickle(output)\n",
    "unpickled_df.info()"
   ]
  },
  {
   "cell_type": "markdown",
   "id": "68b1cdc8-efcd-453b-8e74-4ef9fe3ef565",
   "metadata": {},
   "source": [
    "## Writing a Pickle file using the Pickle library"
   ]
  },
  {
   "cell_type": "code",
   "execution_count": 130,
   "id": "60f0c22e-141f-4808-b3b3-f1eba0743ccc",
   "metadata": {},
   "outputs": [],
   "source": [
    "import pickle"
   ]
  },
  {
   "cell_type": "code",
   "execution_count": 131,
   "id": "8f6ee014-c730-4c91-adf3-659a27eaa09f",
   "metadata": {},
   "outputs": [],
   "source": [
    "output = Path('datasets/covid_usa_summer_2020_v2.pkl')\n",
    "pickle.dump(df_usa_summer_unpivoted,\n",
    "           open(output, \"wb\"))"
   ]
  },
  {
   "cell_type": "code",
   "execution_count": 132,
   "id": "7e4ec6bb-6301-466a-bb4f-182c587775f0",
   "metadata": {},
   "outputs": [
    {
     "data": {
      "text/plain": [
       "pandas.core.frame.DataFrame"
      ]
     },
     "execution_count": 132,
     "metadata": {},
     "output_type": "execute_result"
    }
   ],
   "source": [
    "df = pickle.load(open(output, \"rb\"))\n",
    "type(df)"
   ]
  },
  {
   "cell_type": "code",
   "execution_count": 133,
   "id": "cf1ccdd1-a5a6-4913-8654-b2f0b5b88308",
   "metadata": {},
   "outputs": [],
   "source": [
    "with open(output, \"wb\") as file:\n",
    "    pickle.dump(df_usa_summer_unpivoted, file)"
   ]
  },
  {
   "cell_type": "code",
   "execution_count": 134,
   "id": "f75206b5-1216-43ed-bb77-d770f4288125",
   "metadata": {},
   "outputs": [],
   "source": [
    "with open(output, \"rb\") as file:\n",
    "    df = pickle.load(file)"
   ]
  },
  {
   "cell_type": "markdown",
   "id": "6e411774-dbf3-4cbf-9e5f-66f426781c72",
   "metadata": {},
   "source": [
    "#### Check seriealization protocols"
   ]
  },
  {
   "cell_type": "code",
   "execution_count": 135,
   "id": "9b0e6ba7-3891-4f2f-a1f6-9fe20582f7bb",
   "metadata": {},
   "outputs": [
    {
     "data": {
      "text/plain": [
       "5"
      ]
     },
     "execution_count": 135,
     "metadata": {},
     "output_type": "execute_result"
    }
   ],
   "source": [
    "pickle.HIGHEST_PROTOCOL"
   ]
  },
  {
   "cell_type": "code",
   "execution_count": 136,
   "id": "d9404b3d-c334-43b9-82dd-dae3b89b6c1f",
   "metadata": {},
   "outputs": [],
   "source": [
    "with open(output, \"wb\") as file:\n",
    "    pickle.dump(df_usa_summer_unpivoted,\n",
    "                file,\n",
    "                pickle.HIGHEST_PROTOCOL)\n",
    "\n",
    "# this is equivalent to the following\n",
    "with open(output, \"wb\") as file:\n",
    "    pickle.dump(df_usa_summer_unpivoted, file, 5)"
   ]
  },
  {
   "cell_type": "markdown",
   "id": "2138370c-b519-4558-a6b2-4d7eb9e98471",
   "metadata": {},
   "source": [
    "## There is more"
   ]
  },
  {
   "cell_type": "code",
   "execution_count": 137,
   "id": "04581924-19bf-4c8d-8292-0729df0588e3",
   "metadata": {},
   "outputs": [],
   "source": [
    "def covid_by_country(file, days, country):\n",
    "    ts = pd.read_csv(file)\n",
    "    ts = ts[ts['Country/Region'] == country]\n",
    "    final = ts.iloc[:, -days:].sum()\n",
    "    final.index = pd.to_datetime(final.index)\n",
    "    return final"
   ]
  },
  {
   "cell_type": "code",
   "execution_count": 138,
   "id": "280659da-d401-4eb1-b239-e572af3ac6fb",
   "metadata": {},
   "outputs": [
    {
     "name": "stderr",
     "output_type": "stream",
     "text": [
      "/tmp/ipykernel_49295/833238992.py:5: UserWarning: Could not infer format, so each element will be parsed individually, falling back to `dateutil`. To ensure parsing is consistent and as-expected, please specify a format.\n",
      "  final.index = pd.to_datetime(final.index)\n"
     ]
    },
    {
     "data": {
      "text/plain": [
       "<Axes: title={'center': 'COVID confirmed case for US'}, xlabel='Date', ylabel='Number of Confirmed Cases'>"
      ]
     },
     "execution_count": 138,
     "metadata": {},
     "output_type": "execute_result"
    },
    {
     "data": {
      "image/png": "[encoded data removed]",
      "text/plain": [
       "<Figure size 640x480 with 1 Axes>"
      ]
     },
     "metadata": {},
     "output_type": "display_data"
    }
   ],
   "source": [
    "file = Path('datasets/time_series_covid19_confirmed_global.csv')\n",
    "\n",
    "us_past_120_days = covid_by_country(file, 200, 'US')\n",
    "us_past_120_days.plot(\n",
    "    title=f'COVID confirmed case for US',\n",
    "    xlabel='Date',\n",
    "    ylabel='Number of Confirmed Cases')"
   ]
  },
  {
   "cell_type": "code",
   "execution_count": 139,
   "id": "e07cd645-cb80-49ed-bfd0-9e84ef145f81",
   "metadata": {},
   "outputs": [],
   "source": [
    "from datetime import datetime\n",
    "metadata = {\n",
    "    'date': datetime.now(),\n",
    "    'data': '''\n",
    "        COVID-19 Data Repository by the \n",
    "        Center for Systems Science and Engineering (CSSE) \n",
    "        at Johns Hopkins University'\n",
    "        ''',\n",
    "    'author': 'Tarek Atwan',\n",
    "    'version': 1.0,\n",
    "    'function': covid_by_country,\n",
    "    'example' : us_past_120_days\n",
    "}\n",
    "\n",
    "output = Path('datasets/covid.pkl')\n",
    "with open(output, 'wb') as file:\n",
    "    pickle.dump(metadata, file)"
   ]
  },
  {
   "cell_type": "code",
   "execution_count": 140,
   "id": "73aef365-0be4-4766-9bdb-98f0be6eaa99",
   "metadata": {},
   "outputs": [
    {
     "data": {
      "text/plain": [
       "dict_keys(['date', 'data', 'author', 'version', 'function', 'example'])"
      ]
     },
     "execution_count": 140,
     "metadata": {},
     "output_type": "execute_result"
    }
   ],
   "source": [
    "with open(output, 'rb') as file:\n",
    "    content = pickle.load(file)\n",
    "content.keys()"
   ]
  },
  {
   "cell_type": "code",
   "execution_count": 141,
   "id": "280c1432-0352-4629-aab8-92fbd14296b2",
   "metadata": {},
   "outputs": [
    {
     "name": "stderr",
     "output_type": "stream",
     "text": [
      "/tmp/ipykernel_49295/833238992.py:5: UserWarning: Could not infer format, so each element will be parsed individually, falling back to `dateutil`. To ensure parsing is consistent and as-expected, please specify a format.\n",
      "  final.index = pd.to_datetime(final.index)\n"
     ]
    },
    {
     "data": {
      "text/plain": [
       "2021-09-24    108227\n",
       "2021-09-25    108266\n",
       "2021-09-26    108309\n",
       "2021-09-27    108344\n",
       "2021-09-28    108386\n",
       "dtype: int64"
      ]
     },
     "execution_count": 141,
     "metadata": {},
     "output_type": "execute_result"
    }
   ],
   "source": [
    "file = Path('datasets/time_series_covid19_confirmed_global.csv')\n",
    "new_func = content['function']\n",
    "new_func(file, 120, 'China').tail()"
   ]
  },
  {
   "cell_type": "code",
   "execution_count": 142,
   "id": "40683457-427d-4603-8b8d-0a2571859005",
   "metadata": {},
   "outputs": [
    {
     "data": {
      "text/plain": [
       "2021-09-24    42852871\n",
       "2021-09-25    42900402\n",
       "2021-09-26    42931354\n",
       "2021-09-27    43116442\n",
       "2021-09-28    43227604\n",
       "dtype: int64"
      ]
     },
     "execution_count": 142,
     "metadata": {},
     "output_type": "execute_result"
    }
   ],
   "source": [
    "content['example'].tail()"
   ]
  },
  {
   "cell_type": "code",
   "execution_count": 143,
   "id": "fe8add49-08d3-4146-bbb1-9d0862ed02c9",
   "metadata": {},
   "outputs": [
    {
     "data": {
      "text/plain": [
       "5"
      ]
     },
     "execution_count": 143,
     "metadata": {},
     "output_type": "execute_result"
    }
   ],
   "source": [
    "pickle.HIGHEST_PROTOCOL"
   ]
  },
  {
   "cell_type": "markdown",
   "id": "7cfd144c-a97f-409f-a707-d014eef41a52",
   "metadata": {},
   "source": [
    "# Recipe 2: Writing as CSV and other delimited files"
   ]
  },
  {
   "cell_type": "code",
   "execution_count": 144,
   "id": "ea95f4fd-961f-4b79-b5c7-f9c68c770dd8",
   "metadata": {},
   "outputs": [
    {
     "name": "stdout",
     "output_type": "stream",
     "text": [
      "<class 'pandas.core.frame.DataFrame'>\n",
      "DatetimeIndex: 128 entries, 2021-04-26 to 2021-08-31\n",
      "Data columns (total 1 columns):\n",
      " #   Column  Non-Null Count  Dtype \n",
      "---  ------  --------------  ----- \n",
      " 0   Daily   128 non-null    object\n",
      "dtypes: object(1)\n",
      "memory usage: 2.0+ KB\n"
     ]
    },
    {
     "name": "stderr",
     "output_type": "stream",
     "text": [
      "/tmp/ipykernel_49295/2913762804.py:5: UserWarning: Could not infer format, so each element will be parsed individually, falling back to `dateutil`. To ensure parsing is consistent and as-expected, please specify a format.\n",
      "  movies = pd.read_csv(filepath,\n"
     ]
    }
   ],
   "source": [
    "import pandas as pd\n",
    "from pathlib import Path\n",
    "filepath = Path('datasets/movieboxoffice.csv')\n",
    "\n",
    "movies = pd.read_csv(filepath,\n",
    "                 header=0,\n",
    "                 parse_dates=[0],\n",
    "                 index_col=0,\n",
    "                 usecols=['Date', 'Daily'])\n",
    "movies.info()"
   ]
  },
  {
   "cell_type": "code",
   "execution_count": 145,
   "id": "41fc5436-8c2f-434e-ba0e-8347c676f78f",
   "metadata": {},
   "outputs": [
    {
     "data": {
      "text/html": [
       "<div>\n",
       "<style scoped>\n",
       "    .dataframe tbody tr th:only-of-type {\n",
       "        vertical-align: middle;\n",
       "    }\n",
       "\n",
       "    .dataframe tbody tr th {\n",
       "        vertical-align: top;\n",
       "    }\n",
       "\n",
       "    .dataframe thead th {\n",
       "        text-align: right;\n",
       "    }\n",
       "</style>\n",
       "<table border=\"1\" class=\"dataframe\">\n",
       "  <thead>\n",
       "    <tr style=\"text-align: right;\">\n",
       "      <th></th>\n",
       "      <th>Daily</th>\n",
       "    </tr>\n",
       "    <tr>\n",
       "      <th>Date</th>\n",
       "      <th></th>\n",
       "    </tr>\n",
       "  </thead>\n",
       "  <tbody>\n",
       "    <tr>\n",
       "      <th>2021-04-26</th>\n",
       "      <td>$125,789.89</td>\n",
       "    </tr>\n",
       "    <tr>\n",
       "      <th>2021-04-27</th>\n",
       "      <td>$99,374.01</td>\n",
       "    </tr>\n",
       "    <tr>\n",
       "      <th>2021-04-28</th>\n",
       "      <td>$82,203.16</td>\n",
       "    </tr>\n",
       "    <tr>\n",
       "      <th>2021-04-29</th>\n",
       "      <td>$33,530.26</td>\n",
       "    </tr>\n",
       "    <tr>\n",
       "      <th>2021-04-30</th>\n",
       "      <td>$30,105.24</td>\n",
       "    </tr>\n",
       "  </tbody>\n",
       "</table>\n",
       "</div>"
      ],
      "text/plain": [
       "                    Daily\n",
       "Date                     \n",
       "2021-04-26   $125,789.89 \n",
       "2021-04-27    $99,374.01 \n",
       "2021-04-28    $82,203.16 \n",
       "2021-04-29    $33,530.26 \n",
       "2021-04-30    $30,105.24 "
      ]
     },
     "execution_count": 145,
     "metadata": {},
     "output_type": "execute_result"
    }
   ],
   "source": [
    "movies.head()"
   ]
  },
  {
   "cell_type": "code",
   "execution_count": 146,
   "id": "b06c88f2-25ec-4d42-a8b7-469f4bfc41fc",
   "metadata": {},
   "outputs": [],
   "source": [
    "output = Path('datasets/my_movies.csv')\n",
    "movies.to_csv(output)"
   ]
  },
  {
   "cell_type": "code",
   "execution_count": 147,
   "id": "49d2d5a3-5dda-432c-a472-c221fb9551c9",
   "metadata": {},
   "outputs": [],
   "source": [
    "output = Path('datasets/piped_movies.csv')\n",
    "movies.to_csv(output, sep='|')"
   ]
  },
  {
   "cell_type": "code",
   "execution_count": 148,
   "id": "ae2a6260-72d5-4f4c-92a0-325c693cc1bc",
   "metadata": {},
   "outputs": [],
   "source": [
    "movies_df = pd.read_csv(output, sep='|')"
   ]
  },
  {
   "cell_type": "code",
   "execution_count": 149,
   "id": "0189ccf5-0646-4180-94da-a45ed484ea2b",
   "metadata": {},
   "outputs": [
    {
     "name": "stdout",
     "output_type": "stream",
     "text": [
      "<class 'pandas.core.frame.DataFrame'>\n",
      "RangeIndex: 128 entries, 0 to 127\n",
      "Data columns (total 2 columns):\n",
      " #   Column  Non-Null Count  Dtype \n",
      "---  ------  --------------  ----- \n",
      " 0   Date    128 non-null    object\n",
      " 1   Daily   128 non-null    object\n",
      "dtypes: object(2)\n",
      "memory usage: 2.1+ KB\n"
     ]
    }
   ],
   "source": [
    "movies_df.info()"
   ]
  },
  {
   "cell_type": "markdown",
   "id": "19a4d644-13af-4cbd-930b-0385c289cf8e",
   "metadata": {},
   "source": [
    "\n",
    "### Special cases when using `.to_csv()`"
   ]
  },
  {
   "cell_type": "code",
   "execution_count": 150,
   "id": "d5e50c98-4bf5-4192-8fd2-7945455be4a2",
   "metadata": {},
   "outputs": [
    {
     "data": {
      "text/html": [
       "<div>\n",
       "<style scoped>\n",
       "    .dataframe tbody tr th:only-of-type {\n",
       "        vertical-align: middle;\n",
       "    }\n",
       "\n",
       "    .dataframe tbody tr th {\n",
       "        vertical-align: top;\n",
       "    }\n",
       "\n",
       "    .dataframe thead th {\n",
       "        text-align: right;\n",
       "    }\n",
       "</style>\n",
       "<table border=\"1\" class=\"dataframe\">\n",
       "  <thead>\n",
       "    <tr style=\"text-align: right;\">\n",
       "      <th></th>\n",
       "      <th>name</th>\n",
       "      <th>location</th>\n",
       "      <th>net_worth</th>\n",
       "    </tr>\n",
       "  </thead>\n",
       "  <tbody>\n",
       "    <tr>\n",
       "      <th>0</th>\n",
       "      <td>Bond, James</td>\n",
       "      <td>Los Angeles, CA</td>\n",
       "      <td>10000</td>\n",
       "    </tr>\n",
       "    <tr>\n",
       "      <th>1</th>\n",
       "      <td>Smith, James</td>\n",
       "      <td>Phoenix, AZ</td>\n",
       "      <td>9000</td>\n",
       "    </tr>\n",
       "    <tr>\n",
       "      <th>2</th>\n",
       "      <td>Bacon, Kevin</td>\n",
       "      <td>New York, NY</td>\n",
       "      <td>8000</td>\n",
       "    </tr>\n",
       "  </tbody>\n",
       "</table>\n",
       "</div>"
      ],
      "text/plain": [
       "           name         location  net_worth\n",
       "0   Bond, James  Los Angeles, CA      10000\n",
       "1  Smith, James      Phoenix, AZ       9000\n",
       "2  Bacon, Kevin     New York, NY       8000"
      ]
     },
     "execution_count": 150,
     "metadata": {},
     "output_type": "execute_result"
    }
   ],
   "source": [
    "import pandas as pd\n",
    "person = pd.DataFrame({\n",
    "    'name': ['Bond, James', 'Smith, James', 'Bacon, Kevin'],\n",
    "    'location': ['Los Angeles, CA', 'Phoenix, AZ', 'New York, NY'],\n",
    "    'net_worth': [10000, 9000, 8000]\n",
    "})\n",
    "\n",
    "person"
   ]
  },
  {
   "cell_type": "code",
   "execution_count": 151,
   "id": "e2ed15fb-f77d-4c78-9c67-366c58d263bd",
   "metadata": {},
   "outputs": [],
   "source": [
    "person.to_csv('person_a.csv', index=False)"
   ]
  },
  {
   "cell_type": "code",
   "execution_count": 152,
   "id": "ba330bb2-9ec3-4165-a143-d48b78c8ca33",
   "metadata": {},
   "outputs": [],
   "source": [
    "import csv\n",
    "\n",
    "person.to_csv('person_b.csv', \n",
    "               index=False, \n",
    "               quoting=csv.QUOTE_ALL)\n",
    "\n",
    "person.to_csv('person_c.csv', \n",
    "               index=False, \n",
    "               quoting=csv.QUOTE_MINIMAL)\n",
    "\n",
    "person.to_csv('person_d.csv', \n",
    "               index=False, \n",
    "               quoting= csv.QUOTE_NONNUMERIC)\n",
    "\n",
    "person.to_csv('person_e.csv', \n",
    "               index=False, \n",
    "               quoting= csv.QUOTE_NONE, escapechar='\\t')"
   ]
  },
  {
   "cell_type": "markdown",
   "id": "91db8aa7-95b5-4219-a130-465d8dca583e",
   "metadata": {},
   "source": [
    "# Recipe 3: Writing data to an Excel file"
   ]
  },
  {
   "attachments": {},
   "cell_type": "markdown",
   "id": "b348ab72-2d41-4318-a124-9a877f20cec4",
   "metadata": {},
   "source": [
    "In the *Reading data from an Excel file* recipe in **Chapter 2**, *Reading Time Series Data from Files*, you were instructed to install `openpyxl` for the read engine. For this recipe, you will be using the same openpyxl for the write engine.  \n",
    "\n",
    "* You can also use `pip`:"
   ]
  },
  {
   "cell_type": "code",
   "execution_count": 153,
   "id": "60730d6f",
   "metadata": {},
   "outputs": [
    {
     "name": "stdout",
     "output_type": "stream",
     "text": [
      "Requirement already satisfied: openpyxl in /usr/local/lib/python3.11/site-packages (3.1.2)\n",
      "Requirement already satisfied: xlsxwriter in /usr/local/lib/python3.11/site-packages (3.1.0)\n",
      "Requirement already satisfied: et-xmlfile in /usr/local/lib/python3.11/site-packages (from openpyxl) (1.1.0)\n",
      "\u001b[33mWARNING: Running pip as the 'root' user can result in broken permissions and conflicting behaviour with the system package manager. It is recommended to use a virtual environment instead: https://pip.pypa.io/warnings/venv\u001b[0m\u001b[33m\n",
      "\u001b[0m"
     ]
    }
   ],
   "source": [
    "!pip3 install -U openpyxl xlsxwriter"
   ]
  },
  {
   "cell_type": "code",
   "execution_count": 154,
   "id": "b29eba17-2bdc-4788-8b6c-31ded2b0b369",
   "metadata": {},
   "outputs": [],
   "source": [
    "import openpyxl\n",
    "import xlsxwriter"
   ]
  },
  {
   "cell_type": "code",
   "execution_count": 155,
   "id": "37b7cd98-423f-432e-8506-c666c6ba3cf6",
   "metadata": {},
   "outputs": [
    {
     "name": "stdout",
     "output_type": "stream",
     "text": [
      "3.1.2\n",
      "3.1.0\n"
     ]
    }
   ],
   "source": [
    "print(openpyxl.__version__)\n",
    "print(xlsxwriter.__version__)"
   ]
  },
  {
   "cell_type": "code",
   "execution_count": 156,
   "id": "b486e05e-7d4b-49e2-bf8d-a190bbdd717f",
   "metadata": {},
   "outputs": [],
   "source": [
    "output = Path('datasets/daily_boxoffice.xlsx')\n",
    "movies.to_excel(output,\n",
    "                sheet_name='movies',\n",
    "                engine='openpyxl')  # default engine for xlsx files"
   ]
  },
  {
   "cell_type": "code",
   "execution_count": 157,
   "id": "906e38bb-dcd5-4eb7-8df5-ac65913b4943",
   "metadata": {},
   "outputs": [],
   "source": [
    "with pd.ExcelWriter(output,  \n",
    "                    engine='openpyxl',\n",
    "                    date_format='MM-DD-YYYY',\n",
    "                    mode='a',\n",
    "                    if_sheet_exists='new') as writer:\n",
    "    movies.to_excel(writer, sheet_name='movies_fixed_dates')"
   ]
  },
  {
   "cell_type": "code",
   "execution_count": 158,
   "id": "1407d16e-516f-4be1-9403-07f989e02084",
   "metadata": {},
   "outputs": [
    {
     "data": {
      "text/html": [
       "<div>\n",
       "<style scoped>\n",
       "    .dataframe tbody tr th:only-of-type {\n",
       "        vertical-align: middle;\n",
       "    }\n",
       "\n",
       "    .dataframe tbody tr th {\n",
       "        vertical-align: top;\n",
       "    }\n",
       "\n",
       "    .dataframe thead th {\n",
       "        text-align: right;\n",
       "    }\n",
       "</style>\n",
       "<table border=\"1\" class=\"dataframe\">\n",
       "  <thead>\n",
       "    <tr style=\"text-align: right;\">\n",
       "      <th></th>\n",
       "      <th>Daily</th>\n",
       "    </tr>\n",
       "    <tr>\n",
       "      <th>Date</th>\n",
       "      <th></th>\n",
       "    </tr>\n",
       "  </thead>\n",
       "  <tbody>\n",
       "    <tr>\n",
       "      <th>2021-04-26</th>\n",
       "      <td>$125,789.89</td>\n",
       "    </tr>\n",
       "    <tr>\n",
       "      <th>2021-04-27</th>\n",
       "      <td>$99,374.01</td>\n",
       "    </tr>\n",
       "    <tr>\n",
       "      <th>2021-04-28</th>\n",
       "      <td>$82,203.16</td>\n",
       "    </tr>\n",
       "    <tr>\n",
       "      <th>2021-04-29</th>\n",
       "      <td>$33,530.26</td>\n",
       "    </tr>\n",
       "    <tr>\n",
       "      <th>2021-04-30</th>\n",
       "      <td>$30,105.24</td>\n",
       "    </tr>\n",
       "    <tr>\n",
       "      <th>...</th>\n",
       "      <td>...</td>\n",
       "    </tr>\n",
       "    <tr>\n",
       "      <th>2021-08-27</th>\n",
       "      <td>$0.00</td>\n",
       "    </tr>\n",
       "    <tr>\n",
       "      <th>2021-08-28</th>\n",
       "      <td>$0.00</td>\n",
       "    </tr>\n",
       "    <tr>\n",
       "      <th>2021-08-29</th>\n",
       "      <td>$0.00</td>\n",
       "    </tr>\n",
       "    <tr>\n",
       "      <th>2021-08-30</th>\n",
       "      <td>$0.00</td>\n",
       "    </tr>\n",
       "    <tr>\n",
       "      <th>2021-08-31</th>\n",
       "      <td>$0.00</td>\n",
       "    </tr>\n",
       "  </tbody>\n",
       "</table>\n",
       "<p>128 rows × 1 columns</p>\n",
       "</div>"
      ],
      "text/plain": [
       "                    Daily\n",
       "Date                     \n",
       "2021-04-26   $125,789.89 \n",
       "2021-04-27    $99,374.01 \n",
       "2021-04-28    $82,203.16 \n",
       "2021-04-29    $33,530.26 \n",
       "2021-04-30    $30,105.24 \n",
       "...                   ...\n",
       "2021-08-27         $0.00 \n",
       "2021-08-28         $0.00 \n",
       "2021-08-29         $0.00 \n",
       "2021-08-30         $0.00 \n",
       "2021-08-31         $0.00 \n",
       "\n",
       "[128 rows x 1 columns]"
      ]
     },
     "execution_count": 158,
     "metadata": {},
     "output_type": "execute_result"
    }
   ],
   "source": [
    "movies"
   ]
  },
  {
   "cell_type": "code",
   "execution_count": 159,
   "id": "51755f18-ad96-4e87-bd0f-2ee40d48c008",
   "metadata": {},
   "outputs": [
    {
     "data": {
      "text/html": [
       "<div>\n",
       "<style scoped>\n",
       "    .dataframe tbody tr th:only-of-type {\n",
       "        vertical-align: middle;\n",
       "    }\n",
       "\n",
       "    .dataframe tbody tr th {\n",
       "        vertical-align: top;\n",
       "    }\n",
       "\n",
       "    .dataframe thead th {\n",
       "        text-align: right;\n",
       "    }\n",
       "</style>\n",
       "<table border=\"1\" class=\"dataframe\">\n",
       "  <thead>\n",
       "    <tr style=\"text-align: right;\">\n",
       "      <th></th>\n",
       "      <th>Daily</th>\n",
       "      <th>Month</th>\n",
       "    </tr>\n",
       "    <tr>\n",
       "      <th>Date</th>\n",
       "      <th></th>\n",
       "      <th></th>\n",
       "    </tr>\n",
       "  </thead>\n",
       "  <tbody>\n",
       "    <tr>\n",
       "      <th>2021-04-26</th>\n",
       "      <td>$125,789.89</td>\n",
       "      <td>April</td>\n",
       "    </tr>\n",
       "    <tr>\n",
       "      <th>2021-04-27</th>\n",
       "      <td>$99,374.01</td>\n",
       "      <td>April</td>\n",
       "    </tr>\n",
       "    <tr>\n",
       "      <th>2021-04-28</th>\n",
       "      <td>$82,203.16</td>\n",
       "      <td>April</td>\n",
       "    </tr>\n",
       "    <tr>\n",
       "      <th>2021-04-29</th>\n",
       "      <td>$33,530.26</td>\n",
       "      <td>April</td>\n",
       "    </tr>\n",
       "    <tr>\n",
       "      <th>2021-04-30</th>\n",
       "      <td>$30,105.24</td>\n",
       "      <td>April</td>\n",
       "    </tr>\n",
       "  </tbody>\n",
       "</table>\n",
       "</div>"
      ],
      "text/plain": [
       "                    Daily  Month\n",
       "Date                            \n",
       "2021-04-26   $125,789.89   April\n",
       "2021-04-27    $99,374.01   April\n",
       "2021-04-28    $82,203.16   April\n",
       "2021-04-29    $33,530.26   April\n",
       "2021-04-30    $30,105.24   April"
      ]
     },
     "execution_count": 159,
     "metadata": {},
     "output_type": "execute_result"
    }
   ],
   "source": [
    "movies['Month'] = movies.index.month_name()\n",
    "movies.head()"
   ]
  },
  {
   "cell_type": "markdown",
   "id": "abcbeafc-8074-4371-90a0-4e6b8d86b838",
   "metadata": {},
   "source": [
    "### Split the DataFrame into multiple sheets by Month"
   ]
  },
  {
   "cell_type": "code",
   "execution_count": 160,
   "id": "3b26d38b-f442-4183-a218-294ad0eaa9f1",
   "metadata": {},
   "outputs": [],
   "source": [
    "output = Path('datasets/boxoffice_by_month.xlsx')\n",
    "with pd.ExcelWriter(output,\n",
    "                    engine='openpyxl',\n",
    "                    datetime_format='MM-DD-YYYY') as writer:\n",
    "    for month, data in movies.groupby('Month'):\n",
    "        data.to_excel(writer, sheet_name=month)"
   ]
  },
  {
   "cell_type": "markdown",
   "id": "f04e4669-e0ba-4b8a-9fb6-b6fb9502ceca",
   "metadata": {},
   "source": [
    "# Recipe 4: Storing Data to S3\n",
    "In this recipe, you will explore writing to AWS S3 using pandas and another approach using the AWS Python SDK. The pandas approach can be used to write files to other cloud storage locations, such as Azure or Google Cloud.\n",
    "\n",
    "In the *Reading data from a URL* recipe in **Chapter 2**, *Reading Time Series Data from Files*, you were instructed to install boto3 and s3fs in order to read from AWS S3 buckets. In this recipe, you will be leveraging the same libraries.\n",
    "\n",
    "* To install using pip, you can use this:\n",
    "\n",
    "```\n",
    "pip install boto3 s3fs\n",
    "```\n",
    "\n",
    "* To install using conda, you can use this:\n",
    "\n",
    "```\n",
    "conda install boto3 s3fs -y\n",
    "```"
   ]
  },
  {
   "cell_type": "code",
   "execution_count": 161,
   "id": "c6a734cc-f8e0-4c27-aea4-777fd06235b1",
   "metadata": {},
   "outputs": [],
   "source": [
    "import configparser\n",
    "config = configparser.ConfigParser()\n",
    "config.read('aws.cfg')\n",
    "\n",
    "AWS_ACCESS_KEY = config['AWS']['aws_access_key']\n",
    "AWS_SECRET_KEY = config['AWS']['aws_secret_key']"
   ]
  },
  {
   "cell_type": "code",
   "execution_count": 162,
   "id": "417785e4-e0ca-4709-8cba-02f2ab1c862f",
   "metadata": {},
   "outputs": [],
   "source": [
    "import pandas as pd\n",
    "from pathlib import Path\n",
    "source = \"datasets/boxoffice_by_month.xlsx\"\n",
    "movies = pd.concat(pd.read_excel(source,\n",
    "             sheet_name=None,\n",
    "             index_col='Date',\n",
    "             parse_dates=True)).droplevel(0)"
   ]
  },
  {
   "cell_type": "code",
   "execution_count": 163,
   "id": "fd57a54b-27fc-4efc-adb7-e9b26f83500f",
   "metadata": {},
   "outputs": [
    {
     "name": "stderr",
     "output_type": "stream",
     "text": [
      "Exception ignored in: <function ZipFile.__del__ at 0x7f11f940fd80>\n",
      "Traceback (most recent call last):\n",
      "  File \"/usr/local/lib/python3.11/zipfile.py\", line 1872, in __del__\n",
      "    self.close()\n",
      "  File \"/usr/local/lib/python3.11/zipfile.py\", line 1889, in close\n",
      "    self.fp.seek(self.start_dir)\n",
      "ValueError: seek of closed file\n"
     ]
    },
    {
     "ename": "ClientError",
     "evalue": "An error occurred (InvalidAccessKeyId) when calling the PutObject operation: The AWS Access Key Id you provided does not exist in our records.",
     "output_type": "error",
     "traceback": [
      "\u001b[0;31m---------------------------------------------------------------------------\u001b[0m",
      "\u001b[0;31mClientError\u001b[0m                               Traceback (most recent call last)",
      "Cell \u001b[0;32mIn[163], line 1\u001b[0m\n\u001b[0;32m----> 1\u001b[0m movies\u001b[39m.\u001b[39;49mto_excel(\u001b[39m'\u001b[39;49m\u001b[39ms3://tscookbook/movies.xlsx\u001b[39;49m\u001b[39m'\u001b[39;49m,\n\u001b[1;32m      2\u001b[0m                 sheet_name\u001b[39m=\u001b[39;49m\u001b[39m'\u001b[39;49m\u001b[39mSheet1\u001b[39;49m\u001b[39m'\u001b[39;49m,\n\u001b[1;32m      3\u001b[0m                 storage_options\u001b[39m=\u001b[39;49m{\u001b[39m'\u001b[39;49m\u001b[39mkey\u001b[39;49m\u001b[39m'\u001b[39;49m: AWS_ACCESS_KEY,\n\u001b[1;32m      4\u001b[0m                                  \u001b[39m'\u001b[39;49m\u001b[39msecret\u001b[39;49m\u001b[39m'\u001b[39;49m: AWS_SECRET_KEY})\n\u001b[1;32m      6\u001b[0m movies\u001b[39m.\u001b[39mto_csv(\u001b[39m'\u001b[39m\u001b[39ms3://tscookbook-private/movies.csv\u001b[39m\u001b[39m'\u001b[39m,\n\u001b[1;32m      7\u001b[0m                storage_options\u001b[39m=\u001b[39m{\u001b[39m'\u001b[39m\u001b[39mkey\u001b[39m\u001b[39m'\u001b[39m: AWS_ACCESS_KEY,\n\u001b[1;32m      8\u001b[0m                                 \u001b[39m'\u001b[39m\u001b[39msecret\u001b[39m\u001b[39m'\u001b[39m: AWS_SECRET_KEY})\n",
      "File \u001b[0;32m/usr/local/lib/python3.11/site-packages/pandas/core/generic.py:2252\u001b[0m, in \u001b[0;36mNDFrame.to_excel\u001b[0;34m(self, excel_writer, sheet_name, na_rep, float_format, columns, header, index, index_label, startrow, startcol, engine, merge_cells, inf_rep, freeze_panes, storage_options)\u001b[0m\n\u001b[1;32m   2239\u001b[0m \u001b[39mfrom\u001b[39;00m \u001b[39mpandas\u001b[39;00m\u001b[39m.\u001b[39;00m\u001b[39mio\u001b[39;00m\u001b[39m.\u001b[39;00m\u001b[39mformats\u001b[39;00m\u001b[39m.\u001b[39;00m\u001b[39mexcel\u001b[39;00m \u001b[39mimport\u001b[39;00m ExcelFormatter\n\u001b[1;32m   2241\u001b[0m formatter \u001b[39m=\u001b[39m ExcelFormatter(\n\u001b[1;32m   2242\u001b[0m     df,\n\u001b[1;32m   2243\u001b[0m     na_rep\u001b[39m=\u001b[39mna_rep,\n\u001b[0;32m   (...)\u001b[0m\n\u001b[1;32m   2250\u001b[0m     inf_rep\u001b[39m=\u001b[39minf_rep,\n\u001b[1;32m   2251\u001b[0m )\n\u001b[0;32m-> 2252\u001b[0m formatter\u001b[39m.\u001b[39;49mwrite(\n\u001b[1;32m   2253\u001b[0m     excel_writer,\n\u001b[1;32m   2254\u001b[0m     sheet_name\u001b[39m=\u001b[39;49msheet_name,\n\u001b[1;32m   2255\u001b[0m     startrow\u001b[39m=\u001b[39;49mstartrow,\n\u001b[1;32m   2256\u001b[0m     startcol\u001b[39m=\u001b[39;49mstartcol,\n\u001b[1;32m   2257\u001b[0m     freeze_panes\u001b[39m=\u001b[39;49mfreeze_panes,\n\u001b[1;32m   2258\u001b[0m     engine\u001b[39m=\u001b[39;49mengine,\n\u001b[1;32m   2259\u001b[0m     storage_options\u001b[39m=\u001b[39;49mstorage_options,\n\u001b[1;32m   2260\u001b[0m )\n",
      "File \u001b[0;32m/usr/local/lib/python3.11/site-packages/pandas/io/formats/excel.py:950\u001b[0m, in \u001b[0;36mExcelFormatter.write\u001b[0;34m(self, writer, sheet_name, startrow, startcol, freeze_panes, engine, storage_options)\u001b[0m\n\u001b[1;32m    947\u001b[0m \u001b[39mfinally\u001b[39;00m:\n\u001b[1;32m    948\u001b[0m     \u001b[39m# make sure to close opened file handles\u001b[39;00m\n\u001b[1;32m    949\u001b[0m     \u001b[39mif\u001b[39;00m need_save:\n\u001b[0;32m--> 950\u001b[0m         writer\u001b[39m.\u001b[39;49mclose()\n",
      "File \u001b[0;32m/usr/local/lib/python3.11/site-packages/pandas/io/excel/_base.py:1327\u001b[0m, in \u001b[0;36mExcelWriter.close\u001b[0;34m(self)\u001b[0m\n\u001b[1;32m   1325\u001b[0m \u001b[39m\u001b[39m\u001b[39m\"\"\"synonym for save, to make it more file-like\"\"\"\u001b[39;00m\n\u001b[1;32m   1326\u001b[0m \u001b[39mself\u001b[39m\u001b[39m.\u001b[39m_save()\n\u001b[0;32m-> 1327\u001b[0m \u001b[39mself\u001b[39;49m\u001b[39m.\u001b[39;49m_handles\u001b[39m.\u001b[39;49mclose()\n",
      "File \u001b[0;32m/usr/local/lib/python3.11/site-packages/pandas/io/common.py:130\u001b[0m, in \u001b[0;36mIOHandles.close\u001b[0;34m(self)\u001b[0m\n\u001b[1;32m    128\u001b[0m     \u001b[39mself\u001b[39m\u001b[39m.\u001b[39mcreated_handles\u001b[39m.\u001b[39mremove(\u001b[39mself\u001b[39m\u001b[39m.\u001b[39mhandle)\n\u001b[1;32m    129\u001b[0m \u001b[39mfor\u001b[39;00m handle \u001b[39min\u001b[39;00m \u001b[39mself\u001b[39m\u001b[39m.\u001b[39mcreated_handles:\n\u001b[0;32m--> 130\u001b[0m     handle\u001b[39m.\u001b[39;49mclose()\n\u001b[1;32m    131\u001b[0m \u001b[39mself\u001b[39m\u001b[39m.\u001b[39mcreated_handles \u001b[39m=\u001b[39m []\n\u001b[1;32m    132\u001b[0m \u001b[39mself\u001b[39m\u001b[39m.\u001b[39mis_wrapped \u001b[39m=\u001b[39m \u001b[39mFalse\u001b[39;00m\n",
      "File \u001b[0;32m/usr/local/lib/python3.11/site-packages/fsspec/spec.py:1789\u001b[0m, in \u001b[0;36mAbstractBufferedFile.close\u001b[0;34m(self)\u001b[0m\n\u001b[1;32m   1787\u001b[0m \u001b[39melse\u001b[39;00m:\n\u001b[1;32m   1788\u001b[0m     \u001b[39mif\u001b[39;00m \u001b[39mnot\u001b[39;00m \u001b[39mself\u001b[39m\u001b[39m.\u001b[39mforced:\n\u001b[0;32m-> 1789\u001b[0m         \u001b[39mself\u001b[39;49m\u001b[39m.\u001b[39;49mflush(force\u001b[39m=\u001b[39;49m\u001b[39mTrue\u001b[39;49;00m)\n\u001b[1;32m   1791\u001b[0m     \u001b[39mif\u001b[39;00m \u001b[39mself\u001b[39m\u001b[39m.\u001b[39mfs \u001b[39mis\u001b[39;00m \u001b[39mnot\u001b[39;00m \u001b[39mNone\u001b[39;00m:\n\u001b[1;32m   1792\u001b[0m         \u001b[39mself\u001b[39m\u001b[39m.\u001b[39mfs\u001b[39m.\u001b[39minvalidate_cache(\u001b[39mself\u001b[39m\u001b[39m.\u001b[39mpath)\n",
      "File \u001b[0;32m/usr/local/lib/python3.11/site-packages/fsspec/spec.py:1660\u001b[0m, in \u001b[0;36mAbstractBufferedFile.flush\u001b[0;34m(self, force)\u001b[0m\n\u001b[1;32m   1657\u001b[0m         \u001b[39mself\u001b[39m\u001b[39m.\u001b[39mclosed \u001b[39m=\u001b[39m \u001b[39mTrue\u001b[39;00m\n\u001b[1;32m   1658\u001b[0m         \u001b[39mraise\u001b[39;00m\n\u001b[0;32m-> 1660\u001b[0m \u001b[39mif\u001b[39;00m \u001b[39mself\u001b[39;49m\u001b[39m.\u001b[39;49m_upload_chunk(final\u001b[39m=\u001b[39;49mforce) \u001b[39mis\u001b[39;00m \u001b[39mnot\u001b[39;00m \u001b[39mFalse\u001b[39;00m:\n\u001b[1;32m   1661\u001b[0m     \u001b[39mself\u001b[39m\u001b[39m.\u001b[39moffset \u001b[39m+\u001b[39m\u001b[39m=\u001b[39m \u001b[39mself\u001b[39m\u001b[39m.\u001b[39mbuffer\u001b[39m.\u001b[39mseek(\u001b[39m0\u001b[39m, \u001b[39m2\u001b[39m)\n\u001b[1;32m   1662\u001b[0m     \u001b[39mself\u001b[39m\u001b[39m.\u001b[39mbuffer \u001b[39m=\u001b[39m io\u001b[39m.\u001b[39mBytesIO()\n",
      "File \u001b[0;32m/usr/local/lib/python3.11/site-packages/s3fs/core.py:1252\u001b[0m, in \u001b[0;36mS3File._upload_chunk\u001b[0;34m(self, final)\u001b[0m\n\u001b[1;32m   1249\u001b[0m     \u001b[39mself\u001b[39m\u001b[39m.\u001b[39mparts\u001b[39m.\u001b[39mappend({\u001b[39m'\u001b[39m\u001b[39mPartNumber\u001b[39m\u001b[39m'\u001b[39m: part, \u001b[39m'\u001b[39m\u001b[39mETag\u001b[39m\u001b[39m'\u001b[39m: out[\u001b[39m'\u001b[39m\u001b[39mETag\u001b[39m\u001b[39m'\u001b[39m]})\n\u001b[1;32m   1251\u001b[0m \u001b[39mif\u001b[39;00m \u001b[39mself\u001b[39m\u001b[39m.\u001b[39mautocommit \u001b[39mand\u001b[39;00m final:\n\u001b[0;32m-> 1252\u001b[0m     \u001b[39mself\u001b[39;49m\u001b[39m.\u001b[39;49mcommit()\n\u001b[1;32m   1253\u001b[0m \u001b[39mreturn\u001b[39;00m \u001b[39mnot\u001b[39;00m final\n",
      "File \u001b[0;32m/usr/local/lib/python3.11/site-packages/s3fs/core.py:1267\u001b[0m, in \u001b[0;36mS3File.commit\u001b[0;34m(self)\u001b[0m\n\u001b[1;32m   1265\u001b[0m \u001b[39mself\u001b[39m\u001b[39m.\u001b[39mbuffer\u001b[39m.\u001b[39mseek(\u001b[39m0\u001b[39m)\n\u001b[1;32m   1266\u001b[0m data \u001b[39m=\u001b[39m \u001b[39mself\u001b[39m\u001b[39m.\u001b[39mbuffer\u001b[39m.\u001b[39mread()\n\u001b[0;32m-> 1267\u001b[0m write_result \u001b[39m=\u001b[39m \u001b[39mself\u001b[39;49m\u001b[39m.\u001b[39;49m_call_s3(\n\u001b[1;32m   1268\u001b[0m     \u001b[39mself\u001b[39;49m\u001b[39m.\u001b[39;49mfs\u001b[39m.\u001b[39;49ms3\u001b[39m.\u001b[39;49mput_object,\n\u001b[1;32m   1269\u001b[0m     Key\u001b[39m=\u001b[39;49m\u001b[39mself\u001b[39;49m\u001b[39m.\u001b[39;49mkey, Bucket\u001b[39m=\u001b[39;49m\u001b[39mself\u001b[39;49m\u001b[39m.\u001b[39;49mbucket, Body\u001b[39m=\u001b[39;49mdata, \u001b[39m*\u001b[39;49m\u001b[39m*\u001b[39;49m\u001b[39mself\u001b[39;49m\u001b[39m.\u001b[39;49mkwargs\n\u001b[1;32m   1270\u001b[0m )\n\u001b[1;32m   1271\u001b[0m \u001b[39mif\u001b[39;00m \u001b[39mself\u001b[39m\u001b[39m.\u001b[39mfs\u001b[39m.\u001b[39mversion_aware:\n\u001b[1;32m   1272\u001b[0m     \u001b[39mself\u001b[39m\u001b[39m.\u001b[39mversion_id \u001b[39m=\u001b[39m write_result\u001b[39m.\u001b[39mget(\u001b[39m'\u001b[39m\u001b[39mVersionId\u001b[39m\u001b[39m'\u001b[39m)\n",
      "File \u001b[0;32m/usr/local/lib/python3.11/site-packages/s3fs/core.py:1130\u001b[0m, in \u001b[0;36mS3File._call_s3\u001b[0;34m(self, method, *kwarglist, **kwargs)\u001b[0m\n\u001b[1;32m   1129\u001b[0m \u001b[39mdef\u001b[39;00m \u001b[39m_call_s3\u001b[39m(\u001b[39mself\u001b[39m, method, \u001b[39m*\u001b[39mkwarglist, \u001b[39m*\u001b[39m\u001b[39m*\u001b[39mkwargs):\n\u001b[0;32m-> 1130\u001b[0m     \u001b[39mreturn\u001b[39;00m \u001b[39mself\u001b[39;49m\u001b[39m.\u001b[39;49mfs\u001b[39m.\u001b[39;49m_call_s3(method, \u001b[39mself\u001b[39;49m\u001b[39m.\u001b[39;49ms3_additional_kwargs, \u001b[39m*\u001b[39;49mkwarglist,\n\u001b[1;32m   1131\u001b[0m                             \u001b[39m*\u001b[39;49m\u001b[39m*\u001b[39;49mkwargs)\n",
      "File \u001b[0;32m/usr/local/lib/python3.11/site-packages/s3fs/core.py:200\u001b[0m, in \u001b[0;36mS3FileSystem._call_s3\u001b[0;34m(self, method, *akwarglist, **kwargs)\u001b[0m\n\u001b[1;32m    197\u001b[0m logger\u001b[39m.\u001b[39mdebug(\u001b[39m\"\u001b[39m\u001b[39mCALL: \u001b[39m\u001b[39m%s\u001b[39;00m\u001b[39m - \u001b[39m\u001b[39m%s\u001b[39;00m\u001b[39m - \u001b[39m\u001b[39m%s\u001b[39;00m\u001b[39m\"\u001b[39m \u001b[39m%\u001b[39m (method\u001b[39m.\u001b[39m\u001b[39m__name__\u001b[39m, akwarglist, kw2))\n\u001b[1;32m    198\u001b[0m additional_kwargs \u001b[39m=\u001b[39m \u001b[39mself\u001b[39m\u001b[39m.\u001b[39m_get_s3_method_kwargs(method, \u001b[39m*\u001b[39makwarglist,\n\u001b[1;32m    199\u001b[0m                                                \u001b[39m*\u001b[39m\u001b[39m*\u001b[39mkwargs)\n\u001b[0;32m--> 200\u001b[0m \u001b[39mreturn\u001b[39;00m method(\u001b[39m*\u001b[39;49m\u001b[39m*\u001b[39;49madditional_kwargs)\n",
      "File \u001b[0;32m/usr/local/lib/python3.11/site-packages/botocore/client.py:530\u001b[0m, in \u001b[0;36mClientCreator._create_api_method.<locals>._api_call\u001b[0;34m(self, *args, **kwargs)\u001b[0m\n\u001b[1;32m    526\u001b[0m     \u001b[39mraise\u001b[39;00m \u001b[39mTypeError\u001b[39;00m(\n\u001b[1;32m    527\u001b[0m         \u001b[39mf\u001b[39m\u001b[39m\"\u001b[39m\u001b[39m{\u001b[39;00mpy_operation_name\u001b[39m}\u001b[39;00m\u001b[39m() only accepts keyword arguments.\u001b[39m\u001b[39m\"\u001b[39m\n\u001b[1;32m    528\u001b[0m     )\n\u001b[1;32m    529\u001b[0m \u001b[39m# The \"self\" in this scope is referring to the BaseClient.\u001b[39;00m\n\u001b[0;32m--> 530\u001b[0m \u001b[39mreturn\u001b[39;00m \u001b[39mself\u001b[39;49m\u001b[39m.\u001b[39;49m_make_api_call(operation_name, kwargs)\n",
      "File \u001b[0;32m/usr/local/lib/python3.11/site-packages/botocore/client.py:960\u001b[0m, in \u001b[0;36mBaseClient._make_api_call\u001b[0;34m(self, operation_name, api_params)\u001b[0m\n\u001b[1;32m    958\u001b[0m     error_code \u001b[39m=\u001b[39m parsed_response\u001b[39m.\u001b[39mget(\u001b[39m\"\u001b[39m\u001b[39mError\u001b[39m\u001b[39m\"\u001b[39m, {})\u001b[39m.\u001b[39mget(\u001b[39m\"\u001b[39m\u001b[39mCode\u001b[39m\u001b[39m\"\u001b[39m)\n\u001b[1;32m    959\u001b[0m     error_class \u001b[39m=\u001b[39m \u001b[39mself\u001b[39m\u001b[39m.\u001b[39mexceptions\u001b[39m.\u001b[39mfrom_code(error_code)\n\u001b[0;32m--> 960\u001b[0m     \u001b[39mraise\u001b[39;00m error_class(parsed_response, operation_name)\n\u001b[1;32m    961\u001b[0m \u001b[39melse\u001b[39;00m:\n\u001b[1;32m    962\u001b[0m     \u001b[39mreturn\u001b[39;00m parsed_response\n",
      "\u001b[0;31mClientError\u001b[0m: An error occurred (InvalidAccessKeyId) when calling the PutObject operation: The AWS Access Key Id you provided does not exist in our records."
     ]
    }
   ],
   "source": [
    "movies.to_excel('s3://tscookbook/movies.xlsx',\n",
    "                sheet_name='Sheet1',\n",
    "                storage_options={'key': AWS_ACCESS_KEY,\n",
    "                                 'secret': AWS_SECRET_KEY})\n",
    "\n",
    "movies.to_csv('s3://tscookbook-private/movies.csv',\n",
    "               storage_options={'key': AWS_ACCESS_KEY,\n",
    "                                'secret': AWS_SECRET_KEY})"
   ]
  },
  {
   "cell_type": "markdown",
   "id": "e3d1b4e2-656e-4ab1-b1c3-48cd5b984bec",
   "metadata": {},
   "source": [
    "## There is more\n",
    "#### Using Boto3 and StringIO"
   ]
  },
  {
   "cell_type": "code",
   "execution_count": null,
   "id": "c884cf44-4a5e-46ed-a1c0-3e94117acba9",
   "metadata": {},
   "outputs": [
    {
     "name": "stdout",
     "output_type": "stream",
     "text": [
      "Successful Write\n"
     ]
    }
   ],
   "source": [
    "import boto3\n",
    "from io import StringIO\n",
    "\n",
    "bucket = \"tscookbook-private\"\n",
    "s3_client = boto3.resource(\"s3\",\n",
    "            aws_access_key_id = AWS_ACCESS_KEY,\n",
    "            aws_secret_access_key = AWS_SECRET_KEY)\n",
    "\n",
    "with StringIO() as in_memory_buffer:\n",
    "    movies.to_csv(in_memory_buffer)\n",
    "    response = s3_client.Object(bucket, 'new_df.csv').put(Body=in_memory_buffer.getvalue())\n",
    "    status = response['ResponseMetadata']['HTTPStatusCode']\n",
    "    if status == 200:\n",
    "        print('Successful Write')\n",
    "    else:\n",
    "        print('Unsucessful Write - ', status)"
   ]
  }
 ],
 "metadata": {
  "kernelspec": {
   "display_name": "Python 3",
   "language": "python",
   "name": "python3"
  },
  "language_info": {
   "codemirror_mode": {
    "name": "ipython",
    "version": 3
   },
   "file_extension": ".py",
   "mimetype": "text/x-python",
   "name": "python",
   "nbconvert_exporter": "python",
   "pygments_lexer": "ipython3",
   "version": "3.11.3"
  }
 },
 "nbformat": 4,
 "nbformat_minor": 5
}
