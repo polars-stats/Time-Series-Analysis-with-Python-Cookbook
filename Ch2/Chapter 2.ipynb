{
 "cells": [
  {
   "cell_type": "markdown",
   "id": "897f0066-a7fa-4f2a-a0e6-f93a1ba92384",
   "metadata": {},
   "source": [
    "# **Chapter 2**\n",
    "## *Reading Time Series Data from Files*, \n",
    "\n",
    "This chapter is an introduction to time series data. This chapter shows you how to read data from various and commonly used file\n",
    "types, whether stored locally or on the cloud. The recipes will highlight advanced options\n",
    "for ingesting, preparing, and transforming data into a time series DataFrame for\n",
    "later analysis.  \n",
    "\n",
    "We will cover the following recipes on how to ingest data into a pandas DataFrame:\n",
    "* Reading data from CSVs and other delimited files\n",
    "* Reading data from an Excel file\n",
    "* Reading data from URLs\n",
    "* Reading data from a SAS dataset"
   ]
  },
  {
   "cell_type": "markdown",
   "id": "cc1f3dac-5f42-4c0d-ae98-80dafb21bc25",
   "metadata": {},
   "source": [
    "# Recipe 1: Reading from CSVs and Other Delimited Files"
   ]
  },
  {
   "cell_type": "code",
   "execution_count": 1,
   "id": "0ecc3461-43e2-4c09-945c-033f8eff4342",
   "metadata": {},
   "outputs": [
    {
     "data": {
      "text/plain": [
       "'2.0.0'"
      ]
     },
     "execution_count": 1,
     "metadata": {},
     "output_type": "execute_result"
    }
   ],
   "source": [
    "import pandas as pd\n",
    "pd.__version__"
   ]
  },
  {
   "cell_type": "code",
   "execution_count": 2,
   "id": "ffcaab98-7d62-4f82-97ed-85f8c1d8b820",
   "metadata": {},
   "outputs": [],
   "source": [
    "filepath = 'datasets/movieboxoffice.csv'"
   ]
  },
  {
   "cell_type": "code",
   "execution_count": 3,
   "id": "aa33d6f8-d21d-4c67-9231-97593196306d",
   "metadata": {},
   "outputs": [
    {
     "name": "stderr",
     "output_type": "stream",
     "text": [
      "/tmp/ipykernel_30092/3483659533.py:1: UserWarning: Could not infer format, so each element will be parsed individually, falling back to `dateutil`. To ensure parsing is consistent and as-expected, please specify a format.\n",
      "  ts = pd.read_csv(filepath,\n"
     ]
    },
    {
     "data": {
      "text/html": [
       "<div>\n",
       "<style scoped>\n",
       "    .dataframe tbody tr th:only-of-type {\n",
       "        vertical-align: middle;\n",
       "    }\n",
       "\n",
       "    .dataframe tbody tr th {\n",
       "        vertical-align: top;\n",
       "    }\n",
       "\n",
       "    .dataframe thead th {\n",
       "        text-align: right;\n",
       "    }\n",
       "</style>\n",
       "<table border=\"1\" class=\"dataframe\">\n",
       "  <thead>\n",
       "    <tr style=\"text-align: right;\">\n",
       "      <th></th>\n",
       "      <th>DOW</th>\n",
       "      <th>Daily</th>\n",
       "      <th>Forecast</th>\n",
       "      <th>Percent Diff</th>\n",
       "    </tr>\n",
       "    <tr>\n",
       "      <th>Date</th>\n",
       "      <th></th>\n",
       "      <th></th>\n",
       "      <th></th>\n",
       "      <th></th>\n",
       "    </tr>\n",
       "  </thead>\n",
       "  <tbody>\n",
       "    <tr>\n",
       "      <th>2021-04-26</th>\n",
       "      <td>Friday</td>\n",
       "      <td>$125,789.89</td>\n",
       "      <td>$235,036.46</td>\n",
       "      <td>-46.48%</td>\n",
       "    </tr>\n",
       "    <tr>\n",
       "      <th>2021-04-27</th>\n",
       "      <td>Saturday</td>\n",
       "      <td>$99,374.01</td>\n",
       "      <td>$197,622.55</td>\n",
       "      <td>-49.72%</td>\n",
       "    </tr>\n",
       "    <tr>\n",
       "      <th>2021-04-28</th>\n",
       "      <td>Sunday</td>\n",
       "      <td>$82,203.16</td>\n",
       "      <td>$116,991.26</td>\n",
       "      <td>-29.74%</td>\n",
       "    </tr>\n",
       "    <tr>\n",
       "      <th>2021-04-29</th>\n",
       "      <td>Monday</td>\n",
       "      <td>$33,530.26</td>\n",
       "      <td>$66,652.65</td>\n",
       "      <td>-49.69%</td>\n",
       "    </tr>\n",
       "    <tr>\n",
       "      <th>2021-04-30</th>\n",
       "      <td>Tuesday</td>\n",
       "      <td>$30,105.24</td>\n",
       "      <td>$34,828.19</td>\n",
       "      <td>-13.56%</td>\n",
       "    </tr>\n",
       "  </tbody>\n",
       "</table>\n",
       "</div>"
      ],
      "text/plain": [
       "                 DOW         Daily      Forecast Percent Diff\n",
       "Date                                                         \n",
       "2021-04-26    Friday  $125,789.89   $235,036.46       -46.48%\n",
       "2021-04-27  Saturday   $99,374.01   $197,622.55       -49.72%\n",
       "2021-04-28    Sunday   $82,203.16   $116,991.26       -29.74%\n",
       "2021-04-29    Monday   $33,530.26    $66,652.65       -49.69%\n",
       "2021-04-30   Tuesday   $30,105.24    $34,828.19       -13.56%"
      ]
     },
     "execution_count": 3,
     "metadata": {},
     "output_type": "execute_result"
    }
   ],
   "source": [
    "ts = pd.read_csv(filepath,\n",
    "                 header=0,\n",
    "                 parse_dates=[0],\n",
    "                 index_col=0,\n",
    "                 usecols=['Date',\n",
    "                          'DOW',\n",
    "                          'Daily',\n",
    "                          'Forecast',\n",
    "                          'Percent Diff'])\n",
    "ts.head()"
   ]
  },
  {
   "cell_type": "code",
   "execution_count": 4,
   "id": "14b0182e-98be-4c79-8db9-2ed76a182813",
   "metadata": {},
   "outputs": [
    {
     "name": "stdout",
     "output_type": "stream",
     "text": [
      "<class 'pandas.core.frame.DataFrame'>\n",
      "DatetimeIndex: 128 entries, 2021-04-26 to 2021-08-31\n",
      "Data columns (total 4 columns):\n",
      " #   Column        Non-Null Count  Dtype \n",
      "---  ------        --------------  ----- \n",
      " 0   DOW           128 non-null    object\n",
      " 1   Daily         128 non-null    object\n",
      " 2   Forecast      128 non-null    object\n",
      " 3   Percent Diff  128 non-null    object\n",
      "dtypes: object(4)\n",
      "memory usage: 5.0+ KB\n"
     ]
    }
   ],
   "source": [
    "ts.info()"
   ]
  },
  {
   "cell_type": "markdown",
   "id": "07775018-5134-4ec4-ac7b-68b5634eb9ad",
   "metadata": {},
   "source": [
    "**Data Cleanup**"
   ]
  },
  {
   "cell_type": "code",
   "execution_count": 5,
   "id": "df34d125-5ad8-41c2-a6c4-09145605891b",
   "metadata": {},
   "outputs": [],
   "source": [
    "clean = lambda x: x.str.replace('[^\\d]', '', regex=True)                                                      \n",
    "c_df = ts[['Daily', 'Forecast']].apply(clean, axis=1)\n",
    "ts[['Daily', 'Forecast']] = c_df.astype(float)                                "
   ]
  },
  {
   "cell_type": "code",
   "execution_count": 6,
   "id": "ae90d0a0-02e4-4a48-8bed-2fea8d612252",
   "metadata": {},
   "outputs": [
    {
     "data": {
      "text/html": [
       "<div>\n",
       "<style scoped>\n",
       "    .dataframe tbody tr th:only-of-type {\n",
       "        vertical-align: middle;\n",
       "    }\n",
       "\n",
       "    .dataframe tbody tr th {\n",
       "        vertical-align: top;\n",
       "    }\n",
       "\n",
       "    .dataframe thead th {\n",
       "        text-align: right;\n",
       "    }\n",
       "</style>\n",
       "<table border=\"1\" class=\"dataframe\">\n",
       "  <thead>\n",
       "    <tr style=\"text-align: right;\">\n",
       "      <th></th>\n",
       "      <th>DOW</th>\n",
       "      <th>Daily</th>\n",
       "      <th>Forecast</th>\n",
       "      <th>Percent Diff</th>\n",
       "    </tr>\n",
       "    <tr>\n",
       "      <th>Date</th>\n",
       "      <th></th>\n",
       "      <th></th>\n",
       "      <th></th>\n",
       "      <th></th>\n",
       "    </tr>\n",
       "  </thead>\n",
       "  <tbody>\n",
       "    <tr>\n",
       "      <th>2021-04-26</th>\n",
       "      <td>Friday</td>\n",
       "      <td>12578989.0</td>\n",
       "      <td>23503646.0</td>\n",
       "      <td>-46.48%</td>\n",
       "    </tr>\n",
       "    <tr>\n",
       "      <th>2021-04-27</th>\n",
       "      <td>Saturday</td>\n",
       "      <td>9937401.0</td>\n",
       "      <td>19762255.0</td>\n",
       "      <td>-49.72%</td>\n",
       "    </tr>\n",
       "    <tr>\n",
       "      <th>2021-04-28</th>\n",
       "      <td>Sunday</td>\n",
       "      <td>8220316.0</td>\n",
       "      <td>11699126.0</td>\n",
       "      <td>-29.74%</td>\n",
       "    </tr>\n",
       "    <tr>\n",
       "      <th>2021-04-29</th>\n",
       "      <td>Monday</td>\n",
       "      <td>3353026.0</td>\n",
       "      <td>6665265.0</td>\n",
       "      <td>-49.69%</td>\n",
       "    </tr>\n",
       "    <tr>\n",
       "      <th>2021-04-30</th>\n",
       "      <td>Tuesday</td>\n",
       "      <td>3010524.0</td>\n",
       "      <td>3482819.0</td>\n",
       "      <td>-13.56%</td>\n",
       "    </tr>\n",
       "  </tbody>\n",
       "</table>\n",
       "</div>"
      ],
      "text/plain": [
       "                 DOW       Daily    Forecast Percent Diff\n",
       "Date                                                     \n",
       "2021-04-26    Friday  12578989.0  23503646.0      -46.48%\n",
       "2021-04-27  Saturday   9937401.0  19762255.0      -49.72%\n",
       "2021-04-28    Sunday   8220316.0  11699126.0      -29.74%\n",
       "2021-04-29    Monday   3353026.0   6665265.0      -49.69%\n",
       "2021-04-30   Tuesday   3010524.0   3482819.0      -13.56%"
      ]
     },
     "execution_count": 6,
     "metadata": {},
     "output_type": "execute_result"
    }
   ],
   "source": [
    "ts.head()"
   ]
  },
  {
   "cell_type": "code",
   "execution_count": 7,
   "id": "3fa8c60e-c65e-48af-b6f7-86644492d107",
   "metadata": {},
   "outputs": [
    {
     "name": "stdout",
     "output_type": "stream",
     "text": [
      "<class 'pandas.core.frame.DataFrame'>\n",
      "DatetimeIndex: 128 entries, 2021-04-26 to 2021-08-31\n",
      "Data columns (total 4 columns):\n",
      " #   Column        Non-Null Count  Dtype  \n",
      "---  ------        --------------  -----  \n",
      " 0   DOW           128 non-null    object \n",
      " 1   Daily         128 non-null    float64\n",
      " 2   Forecast      128 non-null    float64\n",
      " 3   Percent Diff  128 non-null    object \n",
      "dtypes: float64(2), object(2)\n",
      "memory usage: 5.0+ KB\n"
     ]
    }
   ],
   "source": [
    "ts.info()"
   ]
  },
  {
   "cell_type": "code",
   "execution_count": 8,
   "id": "367af7b5-e8e3-4fc6-aa25-48ab82c4eead",
   "metadata": {},
   "outputs": [
    {
     "data": {
      "text/plain": [
       "Index           1024\n",
       "DOW             1024\n",
       "Daily           1024\n",
       "Forecast        1024\n",
       "Percent Diff    1024\n",
       "dtype: int64"
      ]
     },
     "execution_count": 8,
     "metadata": {},
     "output_type": "execute_result"
    }
   ],
   "source": [
    "ts.memory_usage()"
   ]
  },
  {
   "cell_type": "code",
   "execution_count": 9,
   "id": "a8928d19-436c-4d5a-a662-c157ceb14496",
   "metadata": {},
   "outputs": [
    {
     "data": {
      "text/plain": [
       "5120"
      ]
     },
     "execution_count": 9,
     "metadata": {},
     "output_type": "execute_result"
    }
   ],
   "source": [
    "ts.memory_usage().sum()"
   ]
  },
  {
   "cell_type": "markdown",
   "id": "e6212e1e-caf4-47e9-b8f3-2db31a9ebcd8",
   "metadata": {},
   "source": [
    "## Using `date_parser`"
   ]
  },
  {
   "cell_type": "code",
   "execution_count": 10,
   "id": "5b4759cf-8747-405f-ba15-77cd10493a4c",
   "metadata": {},
   "outputs": [
    {
     "data": {
      "text/plain": [
       "DOW              object\n",
       "Daily           float64\n",
       "Forecast        float64\n",
       "Percent Diff     object\n",
       "dtype: object"
      ]
     },
     "execution_count": 10,
     "metadata": {},
     "output_type": "execute_result"
    }
   ],
   "source": [
    "ts.dtypes"
   ]
  },
  {
   "cell_type": "code",
   "execution_count": 11,
   "id": "ee32b5de-0b27-4512-8aab-d0c5ebfad850",
   "metadata": {
    "tags": []
   },
   "outputs": [
    {
     "name": "stderr",
     "output_type": "stream",
     "text": [
      "/tmp/ipykernel_30092/2722005815.py:2: FutureWarning: The argument 'date_parser' is deprecated and will be removed in a future version. Please use 'date_format' instead, or read your data in as 'object' dtype and then call 'to_datetime'.\n",
      "  ts = pd.read_csv(filepath,\n"
     ]
    },
    {
     "data": {
      "text/html": [
       "<div>\n",
       "<style scoped>\n",
       "    .dataframe tbody tr th:only-of-type {\n",
       "        vertical-align: middle;\n",
       "    }\n",
       "\n",
       "    .dataframe tbody tr th {\n",
       "        vertical-align: top;\n",
       "    }\n",
       "\n",
       "    .dataframe thead th {\n",
       "        text-align: right;\n",
       "    }\n",
       "</style>\n",
       "<table border=\"1\" class=\"dataframe\">\n",
       "  <thead>\n",
       "    <tr style=\"text-align: right;\">\n",
       "      <th></th>\n",
       "      <th>DOW</th>\n",
       "      <th>Daily</th>\n",
       "      <th>Forecast</th>\n",
       "      <th>Percent Diff</th>\n",
       "    </tr>\n",
       "    <tr>\n",
       "      <th>Date</th>\n",
       "      <th></th>\n",
       "      <th></th>\n",
       "      <th></th>\n",
       "      <th></th>\n",
       "    </tr>\n",
       "  </thead>\n",
       "  <tbody>\n",
       "    <tr>\n",
       "      <th>2021-04-26</th>\n",
       "      <td>Friday</td>\n",
       "      <td>$125,789.89</td>\n",
       "      <td>$235,036.46</td>\n",
       "      <td>-46.48%</td>\n",
       "    </tr>\n",
       "    <tr>\n",
       "      <th>2021-04-27</th>\n",
       "      <td>Saturday</td>\n",
       "      <td>$99,374.01</td>\n",
       "      <td>$197,622.55</td>\n",
       "      <td>-49.72%</td>\n",
       "    </tr>\n",
       "    <tr>\n",
       "      <th>2021-04-28</th>\n",
       "      <td>Sunday</td>\n",
       "      <td>$82,203.16</td>\n",
       "      <td>$116,991.26</td>\n",
       "      <td>-29.74%</td>\n",
       "    </tr>\n",
       "    <tr>\n",
       "      <th>2021-04-29</th>\n",
       "      <td>Monday</td>\n",
       "      <td>$33,530.26</td>\n",
       "      <td>$66,652.65</td>\n",
       "      <td>-49.69%</td>\n",
       "    </tr>\n",
       "    <tr>\n",
       "      <th>2021-04-30</th>\n",
       "      <td>Tuesday</td>\n",
       "      <td>$30,105.24</td>\n",
       "      <td>$34,828.19</td>\n",
       "      <td>-13.56%</td>\n",
       "    </tr>\n",
       "  </tbody>\n",
       "</table>\n",
       "</div>"
      ],
      "text/plain": [
       "                 DOW         Daily      Forecast Percent Diff\n",
       "Date                                                         \n",
       "2021-04-26    Friday  $125,789.89   $235,036.46       -46.48%\n",
       "2021-04-27  Saturday   $99,374.01   $197,622.55       -49.72%\n",
       "2021-04-28    Sunday   $82,203.16   $116,991.26       -29.74%\n",
       "2021-04-29    Monday   $33,530.26    $66,652.65       -49.69%\n",
       "2021-04-30   Tuesday   $30,105.24    $34,828.19       -13.56%"
      ]
     },
     "execution_count": 11,
     "metadata": {},
     "output_type": "execute_result"
    }
   ],
   "source": [
    "date_parser = lambda x: pd.to_datetime(x, format=\"%d-%b-%y\")\n",
    "ts = pd.read_csv(filepath,\n",
    "                 parse_dates=[0],\n",
    "                 index_col=0,\n",
    "                 date_parser=date_parser,\n",
    "                 usecols=[0, 1, 3, 7, 6])\n",
    "ts.head()"
   ]
  },
  {
   "cell_type": "code",
   "execution_count": 12,
   "id": "676c865c-16fe-4907-bfed-7a90f3a271fc",
   "metadata": {},
   "outputs": [
    {
     "name": "stderr",
     "output_type": "stream",
     "text": [
      "/tmp/ipykernel_30092/2885561941.py:1: UserWarning: Could not infer format, so each element will be parsed individually, falling back to `dateutil`. To ensure parsing is consistent and as-expected, please specify a format.\n",
      "  ts = pd.read_csv(filepath,\n"
     ]
    },
    {
     "data": {
      "text/html": [
       "<div>\n",
       "<style scoped>\n",
       "    .dataframe tbody tr th:only-of-type {\n",
       "        vertical-align: middle;\n",
       "    }\n",
       "\n",
       "    .dataframe tbody tr th {\n",
       "        vertical-align: top;\n",
       "    }\n",
       "\n",
       "    .dataframe thead th {\n",
       "        text-align: right;\n",
       "    }\n",
       "</style>\n",
       "<table border=\"1\" class=\"dataframe\">\n",
       "  <thead>\n",
       "    <tr style=\"text-align: right;\">\n",
       "      <th></th>\n",
       "      <th>DOW</th>\n",
       "      <th>Daily</th>\n",
       "      <th>Forecast</th>\n",
       "      <th>Percent Diff</th>\n",
       "    </tr>\n",
       "    <tr>\n",
       "      <th>Date</th>\n",
       "      <th></th>\n",
       "      <th></th>\n",
       "      <th></th>\n",
       "      <th></th>\n",
       "    </tr>\n",
       "  </thead>\n",
       "  <tbody>\n",
       "    <tr>\n",
       "      <th>2021-04-26</th>\n",
       "      <td>Friday</td>\n",
       "      <td>$125,789.89</td>\n",
       "      <td>$235,036.46</td>\n",
       "      <td>-46.48%</td>\n",
       "    </tr>\n",
       "    <tr>\n",
       "      <th>2021-04-27</th>\n",
       "      <td>Saturday</td>\n",
       "      <td>$99,374.01</td>\n",
       "      <td>$197,622.55</td>\n",
       "      <td>-49.72%</td>\n",
       "    </tr>\n",
       "    <tr>\n",
       "      <th>2021-04-28</th>\n",
       "      <td>Sunday</td>\n",
       "      <td>$82,203.16</td>\n",
       "      <td>$116,991.26</td>\n",
       "      <td>-29.74%</td>\n",
       "    </tr>\n",
       "    <tr>\n",
       "      <th>2021-04-29</th>\n",
       "      <td>Monday</td>\n",
       "      <td>$33,530.26</td>\n",
       "      <td>$66,652.65</td>\n",
       "      <td>-49.69%</td>\n",
       "    </tr>\n",
       "    <tr>\n",
       "      <th>2021-04-30</th>\n",
       "      <td>Tuesday</td>\n",
       "      <td>$30,105.24</td>\n",
       "      <td>$34,828.19</td>\n",
       "      <td>-13.56%</td>\n",
       "    </tr>\n",
       "  </tbody>\n",
       "</table>\n",
       "</div>"
      ],
      "text/plain": [
       "                 DOW         Daily      Forecast Percent Diff\n",
       "Date                                                         \n",
       "2021-04-26    Friday  $125,789.89   $235,036.46       -46.48%\n",
       "2021-04-27  Saturday   $99,374.01   $197,622.55       -49.72%\n",
       "2021-04-28    Sunday   $82,203.16   $116,991.26       -29.74%\n",
       "2021-04-29    Monday   $33,530.26    $66,652.65       -49.69%\n",
       "2021-04-30   Tuesday   $30,105.24    $34,828.19       -13.56%"
      ]
     },
     "execution_count": 12,
     "metadata": {},
     "output_type": "execute_result"
    }
   ],
   "source": [
    "ts = pd.read_csv(filepath,\n",
    "                 header=0,\n",
    "                 parse_dates=['Date'],\n",
    "                 index_col=0,\n",
    "                 usecols=['Date',\n",
    "                          'DOW',\n",
    "                          'Daily',\n",
    "                          'Forecast',\n",
    "                          'Percent Diff'])\n",
    "ts.head()"
   ]
  },
  {
   "cell_type": "markdown",
   "id": "c1f2c015-77b6-4e59-b300-79df45c13c9f",
   "metadata": {
    "tags": []
   },
   "source": [
    "# Recipe 2: Reading data from an Excel file\n",
    "* Learn how to read data from Excel files using pandas \n",
    "* Learn how to read from multiple sheets into DataFrames"
   ]
  },
  {
   "cell_type": "markdown",
   "id": "6c348d1b-52a6-4a3a-9a7e-7fb4facba5fe",
   "metadata": {},
   "source": [
    "* To install using pip, run the following command:\n",
    "\n",
    "```\n",
    "pip3 install openpyxl\n",
    "```"
   ]
  },
  {
   "cell_type": "code",
   "execution_count": 13,
   "id": "aff3d06e-12de-4cc9-9785-ff2548c434ed",
   "metadata": {},
   "outputs": [
    {
     "name": "stdout",
     "output_type": "stream",
     "text": [
      "Requirement already satisfied: openpyxl in /usr/local/lib/python3.11/site-packages (3.1.2)\n",
      "Requirement already satisfied: et-xmlfile in /usr/local/lib/python3.11/site-packages (from openpyxl) (1.1.0)\n",
      "\u001b[33mWARNING: Running pip as the 'root' user can result in broken permissions and conflicting behaviour with the system package manager. It is recommended to use a virtual environment instead: https://pip.pypa.io/warnings/venv\u001b[0m\u001b[33m\n",
      "\u001b[0m"
     ]
    }
   ],
   "source": [
    "!pip3 install openpyxl"
   ]
  },
  {
   "cell_type": "code",
   "execution_count": 14,
   "id": "a4610e13-c484-4b65-af84-bc33da9c9ea4",
   "metadata": {},
   "outputs": [],
   "source": [
    "import pandas as pd"
   ]
  },
  {
   "cell_type": "code",
   "execution_count": 15,
   "id": "93768b2a-bc9e-4a6a-8f72-cfdf6ec017f4",
   "metadata": {},
   "outputs": [
    {
     "data": {
      "text/plain": [
       "'3.1.2'"
      ]
     },
     "execution_count": 15,
     "metadata": {},
     "output_type": "execute_result"
    }
   ],
   "source": [
    "import openpyxl\n",
    "openpyxl.__version__"
   ]
  },
  {
   "cell_type": "code",
   "execution_count": 16,
   "id": "63bbe7dd-7677-4642-88a3-37c2861a031f",
   "metadata": {},
   "outputs": [
    {
     "data": {
      "text/plain": [
       "['2017', '2018']"
      ]
     },
     "execution_count": 16,
     "metadata": {},
     "output_type": "execute_result"
    }
   ],
   "source": [
    "filepath = 'datasets/sales_trx_data.xlsx'\n",
    "excelfile = pd.ExcelFile(filepath)\n",
    "excelfile.sheet_names"
   ]
  },
  {
   "cell_type": "code",
   "execution_count": 17,
   "id": "ce1c5c12-a858-4438-92dd-bc4b03b344e0",
   "metadata": {},
   "outputs": [
    {
     "data": {
      "text/html": [
       "<div>\n",
       "<style scoped>\n",
       "    .dataframe tbody tr th:only-of-type {\n",
       "        vertical-align: middle;\n",
       "    }\n",
       "\n",
       "    .dataframe tbody tr th {\n",
       "        vertical-align: top;\n",
       "    }\n",
       "\n",
       "    .dataframe thead th {\n",
       "        text-align: right;\n",
       "    }\n",
       "</style>\n",
       "<table border=\"1\" class=\"dataframe\">\n",
       "  <thead>\n",
       "    <tr style=\"text-align: right;\">\n",
       "      <th></th>\n",
       "      <th>Line_Item_ID</th>\n",
       "      <th>Date</th>\n",
       "      <th>Credit_Card_Number</th>\n",
       "      <th>Quantity</th>\n",
       "      <th>Menu_Item</th>\n",
       "    </tr>\n",
       "  </thead>\n",
       "  <tbody>\n",
       "    <tr>\n",
       "      <th>0</th>\n",
       "      <td>1</td>\n",
       "      <td>2017-01-01</td>\n",
       "      <td>7437926611570790</td>\n",
       "      <td>1</td>\n",
       "      <td>spicy miso ramen</td>\n",
       "    </tr>\n",
       "    <tr>\n",
       "      <th>1</th>\n",
       "      <td>2</td>\n",
       "      <td>2017-01-01</td>\n",
       "      <td>7437926611570790</td>\n",
       "      <td>1</td>\n",
       "      <td>spicy miso ramen</td>\n",
       "    </tr>\n",
       "    <tr>\n",
       "      <th>2</th>\n",
       "      <td>3</td>\n",
       "      <td>2017-01-01</td>\n",
       "      <td>8421920068932810</td>\n",
       "      <td>3</td>\n",
       "      <td>tori paitan ramen</td>\n",
       "    </tr>\n",
       "    <tr>\n",
       "      <th>3</th>\n",
       "      <td>4</td>\n",
       "      <td>2017-01-01</td>\n",
       "      <td>8421920068932810</td>\n",
       "      <td>3</td>\n",
       "      <td>tori paitan ramen</td>\n",
       "    </tr>\n",
       "    <tr>\n",
       "      <th>4</th>\n",
       "      <td>5</td>\n",
       "      <td>2017-01-01</td>\n",
       "      <td>4787310681569640</td>\n",
       "      <td>1</td>\n",
       "      <td>truffle butter ramen</td>\n",
       "    </tr>\n",
       "    <tr>\n",
       "      <th>...</th>\n",
       "      <td>...</td>\n",
       "      <td>...</td>\n",
       "      <td>...</td>\n",
       "      <td>...</td>\n",
       "      <td>...</td>\n",
       "    </tr>\n",
       "    <tr>\n",
       "      <th>36759</th>\n",
       "      <td>36760</td>\n",
       "      <td>2017-12-31</td>\n",
       "      <td>3149176814183170</td>\n",
       "      <td>4</td>\n",
       "      <td>vegetarian curry + king trumpet mushroom ramen</td>\n",
       "    </tr>\n",
       "    <tr>\n",
       "      <th>36760</th>\n",
       "      <td>36761</td>\n",
       "      <td>2017-12-31</td>\n",
       "      <td>2005206728506200</td>\n",
       "      <td>1</td>\n",
       "      <td>tonkotsu ramen</td>\n",
       "    </tr>\n",
       "    <tr>\n",
       "      <th>36761</th>\n",
       "      <td>36762</td>\n",
       "      <td>2017-12-31</td>\n",
       "      <td>2005206728506200</td>\n",
       "      <td>1</td>\n",
       "      <td>tonkotsu ramen</td>\n",
       "    </tr>\n",
       "    <tr>\n",
       "      <th>36762</th>\n",
       "      <td>36763</td>\n",
       "      <td>2017-12-31</td>\n",
       "      <td>1130414909788170</td>\n",
       "      <td>2</td>\n",
       "      <td>soft-shell miso crab ramen</td>\n",
       "    </tr>\n",
       "    <tr>\n",
       "      <th>36763</th>\n",
       "      <td>36764</td>\n",
       "      <td>2017-12-31</td>\n",
       "      <td>1130414909788170</td>\n",
       "      <td>2</td>\n",
       "      <td>soft-shell miso crab ramen</td>\n",
       "    </tr>\n",
       "  </tbody>\n",
       "</table>\n",
       "<p>36764 rows × 5 columns</p>\n",
       "</div>"
      ],
      "text/plain": [
       "       Line_Item_ID       Date  Credit_Card_Number  Quantity   \n",
       "0                 1 2017-01-01    7437926611570790         1  \\\n",
       "1                 2 2017-01-01    7437926611570790         1   \n",
       "2                 3 2017-01-01    8421920068932810         3   \n",
       "3                 4 2017-01-01    8421920068932810         3   \n",
       "4                 5 2017-01-01    4787310681569640         1   \n",
       "...             ...        ...                 ...       ...   \n",
       "36759         36760 2017-12-31    3149176814183170         4   \n",
       "36760         36761 2017-12-31    2005206728506200         1   \n",
       "36761         36762 2017-12-31    2005206728506200         1   \n",
       "36762         36763 2017-12-31    1130414909788170         2   \n",
       "36763         36764 2017-12-31    1130414909788170         2   \n",
       "\n",
       "                                            Menu_Item  \n",
       "0                                    spicy miso ramen  \n",
       "1                                    spicy miso ramen  \n",
       "2                                   tori paitan ramen  \n",
       "3                                   tori paitan ramen  \n",
       "4                                truffle butter ramen  \n",
       "...                                               ...  \n",
       "36759  vegetarian curry + king trumpet mushroom ramen  \n",
       "36760                                  tonkotsu ramen  \n",
       "36761                                  tonkotsu ramen  \n",
       "36762                      soft-shell miso crab ramen  \n",
       "36763                      soft-shell miso crab ramen  \n",
       "\n",
       "[36764 rows x 5 columns]"
      ]
     },
     "execution_count": 17,
     "metadata": {},
     "output_type": "execute_result"
    }
   ],
   "source": [
    "excelfile.parse('2017')"
   ]
  },
  {
   "cell_type": "code",
   "execution_count": 18,
   "id": "9d46ccf9-8921-44ac-823e-e58836d6cb84",
   "metadata": {},
   "outputs": [
    {
     "data": {
      "text/plain": [
       "dict_keys([0, 1])"
      ]
     },
     "execution_count": 18,
     "metadata": {},
     "output_type": "execute_result"
    }
   ],
   "source": [
    "ts = pd.read_excel(filepath,\n",
    "                    engine='openpyxl',\n",
    "                    index_col=1,\n",
    "                    sheet_name=[0, 1],\n",
    "                    parse_dates=True)\n",
    "ts.keys()"
   ]
  },
  {
   "cell_type": "code",
   "execution_count": 19,
   "id": "6e845a34-f261-4abd-a7ca-d7b78cf036b7",
   "metadata": {},
   "outputs": [
    {
     "data": {
      "text/plain": [
       "dict_keys(['2017', '2018'])"
      ]
     },
     "execution_count": 19,
     "metadata": {},
     "output_type": "execute_result"
    }
   ],
   "source": [
    "ts = pd.read_excel(filepath,\n",
    "                    engine='openpyxl',\n",
    "                    index_col=1,\n",
    "                    sheet_name=['2017', '2018'],\n",
    "                    parse_dates=True)\n",
    "ts.keys()"
   ]
  },
  {
   "cell_type": "code",
   "execution_count": 20,
   "id": "0fc089c3-cfeb-4ad4-8dd9-e032b3e4b5a8",
   "metadata": {},
   "outputs": [
    {
     "data": {
      "text/plain": [
       "dict_keys(['2017', '2018'])"
      ]
     },
     "execution_count": 20,
     "metadata": {},
     "output_type": "execute_result"
    }
   ],
   "source": [
    "ts = pd.read_excel(filepath,\n",
    "                    engine='openpyxl',\n",
    "                    index_col=1,\n",
    "                    sheet_name=None,\n",
    "                    parse_dates=True)\n",
    "ts.keys()"
   ]
  },
  {
   "cell_type": "code",
   "execution_count": 21,
   "id": "532a5897-53eb-475f-914c-5a6c38c0f442",
   "metadata": {},
   "outputs": [
    {
     "name": "stdout",
     "output_type": "stream",
     "text": [
      "<class 'pandas.core.frame.DataFrame'>\n",
      "DatetimeIndex: 36764 entries, 2017-01-01 to 2017-12-31\n",
      "Data columns (total 4 columns):\n",
      " #   Column              Non-Null Count  Dtype \n",
      "---  ------              --------------  ----- \n",
      " 0   Line_Item_ID        36764 non-null  int64 \n",
      " 1   Credit_Card_Number  36764 non-null  int64 \n",
      " 2   Quantity            36764 non-null  int64 \n",
      " 3   Menu_Item           36764 non-null  object\n",
      "dtypes: int64(3), object(1)\n",
      "memory usage: 1.4+ MB\n"
     ]
    }
   ],
   "source": [
    "ts['2017'].info()"
   ]
  },
  {
   "cell_type": "code",
   "execution_count": 22,
   "id": "acd9b6a2-e291-4172-8310-027fbda6c880",
   "metadata": {},
   "outputs": [
    {
     "name": "stdout",
     "output_type": "stream",
     "text": [
      "<class 'pandas.core.frame.DataFrame'>\n",
      "DatetimeIndex: 37360 entries, 2018-01-01 to 2018-12-31\n",
      "Data columns (total 4 columns):\n",
      " #   Column              Non-Null Count  Dtype \n",
      "---  ------              --------------  ----- \n",
      " 0   Line_Item_ID        37360 non-null  int64 \n",
      " 1   Credit_Card_Number  37360 non-null  int64 \n",
      " 2   Quantity            37360 non-null  int64 \n",
      " 3   Menu_Item           37360 non-null  object\n",
      "dtypes: int64(3), object(1)\n",
      "memory usage: 1.4+ MB\n"
     ]
    }
   ],
   "source": [
    "ts['2018'].info()"
   ]
  },
  {
   "cell_type": "code",
   "execution_count": 23,
   "id": "8bb16eb6-c6e7-4e27-aa5f-4c8003ace5a0",
   "metadata": {},
   "outputs": [],
   "source": [
    "ts_combined = pd.concat([ts['2017'],ts['2018']])"
   ]
  },
  {
   "cell_type": "code",
   "execution_count": 24,
   "id": "966a7f86-abce-49ca-846d-3f1f2f9f02d6",
   "metadata": {},
   "outputs": [
    {
     "name": "stdout",
     "output_type": "stream",
     "text": [
      "<class 'pandas.core.frame.DataFrame'>\n",
      "DatetimeIndex: 74124 entries, 2017-01-01 to 2018-12-31\n",
      "Data columns (total 4 columns):\n",
      " #   Column              Non-Null Count  Dtype \n",
      "---  ------              --------------  ----- \n",
      " 0   Line_Item_ID        74124 non-null  int64 \n",
      " 1   Credit_Card_Number  74124 non-null  int64 \n",
      " 2   Quantity            74124 non-null  int64 \n",
      " 3   Menu_Item           74124 non-null  object\n",
      "dtypes: int64(3), object(1)\n",
      "memory usage: 2.8+ MB\n"
     ]
    }
   ],
   "source": [
    "ts_combined.info()"
   ]
  },
  {
   "cell_type": "code",
   "execution_count": 25,
   "id": "3ddc8ab9-a868-475c-8d88-f6b7113d5892",
   "metadata": {},
   "outputs": [
    {
     "data": {
      "text/plain": [
       "MultiIndex([('2017', '2017-01-01'),\n",
       "            ('2017', '2017-01-01'),\n",
       "            ('2017', '2017-01-01'),\n",
       "            ('2017', '2017-01-01'),\n",
       "            ('2017', '2017-01-01'),\n",
       "            ('2017', '2017-01-01'),\n",
       "            ('2017', '2017-01-01'),\n",
       "            ('2017', '2017-01-01'),\n",
       "            ('2017', '2017-01-01'),\n",
       "            ('2017', '2017-01-01'),\n",
       "            ...\n",
       "            ('2018', '2018-12-31'),\n",
       "            ('2018', '2018-12-31'),\n",
       "            ('2018', '2018-12-31'),\n",
       "            ('2018', '2018-12-31'),\n",
       "            ('2018', '2018-12-31'),\n",
       "            ('2018', '2018-12-31'),\n",
       "            ('2018', '2018-12-31'),\n",
       "            ('2018', '2018-12-31'),\n",
       "            ('2018', '2018-12-31'),\n",
       "            ('2018', '2018-12-31')],\n",
       "           names=[None, 'Date'], length=74124)"
      ]
     },
     "execution_count": 25,
     "metadata": {},
     "output_type": "execute_result"
    }
   ],
   "source": [
    "pd.concat(ts).index"
   ]
  },
  {
   "cell_type": "code",
   "execution_count": 26,
   "id": "c5e27638-bd4f-418f-95c9-da6c552e973c",
   "metadata": {},
   "outputs": [
    {
     "data": {
      "text/html": [
       "<div>\n",
       "<style scoped>\n",
       "    .dataframe tbody tr th:only-of-type {\n",
       "        vertical-align: middle;\n",
       "    }\n",
       "\n",
       "    .dataframe tbody tr th {\n",
       "        vertical-align: top;\n",
       "    }\n",
       "\n",
       "    .dataframe thead th {\n",
       "        text-align: right;\n",
       "    }\n",
       "</style>\n",
       "<table border=\"1\" class=\"dataframe\">\n",
       "  <thead>\n",
       "    <tr style=\"text-align: right;\">\n",
       "      <th></th>\n",
       "      <th>Line_Item_ID</th>\n",
       "      <th>Credit_Card_Number</th>\n",
       "      <th>Quantity</th>\n",
       "      <th>Menu_Item</th>\n",
       "    </tr>\n",
       "    <tr>\n",
       "      <th>Date</th>\n",
       "      <th></th>\n",
       "      <th></th>\n",
       "      <th></th>\n",
       "      <th></th>\n",
       "    </tr>\n",
       "  </thead>\n",
       "  <tbody>\n",
       "    <tr>\n",
       "      <th>2017-01-01</th>\n",
       "      <td>1</td>\n",
       "      <td>7437926611570790</td>\n",
       "      <td>1</td>\n",
       "      <td>spicy miso ramen</td>\n",
       "    </tr>\n",
       "    <tr>\n",
       "      <th>2017-01-01</th>\n",
       "      <td>2</td>\n",
       "      <td>7437926611570790</td>\n",
       "      <td>1</td>\n",
       "      <td>spicy miso ramen</td>\n",
       "    </tr>\n",
       "    <tr>\n",
       "      <th>2017-01-01</th>\n",
       "      <td>3</td>\n",
       "      <td>8421920068932810</td>\n",
       "      <td>3</td>\n",
       "      <td>tori paitan ramen</td>\n",
       "    </tr>\n",
       "    <tr>\n",
       "      <th>2017-01-01</th>\n",
       "      <td>4</td>\n",
       "      <td>8421920068932810</td>\n",
       "      <td>3</td>\n",
       "      <td>tori paitan ramen</td>\n",
       "    </tr>\n",
       "    <tr>\n",
       "      <th>2017-01-01</th>\n",
       "      <td>5</td>\n",
       "      <td>4787310681569640</td>\n",
       "      <td>1</td>\n",
       "      <td>truffle butter ramen</td>\n",
       "    </tr>\n",
       "  </tbody>\n",
       "</table>\n",
       "</div>"
      ],
      "text/plain": [
       "            Line_Item_ID  Credit_Card_Number  Quantity             Menu_Item\n",
       "Date                                                                        \n",
       "2017-01-01             1    7437926611570790         1      spicy miso ramen\n",
       "2017-01-01             2    7437926611570790         1      spicy miso ramen\n",
       "2017-01-01             3    8421920068932810         3     tori paitan ramen\n",
       "2017-01-01             4    8421920068932810         3     tori paitan ramen\n",
       "2017-01-01             5    4787310681569640         1  truffle butter ramen"
      ]
     },
     "execution_count": 26,
     "metadata": {},
     "output_type": "execute_result"
    }
   ],
   "source": [
    "ts_combined = pd.concat(ts).droplevel(level=0)\n",
    "ts_combined.head()"
   ]
  },
  {
   "cell_type": "code",
   "execution_count": 27,
   "id": "31b66f18-eead-4210-b3f0-05e57fa12ba4",
   "metadata": {},
   "outputs": [
    {
     "data": {
      "text/plain": [
       "pandas.core.frame.DataFrame"
      ]
     },
     "execution_count": 27,
     "metadata": {},
     "output_type": "execute_result"
    }
   ],
   "source": [
    "ts = pd.read_excel(filepath,\n",
    "                   index_col=1,\n",
    "                   sheet_name='2018',\n",
    "                   parse_dates=True)\n",
    "type(ts)"
   ]
  },
  {
   "cell_type": "markdown",
   "id": "1de33298-bccc-4d86-a827-39b8bc4d8376",
   "metadata": {},
   "source": [
    "## There is more\n",
    "* Using `ExcelFile`"
   ]
  },
  {
   "cell_type": "code",
   "execution_count": 28,
   "id": "1655b775-cd6c-4f28-8ed4-7e8b89e0e460",
   "metadata": {},
   "outputs": [
    {
     "data": {
      "text/html": [
       "<div>\n",
       "<style scoped>\n",
       "    .dataframe tbody tr th:only-of-type {\n",
       "        vertical-align: middle;\n",
       "    }\n",
       "\n",
       "    .dataframe tbody tr th {\n",
       "        vertical-align: top;\n",
       "    }\n",
       "\n",
       "    .dataframe thead th {\n",
       "        text-align: right;\n",
       "    }\n",
       "</style>\n",
       "<table border=\"1\" class=\"dataframe\">\n",
       "  <thead>\n",
       "    <tr style=\"text-align: right;\">\n",
       "      <th></th>\n",
       "      <th>Line_Item_ID</th>\n",
       "      <th>Credit_Card_Number</th>\n",
       "      <th>Quantity</th>\n",
       "      <th>Menu_Item</th>\n",
       "    </tr>\n",
       "    <tr>\n",
       "      <th>Date</th>\n",
       "      <th></th>\n",
       "      <th></th>\n",
       "      <th></th>\n",
       "      <th></th>\n",
       "    </tr>\n",
       "  </thead>\n",
       "  <tbody>\n",
       "    <tr>\n",
       "      <th>2017-01-01</th>\n",
       "      <td>1</td>\n",
       "      <td>7437926611570790</td>\n",
       "      <td>1</td>\n",
       "      <td>spicy miso ramen</td>\n",
       "    </tr>\n",
       "    <tr>\n",
       "      <th>2017-01-01</th>\n",
       "      <td>2</td>\n",
       "      <td>7437926611570790</td>\n",
       "      <td>1</td>\n",
       "      <td>spicy miso ramen</td>\n",
       "    </tr>\n",
       "    <tr>\n",
       "      <th>2017-01-01</th>\n",
       "      <td>3</td>\n",
       "      <td>8421920068932810</td>\n",
       "      <td>3</td>\n",
       "      <td>tori paitan ramen</td>\n",
       "    </tr>\n",
       "    <tr>\n",
       "      <th>2017-01-01</th>\n",
       "      <td>4</td>\n",
       "      <td>8421920068932810</td>\n",
       "      <td>3</td>\n",
       "      <td>tori paitan ramen</td>\n",
       "    </tr>\n",
       "    <tr>\n",
       "      <th>2017-01-01</th>\n",
       "      <td>5</td>\n",
       "      <td>4787310681569640</td>\n",
       "      <td>1</td>\n",
       "      <td>truffle butter ramen</td>\n",
       "    </tr>\n",
       "  </tbody>\n",
       "</table>\n",
       "</div>"
      ],
      "text/plain": [
       "            Line_Item_ID  Credit_Card_Number  Quantity             Menu_Item\n",
       "Date                                                                        \n",
       "2017-01-01             1    7437926611570790         1      spicy miso ramen\n",
       "2017-01-01             2    7437926611570790         1      spicy miso ramen\n",
       "2017-01-01             3    8421920068932810         3     tori paitan ramen\n",
       "2017-01-01             4    8421920068932810         3     tori paitan ramen\n",
       "2017-01-01             5    4787310681569640         1  truffle butter ramen"
      ]
     },
     "execution_count": 28,
     "metadata": {},
     "output_type": "execute_result"
    }
   ],
   "source": [
    "excelfile = pd.ExcelFile(filepath)\n",
    "excelfile.parse(sheet_name='2017',\n",
    "                index_col=1,\n",
    "                parse_dates=True).head()"
   ]
  },
  {
   "cell_type": "markdown",
   "id": "cb565e22-12c8-44c8-8c66-5e7b91f28275",
   "metadata": {},
   "source": [
    "# Recipe 3: Reading data from a URL\n",
    "* Learn how to read data as a DataFrame from GitHub\n",
    "* Learn how to read data as a DataFrame from AWS S3 using `pandas`\n",
    "* Learn how to read an HTML page and extract tables using `pandas`"
   ]
  },
  {
   "cell_type": "code",
   "execution_count": null,
   "id": "00bf2d0a-389a-4efd-ac70-af9cb4a74fbd",
   "metadata": {},
   "outputs": [],
   "source": [
    "!pip3 install boto3 s3fs html5lib lxml"
   ]
  },
  {
   "cell_type": "code",
   "execution_count": 31,
   "id": "630d3248-b8a4-4c16-a59b-7b496a7689a8",
   "metadata": {},
   "outputs": [
    {
     "name": "stdout",
     "output_type": "stream",
     "text": [
      "\n",
      "pandas -> 2.0.0\n",
      "boto3 -> 1.26.114\n",
      "s3fs -> 0.4.2\n",
      "lxml -> 4.9.2\n",
      "\n"
     ]
    }
   ],
   "source": [
    "import pandas as pd\n",
    "import boto3, s3fs, lxml\n",
    "print(f\"\"\"\n",
    "pandas -> {pd.__version__}\n",
    "boto3 -> {boto3.__version__}\n",
    "s3fs -> {s3fs.__version__}\n",
    "lxml -> {lxml.__version__}\n",
    "\"\"\")"
   ]
  },
  {
   "cell_type": "markdown",
   "id": "26f56e5a-a01d-482f-b5b0-e7cf8a677e80",
   "metadata": {},
   "source": [
    "## Reading from GitHub"
   ]
  },
  {
   "cell_type": "code",
   "execution_count": 32,
   "id": "c208b0e8-7f40-4f2b-938b-6b538492cd8b",
   "metadata": {},
   "outputs": [],
   "source": [
    "# example of produced error\n",
    "url = 'https://github.com/rnarkk/Time-Series-Analysis-with-Python-Cookbook./blob/main/Ch2/datasets/AirQualityUCI.csv'\n",
    "# pd.read_csv(url)"
   ]
  },
  {
   "cell_type": "code",
   "execution_count": 33,
   "id": "1578a313-df89-4d15-81c0-511f50f49c4b",
   "metadata": {},
   "outputs": [
    {
     "name": "stderr",
     "output_type": "stream",
     "text": [
      "/tmp/ipykernel_30092/4061268242.py:4: FutureWarning: The argument 'date_parser' is deprecated and will be removed in a future version. Please use 'date_format' instead, or read your data in as 'object' dtype and then call 'to_datetime'.\n",
      "  df = pd.read_csv(url,\n"
     ]
    },
    {
     "data": {
      "text/html": [
       "<div>\n",
       "<style scoped>\n",
       "    .dataframe tbody tr th:only-of-type {\n",
       "        vertical-align: middle;\n",
       "    }\n",
       "\n",
       "    .dataframe tbody tr th {\n",
       "        vertical-align: top;\n",
       "    }\n",
       "\n",
       "    .dataframe thead th {\n",
       "        text-align: right;\n",
       "    }\n",
       "</style>\n",
       "<table border=\"1\" class=\"dataframe\">\n",
       "  <thead>\n",
       "    <tr style=\"text-align: right;\">\n",
       "      <th></th>\n",
       "      <th>CO(GT)</th>\n",
       "      <th>PT08.S1(CO)</th>\n",
       "      <th>NMHC(GT)</th>\n",
       "    </tr>\n",
       "    <tr>\n",
       "      <th>Date</th>\n",
       "      <th></th>\n",
       "      <th></th>\n",
       "      <th></th>\n",
       "    </tr>\n",
       "  </thead>\n",
       "  <tbody>\n",
       "    <tr>\n",
       "      <th>2004-03-10</th>\n",
       "      <td>2.6</td>\n",
       "      <td>1360.00</td>\n",
       "      <td>150</td>\n",
       "    </tr>\n",
       "    <tr>\n",
       "      <th>2004-03-10</th>\n",
       "      <td>2.0</td>\n",
       "      <td>1292.25</td>\n",
       "      <td>112</td>\n",
       "    </tr>\n",
       "    <tr>\n",
       "      <th>2004-03-10</th>\n",
       "      <td>2.2</td>\n",
       "      <td>1402.00</td>\n",
       "      <td>88</td>\n",
       "    </tr>\n",
       "  </tbody>\n",
       "</table>\n",
       "</div>"
      ],
      "text/plain": [
       "            CO(GT)  PT08.S1(CO)  NMHC(GT)\n",
       "Date                                     \n",
       "2004-03-10     2.6      1360.00       150\n",
       "2004-03-10     2.0      1292.25       112\n",
       "2004-03-10     2.2      1402.00        88"
      ]
     },
     "execution_count": 33,
     "metadata": {},
     "output_type": "execute_result"
    }
   ],
   "source": [
    "url = 'https://raw.githubusercontent.com/rnarkk/Time-Series-Analysis-with-Python-Cookbook/main/Ch2/datasets/AirQualityUCI.csv'\n",
    "df = pd.read_csv(url,\n",
    "                 delimiter=';',\n",
    "                 index_col='Date',\n",
    "                 date_format='%d/%m/%Y')\n",
    "df.iloc[:3, 1:4]"
   ]
  },
  {
   "cell_type": "markdown",
   "id": "c82c8204-6ad5-4f49-8d34-2e5876555773",
   "metadata": {},
   "source": [
    "## Reading from Public S3 Bucket"
   ]
  },
  {
   "cell_type": "markdown",
   "id": "393cb663-ce20-4bca-8ead-a2ec5a59e37f",
   "metadata": {},
   "source": [
    "**Path-style access**"
   ]
  },
  {
   "cell_type": "code",
   "execution_count": 34,
   "id": "88e3c41b-45ba-4170-abd3-fa27b3197b82",
   "metadata": {},
   "outputs": [
    {
     "data": {
      "text/html": [
       "<div>\n",
       "<style scoped>\n",
       "    .dataframe tbody tr th:only-of-type {\n",
       "        vertical-align: middle;\n",
       "    }\n",
       "\n",
       "    .dataframe tbody tr th {\n",
       "        vertical-align: top;\n",
       "    }\n",
       "\n",
       "    .dataframe thead th {\n",
       "        text-align: right;\n",
       "    }\n",
       "</style>\n",
       "<table border=\"1\" class=\"dataframe\">\n",
       "  <thead>\n",
       "    <tr style=\"text-align: right;\">\n",
       "      <th></th>\n",
       "      <th>Time</th>\n",
       "      <th>CO(GT)</th>\n",
       "      <th>PT08.S1(CO)</th>\n",
       "      <th>NMHC(GT)</th>\n",
       "      <th>C6H6(GT)</th>\n",
       "      <th>PT08.S2(NMHC)</th>\n",
       "      <th>NOx(GT)</th>\n",
       "      <th>PT08.S3(NOx)</th>\n",
       "      <th>NO2(GT)</th>\n",
       "      <th>PT08.S4(NO2)</th>\n",
       "      <th>PT08.S5(O3)</th>\n",
       "      <th>T</th>\n",
       "      <th>RH</th>\n",
       "      <th>AH</th>\n",
       "    </tr>\n",
       "    <tr>\n",
       "      <th>Date</th>\n",
       "      <th></th>\n",
       "      <th></th>\n",
       "      <th></th>\n",
       "      <th></th>\n",
       "      <th></th>\n",
       "      <th></th>\n",
       "      <th></th>\n",
       "      <th></th>\n",
       "      <th></th>\n",
       "      <th></th>\n",
       "      <th></th>\n",
       "      <th></th>\n",
       "      <th></th>\n",
       "      <th></th>\n",
       "    </tr>\n",
       "  </thead>\n",
       "  <tbody>\n",
       "    <tr>\n",
       "      <th>2004-03-10</th>\n",
       "      <td>18:00:00</td>\n",
       "      <td>2.6</td>\n",
       "      <td>1360.00</td>\n",
       "      <td>150</td>\n",
       "      <td>11.881723</td>\n",
       "      <td>1045.50</td>\n",
       "      <td>166.0</td>\n",
       "      <td>1056.25</td>\n",
       "      <td>113.0</td>\n",
       "      <td>1692.00</td>\n",
       "      <td>1267.50</td>\n",
       "      <td>13.60</td>\n",
       "      <td>48.875001</td>\n",
       "      <td>0.757754</td>\n",
       "    </tr>\n",
       "    <tr>\n",
       "      <th>2004-03-10</th>\n",
       "      <td>19:00:00</td>\n",
       "      <td>2.0</td>\n",
       "      <td>1292.25</td>\n",
       "      <td>112</td>\n",
       "      <td>9.397165</td>\n",
       "      <td>954.75</td>\n",
       "      <td>103.0</td>\n",
       "      <td>1173.75</td>\n",
       "      <td>92.0</td>\n",
       "      <td>1558.75</td>\n",
       "      <td>972.25</td>\n",
       "      <td>13.30</td>\n",
       "      <td>47.700000</td>\n",
       "      <td>0.725487</td>\n",
       "    </tr>\n",
       "    <tr>\n",
       "      <th>2004-03-10</th>\n",
       "      <td>20:00:00</td>\n",
       "      <td>2.2</td>\n",
       "      <td>1402.00</td>\n",
       "      <td>88</td>\n",
       "      <td>8.997817</td>\n",
       "      <td>939.25</td>\n",
       "      <td>131.0</td>\n",
       "      <td>1140.00</td>\n",
       "      <td>114.0</td>\n",
       "      <td>1554.50</td>\n",
       "      <td>1074.00</td>\n",
       "      <td>11.90</td>\n",
       "      <td>53.975000</td>\n",
       "      <td>0.750239</td>\n",
       "    </tr>\n",
       "    <tr>\n",
       "      <th>2004-03-10</th>\n",
       "      <td>21:00:00</td>\n",
       "      <td>2.2</td>\n",
       "      <td>1375.50</td>\n",
       "      <td>80</td>\n",
       "      <td>9.228796</td>\n",
       "      <td>948.25</td>\n",
       "      <td>172.0</td>\n",
       "      <td>1092.00</td>\n",
       "      <td>122.0</td>\n",
       "      <td>1583.75</td>\n",
       "      <td>1203.25</td>\n",
       "      <td>11.00</td>\n",
       "      <td>60.000000</td>\n",
       "      <td>0.786713</td>\n",
       "    </tr>\n",
       "    <tr>\n",
       "      <th>2004-03-10</th>\n",
       "      <td>22:00:00</td>\n",
       "      <td>1.6</td>\n",
       "      <td>1272.25</td>\n",
       "      <td>51</td>\n",
       "      <td>6.518224</td>\n",
       "      <td>835.50</td>\n",
       "      <td>131.0</td>\n",
       "      <td>1205.00</td>\n",
       "      <td>116.0</td>\n",
       "      <td>1490.00</td>\n",
       "      <td>1110.00</td>\n",
       "      <td>11.15</td>\n",
       "      <td>59.575001</td>\n",
       "      <td>0.788794</td>\n",
       "    </tr>\n",
       "  </tbody>\n",
       "</table>\n",
       "</div>"
      ],
      "text/plain": [
       "                Time  CO(GT)  PT08.S1(CO)  NMHC(GT)   C6H6(GT)  PT08.S2(NMHC)   \n",
       "Date                                                                            \n",
       "2004-03-10  18:00:00     2.6      1360.00       150  11.881723        1045.50  \\\n",
       "2004-03-10  19:00:00     2.0      1292.25       112   9.397165         954.75   \n",
       "2004-03-10  20:00:00     2.2      1402.00        88   8.997817         939.25   \n",
       "2004-03-10  21:00:00     2.2      1375.50        80   9.228796         948.25   \n",
       "2004-03-10  22:00:00     1.6      1272.25        51   6.518224         835.50   \n",
       "\n",
       "            NOx(GT)  PT08.S3(NOx)  NO2(GT)  PT08.S4(NO2)  PT08.S5(O3)      T   \n",
       "Date                                                                           \n",
       "2004-03-10    166.0       1056.25    113.0       1692.00      1267.50  13.60  \\\n",
       "2004-03-10    103.0       1173.75     92.0       1558.75       972.25  13.30   \n",
       "2004-03-10    131.0       1140.00    114.0       1554.50      1074.00  11.90   \n",
       "2004-03-10    172.0       1092.00    122.0       1583.75      1203.25  11.00   \n",
       "2004-03-10    131.0       1205.00    116.0       1490.00      1110.00  11.15   \n",
       "\n",
       "                   RH        AH  \n",
       "Date                             \n",
       "2004-03-10  48.875001  0.757754  \n",
       "2004-03-10  47.700000  0.725487  \n",
       "2004-03-10  53.975000  0.750239  \n",
       "2004-03-10  60.000000  0.786713  \n",
       "2004-03-10  59.575001  0.788794  "
      ]
     },
     "execution_count": 34,
     "metadata": {},
     "output_type": "execute_result"
    }
   ],
   "source": [
    "url = 'https://s3.us-east-1.amazonaws.com/tscookbook/AirQualityUCI.xlsx'\n",
    "\n",
    "df = pd.read_excel(url,\n",
    "                   index_col='Date',\n",
    "                   parse_dates=True)\n",
    "df.head()"
   ]
  },
  {
   "cell_type": "markdown",
   "id": "841a4a4c-1fdd-4acf-b55b-ac07c462148a",
   "metadata": {},
   "source": [
    "**Virtual-hosted–style access**"
   ]
  },
  {
   "cell_type": "code",
   "execution_count": 35,
   "id": "099d08e9-cba3-4ea9-96d2-dc26c92915b8",
   "metadata": {},
   "outputs": [
    {
     "data": {
      "text/html": [
       "<div>\n",
       "<style scoped>\n",
       "    .dataframe tbody tr th:only-of-type {\n",
       "        vertical-align: middle;\n",
       "    }\n",
       "\n",
       "    .dataframe tbody tr th {\n",
       "        vertical-align: top;\n",
       "    }\n",
       "\n",
       "    .dataframe thead th {\n",
       "        text-align: right;\n",
       "    }\n",
       "</style>\n",
       "<table border=\"1\" class=\"dataframe\">\n",
       "  <thead>\n",
       "    <tr style=\"text-align: right;\">\n",
       "      <th></th>\n",
       "      <th>Time</th>\n",
       "      <th>CO(GT)</th>\n",
       "      <th>PT08.S1(CO)</th>\n",
       "      <th>NMHC(GT)</th>\n",
       "      <th>C6H6(GT)</th>\n",
       "      <th>PT08.S2(NMHC)</th>\n",
       "      <th>NOx(GT)</th>\n",
       "      <th>PT08.S3(NOx)</th>\n",
       "      <th>NO2(GT)</th>\n",
       "      <th>PT08.S4(NO2)</th>\n",
       "      <th>PT08.S5(O3)</th>\n",
       "      <th>T</th>\n",
       "      <th>RH</th>\n",
       "      <th>AH</th>\n",
       "    </tr>\n",
       "    <tr>\n",
       "      <th>Date</th>\n",
       "      <th></th>\n",
       "      <th></th>\n",
       "      <th></th>\n",
       "      <th></th>\n",
       "      <th></th>\n",
       "      <th></th>\n",
       "      <th></th>\n",
       "      <th></th>\n",
       "      <th></th>\n",
       "      <th></th>\n",
       "      <th></th>\n",
       "      <th></th>\n",
       "      <th></th>\n",
       "      <th></th>\n",
       "    </tr>\n",
       "  </thead>\n",
       "  <tbody>\n",
       "    <tr>\n",
       "      <th>2004-03-10</th>\n",
       "      <td>18:00:00</td>\n",
       "      <td>2.6</td>\n",
       "      <td>1360.00</td>\n",
       "      <td>150</td>\n",
       "      <td>11.881723</td>\n",
       "      <td>1045.50</td>\n",
       "      <td>166.0</td>\n",
       "      <td>1056.25</td>\n",
       "      <td>113.0</td>\n",
       "      <td>1692.00</td>\n",
       "      <td>1267.50</td>\n",
       "      <td>13.60</td>\n",
       "      <td>48.875001</td>\n",
       "      <td>0.757754</td>\n",
       "    </tr>\n",
       "    <tr>\n",
       "      <th>2004-03-10</th>\n",
       "      <td>19:00:00</td>\n",
       "      <td>2.0</td>\n",
       "      <td>1292.25</td>\n",
       "      <td>112</td>\n",
       "      <td>9.397165</td>\n",
       "      <td>954.75</td>\n",
       "      <td>103.0</td>\n",
       "      <td>1173.75</td>\n",
       "      <td>92.0</td>\n",
       "      <td>1558.75</td>\n",
       "      <td>972.25</td>\n",
       "      <td>13.30</td>\n",
       "      <td>47.700000</td>\n",
       "      <td>0.725487</td>\n",
       "    </tr>\n",
       "    <tr>\n",
       "      <th>2004-03-10</th>\n",
       "      <td>20:00:00</td>\n",
       "      <td>2.2</td>\n",
       "      <td>1402.00</td>\n",
       "      <td>88</td>\n",
       "      <td>8.997817</td>\n",
       "      <td>939.25</td>\n",
       "      <td>131.0</td>\n",
       "      <td>1140.00</td>\n",
       "      <td>114.0</td>\n",
       "      <td>1554.50</td>\n",
       "      <td>1074.00</td>\n",
       "      <td>11.90</td>\n",
       "      <td>53.975000</td>\n",
       "      <td>0.750239</td>\n",
       "    </tr>\n",
       "    <tr>\n",
       "      <th>2004-03-10</th>\n",
       "      <td>21:00:00</td>\n",
       "      <td>2.2</td>\n",
       "      <td>1375.50</td>\n",
       "      <td>80</td>\n",
       "      <td>9.228796</td>\n",
       "      <td>948.25</td>\n",
       "      <td>172.0</td>\n",
       "      <td>1092.00</td>\n",
       "      <td>122.0</td>\n",
       "      <td>1583.75</td>\n",
       "      <td>1203.25</td>\n",
       "      <td>11.00</td>\n",
       "      <td>60.000000</td>\n",
       "      <td>0.786713</td>\n",
       "    </tr>\n",
       "    <tr>\n",
       "      <th>2004-03-10</th>\n",
       "      <td>22:00:00</td>\n",
       "      <td>1.6</td>\n",
       "      <td>1272.25</td>\n",
       "      <td>51</td>\n",
       "      <td>6.518224</td>\n",
       "      <td>835.50</td>\n",
       "      <td>131.0</td>\n",
       "      <td>1205.00</td>\n",
       "      <td>116.0</td>\n",
       "      <td>1490.00</td>\n",
       "      <td>1110.00</td>\n",
       "      <td>11.15</td>\n",
       "      <td>59.575001</td>\n",
       "      <td>0.788794</td>\n",
       "    </tr>\n",
       "  </tbody>\n",
       "</table>\n",
       "</div>"
      ],
      "text/plain": [
       "                Time  CO(GT)  PT08.S1(CO)  NMHC(GT)   C6H6(GT)  PT08.S2(NMHC)   \n",
       "Date                                                                            \n",
       "2004-03-10  18:00:00     2.6      1360.00       150  11.881723        1045.50  \\\n",
       "2004-03-10  19:00:00     2.0      1292.25       112   9.397165         954.75   \n",
       "2004-03-10  20:00:00     2.2      1402.00        88   8.997817         939.25   \n",
       "2004-03-10  21:00:00     2.2      1375.50        80   9.228796         948.25   \n",
       "2004-03-10  22:00:00     1.6      1272.25        51   6.518224         835.50   \n",
       "\n",
       "            NOx(GT)  PT08.S3(NOx)  NO2(GT)  PT08.S4(NO2)  PT08.S5(O3)      T   \n",
       "Date                                                                           \n",
       "2004-03-10    166.0       1056.25    113.0       1692.00      1267.50  13.60  \\\n",
       "2004-03-10    103.0       1173.75     92.0       1558.75       972.25  13.30   \n",
       "2004-03-10    131.0       1140.00    114.0       1554.50      1074.00  11.90   \n",
       "2004-03-10    172.0       1092.00    122.0       1583.75      1203.25  11.00   \n",
       "2004-03-10    131.0       1205.00    116.0       1490.00      1110.00  11.15   \n",
       "\n",
       "                   RH        AH  \n",
       "Date                             \n",
       "2004-03-10  48.875001  0.757754  \n",
       "2004-03-10  47.700000  0.725487  \n",
       "2004-03-10  53.975000  0.750239  \n",
       "2004-03-10  60.000000  0.786713  \n",
       "2004-03-10  59.575001  0.788794  "
      ]
     },
     "execution_count": 35,
     "metadata": {},
     "output_type": "execute_result"
    }
   ],
   "source": [
    "url = 'https://tscookbook.s3.amazonaws.com/AirQualityUCI.xlsx'\n",
    "df = pd.read_excel(url,\n",
    "                   index_col='Date',\n",
    "                   parse_dates=True)\n",
    "df.head()"
   ]
  },
  {
   "cell_type": "markdown",
   "id": "c8ebe816-e7f4-4adf-afbb-9c8fc465ee75",
   "metadata": {},
   "source": [
    "**Accessing a bucket using S3://**"
   ]
  },
  {
   "cell_type": "code",
   "execution_count": 36,
   "id": "7b1df5c3-713b-4b2a-9fc6-0e561e418de7",
   "metadata": {},
   "outputs": [
    {
     "data": {
      "text/html": [
       "<div>\n",
       "<style scoped>\n",
       "    .dataframe tbody tr th:only-of-type {\n",
       "        vertical-align: middle;\n",
       "    }\n",
       "\n",
       "    .dataframe tbody tr th {\n",
       "        vertical-align: top;\n",
       "    }\n",
       "\n",
       "    .dataframe thead th {\n",
       "        text-align: right;\n",
       "    }\n",
       "</style>\n",
       "<table border=\"1\" class=\"dataframe\">\n",
       "  <thead>\n",
       "    <tr style=\"text-align: right;\">\n",
       "      <th></th>\n",
       "      <th>Time</th>\n",
       "      <th>CO(GT)</th>\n",
       "      <th>PT08.S1(CO)</th>\n",
       "      <th>NMHC(GT)</th>\n",
       "      <th>C6H6(GT)</th>\n",
       "      <th>PT08.S2(NMHC)</th>\n",
       "      <th>NOx(GT)</th>\n",
       "      <th>PT08.S3(NOx)</th>\n",
       "      <th>NO2(GT)</th>\n",
       "      <th>PT08.S4(NO2)</th>\n",
       "      <th>PT08.S5(O3)</th>\n",
       "      <th>T</th>\n",
       "      <th>RH</th>\n",
       "      <th>AH</th>\n",
       "    </tr>\n",
       "    <tr>\n",
       "      <th>Date</th>\n",
       "      <th></th>\n",
       "      <th></th>\n",
       "      <th></th>\n",
       "      <th></th>\n",
       "      <th></th>\n",
       "      <th></th>\n",
       "      <th></th>\n",
       "      <th></th>\n",
       "      <th></th>\n",
       "      <th></th>\n",
       "      <th></th>\n",
       "      <th></th>\n",
       "      <th></th>\n",
       "      <th></th>\n",
       "    </tr>\n",
       "  </thead>\n",
       "  <tbody>\n",
       "    <tr>\n",
       "      <th>2004-03-10</th>\n",
       "      <td>18:00:00</td>\n",
       "      <td>2.6</td>\n",
       "      <td>1360.00</td>\n",
       "      <td>150</td>\n",
       "      <td>11.881723</td>\n",
       "      <td>1045.50</td>\n",
       "      <td>166.0</td>\n",
       "      <td>1056.25</td>\n",
       "      <td>113.0</td>\n",
       "      <td>1692.00</td>\n",
       "      <td>1267.50</td>\n",
       "      <td>13.60</td>\n",
       "      <td>48.875001</td>\n",
       "      <td>0.757754</td>\n",
       "    </tr>\n",
       "    <tr>\n",
       "      <th>2004-03-10</th>\n",
       "      <td>19:00:00</td>\n",
       "      <td>2.0</td>\n",
       "      <td>1292.25</td>\n",
       "      <td>112</td>\n",
       "      <td>9.397165</td>\n",
       "      <td>954.75</td>\n",
       "      <td>103.0</td>\n",
       "      <td>1173.75</td>\n",
       "      <td>92.0</td>\n",
       "      <td>1558.75</td>\n",
       "      <td>972.25</td>\n",
       "      <td>13.30</td>\n",
       "      <td>47.700000</td>\n",
       "      <td>0.725487</td>\n",
       "    </tr>\n",
       "    <tr>\n",
       "      <th>2004-03-10</th>\n",
       "      <td>20:00:00</td>\n",
       "      <td>2.2</td>\n",
       "      <td>1402.00</td>\n",
       "      <td>88</td>\n",
       "      <td>8.997817</td>\n",
       "      <td>939.25</td>\n",
       "      <td>131.0</td>\n",
       "      <td>1140.00</td>\n",
       "      <td>114.0</td>\n",
       "      <td>1554.50</td>\n",
       "      <td>1074.00</td>\n",
       "      <td>11.90</td>\n",
       "      <td>53.975000</td>\n",
       "      <td>0.750239</td>\n",
       "    </tr>\n",
       "    <tr>\n",
       "      <th>2004-03-10</th>\n",
       "      <td>21:00:00</td>\n",
       "      <td>2.2</td>\n",
       "      <td>1375.50</td>\n",
       "      <td>80</td>\n",
       "      <td>9.228796</td>\n",
       "      <td>948.25</td>\n",
       "      <td>172.0</td>\n",
       "      <td>1092.00</td>\n",
       "      <td>122.0</td>\n",
       "      <td>1583.75</td>\n",
       "      <td>1203.25</td>\n",
       "      <td>11.00</td>\n",
       "      <td>60.000000</td>\n",
       "      <td>0.786713</td>\n",
       "    </tr>\n",
       "    <tr>\n",
       "      <th>2004-03-10</th>\n",
       "      <td>22:00:00</td>\n",
       "      <td>1.6</td>\n",
       "      <td>1272.25</td>\n",
       "      <td>51</td>\n",
       "      <td>6.518224</td>\n",
       "      <td>835.50</td>\n",
       "      <td>131.0</td>\n",
       "      <td>1205.00</td>\n",
       "      <td>116.0</td>\n",
       "      <td>1490.00</td>\n",
       "      <td>1110.00</td>\n",
       "      <td>11.15</td>\n",
       "      <td>59.575001</td>\n",
       "      <td>0.788794</td>\n",
       "    </tr>\n",
       "  </tbody>\n",
       "</table>\n",
       "</div>"
      ],
      "text/plain": [
       "                Time  CO(GT)  PT08.S1(CO)  NMHC(GT)   C6H6(GT)  PT08.S2(NMHC)   \n",
       "Date                                                                            \n",
       "2004-03-10  18:00:00     2.6      1360.00       150  11.881723        1045.50  \\\n",
       "2004-03-10  19:00:00     2.0      1292.25       112   9.397165         954.75   \n",
       "2004-03-10  20:00:00     2.2      1402.00        88   8.997817         939.25   \n",
       "2004-03-10  21:00:00     2.2      1375.50        80   9.228796         948.25   \n",
       "2004-03-10  22:00:00     1.6      1272.25        51   6.518224         835.50   \n",
       "\n",
       "            NOx(GT)  PT08.S3(NOx)  NO2(GT)  PT08.S4(NO2)  PT08.S5(O3)      T   \n",
       "Date                                                                           \n",
       "2004-03-10    166.0       1056.25    113.0       1692.00      1267.50  13.60  \\\n",
       "2004-03-10    103.0       1173.75     92.0       1558.75       972.25  13.30   \n",
       "2004-03-10    131.0       1140.00    114.0       1554.50      1074.00  11.90   \n",
       "2004-03-10    172.0       1092.00    122.0       1583.75      1203.25  11.00   \n",
       "2004-03-10    131.0       1205.00    116.0       1490.00      1110.00  11.15   \n",
       "\n",
       "                   RH        AH  \n",
       "Date                             \n",
       "2004-03-10  48.875001  0.757754  \n",
       "2004-03-10  47.700000  0.725487  \n",
       "2004-03-10  53.975000  0.750239  \n",
       "2004-03-10  60.000000  0.786713  \n",
       "2004-03-10  59.575001  0.788794  "
      ]
     },
     "execution_count": 36,
     "metadata": {},
     "output_type": "execute_result"
    }
   ],
   "source": [
    "s3uri = 's3://tscookbook/AirQualityUCI.xlsx'\n",
    "df = pd.read_excel(s3uri,\n",
    "                   index_col='Date',\n",
    "                   parse_dates=True)\n",
    "df.head()"
   ]
  },
  {
   "cell_type": "markdown",
   "id": "d8c309b7-04e4-4927-8eab-7e4b5d418073",
   "metadata": {},
   "source": [
    "## Reading from Private S3 Bucket"
   ]
  },
  {
   "cell_type": "code",
   "execution_count": 37,
   "id": "49554931-8e56-41f9-b2b0-75b6a3525ad8",
   "metadata": {},
   "outputs": [],
   "source": [
    "import configparser\n",
    "config = configparser.ConfigParser()\n",
    "config.read('aws.cfg')\n",
    "\n",
    "AWS_ACCESS_KEY = config['AWS']['aws_access_key']\n",
    "AWS_SECRET_KEY = config['AWS']['aws_secret_key']"
   ]
  },
  {
   "cell_type": "code",
   "execution_count": 38,
   "id": "c1c7e356-0392-495f-bbd1-21a7473cc6c3",
   "metadata": {},
   "outputs": [
    {
     "ename": "PermissionError",
     "evalue": "Forbidden",
     "output_type": "error",
     "traceback": [
      "\u001b[0;31m---------------------------------------------------------------------------\u001b[0m",
      "\u001b[0;31mClientError\u001b[0m                               Traceback (most recent call last)",
      "File \u001b[0;32m/usr/local/lib/python3.11/site-packages/s3fs/core.py:529\u001b[0m, in \u001b[0;36mS3FileSystem.info\u001b[0;34m(self, path, version_id, refresh)\u001b[0m\n\u001b[1;32m    528\u001b[0m \u001b[39mtry\u001b[39;00m:\n\u001b[0;32m--> 529\u001b[0m     out \u001b[39m=\u001b[39m \u001b[39mself\u001b[39;49m\u001b[39m.\u001b[39;49m_call_s3(\u001b[39mself\u001b[39;49m\u001b[39m.\u001b[39;49ms3\u001b[39m.\u001b[39;49mhead_object, kwargs, Bucket\u001b[39m=\u001b[39;49mbucket,\n\u001b[1;32m    530\u001b[0m                         Key\u001b[39m=\u001b[39;49mkey, \u001b[39m*\u001b[39;49m\u001b[39m*\u001b[39;49mversion_id_kw(version_id), \u001b[39m*\u001b[39;49m\u001b[39m*\u001b[39;49m\u001b[39mself\u001b[39;49m\u001b[39m.\u001b[39;49mreq_kw)\n\u001b[1;32m    531\u001b[0m     \u001b[39mreturn\u001b[39;00m {\n\u001b[1;32m    532\u001b[0m         \u001b[39m'\u001b[39m\u001b[39mETag\u001b[39m\u001b[39m'\u001b[39m: out[\u001b[39m'\u001b[39m\u001b[39mETag\u001b[39m\u001b[39m'\u001b[39m],\n\u001b[1;32m    533\u001b[0m         \u001b[39m'\u001b[39m\u001b[39mKey\u001b[39m\u001b[39m'\u001b[39m: \u001b[39m'\u001b[39m\u001b[39m/\u001b[39m\u001b[39m'\u001b[39m\u001b[39m.\u001b[39mjoin([bucket, key]),\n\u001b[0;32m   (...)\u001b[0m\n\u001b[1;32m    540\u001b[0m         \u001b[39m'\u001b[39m\u001b[39mVersionId\u001b[39m\u001b[39m'\u001b[39m: out\u001b[39m.\u001b[39mget(\u001b[39m'\u001b[39m\u001b[39mVersionId\u001b[39m\u001b[39m'\u001b[39m)\n\u001b[1;32m    541\u001b[0m     }\n",
      "File \u001b[0;32m/usr/local/lib/python3.11/site-packages/s3fs/core.py:200\u001b[0m, in \u001b[0;36mS3FileSystem._call_s3\u001b[0;34m(self, method, *akwarglist, **kwargs)\u001b[0m\n\u001b[1;32m    198\u001b[0m additional_kwargs \u001b[39m=\u001b[39m \u001b[39mself\u001b[39m\u001b[39m.\u001b[39m_get_s3_method_kwargs(method, \u001b[39m*\u001b[39makwarglist,\n\u001b[1;32m    199\u001b[0m                                                \u001b[39m*\u001b[39m\u001b[39m*\u001b[39mkwargs)\n\u001b[0;32m--> 200\u001b[0m \u001b[39mreturn\u001b[39;00m method(\u001b[39m*\u001b[39;49m\u001b[39m*\u001b[39;49madditional_kwargs)\n",
      "File \u001b[0;32m/usr/local/lib/python3.11/site-packages/botocore/client.py:530\u001b[0m, in \u001b[0;36mClientCreator._create_api_method.<locals>._api_call\u001b[0;34m(self, *args, **kwargs)\u001b[0m\n\u001b[1;32m    529\u001b[0m \u001b[39m# The \"self\" in this scope is referring to the BaseClient.\u001b[39;00m\n\u001b[0;32m--> 530\u001b[0m \u001b[39mreturn\u001b[39;00m \u001b[39mself\u001b[39;49m\u001b[39m.\u001b[39;49m_make_api_call(operation_name, kwargs)\n",
      "File \u001b[0;32m/usr/local/lib/python3.11/site-packages/botocore/client.py:960\u001b[0m, in \u001b[0;36mBaseClient._make_api_call\u001b[0;34m(self, operation_name, api_params)\u001b[0m\n\u001b[1;32m    959\u001b[0m     error_class \u001b[39m=\u001b[39m \u001b[39mself\u001b[39m\u001b[39m.\u001b[39mexceptions\u001b[39m.\u001b[39mfrom_code(error_code)\n\u001b[0;32m--> 960\u001b[0m     \u001b[39mraise\u001b[39;00m error_class(parsed_response, operation_name)\n\u001b[1;32m    961\u001b[0m \u001b[39melse\u001b[39;00m:\n",
      "\u001b[0;31mClientError\u001b[0m: An error occurred (403) when calling the HeadObject operation: Forbidden",
      "\nDuring handling of the above exception, another exception occurred:\n",
      "\u001b[0;31mPermissionError\u001b[0m                           Traceback (most recent call last)",
      "File \u001b[0;32m/usr/local/lib/python3.11/site-packages/pandas/io/common.py:416\u001b[0m, in \u001b[0;36m_get_filepath_or_buffer\u001b[0;34m(filepath_or_buffer, encoding, compression, mode, storage_options)\u001b[0m\n\u001b[1;32m    413\u001b[0m \u001b[39mtry\u001b[39;00m:\n\u001b[1;32m    414\u001b[0m     file_obj \u001b[39m=\u001b[39m fsspec\u001b[39m.\u001b[39;49mopen(\n\u001b[1;32m    415\u001b[0m         filepath_or_buffer, mode\u001b[39m=\u001b[39;49mfsspec_mode, \u001b[39m*\u001b[39;49m\u001b[39m*\u001b[39;49m(storage_options \u001b[39mor\u001b[39;49;00m {})\n\u001b[0;32m--> 416\u001b[0m     )\u001b[39m.\u001b[39;49mopen()\n\u001b[1;32m    417\u001b[0m \u001b[39m# GH 34626 Reads from Public Buckets without Credentials needs anon=True\u001b[39;00m\n",
      "File \u001b[0;32m/usr/local/lib/python3.11/site-packages/fsspec/core.py:134\u001b[0m, in \u001b[0;36mOpenFile.open\u001b[0;34m(self)\u001b[0m\n\u001b[1;32m    128\u001b[0m \u001b[39m\u001b[39m\u001b[39m\"\"\"Materialise this as a real open file without context\u001b[39;00m\n\u001b[1;32m    129\u001b[0m \n\u001b[1;32m    130\u001b[0m \u001b[39mThe OpenFile object should be explicitly closed to avoid enclosed file\u001b[39;00m\n\u001b[1;32m    131\u001b[0m \u001b[39minstances persisting. You must, therefore, keep a reference to the OpenFile\u001b[39;00m\n\u001b[1;32m    132\u001b[0m \u001b[39mduring the life of the file-like it generates.\u001b[39;00m\n\u001b[1;32m    133\u001b[0m \u001b[39m\"\"\"\u001b[39;00m\n\u001b[0;32m--> 134\u001b[0m \u001b[39mreturn\u001b[39;00m \u001b[39mself\u001b[39;49m\u001b[39m.\u001b[39;49m\u001b[39m__enter__\u001b[39;49m()\n",
      "File \u001b[0;32m/usr/local/lib/python3.11/site-packages/fsspec/core.py:102\u001b[0m, in \u001b[0;36mOpenFile.__enter__\u001b[0;34m(self)\u001b[0m\n\u001b[1;32m    100\u001b[0m mode \u001b[39m=\u001b[39m \u001b[39mself\u001b[39m\u001b[39m.\u001b[39mmode\u001b[39m.\u001b[39mreplace(\u001b[39m\"\u001b[39m\u001b[39mt\u001b[39m\u001b[39m\"\u001b[39m, \u001b[39m\"\u001b[39m\u001b[39m\"\u001b[39m)\u001b[39m.\u001b[39mreplace(\u001b[39m\"\u001b[39m\u001b[39mb\u001b[39m\u001b[39m\"\u001b[39m, \u001b[39m\"\u001b[39m\u001b[39m\"\u001b[39m) \u001b[39m+\u001b[39m \u001b[39m\"\u001b[39m\u001b[39mb\u001b[39m\u001b[39m\"\u001b[39m\n\u001b[0;32m--> 102\u001b[0m f \u001b[39m=\u001b[39m \u001b[39mself\u001b[39;49m\u001b[39m.\u001b[39;49mfs\u001b[39m.\u001b[39;49mopen(\u001b[39mself\u001b[39;49m\u001b[39m.\u001b[39;49mpath, mode\u001b[39m=\u001b[39;49mmode)\n\u001b[1;32m    104\u001b[0m \u001b[39mself\u001b[39m\u001b[39m.\u001b[39mfobjects \u001b[39m=\u001b[39m [f]\n",
      "File \u001b[0;32m/usr/local/lib/python3.11/site-packages/fsspec/spec.py:1154\u001b[0m, in \u001b[0;36mAbstractFileSystem.open\u001b[0;34m(self, path, mode, block_size, cache_options, compression, **kwargs)\u001b[0m\n\u001b[1;32m   1153\u001b[0m ac \u001b[39m=\u001b[39m kwargs\u001b[39m.\u001b[39mpop(\u001b[39m\"\u001b[39m\u001b[39mautocommit\u001b[39m\u001b[39m\"\u001b[39m, \u001b[39mnot\u001b[39;00m \u001b[39mself\u001b[39m\u001b[39m.\u001b[39m_intrans)\n\u001b[0;32m-> 1154\u001b[0m f \u001b[39m=\u001b[39m \u001b[39mself\u001b[39;49m\u001b[39m.\u001b[39;49m_open(\n\u001b[1;32m   1155\u001b[0m     path,\n\u001b[1;32m   1156\u001b[0m     mode\u001b[39m=\u001b[39;49mmode,\n\u001b[1;32m   1157\u001b[0m     block_size\u001b[39m=\u001b[39;49mblock_size,\n\u001b[1;32m   1158\u001b[0m     autocommit\u001b[39m=\u001b[39;49mac,\n\u001b[1;32m   1159\u001b[0m     cache_options\u001b[39m=\u001b[39;49mcache_options,\n\u001b[1;32m   1160\u001b[0m     \u001b[39m*\u001b[39;49m\u001b[39m*\u001b[39;49mkwargs,\n\u001b[1;32m   1161\u001b[0m )\n\u001b[1;32m   1162\u001b[0m \u001b[39mif\u001b[39;00m compression \u001b[39mis\u001b[39;00m \u001b[39mnot\u001b[39;00m \u001b[39mNone\u001b[39;00m:\n",
      "File \u001b[0;32m/usr/local/lib/python3.11/site-packages/s3fs/core.py:375\u001b[0m, in \u001b[0;36mS3FileSystem._open\u001b[0;34m(self, path, mode, block_size, acl, version_id, fill_cache, cache_type, autocommit, requester_pays, **kwargs)\u001b[0m\n\u001b[1;32m    373\u001b[0m     cache_type \u001b[39m=\u001b[39m \u001b[39mself\u001b[39m\u001b[39m.\u001b[39mdefault_cache_type\n\u001b[0;32m--> 375\u001b[0m \u001b[39mreturn\u001b[39;00m S3File(\u001b[39mself\u001b[39;49m, path, mode, block_size\u001b[39m=\u001b[39;49mblock_size, acl\u001b[39m=\u001b[39;49macl,\n\u001b[1;32m    376\u001b[0m               version_id\u001b[39m=\u001b[39;49mversion_id, fill_cache\u001b[39m=\u001b[39;49mfill_cache,\n\u001b[1;32m    377\u001b[0m               s3_additional_kwargs\u001b[39m=\u001b[39;49mkw, cache_type\u001b[39m=\u001b[39;49mcache_type,\n\u001b[1;32m    378\u001b[0m               autocommit\u001b[39m=\u001b[39;49mautocommit, requester_pays\u001b[39m=\u001b[39;49mrequester_pays)\n",
      "File \u001b[0;32m/usr/local/lib/python3.11/site-packages/s3fs/core.py:1096\u001b[0m, in \u001b[0;36mS3File.__init__\u001b[0;34m(self, s3, path, mode, block_size, acl, version_id, fill_cache, s3_additional_kwargs, autocommit, cache_type, requester_pays)\u001b[0m\n\u001b[1;32m   1095\u001b[0m \u001b[39mself\u001b[39m\u001b[39m.\u001b[39mreq_kw \u001b[39m=\u001b[39m {\u001b[39m'\u001b[39m\u001b[39mRequestPayer\u001b[39m\u001b[39m'\u001b[39m: \u001b[39m'\u001b[39m\u001b[39mrequester\u001b[39m\u001b[39m'\u001b[39m} \u001b[39mif\u001b[39;00m requester_pays \u001b[39melse\u001b[39;00m {}\n\u001b[0;32m-> 1096\u001b[0m \u001b[39msuper\u001b[39;49m()\u001b[39m.\u001b[39;49m\u001b[39m__init__\u001b[39;49m(s3, path, mode, block_size, autocommit\u001b[39m=\u001b[39;49mautocommit,\n\u001b[1;32m   1097\u001b[0m                  cache_type\u001b[39m=\u001b[39;49mcache_type)\n\u001b[1;32m   1098\u001b[0m \u001b[39mself\u001b[39m\u001b[39m.\u001b[39ms3 \u001b[39m=\u001b[39m \u001b[39mself\u001b[39m\u001b[39m.\u001b[39mfs  \u001b[39m# compatibility\u001b[39;00m\n",
      "File \u001b[0;32m/usr/local/lib/python3.11/site-packages/fsspec/spec.py:1510\u001b[0m, in \u001b[0;36mAbstractBufferedFile.__init__\u001b[0;34m(self, fs, path, mode, block_size, autocommit, cache_type, cache_options, size, **kwargs)\u001b[0m\n\u001b[1;32m   1509\u001b[0m \u001b[39melse\u001b[39;00m:\n\u001b[0;32m-> 1510\u001b[0m     \u001b[39mself\u001b[39m\u001b[39m.\u001b[39msize \u001b[39m=\u001b[39m \u001b[39mself\u001b[39;49m\u001b[39m.\u001b[39;49mdetails[\u001b[39m\"\u001b[39m\u001b[39msize\u001b[39m\u001b[39m\"\u001b[39m]\n\u001b[1;32m   1511\u001b[0m \u001b[39mself\u001b[39m\u001b[39m.\u001b[39mcache \u001b[39m=\u001b[39m caches[cache_type](\n\u001b[1;32m   1512\u001b[0m     \u001b[39mself\u001b[39m\u001b[39m.\u001b[39mblocksize, \u001b[39mself\u001b[39m\u001b[39m.\u001b[39m_fetch_range, \u001b[39mself\u001b[39m\u001b[39m.\u001b[39msize, \u001b[39m*\u001b[39m\u001b[39m*\u001b[39mcache_options\n\u001b[1;32m   1513\u001b[0m )\n",
      "File \u001b[0;32m/usr/local/lib/python3.11/site-packages/fsspec/spec.py:1523\u001b[0m, in \u001b[0;36mAbstractBufferedFile.details\u001b[0;34m(self)\u001b[0m\n\u001b[1;32m   1522\u001b[0m \u001b[39mif\u001b[39;00m \u001b[39mself\u001b[39m\u001b[39m.\u001b[39m_details \u001b[39mis\u001b[39;00m \u001b[39mNone\u001b[39;00m:\n\u001b[0;32m-> 1523\u001b[0m     \u001b[39mself\u001b[39m\u001b[39m.\u001b[39m_details \u001b[39m=\u001b[39m \u001b[39mself\u001b[39;49m\u001b[39m.\u001b[39;49mfs\u001b[39m.\u001b[39;49minfo(\u001b[39mself\u001b[39;49m\u001b[39m.\u001b[39;49mpath)\n\u001b[1;32m   1524\u001b[0m \u001b[39mreturn\u001b[39;00m \u001b[39mself\u001b[39m\u001b[39m.\u001b[39m_details\n",
      "File \u001b[0;32m/usr/local/lib/python3.11/site-packages/s3fs/core.py:548\u001b[0m, in \u001b[0;36mS3FileSystem.info\u001b[0;34m(self, path, version_id, refresh)\u001b[0m\n\u001b[1;32m    547\u001b[0m     \u001b[39melse\u001b[39;00m:\n\u001b[0;32m--> 548\u001b[0m         \u001b[39mraise\u001b[39;00m ee\n\u001b[1;32m    549\u001b[0m \u001b[39mexcept\u001b[39;00m ParamValidationError \u001b[39mas\u001b[39;00m e:\n",
      "\u001b[0;31mPermissionError\u001b[0m: Forbidden",
      "\nDuring handling of the above exception, another exception occurred:\n",
      "\u001b[0;31mClientError\u001b[0m                               Traceback (most recent call last)",
      "File \u001b[0;32m/usr/local/lib/python3.11/site-packages/s3fs/core.py:529\u001b[0m, in \u001b[0;36mS3FileSystem.info\u001b[0;34m(self, path, version_id, refresh)\u001b[0m\n\u001b[1;32m    528\u001b[0m \u001b[39mtry\u001b[39;00m:\n\u001b[0;32m--> 529\u001b[0m     out \u001b[39m=\u001b[39m \u001b[39mself\u001b[39;49m\u001b[39m.\u001b[39;49m_call_s3(\u001b[39mself\u001b[39;49m\u001b[39m.\u001b[39;49ms3\u001b[39m.\u001b[39;49mhead_object, kwargs, Bucket\u001b[39m=\u001b[39;49mbucket,\n\u001b[1;32m    530\u001b[0m                         Key\u001b[39m=\u001b[39;49mkey, \u001b[39m*\u001b[39;49m\u001b[39m*\u001b[39;49mversion_id_kw(version_id), \u001b[39m*\u001b[39;49m\u001b[39m*\u001b[39;49m\u001b[39mself\u001b[39;49m\u001b[39m.\u001b[39;49mreq_kw)\n\u001b[1;32m    531\u001b[0m     \u001b[39mreturn\u001b[39;00m {\n\u001b[1;32m    532\u001b[0m         \u001b[39m'\u001b[39m\u001b[39mETag\u001b[39m\u001b[39m'\u001b[39m: out[\u001b[39m'\u001b[39m\u001b[39mETag\u001b[39m\u001b[39m'\u001b[39m],\n\u001b[1;32m    533\u001b[0m         \u001b[39m'\u001b[39m\u001b[39mKey\u001b[39m\u001b[39m'\u001b[39m: \u001b[39m'\u001b[39m\u001b[39m/\u001b[39m\u001b[39m'\u001b[39m\u001b[39m.\u001b[39mjoin([bucket, key]),\n\u001b[0;32m   (...)\u001b[0m\n\u001b[1;32m    540\u001b[0m         \u001b[39m'\u001b[39m\u001b[39mVersionId\u001b[39m\u001b[39m'\u001b[39m: out\u001b[39m.\u001b[39mget(\u001b[39m'\u001b[39m\u001b[39mVersionId\u001b[39m\u001b[39m'\u001b[39m)\n\u001b[1;32m    541\u001b[0m     }\n",
      "File \u001b[0;32m/usr/local/lib/python3.11/site-packages/s3fs/core.py:200\u001b[0m, in \u001b[0;36mS3FileSystem._call_s3\u001b[0;34m(self, method, *akwarglist, **kwargs)\u001b[0m\n\u001b[1;32m    198\u001b[0m additional_kwargs \u001b[39m=\u001b[39m \u001b[39mself\u001b[39m\u001b[39m.\u001b[39m_get_s3_method_kwargs(method, \u001b[39m*\u001b[39makwarglist,\n\u001b[1;32m    199\u001b[0m                                                \u001b[39m*\u001b[39m\u001b[39m*\u001b[39mkwargs)\n\u001b[0;32m--> 200\u001b[0m \u001b[39mreturn\u001b[39;00m method(\u001b[39m*\u001b[39;49m\u001b[39m*\u001b[39;49madditional_kwargs)\n",
      "File \u001b[0;32m/usr/local/lib/python3.11/site-packages/botocore/client.py:530\u001b[0m, in \u001b[0;36mClientCreator._create_api_method.<locals>._api_call\u001b[0;34m(self, *args, **kwargs)\u001b[0m\n\u001b[1;32m    529\u001b[0m \u001b[39m# The \"self\" in this scope is referring to the BaseClient.\u001b[39;00m\n\u001b[0;32m--> 530\u001b[0m \u001b[39mreturn\u001b[39;00m \u001b[39mself\u001b[39;49m\u001b[39m.\u001b[39;49m_make_api_call(operation_name, kwargs)\n",
      "File \u001b[0;32m/usr/local/lib/python3.11/site-packages/botocore/client.py:960\u001b[0m, in \u001b[0;36mBaseClient._make_api_call\u001b[0;34m(self, operation_name, api_params)\u001b[0m\n\u001b[1;32m    959\u001b[0m     error_class \u001b[39m=\u001b[39m \u001b[39mself\u001b[39m\u001b[39m.\u001b[39mexceptions\u001b[39m.\u001b[39mfrom_code(error_code)\n\u001b[0;32m--> 960\u001b[0m     \u001b[39mraise\u001b[39;00m error_class(parsed_response, operation_name)\n\u001b[1;32m    961\u001b[0m \u001b[39melse\u001b[39;00m:\n",
      "\u001b[0;31mClientError\u001b[0m: An error occurred (403) when calling the HeadObject operation: Forbidden",
      "\nDuring handling of the above exception, another exception occurred:\n",
      "\u001b[0;31mPermissionError\u001b[0m                           Traceback (most recent call last)",
      "Cell \u001b[0;32mIn[38], line 3\u001b[0m\n\u001b[1;32m      1\u001b[0m s3uri \u001b[39m=\u001b[39m \u001b[39m\"\u001b[39m\u001b[39ms3://tscookbook-private/AirQuality.csv\u001b[39m\u001b[39m\"\u001b[39m\n\u001b[0;32m----> 3\u001b[0m df \u001b[39m=\u001b[39m pd\u001b[39m.\u001b[39;49mread_csv(s3uri,\n\u001b[1;32m      4\u001b[0m                  index_col\u001b[39m=\u001b[39;49m\u001b[39m'\u001b[39;49m\u001b[39mDate\u001b[39;49m\u001b[39m'\u001b[39;49m,\n\u001b[1;32m      5\u001b[0m                  parse_dates\u001b[39m=\u001b[39;49m\u001b[39mTrue\u001b[39;49;00m,\n\u001b[1;32m      6\u001b[0m                  storage_options\u001b[39m=\u001b[39;49m {\n\u001b[1;32m      7\u001b[0m                     \u001b[39m'\u001b[39;49m\u001b[39mkey\u001b[39;49m\u001b[39m'\u001b[39;49m: AWS_ACCESS_KEY,\n\u001b[1;32m      8\u001b[0m                     \u001b[39m'\u001b[39;49m\u001b[39msecret\u001b[39;49m\u001b[39m'\u001b[39;49m: AWS_SECRET_KEY\n\u001b[1;32m      9\u001b[0m                 })\n",
      "File \u001b[0;32m/usr/local/lib/python3.11/site-packages/pandas/io/parsers/readers.py:912\u001b[0m, in \u001b[0;36mread_csv\u001b[0;34m(filepath_or_buffer, sep, delimiter, header, names, index_col, usecols, dtype, engine, converters, true_values, false_values, skipinitialspace, skiprows, skipfooter, nrows, na_values, keep_default_na, na_filter, verbose, skip_blank_lines, parse_dates, infer_datetime_format, keep_date_col, date_parser, date_format, dayfirst, cache_dates, iterator, chunksize, compression, thousands, decimal, lineterminator, quotechar, quoting, doublequote, escapechar, comment, encoding, encoding_errors, dialect, on_bad_lines, delim_whitespace, low_memory, memory_map, float_precision, storage_options, dtype_backend)\u001b[0m\n\u001b[1;32m    899\u001b[0m kwds_defaults \u001b[39m=\u001b[39m _refine_defaults_read(\n\u001b[1;32m    900\u001b[0m     dialect,\n\u001b[1;32m    901\u001b[0m     delimiter,\n\u001b[0;32m   (...)\u001b[0m\n\u001b[1;32m    908\u001b[0m     dtype_backend\u001b[39m=\u001b[39mdtype_backend,\n\u001b[1;32m    909\u001b[0m )\n\u001b[1;32m    910\u001b[0m kwds\u001b[39m.\u001b[39mupdate(kwds_defaults)\n\u001b[0;32m--> 912\u001b[0m \u001b[39mreturn\u001b[39;00m _read(filepath_or_buffer, kwds)\n",
      "File \u001b[0;32m/usr/local/lib/python3.11/site-packages/pandas/io/parsers/readers.py:577\u001b[0m, in \u001b[0;36m_read\u001b[0;34m(filepath_or_buffer, kwds)\u001b[0m\n\u001b[1;32m    574\u001b[0m _validate_names(kwds\u001b[39m.\u001b[39mget(\u001b[39m\"\u001b[39m\u001b[39mnames\u001b[39m\u001b[39m\"\u001b[39m, \u001b[39mNone\u001b[39;00m))\n\u001b[1;32m    576\u001b[0m \u001b[39m# Create the parser.\u001b[39;00m\n\u001b[0;32m--> 577\u001b[0m parser \u001b[39m=\u001b[39m TextFileReader(filepath_or_buffer, \u001b[39m*\u001b[39;49m\u001b[39m*\u001b[39;49mkwds)\n\u001b[1;32m    579\u001b[0m \u001b[39mif\u001b[39;00m chunksize \u001b[39mor\u001b[39;00m iterator:\n\u001b[1;32m    580\u001b[0m     \u001b[39mreturn\u001b[39;00m parser\n",
      "File \u001b[0;32m/usr/local/lib/python3.11/site-packages/pandas/io/parsers/readers.py:1407\u001b[0m, in \u001b[0;36mTextFileReader.__init__\u001b[0;34m(self, f, engine, **kwds)\u001b[0m\n\u001b[1;32m   1404\u001b[0m     \u001b[39mself\u001b[39m\u001b[39m.\u001b[39moptions[\u001b[39m\"\u001b[39m\u001b[39mhas_index_names\u001b[39m\u001b[39m\"\u001b[39m] \u001b[39m=\u001b[39m kwds[\u001b[39m\"\u001b[39m\u001b[39mhas_index_names\u001b[39m\u001b[39m\"\u001b[39m]\n\u001b[1;32m   1406\u001b[0m \u001b[39mself\u001b[39m\u001b[39m.\u001b[39mhandles: IOHandles \u001b[39m|\u001b[39m \u001b[39mNone\u001b[39;00m \u001b[39m=\u001b[39m \u001b[39mNone\u001b[39;00m\n\u001b[0;32m-> 1407\u001b[0m \u001b[39mself\u001b[39m\u001b[39m.\u001b[39m_engine \u001b[39m=\u001b[39m \u001b[39mself\u001b[39;49m\u001b[39m.\u001b[39;49m_make_engine(f, \u001b[39mself\u001b[39;49m\u001b[39m.\u001b[39;49mengine)\n",
      "File \u001b[0;32m/usr/local/lib/python3.11/site-packages/pandas/io/parsers/readers.py:1661\u001b[0m, in \u001b[0;36mTextFileReader._make_engine\u001b[0;34m(self, f, engine)\u001b[0m\n\u001b[1;32m   1659\u001b[0m     \u001b[39mif\u001b[39;00m \u001b[39m\"\u001b[39m\u001b[39mb\u001b[39m\u001b[39m\"\u001b[39m \u001b[39mnot\u001b[39;00m \u001b[39min\u001b[39;00m mode:\n\u001b[1;32m   1660\u001b[0m         mode \u001b[39m+\u001b[39m\u001b[39m=\u001b[39m \u001b[39m\"\u001b[39m\u001b[39mb\u001b[39m\u001b[39m\"\u001b[39m\n\u001b[0;32m-> 1661\u001b[0m \u001b[39mself\u001b[39m\u001b[39m.\u001b[39mhandles \u001b[39m=\u001b[39m get_handle(\n\u001b[1;32m   1662\u001b[0m     f,\n\u001b[1;32m   1663\u001b[0m     mode,\n\u001b[1;32m   1664\u001b[0m     encoding\u001b[39m=\u001b[39;49m\u001b[39mself\u001b[39;49m\u001b[39m.\u001b[39;49moptions\u001b[39m.\u001b[39;49mget(\u001b[39m\"\u001b[39;49m\u001b[39mencoding\u001b[39;49m\u001b[39m\"\u001b[39;49m, \u001b[39mNone\u001b[39;49;00m),\n\u001b[1;32m   1665\u001b[0m     compression\u001b[39m=\u001b[39;49m\u001b[39mself\u001b[39;49m\u001b[39m.\u001b[39;49moptions\u001b[39m.\u001b[39;49mget(\u001b[39m\"\u001b[39;49m\u001b[39mcompression\u001b[39;49m\u001b[39m\"\u001b[39;49m, \u001b[39mNone\u001b[39;49;00m),\n\u001b[1;32m   1666\u001b[0m     memory_map\u001b[39m=\u001b[39;49m\u001b[39mself\u001b[39;49m\u001b[39m.\u001b[39;49moptions\u001b[39m.\u001b[39;49mget(\u001b[39m\"\u001b[39;49m\u001b[39mmemory_map\u001b[39;49m\u001b[39m\"\u001b[39;49m, \u001b[39mFalse\u001b[39;49;00m),\n\u001b[1;32m   1667\u001b[0m     is_text\u001b[39m=\u001b[39;49mis_text,\n\u001b[1;32m   1668\u001b[0m     errors\u001b[39m=\u001b[39;49m\u001b[39mself\u001b[39;49m\u001b[39m.\u001b[39;49moptions\u001b[39m.\u001b[39;49mget(\u001b[39m\"\u001b[39;49m\u001b[39mencoding_errors\u001b[39;49m\u001b[39m\"\u001b[39;49m, \u001b[39m\"\u001b[39;49m\u001b[39mstrict\u001b[39;49m\u001b[39m\"\u001b[39;49m),\n\u001b[1;32m   1669\u001b[0m     storage_options\u001b[39m=\u001b[39;49m\u001b[39mself\u001b[39;49m\u001b[39m.\u001b[39;49moptions\u001b[39m.\u001b[39;49mget(\u001b[39m\"\u001b[39;49m\u001b[39mstorage_options\u001b[39;49m\u001b[39m\"\u001b[39;49m, \u001b[39mNone\u001b[39;49;00m),\n\u001b[1;32m   1670\u001b[0m )\n\u001b[1;32m   1671\u001b[0m \u001b[39massert\u001b[39;00m \u001b[39mself\u001b[39m\u001b[39m.\u001b[39mhandles \u001b[39mis\u001b[39;00m \u001b[39mnot\u001b[39;00m \u001b[39mNone\u001b[39;00m\n\u001b[1;32m   1672\u001b[0m f \u001b[39m=\u001b[39m \u001b[39mself\u001b[39m\u001b[39m.\u001b[39mhandles\u001b[39m.\u001b[39mhandle\n",
      "File \u001b[0;32m/usr/local/lib/python3.11/site-packages/pandas/io/common.py:716\u001b[0m, in \u001b[0;36mget_handle\u001b[0;34m(path_or_buf, mode, encoding, compression, memory_map, is_text, errors, storage_options)\u001b[0m\n\u001b[1;32m    713\u001b[0m     codecs\u001b[39m.\u001b[39mlookup_error(errors)\n\u001b[1;32m    715\u001b[0m \u001b[39m# open URLs\u001b[39;00m\n\u001b[0;32m--> 716\u001b[0m ioargs \u001b[39m=\u001b[39m _get_filepath_or_buffer(\n\u001b[1;32m    717\u001b[0m     path_or_buf,\n\u001b[1;32m    718\u001b[0m     encoding\u001b[39m=\u001b[39;49mencoding,\n\u001b[1;32m    719\u001b[0m     compression\u001b[39m=\u001b[39;49mcompression,\n\u001b[1;32m    720\u001b[0m     mode\u001b[39m=\u001b[39;49mmode,\n\u001b[1;32m    721\u001b[0m     storage_options\u001b[39m=\u001b[39;49mstorage_options,\n\u001b[1;32m    722\u001b[0m )\n\u001b[1;32m    724\u001b[0m handle \u001b[39m=\u001b[39m ioargs\u001b[39m.\u001b[39mfilepath_or_buffer\n\u001b[1;32m    725\u001b[0m handles: \u001b[39mlist\u001b[39m[BaseBuffer]\n",
      "File \u001b[0;32m/usr/local/lib/python3.11/site-packages/pandas/io/common.py:427\u001b[0m, in \u001b[0;36m_get_filepath_or_buffer\u001b[0;34m(filepath_or_buffer, encoding, compression, mode, storage_options)\u001b[0m\n\u001b[1;32m    423\u001b[0m             storage_options \u001b[39m=\u001b[39m \u001b[39mdict\u001b[39m(storage_options)\n\u001b[1;32m    424\u001b[0m             storage_options[\u001b[39m\"\u001b[39m\u001b[39manon\u001b[39m\u001b[39m\"\u001b[39m] \u001b[39m=\u001b[39m \u001b[39mTrue\u001b[39;00m\n\u001b[1;32m    425\u001b[0m         file_obj \u001b[39m=\u001b[39m fsspec\u001b[39m.\u001b[39;49mopen(\n\u001b[1;32m    426\u001b[0m             filepath_or_buffer, mode\u001b[39m=\u001b[39;49mfsspec_mode, \u001b[39m*\u001b[39;49m\u001b[39m*\u001b[39;49m(storage_options \u001b[39mor\u001b[39;49;00m {})\n\u001b[0;32m--> 427\u001b[0m         )\u001b[39m.\u001b[39;49mopen()\n\u001b[1;32m    429\u001b[0m     \u001b[39mreturn\u001b[39;00m IOArgs(\n\u001b[1;32m    430\u001b[0m         filepath_or_buffer\u001b[39m=\u001b[39mfile_obj,\n\u001b[1;32m    431\u001b[0m         encoding\u001b[39m=\u001b[39mencoding,\n\u001b[0;32m   (...)\u001b[0m\n\u001b[1;32m    434\u001b[0m         mode\u001b[39m=\u001b[39mfsspec_mode,\n\u001b[1;32m    435\u001b[0m     )\n\u001b[1;32m    436\u001b[0m \u001b[39melif\u001b[39;00m storage_options:\n",
      "File \u001b[0;32m/usr/local/lib/python3.11/site-packages/fsspec/core.py:134\u001b[0m, in \u001b[0;36mOpenFile.open\u001b[0;34m(self)\u001b[0m\n\u001b[1;32m    127\u001b[0m \u001b[39mdef\u001b[39;00m \u001b[39mopen\u001b[39m(\u001b[39mself\u001b[39m):\n\u001b[1;32m    128\u001b[0m \u001b[39m    \u001b[39m\u001b[39m\"\"\"Materialise this as a real open file without context\u001b[39;00m\n\u001b[1;32m    129\u001b[0m \n\u001b[1;32m    130\u001b[0m \u001b[39m    The OpenFile object should be explicitly closed to avoid enclosed file\u001b[39;00m\n\u001b[1;32m    131\u001b[0m \u001b[39m    instances persisting. You must, therefore, keep a reference to the OpenFile\u001b[39;00m\n\u001b[1;32m    132\u001b[0m \u001b[39m    during the life of the file-like it generates.\u001b[39;00m\n\u001b[1;32m    133\u001b[0m \u001b[39m    \"\"\"\u001b[39;00m\n\u001b[0;32m--> 134\u001b[0m     \u001b[39mreturn\u001b[39;00m \u001b[39mself\u001b[39;49m\u001b[39m.\u001b[39;49m\u001b[39m__enter__\u001b[39;49m()\n",
      "File \u001b[0;32m/usr/local/lib/python3.11/site-packages/fsspec/core.py:102\u001b[0m, in \u001b[0;36mOpenFile.__enter__\u001b[0;34m(self)\u001b[0m\n\u001b[1;32m     99\u001b[0m \u001b[39mdef\u001b[39;00m \u001b[39m__enter__\u001b[39m(\u001b[39mself\u001b[39m):\n\u001b[1;32m    100\u001b[0m     mode \u001b[39m=\u001b[39m \u001b[39mself\u001b[39m\u001b[39m.\u001b[39mmode\u001b[39m.\u001b[39mreplace(\u001b[39m\"\u001b[39m\u001b[39mt\u001b[39m\u001b[39m\"\u001b[39m, \u001b[39m\"\u001b[39m\u001b[39m\"\u001b[39m)\u001b[39m.\u001b[39mreplace(\u001b[39m\"\u001b[39m\u001b[39mb\u001b[39m\u001b[39m\"\u001b[39m, \u001b[39m\"\u001b[39m\u001b[39m\"\u001b[39m) \u001b[39m+\u001b[39m \u001b[39m\"\u001b[39m\u001b[39mb\u001b[39m\u001b[39m\"\u001b[39m\n\u001b[0;32m--> 102\u001b[0m     f \u001b[39m=\u001b[39m \u001b[39mself\u001b[39;49m\u001b[39m.\u001b[39;49mfs\u001b[39m.\u001b[39;49mopen(\u001b[39mself\u001b[39;49m\u001b[39m.\u001b[39;49mpath, mode\u001b[39m=\u001b[39;49mmode)\n\u001b[1;32m    104\u001b[0m     \u001b[39mself\u001b[39m\u001b[39m.\u001b[39mfobjects \u001b[39m=\u001b[39m [f]\n\u001b[1;32m    106\u001b[0m     \u001b[39mif\u001b[39;00m \u001b[39mself\u001b[39m\u001b[39m.\u001b[39mcompression \u001b[39mis\u001b[39;00m \u001b[39mnot\u001b[39;00m \u001b[39mNone\u001b[39;00m:\n",
      "File \u001b[0;32m/usr/local/lib/python3.11/site-packages/fsspec/spec.py:1154\u001b[0m, in \u001b[0;36mAbstractFileSystem.open\u001b[0;34m(self, path, mode, block_size, cache_options, compression, **kwargs)\u001b[0m\n\u001b[1;32m   1152\u001b[0m \u001b[39melse\u001b[39;00m:\n\u001b[1;32m   1153\u001b[0m     ac \u001b[39m=\u001b[39m kwargs\u001b[39m.\u001b[39mpop(\u001b[39m\"\u001b[39m\u001b[39mautocommit\u001b[39m\u001b[39m\"\u001b[39m, \u001b[39mnot\u001b[39;00m \u001b[39mself\u001b[39m\u001b[39m.\u001b[39m_intrans)\n\u001b[0;32m-> 1154\u001b[0m     f \u001b[39m=\u001b[39m \u001b[39mself\u001b[39;49m\u001b[39m.\u001b[39;49m_open(\n\u001b[1;32m   1155\u001b[0m         path,\n\u001b[1;32m   1156\u001b[0m         mode\u001b[39m=\u001b[39;49mmode,\n\u001b[1;32m   1157\u001b[0m         block_size\u001b[39m=\u001b[39;49mblock_size,\n\u001b[1;32m   1158\u001b[0m         autocommit\u001b[39m=\u001b[39;49mac,\n\u001b[1;32m   1159\u001b[0m         cache_options\u001b[39m=\u001b[39;49mcache_options,\n\u001b[1;32m   1160\u001b[0m         \u001b[39m*\u001b[39;49m\u001b[39m*\u001b[39;49mkwargs,\n\u001b[1;32m   1161\u001b[0m     )\n\u001b[1;32m   1162\u001b[0m     \u001b[39mif\u001b[39;00m compression \u001b[39mis\u001b[39;00m \u001b[39mnot\u001b[39;00m \u001b[39mNone\u001b[39;00m:\n\u001b[1;32m   1163\u001b[0m         \u001b[39mfrom\u001b[39;00m \u001b[39mfsspec\u001b[39;00m\u001b[39m.\u001b[39;00m\u001b[39mcompression\u001b[39;00m \u001b[39mimport\u001b[39;00m compr\n",
      "File \u001b[0;32m/usr/local/lib/python3.11/site-packages/s3fs/core.py:375\u001b[0m, in \u001b[0;36mS3FileSystem._open\u001b[0;34m(self, path, mode, block_size, acl, version_id, fill_cache, cache_type, autocommit, requester_pays, **kwargs)\u001b[0m\n\u001b[1;32m    372\u001b[0m \u001b[39mif\u001b[39;00m cache_type \u001b[39mis\u001b[39;00m \u001b[39mNone\u001b[39;00m:\n\u001b[1;32m    373\u001b[0m     cache_type \u001b[39m=\u001b[39m \u001b[39mself\u001b[39m\u001b[39m.\u001b[39mdefault_cache_type\n\u001b[0;32m--> 375\u001b[0m \u001b[39mreturn\u001b[39;00m S3File(\u001b[39mself\u001b[39;49m, path, mode, block_size\u001b[39m=\u001b[39;49mblock_size, acl\u001b[39m=\u001b[39;49macl,\n\u001b[1;32m    376\u001b[0m               version_id\u001b[39m=\u001b[39;49mversion_id, fill_cache\u001b[39m=\u001b[39;49mfill_cache,\n\u001b[1;32m    377\u001b[0m               s3_additional_kwargs\u001b[39m=\u001b[39;49mkw, cache_type\u001b[39m=\u001b[39;49mcache_type,\n\u001b[1;32m    378\u001b[0m               autocommit\u001b[39m=\u001b[39;49mautocommit, requester_pays\u001b[39m=\u001b[39;49mrequester_pays)\n",
      "File \u001b[0;32m/usr/local/lib/python3.11/site-packages/s3fs/core.py:1096\u001b[0m, in \u001b[0;36mS3File.__init__\u001b[0;34m(self, s3, path, mode, block_size, acl, version_id, fill_cache, s3_additional_kwargs, autocommit, cache_type, requester_pays)\u001b[0m\n\u001b[1;32m   1094\u001b[0m \u001b[39mself\u001b[39m\u001b[39m.\u001b[39ms3_additional_kwargs \u001b[39m=\u001b[39m s3_additional_kwargs \u001b[39mor\u001b[39;00m {}\n\u001b[1;32m   1095\u001b[0m \u001b[39mself\u001b[39m\u001b[39m.\u001b[39mreq_kw \u001b[39m=\u001b[39m {\u001b[39m'\u001b[39m\u001b[39mRequestPayer\u001b[39m\u001b[39m'\u001b[39m: \u001b[39m'\u001b[39m\u001b[39mrequester\u001b[39m\u001b[39m'\u001b[39m} \u001b[39mif\u001b[39;00m requester_pays \u001b[39melse\u001b[39;00m {}\n\u001b[0;32m-> 1096\u001b[0m \u001b[39msuper\u001b[39;49m()\u001b[39m.\u001b[39;49m\u001b[39m__init__\u001b[39;49m(s3, path, mode, block_size, autocommit\u001b[39m=\u001b[39;49mautocommit,\n\u001b[1;32m   1097\u001b[0m                  cache_type\u001b[39m=\u001b[39;49mcache_type)\n\u001b[1;32m   1098\u001b[0m \u001b[39mself\u001b[39m\u001b[39m.\u001b[39ms3 \u001b[39m=\u001b[39m \u001b[39mself\u001b[39m\u001b[39m.\u001b[39mfs  \u001b[39m# compatibility\u001b[39;00m\n\u001b[1;32m   1099\u001b[0m \u001b[39mif\u001b[39;00m \u001b[39mself\u001b[39m\u001b[39m.\u001b[39mwritable():\n",
      "File \u001b[0;32m/usr/local/lib/python3.11/site-packages/fsspec/spec.py:1510\u001b[0m, in \u001b[0;36mAbstractBufferedFile.__init__\u001b[0;34m(self, fs, path, mode, block_size, autocommit, cache_type, cache_options, size, **kwargs)\u001b[0m\n\u001b[1;32m   1508\u001b[0m         \u001b[39mself\u001b[39m\u001b[39m.\u001b[39msize \u001b[39m=\u001b[39m size\n\u001b[1;32m   1509\u001b[0m     \u001b[39melse\u001b[39;00m:\n\u001b[0;32m-> 1510\u001b[0m         \u001b[39mself\u001b[39m\u001b[39m.\u001b[39msize \u001b[39m=\u001b[39m \u001b[39mself\u001b[39;49m\u001b[39m.\u001b[39;49mdetails[\u001b[39m\"\u001b[39m\u001b[39msize\u001b[39m\u001b[39m\"\u001b[39m]\n\u001b[1;32m   1511\u001b[0m     \u001b[39mself\u001b[39m\u001b[39m.\u001b[39mcache \u001b[39m=\u001b[39m caches[cache_type](\n\u001b[1;32m   1512\u001b[0m         \u001b[39mself\u001b[39m\u001b[39m.\u001b[39mblocksize, \u001b[39mself\u001b[39m\u001b[39m.\u001b[39m_fetch_range, \u001b[39mself\u001b[39m\u001b[39m.\u001b[39msize, \u001b[39m*\u001b[39m\u001b[39m*\u001b[39mcache_options\n\u001b[1;32m   1513\u001b[0m     )\n\u001b[1;32m   1514\u001b[0m \u001b[39melse\u001b[39;00m:\n",
      "File \u001b[0;32m/usr/local/lib/python3.11/site-packages/fsspec/spec.py:1523\u001b[0m, in \u001b[0;36mAbstractBufferedFile.details\u001b[0;34m(self)\u001b[0m\n\u001b[1;32m   1520\u001b[0m \u001b[39m@property\u001b[39m\n\u001b[1;32m   1521\u001b[0m \u001b[39mdef\u001b[39;00m \u001b[39mdetails\u001b[39m(\u001b[39mself\u001b[39m):\n\u001b[1;32m   1522\u001b[0m     \u001b[39mif\u001b[39;00m \u001b[39mself\u001b[39m\u001b[39m.\u001b[39m_details \u001b[39mis\u001b[39;00m \u001b[39mNone\u001b[39;00m:\n\u001b[0;32m-> 1523\u001b[0m         \u001b[39mself\u001b[39m\u001b[39m.\u001b[39m_details \u001b[39m=\u001b[39m \u001b[39mself\u001b[39;49m\u001b[39m.\u001b[39;49mfs\u001b[39m.\u001b[39;49minfo(\u001b[39mself\u001b[39;49m\u001b[39m.\u001b[39;49mpath)\n\u001b[1;32m   1524\u001b[0m     \u001b[39mreturn\u001b[39;00m \u001b[39mself\u001b[39m\u001b[39m.\u001b[39m_details\n",
      "File \u001b[0;32m/usr/local/lib/python3.11/site-packages/s3fs/core.py:548\u001b[0m, in \u001b[0;36mS3FileSystem.info\u001b[0;34m(self, path, version_id, refresh)\u001b[0m\n\u001b[1;32m    546\u001b[0m         \u001b[39mreturn\u001b[39;00m \u001b[39msuper\u001b[39m(S3FileSystem, \u001b[39mself\u001b[39m)\u001b[39m.\u001b[39minfo(path)\n\u001b[1;32m    547\u001b[0m     \u001b[39melse\u001b[39;00m:\n\u001b[0;32m--> 548\u001b[0m         \u001b[39mraise\u001b[39;00m ee\n\u001b[1;32m    549\u001b[0m \u001b[39mexcept\u001b[39;00m ParamValidationError \u001b[39mas\u001b[39;00m e:\n\u001b[1;32m    550\u001b[0m     \u001b[39mraise\u001b[39;00m \u001b[39mValueError\u001b[39;00m(\u001b[39m'\u001b[39m\u001b[39mFailed to head path \u001b[39m\u001b[39m%r\u001b[39;00m\u001b[39m: \u001b[39m\u001b[39m%s\u001b[39;00m\u001b[39m'\u001b[39m \u001b[39m%\u001b[39m (path, e))\n",
      "\u001b[0;31mPermissionError\u001b[0m: Forbidden"
     ]
    }
   ],
   "source": [
    "s3uri = \"s3://tscookbook-private/AirQuality.csv\"\n",
    "\n",
    "df = pd.read_csv(s3uri,\n",
    "                 index_col='Date',\n",
    "                 parse_dates=True,\n",
    "                 storage_options= {\n",
    "                    'key': AWS_ACCESS_KEY,\n",
    "                    'secret': AWS_SECRET_KEY\n",
    "                })"
   ]
  },
  {
   "cell_type": "code",
   "execution_count": null,
   "id": "c54f4a41-0f5f-4abb-ba30-06fbe95d6dd1",
   "metadata": {},
   "outputs": [
    {
     "data": {
      "text/html": [
       "<div>\n",
       "<style scoped>\n",
       "    .dataframe tbody tr th:only-of-type {\n",
       "        vertical-align: middle;\n",
       "    }\n",
       "\n",
       "    .dataframe tbody tr th {\n",
       "        vertical-align: top;\n",
       "    }\n",
       "\n",
       "    .dataframe thead th {\n",
       "        text-align: right;\n",
       "    }\n",
       "</style>\n",
       "<table border=\"1\" class=\"dataframe\">\n",
       "  <thead>\n",
       "    <tr style=\"text-align: right;\">\n",
       "      <th></th>\n",
       "      <th>CO(GT)</th>\n",
       "      <th>PT08.S1(CO)</th>\n",
       "      <th>NMHC(GT)</th>\n",
       "    </tr>\n",
       "    <tr>\n",
       "      <th>Date</th>\n",
       "      <th></th>\n",
       "      <th></th>\n",
       "      <th></th>\n",
       "    </tr>\n",
       "  </thead>\n",
       "  <tbody>\n",
       "    <tr>\n",
       "      <th>2004-10-03</th>\n",
       "      <td>2,6</td>\n",
       "      <td>1360.0</td>\n",
       "      <td>150.0</td>\n",
       "    </tr>\n",
       "    <tr>\n",
       "      <th>2004-10-03</th>\n",
       "      <td>2</td>\n",
       "      <td>1292.0</td>\n",
       "      <td>112.0</td>\n",
       "    </tr>\n",
       "    <tr>\n",
       "      <th>2004-10-03</th>\n",
       "      <td>2,2</td>\n",
       "      <td>1402.0</td>\n",
       "      <td>88.0</td>\n",
       "    </tr>\n",
       "  </tbody>\n",
       "</table>\n",
       "</div>"
      ],
      "text/plain": [
       "           CO(GT)  PT08.S1(CO)  NMHC(GT)\n",
       "Date                                    \n",
       "2004-10-03    2,6       1360.0     150.0\n",
       "2004-10-03      2       1292.0     112.0\n",
       "2004-10-03    2,2       1402.0      88.0"
      ]
     },
     "execution_count": 36,
     "metadata": {},
     "output_type": "execute_result"
    }
   ],
   "source": [
    "df.iloc[:3, 1:4]"
   ]
  },
  {
   "cell_type": "markdown",
   "id": "e0fc2f8d-e263-4813-ac0d-3c8db9c2765b",
   "metadata": {},
   "source": [
    "**Using BOTO3**"
   ]
  },
  {
   "cell_type": "code",
   "execution_count": null,
   "id": "0c750b74-e5b2-48ce-88a4-bdbbe83d01ae",
   "metadata": {},
   "outputs": [],
   "source": [
    "import boto3\n",
    "bucket = \"tscookbook-private\"\n",
    "client = boto3.client(\"s3\",\n",
    "                  aws_access_key_id =AWS_ACCESS_KEY,\n",
    "                  aws_secret_access_key = AWS_SECRET_KEY)"
   ]
  },
  {
   "cell_type": "code",
   "execution_count": null,
   "id": "8762706c-d5d4-4041-9842-f62d383cd700",
   "metadata": {},
   "outputs": [
    {
     "ename": "ClientError",
     "evalue": "An error occurred (InvalidAccessKeyId) when calling the GetObject operation: The AWS Access Key Id you provided does not exist in our records.",
     "output_type": "error",
     "traceback": [
      "\u001b[0;31m---------------------------------------------------------------------------\u001b[0m",
      "\u001b[0;31mClientError\u001b[0m                               Traceback (most recent call last)",
      "Cell \u001b[0;32mIn[46], line 1\u001b[0m\n\u001b[0;32m----> 1\u001b[0m data \u001b[39m=\u001b[39m client\u001b[39m.\u001b[39;49mget_object(Bucket\u001b[39m=\u001b[39;49mbucket, Key\u001b[39m=\u001b[39;49m\u001b[39m'\u001b[39;49m\u001b[39mAirQuality.csv\u001b[39;49m\u001b[39m'\u001b[39;49m)\n",
      "File \u001b[0;32m/usr/lib/python3.11/site-packages/botocore/client.py:530\u001b[0m, in \u001b[0;36mClientCreator._create_api_method.<locals>._api_call\u001b[0;34m(self, *args, **kwargs)\u001b[0m\n\u001b[1;32m    526\u001b[0m     \u001b[39mraise\u001b[39;00m \u001b[39mTypeError\u001b[39;00m(\n\u001b[1;32m    527\u001b[0m         \u001b[39mf\u001b[39m\u001b[39m\"\u001b[39m\u001b[39m{\u001b[39;00mpy_operation_name\u001b[39m}\u001b[39;00m\u001b[39m() only accepts keyword arguments.\u001b[39m\u001b[39m\"\u001b[39m\n\u001b[1;32m    528\u001b[0m     )\n\u001b[1;32m    529\u001b[0m \u001b[39m# The \"self\" in this scope is referring to the BaseClient.\u001b[39;00m\n\u001b[0;32m--> 530\u001b[0m \u001b[39mreturn\u001b[39;00m \u001b[39mself\u001b[39;49m\u001b[39m.\u001b[39;49m_make_api_call(operation_name, kwargs)\n",
      "File \u001b[0;32m/usr/lib/python3.11/site-packages/botocore/client.py:960\u001b[0m, in \u001b[0;36mBaseClient._make_api_call\u001b[0;34m(self, operation_name, api_params)\u001b[0m\n\u001b[1;32m    958\u001b[0m     error_code \u001b[39m=\u001b[39m parsed_response\u001b[39m.\u001b[39mget(\u001b[39m\"\u001b[39m\u001b[39mError\u001b[39m\u001b[39m\"\u001b[39m, {})\u001b[39m.\u001b[39mget(\u001b[39m\"\u001b[39m\u001b[39mCode\u001b[39m\u001b[39m\"\u001b[39m)\n\u001b[1;32m    959\u001b[0m     error_class \u001b[39m=\u001b[39m \u001b[39mself\u001b[39m\u001b[39m.\u001b[39mexceptions\u001b[39m.\u001b[39mfrom_code(error_code)\n\u001b[0;32m--> 960\u001b[0m     \u001b[39mraise\u001b[39;00m error_class(parsed_response, operation_name)\n\u001b[1;32m    961\u001b[0m \u001b[39melse\u001b[39;00m:\n\u001b[1;32m    962\u001b[0m     \u001b[39mreturn\u001b[39;00m parsed_response\n",
      "\u001b[0;31mClientError\u001b[0m: An error occurred (InvalidAccessKeyId) when calling the GetObject operation: The AWS Access Key Id you provided does not exist in our records."
     ]
    }
   ],
   "source": [
    "data = client.get_object(Bucket=bucket, Key='AirQuality.csv')"
   ]
  },
  {
   "cell_type": "code",
   "execution_count": null,
   "id": "def4c0f7-c78f-4380-8f18-5dfcf3058759",
   "metadata": {},
   "outputs": [
    {
     "ename": "NameError",
     "evalue": "name 'data' is not defined",
     "output_type": "error",
     "traceback": [
      "\u001b[0;31m---------------------------------------------------------------------------\u001b[0m",
      "\u001b[0;31mNameError\u001b[0m                                 Traceback (most recent call last)",
      "Cell \u001b[0;32mIn[47], line 1\u001b[0m\n\u001b[0;32m----> 1\u001b[0m data\u001b[39m.\u001b[39mkeys()\n",
      "\u001b[0;31mNameError\u001b[0m: name 'data' is not defined"
     ]
    }
   ],
   "source": [
    "data.keys()"
   ]
  },
  {
   "cell_type": "code",
   "execution_count": null,
   "id": "3430d51c-07ff-46e9-9191-d3d747aa0ace",
   "metadata": {},
   "outputs": [],
   "source": [
    "df = pd.read_csv(data['Body'],\n",
    "                 index_col='Date',\n",
    "                 parse_dates=True)"
   ]
  },
  {
   "cell_type": "code",
   "execution_count": null,
   "id": "9d42daf3-c1bf-4e93-9b5c-8ef86a815502",
   "metadata": {},
   "outputs": [
    {
     "data": {
      "text/html": [
       "<div>\n",
       "<style scoped>\n",
       "    .dataframe tbody tr th:only-of-type {\n",
       "        vertical-align: middle;\n",
       "    }\n",
       "\n",
       "    .dataframe tbody tr th {\n",
       "        vertical-align: top;\n",
       "    }\n",
       "\n",
       "    .dataframe thead th {\n",
       "        text-align: right;\n",
       "    }\n",
       "</style>\n",
       "<table border=\"1\" class=\"dataframe\">\n",
       "  <thead>\n",
       "    <tr style=\"text-align: right;\">\n",
       "      <th></th>\n",
       "      <th>CO(GT)</th>\n",
       "      <th>PT08.S1(CO)</th>\n",
       "      <th>NMHC(GT)</th>\n",
       "    </tr>\n",
       "    <tr>\n",
       "      <th>Date</th>\n",
       "      <th></th>\n",
       "      <th></th>\n",
       "      <th></th>\n",
       "    </tr>\n",
       "  </thead>\n",
       "  <tbody>\n",
       "    <tr>\n",
       "      <th>2004-10-03</th>\n",
       "      <td>2,6</td>\n",
       "      <td>1360.0</td>\n",
       "      <td>150.0</td>\n",
       "    </tr>\n",
       "    <tr>\n",
       "      <th>2004-10-03</th>\n",
       "      <td>2</td>\n",
       "      <td>1292.0</td>\n",
       "      <td>112.0</td>\n",
       "    </tr>\n",
       "    <tr>\n",
       "      <th>2004-10-03</th>\n",
       "      <td>2,2</td>\n",
       "      <td>1402.0</td>\n",
       "      <td>88.0</td>\n",
       "    </tr>\n",
       "  </tbody>\n",
       "</table>\n",
       "</div>"
      ],
      "text/plain": [
       "           CO(GT)  PT08.S1(CO)  NMHC(GT)\n",
       "Date                                    \n",
       "2004-10-03    2,6       1360.0     150.0\n",
       "2004-10-03      2       1292.0     112.0\n",
       "2004-10-03    2,2       1402.0      88.0"
      ]
     },
     "execution_count": 41,
     "metadata": {},
     "output_type": "execute_result"
    }
   ],
   "source": [
    "df.iloc[:3, 1:4]"
   ]
  },
  {
   "cell_type": "markdown",
   "id": "2c968bed-9693-44e0-b537-feca8fb867bf",
   "metadata": {},
   "source": [
    "## Reading from HTML"
   ]
  },
  {
   "cell_type": "code",
   "execution_count": null,
   "id": "ae29ee75-aa23-47d6-80c4-a7cf64c1105d",
   "metadata": {},
   "outputs": [
    {
     "name": "stdout",
     "output_type": "stream",
     "text": [
      "71\n"
     ]
    }
   ],
   "source": [
    "url = \"https://en.wikipedia.org/wiki/COVID-19_pandemic_by_country_and_territory\"\n",
    "results = pd.read_html(url)\n",
    "print(len(results))"
   ]
  },
  {
   "cell_type": "code",
   "execution_count": null,
   "id": "15dc2aae-add1-49e6-9e4f-ef5d61cd70fb",
   "metadata": {},
   "outputs": [],
   "source": [
    "# for i, k in enumerate(results):\n",
    "#     print(i)\n",
    "#     display(k.head())"
   ]
  },
  {
   "cell_type": "code",
   "execution_count": null,
   "id": "f414af1b-eb6d-48c6-81ff-b565dc7c276e",
   "metadata": {},
   "outputs": [
    {
     "data": {
      "text/plain": [
       "Index(['Region[28]', 'Total cases', 'Total deaths', 'Cases per million',\n",
       "       'Deaths per million', 'Current weekly cases', 'Current weekly deaths',\n",
       "       'Population millions', 'Vaccinated %[29]'],\n",
       "      dtype='object')"
      ]
     },
     "execution_count": 44,
     "metadata": {},
     "output_type": "execute_result"
    }
   ],
   "source": [
    "df = results[15]\n",
    "df.columns"
   ]
  },
  {
   "cell_type": "code",
   "execution_count": null,
   "id": "37776cd9-8f76-4118-accb-ddec1375364b",
   "metadata": {},
   "outputs": [
    {
     "data": {
      "text/html": [
       "<div>\n",
       "<style scoped>\n",
       "    .dataframe tbody tr th:only-of-type {\n",
       "        vertical-align: middle;\n",
       "    }\n",
       "\n",
       "    .dataframe tbody tr th {\n",
       "        vertical-align: top;\n",
       "    }\n",
       "\n",
       "    .dataframe thead th {\n",
       "        text-align: right;\n",
       "    }\n",
       "</style>\n",
       "<table border=\"1\" class=\"dataframe\">\n",
       "  <thead>\n",
       "    <tr style=\"text-align: right;\">\n",
       "      <th></th>\n",
       "      <th>Total cases</th>\n",
       "      <th>Total deaths</th>\n",
       "      <th>Cases per million</th>\n",
       "    </tr>\n",
       "  </thead>\n",
       "  <tbody>\n",
       "    <tr>\n",
       "      <th>0</th>\n",
       "      <td>141222709</td>\n",
       "      <td>1090244</td>\n",
       "      <td>315709</td>\n",
       "    </tr>\n",
       "    <tr>\n",
       "      <th>1</th>\n",
       "      <td>87015319</td>\n",
       "      <td>1041592</td>\n",
       "      <td>235937</td>\n",
       "    </tr>\n",
       "    <tr>\n",
       "      <th>2</th>\n",
       "      <td>51658794</td>\n",
       "      <td>478860</td>\n",
       "      <td>221103</td>\n",
       "    </tr>\n",
       "    <tr>\n",
       "      <th>3</th>\n",
       "      <td>57294104</td>\n",
       "      <td>1272395</td>\n",
       "      <td>133281</td>\n",
       "    </tr>\n",
       "    <tr>\n",
       "      <th>4</th>\n",
       "      <td>22107880</td>\n",
       "      <td>420389</td>\n",
       "      <td>93363</td>\n",
       "    </tr>\n",
       "  </tbody>\n",
       "</table>\n",
       "</div>"
      ],
      "text/plain": [
       "   Total cases  Total deaths  Cases per million\n",
       "0    141222709       1090244             315709\n",
       "1     87015319       1041592             235937\n",
       "2     51658794        478860             221103\n",
       "3     57294104       1272395             133281\n",
       "4     22107880        420389              93363"
      ]
     },
     "execution_count": 45,
     "metadata": {},
     "output_type": "execute_result"
    }
   ],
   "source": [
    "df[['Total cases', 'Total deaths', 'Cases per million']].head()"
   ]
  },
  {
   "cell_type": "markdown",
   "id": "8e5c18bb-b7e3-4d54-9338-9631f4dc4cbc",
   "metadata": {},
   "source": [
    "## Example how `read_html()` works"
   ]
  },
  {
   "cell_type": "code",
   "execution_count": null,
   "id": "2b53a57e-8a60-4a56-bfda-45c30e565d2a",
   "metadata": {},
   "outputs": [
    {
     "data": {
      "text/html": [
       "<div>\n",
       "<style scoped>\n",
       "    .dataframe tbody tr th:only-of-type {\n",
       "        vertical-align: middle;\n",
       "    }\n",
       "\n",
       "    .dataframe tbody tr th {\n",
       "        vertical-align: top;\n",
       "    }\n",
       "\n",
       "    .dataframe thead th {\n",
       "        text-align: right;\n",
       "    }\n",
       "</style>\n",
       "<table border=\"1\" class=\"dataframe\">\n",
       "  <thead>\n",
       "    <tr style=\"text-align: right;\">\n",
       "      <th></th>\n",
       "      <th>Ticker</th>\n",
       "      <th>Price</th>\n",
       "    </tr>\n",
       "  </thead>\n",
       "  <tbody>\n",
       "    <tr>\n",
       "      <th>0</th>\n",
       "      <td>MSFT</td>\n",
       "      <td>230</td>\n",
       "    </tr>\n",
       "    <tr>\n",
       "      <th>1</th>\n",
       "      <td>APPL</td>\n",
       "      <td>300</td>\n",
       "    </tr>\n",
       "    <tr>\n",
       "      <th>2</th>\n",
       "      <td>MSTR</td>\n",
       "      <td>120</td>\n",
       "    </tr>\n",
       "  </tbody>\n",
       "</table>\n",
       "</div>"
      ],
      "text/plain": [
       "  Ticker  Price\n",
       "0   MSFT    230\n",
       "1   APPL    300\n",
       "2   MSTR    120"
      ]
     },
     "execution_count": 46,
     "metadata": {},
     "output_type": "execute_result"
    }
   ],
   "source": [
    "import pandas as pd\n",
    "html = \"\"\"\n",
    " <table>\n",
    "   <tr>\n",
    "     <th>Ticker</th>\n",
    "     <th>Price</th>\n",
    "   </tr>\n",
    "   <tr>\n",
    "     <td>MSFT</td>\n",
    "     <td>230</td>\n",
    "   </tr>\n",
    "   <tr>\n",
    "     <td>APPL</td>\n",
    "     <td>300</td>\n",
    "   </tr>\n",
    "     <tr>\n",
    "     <td>MSTR</td>\n",
    "     <td>120</td>\n",
    "   </tr>\n",
    " </table>\n",
    "\n",
    " </body>\n",
    " </html>\n",
    " \"\"\"\n",
    "\n",
    "df = pd.read_html(html)\n",
    "df[0]"
   ]
  },
  {
   "cell_type": "markdown",
   "id": "aae256fc-d806-4a18-af3d-9e61ca99060f",
   "metadata": {},
   "source": [
    "## Using `attr` option in `read.html()`"
   ]
  },
  {
   "cell_type": "code",
   "execution_count": null,
   "id": "c87c19b8-4054-487c-8eac-038a2d8337e5",
   "metadata": {},
   "outputs": [],
   "source": [
    "#!conda install html5lib beautifulSoup4"
   ]
  },
  {
   "cell_type": "code",
   "execution_count": null,
   "id": "8f591292-b34a-4186-93ff-03a9b61a497c",
   "metadata": {},
   "outputs": [
    {
     "data": {
      "text/plain": [
       "7"
      ]
     },
     "execution_count": 47,
     "metadata": {},
     "output_type": "execute_result"
    }
   ],
   "source": [
    "import pandas as pd\n",
    "url = \"https://en.wikipedia.org/wiki/COVID-19_pandemic_by_country_and_territory\"\n",
    "df = pd.read_html(url, attrs={'class': 'sortable'})\n",
    "len(df)"
   ]
  },
  {
   "cell_type": "code",
   "execution_count": null,
   "id": "60e2b0ab-30fc-47a1-9d94-650b7c5a72a9",
   "metadata": {},
   "outputs": [
    {
     "data": {
      "text/plain": [
       "Index(['Region[28]', 'Total cases', 'Total deaths', 'Cases per million',\n",
       "       'Deaths per million', 'Current weekly cases', 'Current weekly deaths',\n",
       "       'Population millions', 'Vaccinated %[29]'],\n",
       "      dtype='object')"
      ]
     },
     "execution_count": 48,
     "metadata": {},
     "output_type": "execute_result"
    }
   ],
   "source": [
    "df[3].columns"
   ]
  },
  {
   "cell_type": "markdown",
   "id": "a182e19c-db98-4496-a691-efa13c35e915",
   "metadata": {},
   "source": [
    "# Recipe 4: Reading from a SAS dataset\n",
    "* Dataset 1: http://support.sas.com/kb/61/960.html\n",
    "* Learn about chunkisize (chunking) in pandas when working when reading large data files\n",
    "* Learn about `Modin` using a separate Jupyter Notebook on how to improve performance with minimal effort \n"
   ]
  },
  {
   "cell_type": "code",
   "execution_count": null,
   "id": "f90a2f3a-512e-4f8d-bf30-1e2384433646",
   "metadata": {},
   "outputs": [],
   "source": [
    "import pandas as pd\n",
    "path = 'datasets/DCSKINPRODUCT.sas7bdat'"
   ]
  },
  {
   "cell_type": "code",
   "execution_count": null,
   "id": "0304c79d-ca45-43ed-bf78-b948d2c35571",
   "metadata": {},
   "outputs": [
    {
     "data": {
      "text/plain": [
       "pandas.io.sas.sas7bdat.SAS7BDATReader"
      ]
     },
     "execution_count": 50,
     "metadata": {},
     "output_type": "execute_result"
    }
   ],
   "source": [
    "df = pd.read_sas(path, chunksize=10000)\n",
    "type(df)"
   ]
  },
  {
   "cell_type": "code",
   "execution_count": null,
   "id": "eeb1b2d2-6f6a-414e-8c02-ca34cfda056c",
   "metadata": {},
   "outputs": [
    {
     "data": {
      "text/plain": [
       "16"
      ]
     },
     "execution_count": 51,
     "metadata": {},
     "output_type": "execute_result"
    }
   ],
   "source": [
    "results = []\n",
    "for chunk in df:\n",
    "    results.append(\n",
    "        chunk)\n",
    "len(results)"
   ]
  },
  {
   "cell_type": "code",
   "execution_count": null,
   "id": "4567dfe5-7f9c-47f1-8797-40743c35272b",
   "metadata": {},
   "outputs": [
    {
     "data": {
      "text/plain": [
       "(152130, 5)"
      ]
     },
     "execution_count": 52,
     "metadata": {},
     "output_type": "execute_result"
    }
   ],
   "source": [
    "df = pd.concat(results)\n",
    "df.shape"
   ]
  },
  {
   "cell_type": "code",
   "execution_count": null,
   "id": "d996d23d-3c54-4664-a5a5-108ff1e05b25",
   "metadata": {},
   "outputs": [
    {
     "data": {
      "text/plain": [
       "16"
      ]
     },
     "execution_count": 53,
     "metadata": {},
     "output_type": "execute_result"
    }
   ],
   "source": [
    "df = pd.read_sas(path, chunksize=10000)\n",
    "results = []\n",
    "for chunk in df:\n",
    "    results.append(\n",
    "        chunk.groupby('DATE')['Revenue']\n",
    "             .agg(['sum', 'count']))\n",
    "len(results)"
   ]
  },
  {
   "cell_type": "code",
   "execution_count": null,
   "id": "b6009318-f041-44bf-9a99-4d721b15deab",
   "metadata": {},
   "outputs": [
    {
     "data": {
      "text/plain": [
       "(1760, 2)"
      ]
     },
     "execution_count": 54,
     "metadata": {},
     "output_type": "execute_result"
    }
   ],
   "source": [
    "pd.concat(results).shape"
   ]
  },
  {
   "cell_type": "code",
   "execution_count": null,
   "id": "d4c2d3b7-095a-44da-84c1-24ee21f7ebbf",
   "metadata": {},
   "outputs": [
    {
     "data": {
      "text/plain": [
       "sum      923903.0\n",
       "count        91.0\n",
       "Name: 2013-02-10 00:00:00, dtype: float64"
      ]
     },
     "execution_count": 55,
     "metadata": {},
     "output_type": "execute_result"
    }
   ],
   "source": [
    "results[0].loc['2013-02-10']"
   ]
  },
  {
   "cell_type": "code",
   "execution_count": null,
   "id": "009e6544-e4a4-4e46-a45f-90e43cb1f68b",
   "metadata": {},
   "outputs": [
    {
     "data": {
      "text/plain": [
       "sum      8186392.0\n",
       "count         91.0\n",
       "Name: 2013-02-10 00:00:00, dtype: float64"
      ]
     },
     "execution_count": 56,
     "metadata": {},
     "output_type": "execute_result"
    }
   ],
   "source": [
    "results[1].loc['2013-02-10']"
   ]
  },
  {
   "cell_type": "code",
   "execution_count": null,
   "id": "2c0dfdbb-a14f-4593-b091-85641778d841",
   "metadata": {},
   "outputs": [
    {
     "data": {
      "text/plain": [
       "sum      5881396.0\n",
       "count         91.0\n",
       "Name: 2013-02-10 00:00:00, dtype: float64"
      ]
     },
     "execution_count": 57,
     "metadata": {},
     "output_type": "execute_result"
    }
   ],
   "source": [
    "results[2].loc['2013-02-10']"
   ]
  },
  {
   "cell_type": "code",
   "execution_count": null,
   "id": "573d1715-0bf0-49e3-bb7d-8a7e4491718d",
   "metadata": {},
   "outputs": [
    {
     "data": {
      "text/plain": [
       "pandas.core.frame.DataFrame"
      ]
     },
     "execution_count": 58,
     "metadata": {},
     "output_type": "execute_result"
    }
   ],
   "source": [
    "from functools import reduce\n",
    "final = reduce(lambda x1, x2: x1.add(x2, fill_value=0), results)\n",
    "type(final)"
   ]
  },
  {
   "cell_type": "code",
   "execution_count": null,
   "id": "fbcf52ff-6a95-4afe-9474-4a39a69e00be",
   "metadata": {},
   "outputs": [
    {
     "data": {
      "text/plain": [
       "sum      43104420.0\n",
       "count        1383.0\n",
       "Name: 2013-02-10 00:00:00, dtype: float64"
      ]
     },
     "execution_count": 59,
     "metadata": {},
     "output_type": "execute_result"
    }
   ],
   "source": [
    "final.loc['2013-02-10']"
   ]
  },
  {
   "cell_type": "code",
   "execution_count": null,
   "id": "04f5883e-e6ac-4816-b188-92d3ad9f8245",
   "metadata": {},
   "outputs": [
    {
     "data": {
      "text/plain": [
       "(110, 2)"
      ]
     },
     "execution_count": 60,
     "metadata": {},
     "output_type": "execute_result"
    }
   ],
   "source": [
    "final.shape"
   ]
  },
  {
   "cell_type": "markdown",
   "id": "23dab8d1-82fc-4c06-823e-203fcfb4290b",
   "metadata": {},
   "source": [
    "## There is more"
   ]
  },
  {
   "cell_type": "code",
   "execution_count": null,
   "id": "080d390a-9653-4324-9fbe-53fa4bba9699",
   "metadata": {},
   "outputs": [],
   "source": [
    "#!pip3 install dask[complete]    # Install everything\n",
    "#!pip3 install dask                # Install only core parts of dask"
   ]
  }
 ],
 "metadata": {
  "kernelspec": {
   "display_name": "Python 3 (ipykernel)",
   "language": "python",
   "name": "python3"
  },
  "language_info": {
   "codemirror_mode": {
    "name": "ipython",
    "version": 3
   },
   "file_extension": ".py",
   "mimetype": "text/x-python",
   "name": "python",
   "nbconvert_exporter": "python",
   "pygments_lexer": "ipython3",
   "version": "3.11.3"
  }
 },
 "nbformat": 4,
 "nbformat_minor": 5
}
