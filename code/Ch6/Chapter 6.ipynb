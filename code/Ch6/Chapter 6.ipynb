{
 "cells": [
  {
   "cell_type": "markdown",
   "id": "127780b5-79c3-43f6-91fe-7a904dc6fc6f",
   "metadata": {},
   "source": [
    "# **Chapter 6**\n",
    "## *Working with Date and Time in Python*, \n",
    "\n",
    "This chapter takes a practical and intuitive approach to an intimidating topic. You will learn how to deal with the complexity of dates and time in your time series data. The chapter illustrates practical use cases for handling time zones, custom holidays, and business days, working with Unix epoch and UTC. Typically, this intimidating topic is presented in a fun and practical way that you will find helpful to apply right away.\n",
    "\n",
    "Here is the list of the recipes that we will cover in this chapter:\n",
    "\n",
    "* Working with `DatetimeIndex`\n",
    "* Providing a format argument to DateTime\n",
    "* Working with Unix epoch timestamps\n",
    "* Working with time deltas\n",
    "* Converting DateTime with time zone information\n",
    "* Working with date offsets\n",
    "* Working with custom business days"
   ]
  },
  {
   "cell_type": "markdown",
   "id": "1f2ad9f9-23b2-41f4-8cbf-bb94f1ccbc8b",
   "metadata": {},
   "source": [
    "# Technical Requirements "
   ]
  },
  {
   "cell_type": "code",
   "execution_count": 1,
   "id": "e132e6d8-6e00-4c71-b41b-63d5ed341565",
   "metadata": {},
   "outputs": [],
   "source": [
    "import warnings\n",
    "warnings.filterwarnings('ignore')"
   ]
  },
  {
   "cell_type": "code",
   "execution_count": 2,
   "id": "5e20945e-d5c3-42d7-b6e1-cd3739a2737b",
   "metadata": {},
   "outputs": [],
   "source": [
    "import pandas as pd\n",
    "import numpy as np\n",
    "import datetime as dt"
   ]
  },
  {
   "cell_type": "code",
   "execution_count": 3,
   "id": "4c0db61d-2ed8-47e6-8804-9a55ed2ee29b",
   "metadata": {},
   "outputs": [
    {
     "data": {
      "text/plain": [
       "'1.4.2'"
      ]
     },
     "execution_count": 3,
     "metadata": {},
     "output_type": "execute_result"
    }
   ],
   "source": [
    "pd.__version__"
   ]
  },
  {
   "cell_type": "markdown",
   "id": "152c0b51-0637-4b74-b6ea-eae79e7d14f1",
   "metadata": {},
   "source": [
    "# Recipe 1: Working with `DatetimeIndex`\n",
    "* In this recipe, you will explore Python's datetime module and learn about the Timestamp and DatetimeIndex classes and the relationship between them."
   ]
  },
  {
   "cell_type": "markdown",
   "id": "6a6f85bc-9b70-4a43-b65c-5a61d161fe55",
   "metadata": {},
   "source": [
    "#### Python's `Datetime`, pandas `Timestamp`, and `panda.to_datetime()`"
   ]
  },
  {
   "cell_type": "code",
   "execution_count": 4,
   "id": "f6bb85ba-b5b0-4669-a8b7-7fb9c41938aa",
   "metadata": {},
   "outputs": [
    {
     "data": {
      "text/plain": [
       "datetime.datetime"
      ]
     },
     "execution_count": 4,
     "metadata": {},
     "output_type": "execute_result"
    }
   ],
   "source": [
    "dt.datetime"
   ]
  },
  {
   "cell_type": "code",
   "execution_count": 5,
   "id": "f6ab8d39-448a-4b24-a6b5-c6cfee53f0de",
   "metadata": {},
   "outputs": [],
   "source": [
    "dt1 = dt.datetime(2021,1,1)\n",
    "dt2 = pd.Timestamp('2021-1-1')\n",
    "dt3 = pd.to_datetime('2021-1-1')"
   ]
  },
  {
   "cell_type": "code",
   "execution_count": 6,
   "id": "4b0d4e10-d3b2-4981-8426-ec3010de6a9a",
   "metadata": {},
   "outputs": [],
   "source": [
    "dt4 = pd.DatetimeIndex(['2021-1-1'])"
   ]
  },
  {
   "cell_type": "code",
   "execution_count": 7,
   "id": "e4a5ceef-a176-4718-8cb7-948eeb1b067d",
   "metadata": {},
   "outputs": [
    {
     "name": "stdout",
     "output_type": "stream",
     "text": [
      "DatetimeIndex(['2021-01-01'], dtype='datetime64[ns]', freq=None)\n"
     ]
    }
   ],
   "source": [
    "print(dt4)"
   ]
  },
  {
   "cell_type": "code",
   "execution_count": 8,
   "id": "3c2bd61c-db6f-4f18-baaa-c2f67fce2db7",
   "metadata": {},
   "outputs": [
    {
     "name": "stdout",
     "output_type": "stream",
     "text": [
      "2021-01-01 00:00:00\n",
      "2021-01-01 00:00:00\n",
      "2021-01-01 00:00:00\n"
     ]
    }
   ],
   "source": [
    "print(dt1)\n",
    "print(dt2)\n",
    "print(dt3)"
   ]
  },
  {
   "cell_type": "code",
   "execution_count": 9,
   "id": "abc69850-e23b-49b7-b9ad-655380875a45",
   "metadata": {},
   "outputs": [
    {
     "name": "stdout",
     "output_type": "stream",
     "text": [
      "<class 'datetime.datetime'>\n",
      "<class 'pandas._libs.tslibs.timestamps.Timestamp'>\n",
      "<class 'pandas._libs.tslibs.timestamps.Timestamp'>\n",
      "<class 'pandas.core.indexes.datetimes.DatetimeIndex'>\n"
     ]
    }
   ],
   "source": [
    "print(type(dt1))\n",
    "print(type(dt2))\n",
    "print(type(dt3))\n",
    "print(type(dt4))"
   ]
  },
  {
   "cell_type": "code",
   "execution_count": 10,
   "id": "bde0ab76-6f91-4d52-8fed-1eec07d4e713",
   "metadata": {},
   "outputs": [
    {
     "data": {
      "text/plain": [
       "True"
      ]
     },
     "execution_count": 10,
     "metadata": {},
     "output_type": "execute_result"
    }
   ],
   "source": [
    "dt1 == dt2 == dt3"
   ]
  },
  {
   "cell_type": "code",
   "execution_count": 11,
   "id": "aa157e20-b473-4d56-be84-1370036301c9",
   "metadata": {},
   "outputs": [
    {
     "data": {
      "text/plain": [
       "True"
      ]
     },
     "execution_count": 11,
     "metadata": {},
     "output_type": "execute_result"
    }
   ],
   "source": [
    "dt.datetime(2021,1,1) == pd.to_datetime('2021-1-1')"
   ]
  },
  {
   "cell_type": "code",
   "execution_count": 12,
   "id": "ce57df41-9edc-4884-8fb4-72132806f7c5",
   "metadata": {},
   "outputs": [
    {
     "data": {
      "text/plain": [
       "True"
      ]
     },
     "execution_count": 12,
     "metadata": {},
     "output_type": "execute_result"
    }
   ],
   "source": [
    "isinstance(dt2, dt.datetime)"
   ]
  },
  {
   "cell_type": "code",
   "execution_count": 13,
   "id": "de823566-d349-467c-ab9f-a762cf2ae357",
   "metadata": {},
   "outputs": [
    {
     "data": {
      "text/plain": [
       "True"
      ]
     },
     "execution_count": 13,
     "metadata": {},
     "output_type": "execute_result"
    }
   ],
   "source": [
    "isinstance(dt2, pd.Timestamp)"
   ]
  },
  {
   "cell_type": "code",
   "execution_count": 14,
   "id": "17678b4c-400c-459f-8e6b-88fc2398c5b3",
   "metadata": {},
   "outputs": [
    {
     "data": {
      "text/plain": [
       "False"
      ]
     },
     "execution_count": 14,
     "metadata": {},
     "output_type": "execute_result"
    }
   ],
   "source": [
    "isinstance(dt1, pd.Timestamp)"
   ]
  },
  {
   "cell_type": "code",
   "execution_count": 15,
   "id": "5d9a04b6-908a-4163-aaec-9f1b7cc65ed5",
   "metadata": {},
   "outputs": [
    {
     "data": {
      "text/plain": [
       "True"
      ]
     },
     "execution_count": 15,
     "metadata": {},
     "output_type": "execute_result"
    }
   ],
   "source": [
    "isinstance(dt4[0], dt.datetime)"
   ]
  },
  {
   "cell_type": "code",
   "execution_count": 16,
   "id": "1a8bd157-43d7-4afa-b917-76e5627d2f16",
   "metadata": {},
   "outputs": [
    {
     "data": {
      "text/plain": [
       "True"
      ]
     },
     "execution_count": 16,
     "metadata": {},
     "output_type": "execute_result"
    }
   ],
   "source": [
    "isinstance(dt4, pd.DatetimeIndex)"
   ]
  },
  {
   "cell_type": "code",
   "execution_count": 17,
   "id": "03e3fadc-c09b-4cdc-91e1-e21588b1aeb0",
   "metadata": {},
   "outputs": [
    {
     "data": {
      "text/plain": [
       "False"
      ]
     },
     "execution_count": 17,
     "metadata": {},
     "output_type": "execute_result"
    }
   ],
   "source": [
    "isinstance(pd.DatetimeIndex, dt.datetime)"
   ]
  },
  {
   "cell_type": "code",
   "execution_count": 18,
   "id": "b79f283a-2fb5-457d-a304-a04e55fc982f",
   "metadata": {},
   "outputs": [
    {
     "data": {
      "text/plain": [
       "True"
      ]
     },
     "execution_count": 18,
     "metadata": {},
     "output_type": "execute_result"
    }
   ],
   "source": [
    "issubclass(pd.Timestamp, dt.datetime)\n",
    "# isinstance(dt1, pd.Timestamp)"
   ]
  },
  {
   "cell_type": "markdown",
   "id": "afb07209-edac-40af-a3b3-56ef48ae604c",
   "metadata": {},
   "source": [
    "####  `pandas.to_datetime()`"
   ]
  },
  {
   "cell_type": "code",
   "execution_count": 19,
   "id": "b2a7cacf-1557-4c04-a2ad-6f416e13da88",
   "metadata": {},
   "outputs": [
    {
     "name": "stdout",
     "output_type": "stream",
     "text": [
      "DatetimeIndex(['2021-01-01', '2021-01-02'], dtype='datetime64[ns]', freq=None)\n",
      "<class 'pandas.core.indexes.datetimes.DatetimeIndex'>\n"
     ]
    }
   ],
   "source": [
    "dates = ['2021-1-1', '2021-1-2']\n",
    "pd_dates = pd.to_datetime(dates)\n",
    "print(pd_dates)\n",
    "print(type(pd_dates))"
   ]
  },
  {
   "cell_type": "code",
   "execution_count": 20,
   "id": "15d5d084-3db9-4826-a541-ea600da66b5c",
   "metadata": {},
   "outputs": [
    {
     "data": {
      "text/plain": [
       "True"
      ]
     },
     "execution_count": 20,
     "metadata": {},
     "output_type": "execute_result"
    }
   ],
   "source": [
    "isinstance(pd_dates[0], pd.Timestamp)"
   ]
  },
  {
   "cell_type": "code",
   "execution_count": 21,
   "id": "bd5715cb-21c9-4e99-9679-cf34abf7e817",
   "metadata": {},
   "outputs": [
    {
     "name": "stdout",
     "output_type": "stream",
     "text": [
      "2021-01-01 00:00:00\n",
      "<class 'pandas._libs.tslibs.timestamps.Timestamp'>\n"
     ]
    }
   ],
   "source": [
    "print(pd_dates[0])\n",
    "print(type(pd_dates[0]))"
   ]
  },
  {
   "cell_type": "code",
   "execution_count": 22,
   "id": "e4f6df62-eda2-4a06-80f1-5ebcdb511875",
   "metadata": {},
   "outputs": [],
   "source": [
    "dates = [\n",
    "    '2021-01-01',  # date str format %Y-%m-%d\n",
    "    '2/1/2021',  # date str format %m/%d/%Y\n",
    "    '03-01-2021',  # date  str format %m-%d-%Y\n",
    "    'April 1, 2021',  # date  str format %B %d, %Y\n",
    "    '20210501',  # date str format %Y%m%d\n",
    "    np.datetime64('2021-07-01'),  # numpy datetime64\n",
    "    dt.datetime(2021, 8, 1),  # python datetime\n",
    "    pd.Timestamp(2021, 9, 1)  # pandas Timestamp\n",
    "]"
   ]
  },
  {
   "cell_type": "code",
   "execution_count": 23,
   "id": "274badb3-a13d-4e30-80d1-64a35f24cc44",
   "metadata": {},
   "outputs": [
    {
     "name": "stdout",
     "output_type": "stream",
     "text": [
      "DatetimeIndex(['2021-01-01', '2021-02-01', '2021-03-01', '2021-04-01',\n",
      "               '2021-05-01', '2021-07-01', '2021-08-01', '2021-09-01'],\n",
      "              dtype='datetime64[ns]', freq=None)\n"
     ]
    }
   ],
   "source": [
    "parsed_dates = pd.to_datetime(\n",
    "    dates,\n",
    "    infer_datetime_format=True,\n",
    "    errors='coerce')\n",
    "\n",
    "print(parsed_dates)"
   ]
  },
  {
   "cell_type": "code",
   "execution_count": 24,
   "id": "90e86f1a-1f49-4470-9ce3-003c2490e726",
   "metadata": {},
   "outputs": [
    {
     "data": {
      "text/plain": [
       "DatetimeIndex(['2021-01-01', '2021-02-01', '2021-03-01', '2021-04-01',\n",
       "               '2021-05-01', '2021-07-01', '2021-08-01', '2021-09-01'],\n",
       "              dtype='datetime64[ns]', freq=None)"
      ]
     },
     "execution_count": 24,
     "metadata": {},
     "output_type": "execute_result"
    }
   ],
   "source": [
    "pd.DatetimeIndex(dates)"
   ]
  },
  {
   "cell_type": "code",
   "execution_count": 25,
   "id": "243b75de-81bd-4d9b-b0db-eac531b17cc0",
   "metadata": {},
   "outputs": [
    {
     "data": {
      "text/plain": [
       "array([ True,  True,  True,  True,  True,  True,  True,  True])"
      ]
     },
     "execution_count": 25,
     "metadata": {},
     "output_type": "execute_result"
    }
   ],
   "source": [
    "pd.DatetimeIndex(dates) == parsed_dates"
   ]
  },
  {
   "cell_type": "code",
   "execution_count": 26,
   "id": "c4dce48d-d250-44a1-be33-bf73cc104034",
   "metadata": {},
   "outputs": [
    {
     "data": {
      "text/plain": [
       "DatetimeIndex(['2021-01-01', '2021-02-01', '2021-03-01', '2021-04-01',\n",
       "               '2021-05-01', '2021-07-01', '2021-08-01', '2021-09-01'],\n",
       "              dtype='datetime64[ns]', freq=None)"
      ]
     },
     "execution_count": 26,
     "metadata": {},
     "output_type": "execute_result"
    }
   ],
   "source": [
    "parsed_dates = pd.DatetimeIndex(dates)\n",
    "parsed_dates"
   ]
  },
  {
   "cell_type": "code",
   "execution_count": 27,
   "id": "3d81ce84-4df0-4726-b2bd-08629b84d6ef",
   "metadata": {},
   "outputs": [
    {
     "name": "stdout",
     "output_type": "stream",
     "text": [
      "Name of Day : Index(['Friday', 'Monday', 'Monday', 'Thursday', 'Saturday', 'Thursday',\n",
      "       'Sunday', 'Wednesday'],\n",
      "      dtype='object')\n",
      "Month : Int64Index([1, 2, 3, 4, 5, 7, 8, 9], dtype='int64')\n",
      "Year : Int64Index([2021, 2021, 2021, 2021, 2021, 2021, 2021, 2021], dtype='int64')\n",
      "Days in Month : Int64Index([31, 28, 31, 30, 31, 31, 31, 30], dtype='int64')\n",
      "Quarter Int64Index([1, 1, 1, 2, 2, 3, 3, 3], dtype='int64')\n",
      "Quarter Start : [ True False False  True False  True False False]\n",
      "Leap Year : [False False False False False False False False]\n",
      "Month Start : [ True  True  True  True  True  True  True  True]\n",
      "Month End : [False False False False False False False False]\n",
      "Year Start : [ True False False False False False False False]\n"
     ]
    }
   ],
   "source": [
    "print(f'Name of Day : {parsed_dates.day_name()}')\n",
    "print(f'Month : {parsed_dates.month}')\n",
    "print(f'Year : {parsed_dates.year}')\n",
    "print(f'Days in Month : {parsed_dates.days_in_month}')\n",
    "print(f'Quarter {parsed_dates.quarter}')\n",
    "print(f'Quarter Start : {parsed_dates.is_quarter_start}')\n",
    "print(f'Leap Year : {parsed_dates.is_leap_year}')\n",
    "print(f'Month Start : {parsed_dates.is_month_start}')\n",
    "print(f'Month End : {parsed_dates.is_month_end}')\n",
    "print(f'Year Start : {parsed_dates.is_year_start}')"
   ]
  },
  {
   "cell_type": "markdown",
   "id": "417f7e18-073d-4af2-9a24-1425ca9fd5df",
   "metadata": {},
   "source": [
    "## How it works"
   ]
  },
  {
   "cell_type": "code",
   "execution_count": 28,
   "id": "7790859a-6789-4995-b2e5-51997157dfdb",
   "metadata": {},
   "outputs": [
    {
     "data": {
      "text/plain": [
       "Index(['something 2021', 'Jan 1, 2021'], dtype='object')"
      ]
     },
     "execution_count": 28,
     "metadata": {},
     "output_type": "execute_result"
    }
   ],
   "source": [
    "example = pd.to_datetime(['something 2021', 'Jan 1, 2021'], errors='ignore')\n",
    "example"
   ]
  },
  {
   "cell_type": "code",
   "execution_count": 29,
   "id": "8d238ee7-f587-4076-b147-3f9d671dcf80",
   "metadata": {},
   "outputs": [
    {
     "data": {
      "text/plain": [
       "2"
      ]
     },
     "execution_count": 29,
     "metadata": {},
     "output_type": "execute_result"
    }
   ],
   "source": [
    "len(example)"
   ]
  },
  {
   "cell_type": "code",
   "execution_count": 30,
   "id": "e634b449-0d08-4142-95dd-ee98a62a7848",
   "metadata": {},
   "outputs": [
    {
     "data": {
      "text/plain": [
       "pandas.core.indexes.base.Index"
      ]
     },
     "execution_count": 30,
     "metadata": {},
     "output_type": "execute_result"
    }
   ],
   "source": [
    "type(example)"
   ]
  },
  {
   "cell_type": "markdown",
   "id": "e11ed59c-a0ed-495c-a8e1-1e63f7759a85",
   "metadata": {
    "tags": []
   },
   "source": [
    "## There is more"
   ]
  },
  {
   "cell_type": "code",
   "execution_count": 31,
   "id": "b40524ad-791e-4606-b2c2-95be70c1ade9",
   "metadata": {},
   "outputs": [
    {
     "data": {
      "text/plain": [
       "DatetimeIndex(['2021-01-01', '2021-01-02', '2021-01-03'], dtype='datetime64[ns]', freq='D')"
      ]
     },
     "execution_count": 31,
     "metadata": {},
     "output_type": "execute_result"
    }
   ],
   "source": [
    "pd.date_range(start='2021-01-01', periods=3, freq='D')"
   ]
  },
  {
   "cell_type": "code",
   "execution_count": 32,
   "id": "a4f57faf-a199-40f9-9efb-379cc54424e8",
   "metadata": {},
   "outputs": [
    {
     "data": {
      "text/plain": [
       "DatetimeIndex(['2021-01-01', '2021-01-02', '2021-01-03'], dtype='datetime64[ns]', freq='D')"
      ]
     },
     "execution_count": 32,
     "metadata": {},
     "output_type": "execute_result"
    }
   ],
   "source": [
    "pd.date_range(start='2021-01-01',\n",
    "              end='2021-01-03',\n",
    "              freq='D')"
   ]
  },
  {
   "cell_type": "code",
   "execution_count": 33,
   "id": "577e3b7d-4eb8-42ba-b245-ab293ec614b1",
   "metadata": {},
   "outputs": [
    {
     "data": {
      "text/plain": [
       "DatetimeIndex(['2021-01-01', '2021-01-02', '2021-01-03'], dtype='datetime64[ns]', freq='D')"
      ]
     },
     "execution_count": 33,
     "metadata": {},
     "output_type": "execute_result"
    }
   ],
   "source": [
    "pd.date_range(start='2021-01-01', periods=3)"
   ]
  },
  {
   "cell_type": "code",
   "execution_count": null,
   "id": "1cb3fa81-f03f-4b5d-be75-d039143d85b3",
   "metadata": {},
   "outputs": [],
   "source": [
    "# Example of error\n",
    "\n",
    "# pd.date_range(start='2021-01-01',\n",
    "#                freq='D')"
   ]
  },
  {
   "cell_type": "markdown",
   "id": "b9d83d91-ea21-4ef3-a805-ef683a37fbe3",
   "metadata": {
    "tags": []
   },
   "source": [
    "# Recipe 2: Providing a format argument to DateTime"
   ]
  },
  {
   "cell_type": "code",
   "execution_count": 34,
   "id": "4c6903bb-5eb0-4d4b-88b9-4b5b99c5bdd5",
   "metadata": {},
   "outputs": [],
   "source": [
    "import pandas as pd\n",
    "import datetime as dt"
   ]
  },
  {
   "cell_type": "code",
   "execution_count": 35,
   "id": "f03207bb-6511-42a0-8efd-f1a813cbe9a8",
   "metadata": {},
   "outputs": [
    {
     "data": {
      "text/plain": [
       "datetime.datetime(2022, 1, 1, 0, 0)"
      ]
     },
     "execution_count": 35,
     "metadata": {},
     "output_type": "execute_result"
    }
   ],
   "source": [
    "dt.datetime.strptime('1/1/2022', '%m/%d/%Y')"
   ]
  },
  {
   "cell_type": "markdown",
   "id": "46018d67-2133-478f-9647-3fb11a9383d8",
   "metadata": {},
   "source": [
    "Using Python `datetime.strptime()`"
   ]
  },
  {
   "cell_type": "code",
   "execution_count": 36,
   "id": "1b1458ca-ed04-4217-a8d5-f1a9f963d8ec",
   "metadata": {},
   "outputs": [
    {
     "data": {
      "text/plain": [
       "datetime.date(2022, 1, 1)"
      ]
     },
     "execution_count": 36,
     "metadata": {},
     "output_type": "execute_result"
    }
   ],
   "source": [
    "dt.datetime.strptime('1/1/2022', '%m/%d/%Y').date()"
   ]
  },
  {
   "cell_type": "code",
   "execution_count": 37,
   "id": "3584bd95-6431-485f-8664-042844761f6c",
   "metadata": {},
   "outputs": [
    {
     "data": {
      "text/plain": [
       "datetime.date(2022, 1, 1)"
      ]
     },
     "execution_count": 37,
     "metadata": {},
     "output_type": "execute_result"
    }
   ],
   "source": [
    "dt.datetime.strptime('1 January, 2022', '%d %B, %Y').date()"
   ]
  },
  {
   "cell_type": "code",
   "execution_count": 38,
   "id": "d3bd17d0-9d7d-4652-b525-805e83a338f1",
   "metadata": {},
   "outputs": [
    {
     "data": {
      "text/plain": [
       "datetime.date(2022, 1, 1)"
      ]
     },
     "execution_count": 38,
     "metadata": {},
     "output_type": "execute_result"
    }
   ],
   "source": [
    "dt.datetime.strptime('1-Jan-2022', '%d-%b-%Y').date()"
   ]
  },
  {
   "cell_type": "code",
   "execution_count": 39,
   "id": "e50a9afb-f380-4ef0-b196-a0034d079785",
   "metadata": {},
   "outputs": [
    {
     "data": {
      "text/plain": [
       "datetime.date(2022, 1, 1)"
      ]
     },
     "execution_count": 39,
     "metadata": {},
     "output_type": "execute_result"
    }
   ],
   "source": [
    "dt.datetime.strptime('Saturday, January 1, 2022', '%A, %B %d, %Y').date()"
   ]
  },
  {
   "cell_type": "code",
   "execution_count": 40,
   "id": "bc10f29e-03e8-4b8d-b8b0-d6df1bf1ccec",
   "metadata": {},
   "outputs": [
    {
     "data": {
      "text/plain": [
       "'2022-01-01 00:00:00'"
      ]
     },
     "execution_count": 40,
     "metadata": {},
     "output_type": "execute_result"
    }
   ],
   "source": [
    "dt_1 = dt.datetime.strptime('1/1/2022', '%m/%d/%Y')\n",
    "dt_1.__str__()\n",
    "str(dt_1)"
   ]
  },
  {
   "cell_type": "code",
   "execution_count": 41,
   "id": "6f323c18-f5a0-47b1-a418-029d936c333c",
   "metadata": {},
   "outputs": [
    {
     "name": "stdout",
     "output_type": "stream",
     "text": [
      "2022-01-01 00:00:00\n"
     ]
    }
   ],
   "source": [
    "print(dt_1)"
   ]
  },
  {
   "cell_type": "markdown",
   "id": "c39ec26b-5785-4f4f-bbae-6bfd18b58dea",
   "metadata": {},
   "source": [
    "Using `pandas.to_datetime()`"
   ]
  },
  {
   "cell_type": "code",
   "execution_count": 42,
   "id": "3e15b333-9a95-4f8c-8221-f975bbae4ebf",
   "metadata": {},
   "outputs": [
    {
     "data": {
      "text/plain": [
       "Timestamp('2022-01-01 00:00:00')"
      ]
     },
     "execution_count": 42,
     "metadata": {},
     "output_type": "execute_result"
    }
   ],
   "source": [
    "pd.to_datetime('1/1/2022', format='%m/%d/%Y')"
   ]
  },
  {
   "cell_type": "code",
   "execution_count": 43,
   "id": "f19e061d-a8af-4677-9425-e39737579e00",
   "metadata": {},
   "outputs": [
    {
     "data": {
      "text/plain": [
       "Timestamp('2022-01-01 00:00:00')"
      ]
     },
     "execution_count": 43,
     "metadata": {},
     "output_type": "execute_result"
    }
   ],
   "source": [
    "pd.to_datetime('1 January, 2022', format='%d %B, %Y')"
   ]
  },
  {
   "cell_type": "code",
   "execution_count": 44,
   "id": "2077f6fe-a4b2-4c7d-af7c-d1f9da34793c",
   "metadata": {},
   "outputs": [
    {
     "data": {
      "text/plain": [
       "Timestamp('2022-01-01 00:00:00')"
      ]
     },
     "execution_count": 44,
     "metadata": {},
     "output_type": "execute_result"
    }
   ],
   "source": [
    "pd.to_datetime('1-Jan-2022', format='%d-%b-%Y')"
   ]
  },
  {
   "cell_type": "code",
   "execution_count": 45,
   "id": "ad7d87a1-85d1-43bf-acad-e578b4303040",
   "metadata": {},
   "outputs": [
    {
     "data": {
      "text/plain": [
       "Timestamp('2022-01-01 00:00:00')"
      ]
     },
     "execution_count": 45,
     "metadata": {},
     "output_type": "execute_result"
    }
   ],
   "source": [
    "pd.to_datetime('Saturday, January 1, 2022', format='%A, %B %d, %Y')"
   ]
  },
  {
   "cell_type": "code",
   "execution_count": 46,
   "id": "fb910785-30f6-4b6d-8ed3-528aceb51a81",
   "metadata": {},
   "outputs": [
    {
     "name": "stdout",
     "output_type": "stream",
     "text": [
      "2022-01-01 00:00:00\n"
     ]
    }
   ],
   "source": [
    "dt_2 = pd.to_datetime('1/1/2022', format='%m/%d/%Y')\n",
    "print(dt_2)"
   ]
  },
  {
   "cell_type": "code",
   "execution_count": 47,
   "id": "1eb88a87-aa5b-424b-8a55-2cdc382ff29e",
   "metadata": {},
   "outputs": [
    {
     "data": {
      "text/plain": [
       "Timestamp('2022-01-01 00:00:00')"
      ]
     },
     "execution_count": 47,
     "metadata": {},
     "output_type": "execute_result"
    }
   ],
   "source": [
    "pd.to_datetime('1-Jan-2022')"
   ]
  },
  {
   "cell_type": "code",
   "execution_count": 48,
   "id": "01146cf7-66db-4ac6-b235-4058b00eca11",
   "metadata": {},
   "outputs": [
    {
     "data": {
      "text/plain": [
       "Timestamp('2022-01-01 00:00:00')"
      ]
     },
     "execution_count": 48,
     "metadata": {},
     "output_type": "execute_result"
    }
   ],
   "source": [
    "pd.to_datetime('Saturday, January 1, 2022')"
   ]
  },
  {
   "cell_type": "code",
   "execution_count": 49,
   "id": "ae408149-859b-46bf-bb3c-2b80bc83980b",
   "metadata": {},
   "outputs": [
    {
     "data": {
      "text/plain": [
       "'2022-01-01 00:00:00'"
      ]
     },
     "execution_count": 49,
     "metadata": {},
     "output_type": "execute_result"
    }
   ],
   "source": [
    "str(dt_2)\n",
    "dt_2.__str__()"
   ]
  },
  {
   "cell_type": "code",
   "execution_count": 50,
   "id": "9e6906d5-996d-46ab-96e7-4a2c5f0304bb",
   "metadata": {},
   "outputs": [
    {
     "data": {
      "text/plain": [
       "True"
      ]
     },
     "execution_count": 50,
     "metadata": {},
     "output_type": "execute_result"
    }
   ],
   "source": [
    "dt_1 == dt_2"
   ]
  },
  {
   "cell_type": "code",
   "execution_count": 51,
   "id": "c87db5fe-37db-478b-b5d9-15d4f2d23fa5",
   "metadata": {},
   "outputs": [
    {
     "data": {
      "text/plain": [
       "datetime.date(2022, 1, 1)"
      ]
     },
     "execution_count": 51,
     "metadata": {},
     "output_type": "execute_result"
    }
   ],
   "source": [
    "dt_1.date()"
   ]
  },
  {
   "cell_type": "code",
   "execution_count": 52,
   "id": "e4ffc880-a830-4000-b062-3820d6ab4164",
   "metadata": {},
   "outputs": [
    {
     "data": {
      "text/plain": [
       "datetime.date(2022, 1, 1)"
      ]
     },
     "execution_count": 52,
     "metadata": {},
     "output_type": "execute_result"
    }
   ],
   "source": [
    "dt_2.date()"
   ]
  },
  {
   "cell_type": "code",
   "execution_count": 53,
   "id": "7ea8de4e-dc18-461c-8a21-406e38fd86b8",
   "metadata": {},
   "outputs": [
    {
     "data": {
      "text/plain": [
       "pandas._libs.tslibs.timestamps.Timestamp"
      ]
     },
     "execution_count": 53,
     "metadata": {},
     "output_type": "execute_result"
    }
   ],
   "source": [
    "type(dt_1)\n",
    "type(dt_2)"
   ]
  },
  {
   "cell_type": "code",
   "execution_count": 54,
   "id": "b4c617c0-479b-4899-a9eb-aa1ecac28b76",
   "metadata": {},
   "outputs": [
    {
     "data": {
      "text/plain": [
       "False"
      ]
     },
     "execution_count": 54,
     "metadata": {},
     "output_type": "execute_result"
    }
   ],
   "source": [
    "isinstance(pd.DatetimeIndex, pd.Timestamp)"
   ]
  },
  {
   "cell_type": "code",
   "execution_count": 55,
   "id": "9cc15ceb-0df8-43b5-86be-1cb9a917adef",
   "metadata": {},
   "outputs": [
    {
     "data": {
      "text/plain": [
       "True"
      ]
     },
     "execution_count": 55,
     "metadata": {},
     "output_type": "execute_result"
    }
   ],
   "source": [
    "isinstance(dt_1, dt.datetime)"
   ]
  },
  {
   "cell_type": "code",
   "execution_count": 56,
   "id": "91e8d0f7-7c6c-423a-8251-b2438ab64609",
   "metadata": {},
   "outputs": [
    {
     "data": {
      "text/plain": [
       "True"
      ]
     },
     "execution_count": 56,
     "metadata": {},
     "output_type": "execute_result"
    }
   ],
   "source": [
    "isinstance(dt_2, dt.datetime)"
   ]
  },
  {
   "cell_type": "code",
   "execution_count": 57,
   "id": "c935295c-dbad-4db3-aad5-a19c4cefe530",
   "metadata": {
    "tags": []
   },
   "outputs": [
    {
     "data": {
      "text/plain": [
       "False"
      ]
     },
     "execution_count": 57,
     "metadata": {},
     "output_type": "execute_result"
    }
   ],
   "source": [
    "isinstance(dt_1, pd.Timestamp)"
   ]
  },
  {
   "cell_type": "code",
   "execution_count": 58,
   "id": "aac2f890-a6b3-471d-bd65-70a6f17e5648",
   "metadata": {},
   "outputs": [
    {
     "data": {
      "text/plain": [
       "True"
      ]
     },
     "execution_count": 58,
     "metadata": {},
     "output_type": "execute_result"
    }
   ],
   "source": [
    "isinstance(dt_2, pd.Timestamp)"
   ]
  },
  {
   "cell_type": "code",
   "execution_count": 59,
   "id": "fb213c4f-7f68-4210-af97-e8f918b791a4",
   "metadata": {},
   "outputs": [
    {
     "data": {
      "text/plain": [
       "True"
      ]
     },
     "execution_count": 59,
     "metadata": {},
     "output_type": "execute_result"
    }
   ],
   "source": [
    "issubclass(pd.Timestamp, dt.datetime)"
   ]
  },
  {
   "cell_type": "markdown",
   "id": "420de36c-d083-4de2-9f1e-b97b0b57114c",
   "metadata": {},
   "source": [
    "### Using Ignore example"
   ]
  },
  {
   "cell_type": "code",
   "execution_count": 60,
   "id": "49b96b9f-14ea-46bd-b7b5-db845b8f2db5",
   "metadata": {},
   "outputs": [
    {
     "data": {
      "text/plain": [
       "Index(['something 2021', 'Jan 1, 2021'], dtype='object')"
      ]
     },
     "execution_count": 60,
     "metadata": {},
     "output_type": "execute_result"
    }
   ],
   "source": [
    "pd.to_datetime(['something 2021', 'Jan 1, 2021'], \n",
    "               errors='ignore')"
   ]
  },
  {
   "cell_type": "markdown",
   "id": "2365f251-d53f-459c-8512-c9b6f71ffcc4",
   "metadata": {
    "tags": []
   },
   "source": [
    "### Tranforming a pandas DataFrame to a time series DataFrame"
   ]
  },
  {
   "cell_type": "code",
   "execution_count": 61,
   "id": "09af9827-fd67-4562-b1bb-2d0bc78ed9a5",
   "metadata": {},
   "outputs": [
    {
     "data": {
      "text/html": [
       "<div>\n",
       "<style scoped>\n",
       "    .dataframe tbody tr th:only-of-type {\n",
       "        vertical-align: middle;\n",
       "    }\n",
       "\n",
       "    .dataframe tbody tr th {\n",
       "        vertical-align: top;\n",
       "    }\n",
       "\n",
       "    .dataframe thead th {\n",
       "        text-align: right;\n",
       "    }\n",
       "</style>\n",
       "<table border=\"1\" class=\"dataframe\">\n",
       "  <thead>\n",
       "    <tr style=\"text-align: right;\">\n",
       "      <th></th>\n",
       "      <th>missing types</th>\n",
       "    </tr>\n",
       "  </thead>\n",
       "  <tbody>\n",
       "    <tr>\n",
       "      <th>0</th>\n",
       "      <td>NaT</td>\n",
       "    </tr>\n",
       "    <tr>\n",
       "      <th>1</th>\n",
       "      <td>&lt;NA&gt;</td>\n",
       "    </tr>\n",
       "    <tr>\n",
       "      <th>2</th>\n",
       "      <td>NaN</td>\n",
       "    </tr>\n",
       "    <tr>\n",
       "      <th>3</th>\n",
       "      <td>None</td>\n",
       "    </tr>\n",
       "  </tbody>\n",
       "</table>\n",
       "</div>"
      ],
      "text/plain": [
       "  missing types\n",
       "0           NaT\n",
       "1          <NA>\n",
       "2           NaN\n",
       "3          None"
      ]
     },
     "execution_count": 61,
     "metadata": {},
     "output_type": "execute_result"
    }
   ],
   "source": [
    "pd.DataFrame({'missing types' : [pd.NaT, pd.NA, np.NaN, None]})"
   ]
  },
  {
   "cell_type": "markdown",
   "id": "f65aa6a3-d65b-4760-b20f-3d29ea406c6d",
   "metadata": {},
   "source": [
    "## There is more"
   ]
  },
  {
   "cell_type": "code",
   "execution_count": 62,
   "id": "a4f00a6d-fcab-4de0-9148-43b32b66fa59",
   "metadata": {},
   "outputs": [
    {
     "data": {
      "text/html": [
       "<div>\n",
       "<style scoped>\n",
       "    .dataframe tbody tr th:only-of-type {\n",
       "        vertical-align: middle;\n",
       "    }\n",
       "\n",
       "    .dataframe tbody tr th {\n",
       "        vertical-align: top;\n",
       "    }\n",
       "\n",
       "    .dataframe thead th {\n",
       "        text-align: right;\n",
       "    }\n",
       "</style>\n",
       "<table border=\"1\" class=\"dataframe\">\n",
       "  <thead>\n",
       "    <tr style=\"text-align: right;\">\n",
       "      <th></th>\n",
       "      <th>Date</th>\n",
       "      <th>Sales</th>\n",
       "    </tr>\n",
       "  </thead>\n",
       "  <tbody>\n",
       "    <tr>\n",
       "      <th>0</th>\n",
       "      <td>January 1, 2022</td>\n",
       "      <td>23000</td>\n",
       "    </tr>\n",
       "    <tr>\n",
       "      <th>1</th>\n",
       "      <td>January 2, 2022</td>\n",
       "      <td>19020</td>\n",
       "    </tr>\n",
       "    <tr>\n",
       "      <th>2</th>\n",
       "      <td>January 3, 2022</td>\n",
       "      <td>21000</td>\n",
       "    </tr>\n",
       "  </tbody>\n",
       "</table>\n",
       "</div>"
      ],
      "text/plain": [
       "              Date  Sales\n",
       "0  January 1, 2022  23000\n",
       "1  January 2, 2022  19020\n",
       "2  January 3, 2022  21000"
      ]
     },
     "execution_count": 62,
     "metadata": {},
     "output_type": "execute_result"
    }
   ],
   "source": [
    "df = pd.DataFrame(\n",
    "    {'Date': ['January 1, 2022', 'January 2, 2022', 'January 3, 2022'],\n",
    "     'Sales': [23000, 19020, 21000]})\n",
    "df"
   ]
  },
  {
   "cell_type": "code",
   "execution_count": 63,
   "id": "3e8303f4-fc73-477a-a13b-8ebb2f95ca68",
   "metadata": {},
   "outputs": [
    {
     "name": "stdout",
     "output_type": "stream",
     "text": [
      "<class 'pandas.core.frame.DataFrame'>\n",
      "RangeIndex: 3 entries, 0 to 2\n",
      "Data columns (total 2 columns):\n",
      " #   Column  Non-Null Count  Dtype \n",
      "---  ------  --------------  ----- \n",
      " 0   Date    3 non-null      object\n",
      " 1   Sales   3 non-null      int64 \n",
      "dtypes: int64(1), object(1)\n",
      "memory usage: 176.0+ bytes\n"
     ]
    }
   ],
   "source": [
    "df.info()"
   ]
  },
  {
   "cell_type": "code",
   "execution_count": 64,
   "id": "809c9746-e98f-4aaf-b0de-949aaffbe039",
   "metadata": {},
   "outputs": [
    {
     "name": "stdout",
     "output_type": "stream",
     "text": [
      "<class 'pandas.core.frame.DataFrame'>\n",
      "DatetimeIndex: 3 entries, 2022-01-01 to 2022-01-03\n",
      "Data columns (total 1 columns):\n",
      " #   Column  Non-Null Count  Dtype\n",
      "---  ------  --------------  -----\n",
      " 0   Sales   3 non-null      int64\n",
      "dtypes: int64(1)\n",
      "memory usage: 48.0 bytes\n"
     ]
    }
   ],
   "source": [
    "df['Date'] = pd.to_datetime(df['Date'])\n",
    "df.set_index('Date', inplace=True)\n",
    "df.info()"
   ]
  },
  {
   "cell_type": "markdown",
   "id": "2b8767c1-0350-46b8-9d67-c24cf4dd971c",
   "metadata": {},
   "source": [
    "# Recipe 3: Working with Unix epoch timestamps"
   ]
  },
  {
   "cell_type": "code",
   "execution_count": 65,
   "id": "3d01418d-14ff-40b6-b9bb-4bb679f05c74",
   "metadata": {},
   "outputs": [
    {
     "name": "stdout",
     "output_type": "stream",
     "text": [
      "1654500469.252\n",
      "<class 'float'>\n"
     ]
    }
   ],
   "source": [
    "import time\n",
    "epoch_time = time.time()\n",
    "print(epoch_time)\n",
    "print(type(epoch_time))"
   ]
  },
  {
   "cell_type": "code",
   "execution_count": 66,
   "id": "73a1cb39-02f0-432d-ab33-310701cbe424",
   "metadata": {},
   "outputs": [
    {
     "name": "stdout",
     "output_type": "stream",
     "text": [
      "2021-10-26 03:48:53.855169024\n"
     ]
    }
   ],
   "source": [
    "import pandas as pd\n",
    "t = pd.to_datetime(1635220133.855169, unit='s')\n",
    "print(t)"
   ]
  },
  {
   "cell_type": "code",
   "execution_count": 67,
   "id": "692c20f1-598b-4d4d-9be3-528916b5488b",
   "metadata": {},
   "outputs": [],
   "source": [
    "t = pd.to_datetime(1635220133.855169, unit='s', )"
   ]
  },
  {
   "cell_type": "code",
   "execution_count": 68,
   "id": "5dfb8bac-f6c8-457e-b2fc-6f955d6ce9be",
   "metadata": {},
   "outputs": [
    {
     "data": {
      "text/plain": [
       "Timestamp('2021-10-25 20:48:53.855169024-0700', tz='US/Pacific')"
      ]
     },
     "execution_count": 68,
     "metadata": {},
     "output_type": "execute_result"
    }
   ],
   "source": [
    "t.tz_localize('UTC').tz_convert('US/Pacific')"
   ]
  },
  {
   "cell_type": "code",
   "execution_count": 69,
   "id": "f1d0ce87-04fc-43d9-961b-6bc12b18c5c0",
   "metadata": {},
   "outputs": [
    {
     "data": {
      "text/html": [
       "<div>\n",
       "<style scoped>\n",
       "    .dataframe tbody tr th:only-of-type {\n",
       "        vertical-align: middle;\n",
       "    }\n",
       "\n",
       "    .dataframe tbody tr th {\n",
       "        vertical-align: top;\n",
       "    }\n",
       "\n",
       "    .dataframe thead th {\n",
       "        text-align: right;\n",
       "    }\n",
       "</style>\n",
       "<table border=\"1\" class=\"dataframe\">\n",
       "  <thead>\n",
       "    <tr style=\"text-align: right;\">\n",
       "      <th></th>\n",
       "      <th>unix_epoch</th>\n",
       "      <th>Sales</th>\n",
       "    </tr>\n",
       "  </thead>\n",
       "  <tbody>\n",
       "    <tr>\n",
       "      <th>0</th>\n",
       "      <td>1641110340</td>\n",
       "      <td>23000</td>\n",
       "    </tr>\n",
       "    <tr>\n",
       "      <th>1</th>\n",
       "      <td>1641196740</td>\n",
       "      <td>19020</td>\n",
       "    </tr>\n",
       "    <tr>\n",
       "      <th>2</th>\n",
       "      <td>1641283140</td>\n",
       "      <td>21000</td>\n",
       "    </tr>\n",
       "    <tr>\n",
       "      <th>3</th>\n",
       "      <td>1641369540</td>\n",
       "      <td>17030</td>\n",
       "    </tr>\n",
       "  </tbody>\n",
       "</table>\n",
       "</div>"
      ],
      "text/plain": [
       "   unix_epoch  Sales\n",
       "0  1641110340  23000\n",
       "1  1641196740  19020\n",
       "2  1641283140  21000\n",
       "3  1641369540  17030"
      ]
     },
     "execution_count": 69,
     "metadata": {},
     "output_type": "execute_result"
    }
   ],
   "source": [
    "df = pd.DataFrame(\n",
    "        {'unix_epoch': [1641110340,  1641196740, 1641283140, 1641369540],\n",
    "         'Sales': [23000, 19020, 21000, 17030]})\n",
    "df"
   ]
  },
  {
   "cell_type": "code",
   "execution_count": 70,
   "id": "c16c25d3-3ce9-4510-867c-bcc7f272a944",
   "metadata": {},
   "outputs": [
    {
     "data": {
      "text/html": [
       "<div>\n",
       "<style scoped>\n",
       "    .dataframe tbody tr th:only-of-type {\n",
       "        vertical-align: middle;\n",
       "    }\n",
       "\n",
       "    .dataframe tbody tr th {\n",
       "        vertical-align: top;\n",
       "    }\n",
       "\n",
       "    .dataframe thead th {\n",
       "        text-align: right;\n",
       "    }\n",
       "</style>\n",
       "<table border=\"1\" class=\"dataframe\">\n",
       "  <thead>\n",
       "    <tr style=\"text-align: right;\">\n",
       "      <th></th>\n",
       "      <th>unix_epoch</th>\n",
       "      <th>Sales</th>\n",
       "    </tr>\n",
       "    <tr>\n",
       "      <th>Date</th>\n",
       "      <th></th>\n",
       "      <th></th>\n",
       "    </tr>\n",
       "  </thead>\n",
       "  <tbody>\n",
       "    <tr>\n",
       "      <th>2022-01-01 23:59:00-08:00</th>\n",
       "      <td>1641110340</td>\n",
       "      <td>23000</td>\n",
       "    </tr>\n",
       "    <tr>\n",
       "      <th>2022-01-02 23:59:00-08:00</th>\n",
       "      <td>1641196740</td>\n",
       "      <td>19020</td>\n",
       "    </tr>\n",
       "    <tr>\n",
       "      <th>2022-01-03 23:59:00-08:00</th>\n",
       "      <td>1641283140</td>\n",
       "      <td>21000</td>\n",
       "    </tr>\n",
       "    <tr>\n",
       "      <th>2022-01-04 23:59:00-08:00</th>\n",
       "      <td>1641369540</td>\n",
       "      <td>17030</td>\n",
       "    </tr>\n",
       "  </tbody>\n",
       "</table>\n",
       "</div>"
      ],
      "text/plain": [
       "                           unix_epoch  Sales\n",
       "Date                                        \n",
       "2022-01-01 23:59:00-08:00  1641110340  23000\n",
       "2022-01-02 23:59:00-08:00  1641196740  19020\n",
       "2022-01-03 23:59:00-08:00  1641283140  21000\n",
       "2022-01-04 23:59:00-08:00  1641369540  17030"
      ]
     },
     "execution_count": 70,
     "metadata": {},
     "output_type": "execute_result"
    }
   ],
   "source": [
    "df['Date'] = pd.to_datetime(df['unix_epoch'], unit='s')\n",
    "df['Date'] = df['Date'].dt.tz_localize('UTC').dt.tz_convert('US/Pacific')\n",
    "df.set_index('Date', inplace=True)\n",
    "df"
   ]
  },
  {
   "cell_type": "code",
   "execution_count": 71,
   "id": "b3fca87c-94c3-400f-8b78-4da017ac5462",
   "metadata": {},
   "outputs": [
    {
     "name": "stdout",
     "output_type": "stream",
     "text": [
      "<class 'pandas.core.frame.DataFrame'>\n",
      "DatetimeIndex: 4 entries, 2022-01-01 23:59:00-08:00 to 2022-01-04 23:59:00-08:00\n",
      "Data columns (total 2 columns):\n",
      " #   Column      Non-Null Count  Dtype\n",
      "---  ------      --------------  -----\n",
      " 0   unix_epoch  4 non-null      int64\n",
      " 1   Sales       4 non-null      int64\n",
      "dtypes: int64(2)\n",
      "memory usage: 96.0 bytes\n"
     ]
    }
   ],
   "source": [
    "df.info()"
   ]
  },
  {
   "cell_type": "code",
   "execution_count": 72,
   "id": "92d4f57e-75f5-45df-b344-0895316a2bd6",
   "metadata": {},
   "outputs": [
    {
     "data": {
      "text/plain": [
       "array([datetime.date(2022, 1, 1), datetime.date(2022, 1, 2),\n",
       "       datetime.date(2022, 1, 3), datetime.date(2022, 1, 4)], dtype=object)"
      ]
     },
     "execution_count": 72,
     "metadata": {},
     "output_type": "execute_result"
    }
   ],
   "source": [
    "df.index.date"
   ]
  },
  {
   "cell_type": "code",
   "execution_count": 73,
   "id": "ffa78fd6-d642-4759-93db-5a87a7e97e6f",
   "metadata": {},
   "outputs": [
    {
     "name": "stdout",
     "output_type": "stream",
     "text": [
      "<class 'pandas.core.frame.DataFrame'>\n",
      "DatetimeIndex: 4 entries, 2022-01-01 23:59:00-08:00 to 2022-01-04 23:59:00-08:00\n",
      "Data columns (total 2 columns):\n",
      " #   Column      Non-Null Count  Dtype\n",
      "---  ------      --------------  -----\n",
      " 0   unix_epoch  4 non-null      int64\n",
      " 1   Sales       4 non-null      int64\n",
      "dtypes: int64(2)\n",
      "memory usage: 96.0 bytes\n"
     ]
    }
   ],
   "source": [
    "df.info()"
   ]
  },
  {
   "cell_type": "code",
   "execution_count": 74,
   "id": "14c9ac05-991a-43f4-bdb6-d5bcdd5abca5",
   "metadata": {},
   "outputs": [
    {
     "data": {
      "text/plain": [
       "DatetimeIndex(['2022-01-01 23:59:00-08:00', '2022-01-02 23:59:00-08:00',\n",
       "               '2022-01-03 23:59:00-08:00', '2022-01-04 23:59:00-08:00'],\n",
       "              dtype='datetime64[ns, US/Pacific]', name='Date', freq=None)"
      ]
     },
     "execution_count": 74,
     "metadata": {},
     "output_type": "execute_result"
    }
   ],
   "source": [
    "df.index"
   ]
  },
  {
   "cell_type": "code",
   "execution_count": 75,
   "id": "84135579-a085-4878-b863-2ca230058ad9",
   "metadata": {},
   "outputs": [],
   "source": [
    "t = pd.to_datetime(1635220133.855169, unit='s', origin='unix')"
   ]
  },
  {
   "cell_type": "markdown",
   "id": "9b151939-16b1-4c58-b957-106a605beb20",
   "metadata": {},
   "source": [
    "## There is more "
   ]
  },
  {
   "cell_type": "code",
   "execution_count": 76,
   "id": "e53fd3a1-a0f0-498c-a56e-55f3773be4e9",
   "metadata": {},
   "outputs": [
    {
     "data": {
      "text/html": [
       "<div>\n",
       "<style scoped>\n",
       "    .dataframe tbody tr th:only-of-type {\n",
       "        vertical-align: middle;\n",
       "    }\n",
       "\n",
       "    .dataframe tbody tr th {\n",
       "        vertical-align: top;\n",
       "    }\n",
       "\n",
       "    .dataframe thead th {\n",
       "        text-align: right;\n",
       "    }\n",
       "</style>\n",
       "<table border=\"1\" class=\"dataframe\">\n",
       "  <thead>\n",
       "    <tr style=\"text-align: right;\">\n",
       "      <th></th>\n",
       "      <th>Date</th>\n",
       "      <th>order</th>\n",
       "    </tr>\n",
       "  </thead>\n",
       "  <tbody>\n",
       "    <tr>\n",
       "      <th>0</th>\n",
       "      <td>2022-01-01</td>\n",
       "      <td>0</td>\n",
       "    </tr>\n",
       "    <tr>\n",
       "      <th>1</th>\n",
       "      <td>2022-01-02</td>\n",
       "      <td>1</td>\n",
       "    </tr>\n",
       "    <tr>\n",
       "      <th>2</th>\n",
       "      <td>2022-01-03</td>\n",
       "      <td>2</td>\n",
       "    </tr>\n",
       "    <tr>\n",
       "      <th>3</th>\n",
       "      <td>2022-01-04</td>\n",
       "      <td>3</td>\n",
       "    </tr>\n",
       "    <tr>\n",
       "      <th>4</th>\n",
       "      <td>2022-01-05</td>\n",
       "      <td>4</td>\n",
       "    </tr>\n",
       "  </tbody>\n",
       "</table>\n",
       "</div>"
      ],
      "text/plain": [
       "        Date  order\n",
       "0 2022-01-01      0\n",
       "1 2022-01-02      1\n",
       "2 2022-01-03      2\n",
       "3 2022-01-04      3\n",
       "4 2022-01-05      4"
      ]
     },
     "execution_count": 76,
     "metadata": {},
     "output_type": "execute_result"
    }
   ],
   "source": [
    "df = pd.DataFrame(\n",
    "    {'Date': pd.date_range('01-01-2022', periods=5),\n",
    "     'order' : range(5)})\n",
    "df"
   ]
  },
  {
   "cell_type": "code",
   "execution_count": 77,
   "id": "c6c18658-da01-4dc2-b4ed-13d21f2dd2c7",
   "metadata": {},
   "outputs": [
    {
     "data": {
      "text/plain": [
       "0    1640995200\n",
       "1    1641081600\n",
       "2    1641168000\n",
       "3    1641254400\n",
       "4    1641340800\n",
       "Name: Date, dtype: int64"
      ]
     },
     "execution_count": 77,
     "metadata": {},
     "output_type": "execute_result"
    }
   ],
   "source": [
    "example = (df['Date'] -  pd.Timestamp(\"1970-01-01\")) // pd.Timedelta(\"1s\")\n",
    "example"
   ]
  },
  {
   "cell_type": "code",
   "execution_count": 78,
   "id": "c6ae6daf-7c74-4cd5-8d5f-9ce47099e895",
   "metadata": {},
   "outputs": [
    {
     "data": {
      "text/plain": [
       "0   2022-01-01\n",
       "1   2022-01-02\n",
       "2   2022-01-03\n",
       "3   2022-01-04\n",
       "4   2022-01-05\n",
       "Name: Date, dtype: datetime64[ns]"
      ]
     },
     "execution_count": 78,
     "metadata": {},
     "output_type": "execute_result"
    }
   ],
   "source": [
    "pd.to_datetime(example, unit='s')"
   ]
  },
  {
   "cell_type": "markdown",
   "id": "f31a03d7-7366-44bc-9835-849063f3b3f5",
   "metadata": {},
   "source": [
    "# Recipe 4: Working with Time Deltas"
   ]
  },
  {
   "cell_type": "code",
   "execution_count": 79,
   "id": "d8087d25-9ba7-4524-8dde-14e5b7760f09",
   "metadata": {},
   "outputs": [],
   "source": [
    "import pandas as pd"
   ]
  },
  {
   "cell_type": "code",
   "execution_count": 80,
   "id": "419c4741-69b9-4103-b0d0-b03604044b89",
   "metadata": {},
   "outputs": [
    {
     "data": {
      "text/html": [
       "<div>\n",
       "<style scoped>\n",
       "    .dataframe tbody tr th:only-of-type {\n",
       "        vertical-align: middle;\n",
       "    }\n",
       "\n",
       "    .dataframe tbody tr th {\n",
       "        vertical-align: top;\n",
       "    }\n",
       "\n",
       "    .dataframe thead th {\n",
       "        text-align: right;\n",
       "    }\n",
       "</style>\n",
       "<table border=\"1\" class=\"dataframe\">\n",
       "  <thead>\n",
       "    <tr style=\"text-align: right;\">\n",
       "      <th></th>\n",
       "      <th>item</th>\n",
       "      <th>purchase_dt</th>\n",
       "    </tr>\n",
       "  </thead>\n",
       "  <tbody>\n",
       "    <tr>\n",
       "      <th>0</th>\n",
       "      <td>item1</td>\n",
       "      <td>2021-01-01 00:00:00+00:00</td>\n",
       "    </tr>\n",
       "    <tr>\n",
       "      <th>1</th>\n",
       "      <td>item2</td>\n",
       "      <td>2021-01-02 00:00:00+00:00</td>\n",
       "    </tr>\n",
       "    <tr>\n",
       "      <th>2</th>\n",
       "      <td>item3</td>\n",
       "      <td>2021-01-03 00:00:00+00:00</td>\n",
       "    </tr>\n",
       "    <tr>\n",
       "      <th>3</th>\n",
       "      <td>item4</td>\n",
       "      <td>2021-01-04 00:00:00+00:00</td>\n",
       "    </tr>\n",
       "    <tr>\n",
       "      <th>4</th>\n",
       "      <td>item5</td>\n",
       "      <td>2021-01-05 00:00:00+00:00</td>\n",
       "    </tr>\n",
       "    <tr>\n",
       "      <th>5</th>\n",
       "      <td>item6</td>\n",
       "      <td>2021-01-06 00:00:00+00:00</td>\n",
       "    </tr>\n",
       "  </tbody>\n",
       "</table>\n",
       "</div>"
      ],
      "text/plain": [
       "    item               purchase_dt\n",
       "0  item1 2021-01-01 00:00:00+00:00\n",
       "1  item2 2021-01-02 00:00:00+00:00\n",
       "2  item3 2021-01-03 00:00:00+00:00\n",
       "3  item4 2021-01-04 00:00:00+00:00\n",
       "4  item5 2021-01-05 00:00:00+00:00\n",
       "5  item6 2021-01-06 00:00:00+00:00"
      ]
     },
     "execution_count": 80,
     "metadata": {},
     "output_type": "execute_result"
    }
   ],
   "source": [
    "df = pd.DataFrame({\n",
    "    'item': ['item1', 'item2', 'item3', 'item4', 'item5', 'item6'],\n",
    "    'purchase_dt': pd.date_range('2021-01-01', periods=6, freq='D', tz='UTC')\n",
    "})\n",
    "df"
   ]
  },
  {
   "cell_type": "code",
   "execution_count": 81,
   "id": "6f658f7f-cf45-4e21-b5a0-4a1935eda400",
   "metadata": {},
   "outputs": [
    {
     "data": {
      "text/html": [
       "<div>\n",
       "<style scoped>\n",
       "    .dataframe tbody tr th:only-of-type {\n",
       "        vertical-align: middle;\n",
       "    }\n",
       "\n",
       "    .dataframe tbody tr th {\n",
       "        vertical-align: top;\n",
       "    }\n",
       "\n",
       "    .dataframe thead th {\n",
       "        text-align: right;\n",
       "    }\n",
       "</style>\n",
       "<table border=\"1\" class=\"dataframe\">\n",
       "  <thead>\n",
       "    <tr style=\"text-align: right;\">\n",
       "      <th></th>\n",
       "      <th>item</th>\n",
       "      <th>purchase_dt</th>\n",
       "      <th>expiration_dt</th>\n",
       "    </tr>\n",
       "  </thead>\n",
       "  <tbody>\n",
       "    <tr>\n",
       "      <th>0</th>\n",
       "      <td>item1</td>\n",
       "      <td>2021-01-01 00:00:00+00:00</td>\n",
       "      <td>2021-01-31 00:00:00+00:00</td>\n",
       "    </tr>\n",
       "    <tr>\n",
       "      <th>1</th>\n",
       "      <td>item2</td>\n",
       "      <td>2021-01-02 00:00:00+00:00</td>\n",
       "      <td>2021-02-01 00:00:00+00:00</td>\n",
       "    </tr>\n",
       "    <tr>\n",
       "      <th>2</th>\n",
       "      <td>item3</td>\n",
       "      <td>2021-01-03 00:00:00+00:00</td>\n",
       "      <td>2021-02-02 00:00:00+00:00</td>\n",
       "    </tr>\n",
       "    <tr>\n",
       "      <th>3</th>\n",
       "      <td>item4</td>\n",
       "      <td>2021-01-04 00:00:00+00:00</td>\n",
       "      <td>2021-02-03 00:00:00+00:00</td>\n",
       "    </tr>\n",
       "    <tr>\n",
       "      <th>4</th>\n",
       "      <td>item5</td>\n",
       "      <td>2021-01-05 00:00:00+00:00</td>\n",
       "      <td>2021-02-04 00:00:00+00:00</td>\n",
       "    </tr>\n",
       "    <tr>\n",
       "      <th>5</th>\n",
       "      <td>item6</td>\n",
       "      <td>2021-01-06 00:00:00+00:00</td>\n",
       "      <td>2021-02-05 00:00:00+00:00</td>\n",
       "    </tr>\n",
       "  </tbody>\n",
       "</table>\n",
       "</div>"
      ],
      "text/plain": [
       "    item               purchase_dt             expiration_dt\n",
       "0  item1 2021-01-01 00:00:00+00:00 2021-01-31 00:00:00+00:00\n",
       "1  item2 2021-01-02 00:00:00+00:00 2021-02-01 00:00:00+00:00\n",
       "2  item3 2021-01-03 00:00:00+00:00 2021-02-02 00:00:00+00:00\n",
       "3  item4 2021-01-04 00:00:00+00:00 2021-02-03 00:00:00+00:00\n",
       "4  item5 2021-01-05 00:00:00+00:00 2021-02-04 00:00:00+00:00\n",
       "5  item6 2021-01-06 00:00:00+00:00 2021-02-05 00:00:00+00:00"
      ]
     },
     "execution_count": 81,
     "metadata": {},
     "output_type": "execute_result"
    }
   ],
   "source": [
    "df['expiration_dt'] = df['purchase_dt'] + pd.Timedelta(days=30)\n",
    "df"
   ]
  },
  {
   "cell_type": "code",
   "execution_count": 82,
   "id": "34585c90-dd48-401a-b342-dfd6a9dbd61d",
   "metadata": {},
   "outputs": [
    {
     "data": {
      "text/html": [
       "<div>\n",
       "<style scoped>\n",
       "    .dataframe tbody tr th:only-of-type {\n",
       "        vertical-align: middle;\n",
       "    }\n",
       "\n",
       "    .dataframe tbody tr th {\n",
       "        vertical-align: top;\n",
       "    }\n",
       "\n",
       "    .dataframe thead th {\n",
       "        text-align: right;\n",
       "    }\n",
       "</style>\n",
       "<table border=\"1\" class=\"dataframe\">\n",
       "  <thead>\n",
       "    <tr style=\"text-align: right;\">\n",
       "      <th></th>\n",
       "      <th>item</th>\n",
       "      <th>purchase_dt</th>\n",
       "      <th>expiration_dt</th>\n",
       "      <th>extended_dt</th>\n",
       "    </tr>\n",
       "  </thead>\n",
       "  <tbody>\n",
       "    <tr>\n",
       "      <th>0</th>\n",
       "      <td>item1</td>\n",
       "      <td>2021-01-01 00:00:00+00:00</td>\n",
       "      <td>2021-01-31 00:00:00+00:00</td>\n",
       "      <td>2021-02-05 12:30:00+00:00</td>\n",
       "    </tr>\n",
       "    <tr>\n",
       "      <th>1</th>\n",
       "      <td>item2</td>\n",
       "      <td>2021-01-02 00:00:00+00:00</td>\n",
       "      <td>2021-02-01 00:00:00+00:00</td>\n",
       "      <td>2021-02-06 12:30:00+00:00</td>\n",
       "    </tr>\n",
       "    <tr>\n",
       "      <th>2</th>\n",
       "      <td>item3</td>\n",
       "      <td>2021-01-03 00:00:00+00:00</td>\n",
       "      <td>2021-02-02 00:00:00+00:00</td>\n",
       "      <td>2021-02-07 12:30:00+00:00</td>\n",
       "    </tr>\n",
       "    <tr>\n",
       "      <th>3</th>\n",
       "      <td>item4</td>\n",
       "      <td>2021-01-04 00:00:00+00:00</td>\n",
       "      <td>2021-02-03 00:00:00+00:00</td>\n",
       "      <td>2021-02-08 12:30:00+00:00</td>\n",
       "    </tr>\n",
       "    <tr>\n",
       "      <th>4</th>\n",
       "      <td>item5</td>\n",
       "      <td>2021-01-05 00:00:00+00:00</td>\n",
       "      <td>2021-02-04 00:00:00+00:00</td>\n",
       "      <td>2021-02-09 12:30:00+00:00</td>\n",
       "    </tr>\n",
       "    <tr>\n",
       "      <th>5</th>\n",
       "      <td>item6</td>\n",
       "      <td>2021-01-06 00:00:00+00:00</td>\n",
       "      <td>2021-02-05 00:00:00+00:00</td>\n",
       "      <td>2021-02-10 12:30:00+00:00</td>\n",
       "    </tr>\n",
       "  </tbody>\n",
       "</table>\n",
       "</div>"
      ],
      "text/plain": [
       "    item               purchase_dt             expiration_dt  \\\n",
       "0  item1 2021-01-01 00:00:00+00:00 2021-01-31 00:00:00+00:00   \n",
       "1  item2 2021-01-02 00:00:00+00:00 2021-02-01 00:00:00+00:00   \n",
       "2  item3 2021-01-03 00:00:00+00:00 2021-02-02 00:00:00+00:00   \n",
       "3  item4 2021-01-04 00:00:00+00:00 2021-02-03 00:00:00+00:00   \n",
       "4  item5 2021-01-05 00:00:00+00:00 2021-02-04 00:00:00+00:00   \n",
       "5  item6 2021-01-06 00:00:00+00:00 2021-02-05 00:00:00+00:00   \n",
       "\n",
       "                extended_dt  \n",
       "0 2021-02-05 12:30:00+00:00  \n",
       "1 2021-02-06 12:30:00+00:00  \n",
       "2 2021-02-07 12:30:00+00:00  \n",
       "3 2021-02-08 12:30:00+00:00  \n",
       "4 2021-02-09 12:30:00+00:00  \n",
       "5 2021-02-10 12:30:00+00:00  "
      ]
     },
     "execution_count": 82,
     "metadata": {},
     "output_type": "execute_result"
    }
   ],
   "source": [
    "df['extended_dt'] = df['purchase_dt'] + \\\n",
    "                pd.Timedelta('35 days 12 hours 30 minutes')\n",
    "df"
   ]
  },
  {
   "cell_type": "code",
   "execution_count": 83,
   "id": "dc732c8e-2122-449c-a224-8b6bcee43a66",
   "metadata": {},
   "outputs": [
    {
     "data": {
      "text/html": [
       "<div>\n",
       "<style scoped>\n",
       "    .dataframe tbody tr th:only-of-type {\n",
       "        vertical-align: middle;\n",
       "    }\n",
       "\n",
       "    .dataframe tbody tr th {\n",
       "        vertical-align: top;\n",
       "    }\n",
       "\n",
       "    .dataframe thead th {\n",
       "        text-align: right;\n",
       "    }\n",
       "</style>\n",
       "<table border=\"1\" class=\"dataframe\">\n",
       "  <thead>\n",
       "    <tr style=\"text-align: right;\">\n",
       "      <th></th>\n",
       "      <th>item</th>\n",
       "      <th>purchase_dt</th>\n",
       "      <th>expiration_dt</th>\n",
       "      <th>extended_dt</th>\n",
       "    </tr>\n",
       "  </thead>\n",
       "  <tbody>\n",
       "    <tr>\n",
       "      <th>0</th>\n",
       "      <td>item1</td>\n",
       "      <td>2020-12-31 16:00:00-08:00</td>\n",
       "      <td>2021-01-30 16:00:00-08:00</td>\n",
       "      <td>2021-02-05 04:30:00-08:00</td>\n",
       "    </tr>\n",
       "    <tr>\n",
       "      <th>1</th>\n",
       "      <td>item2</td>\n",
       "      <td>2021-01-01 16:00:00-08:00</td>\n",
       "      <td>2021-01-31 16:00:00-08:00</td>\n",
       "      <td>2021-02-06 04:30:00-08:00</td>\n",
       "    </tr>\n",
       "    <tr>\n",
       "      <th>2</th>\n",
       "      <td>item3</td>\n",
       "      <td>2021-01-02 16:00:00-08:00</td>\n",
       "      <td>2021-02-01 16:00:00-08:00</td>\n",
       "      <td>2021-02-07 04:30:00-08:00</td>\n",
       "    </tr>\n",
       "    <tr>\n",
       "      <th>3</th>\n",
       "      <td>item4</td>\n",
       "      <td>2021-01-03 16:00:00-08:00</td>\n",
       "      <td>2021-02-02 16:00:00-08:00</td>\n",
       "      <td>2021-02-08 04:30:00-08:00</td>\n",
       "    </tr>\n",
       "    <tr>\n",
       "      <th>4</th>\n",
       "      <td>item5</td>\n",
       "      <td>2021-01-04 16:00:00-08:00</td>\n",
       "      <td>2021-02-03 16:00:00-08:00</td>\n",
       "      <td>2021-02-09 04:30:00-08:00</td>\n",
       "    </tr>\n",
       "    <tr>\n",
       "      <th>5</th>\n",
       "      <td>item6</td>\n",
       "      <td>2021-01-05 16:00:00-08:00</td>\n",
       "      <td>2021-02-04 16:00:00-08:00</td>\n",
       "      <td>2021-02-10 04:30:00-08:00</td>\n",
       "    </tr>\n",
       "  </tbody>\n",
       "</table>\n",
       "</div>"
      ],
      "text/plain": [
       "    item               purchase_dt             expiration_dt  \\\n",
       "0  item1 2020-12-31 16:00:00-08:00 2021-01-30 16:00:00-08:00   \n",
       "1  item2 2021-01-01 16:00:00-08:00 2021-01-31 16:00:00-08:00   \n",
       "2  item3 2021-01-02 16:00:00-08:00 2021-02-01 16:00:00-08:00   \n",
       "3  item4 2021-01-03 16:00:00-08:00 2021-02-02 16:00:00-08:00   \n",
       "4  item5 2021-01-04 16:00:00-08:00 2021-02-03 16:00:00-08:00   \n",
       "5  item6 2021-01-05 16:00:00-08:00 2021-02-04 16:00:00-08:00   \n",
       "\n",
       "                extended_dt  \n",
       "0 2021-02-05 04:30:00-08:00  \n",
       "1 2021-02-06 04:30:00-08:00  \n",
       "2 2021-02-07 04:30:00-08:00  \n",
       "3 2021-02-08 04:30:00-08:00  \n",
       "4 2021-02-09 04:30:00-08:00  \n",
       "5 2021-02-10 04:30:00-08:00  "
      ]
     },
     "execution_count": 83,
     "metadata": {},
     "output_type": "execute_result"
    }
   ],
   "source": [
    "df.iloc[:, 1:] = df.iloc[:, 1:] \\\n",
    "    .apply(lambda x: x.dt.tz_convert('US/Pacific'))\n",
    "df"
   ]
  },
  {
   "cell_type": "code",
   "execution_count": 84,
   "id": "50c3e1bd-2f6e-43e0-94db-d5443ea6f186",
   "metadata": {},
   "outputs": [
    {
     "data": {
      "text/html": [
       "<div>\n",
       "<style scoped>\n",
       "    .dataframe tbody tr th:only-of-type {\n",
       "        vertical-align: middle;\n",
       "    }\n",
       "\n",
       "    .dataframe tbody tr th {\n",
       "        vertical-align: top;\n",
       "    }\n",
       "\n",
       "    .dataframe thead th {\n",
       "        text-align: right;\n",
       "    }\n",
       "</style>\n",
       "<table border=\"1\" class=\"dataframe\">\n",
       "  <thead>\n",
       "    <tr style=\"text-align: right;\">\n",
       "      <th></th>\n",
       "      <th>item</th>\n",
       "      <th>purchase_dt</th>\n",
       "      <th>expiration_dt</th>\n",
       "      <th>extended_dt</th>\n",
       "      <th>exp_ext_diff</th>\n",
       "    </tr>\n",
       "  </thead>\n",
       "  <tbody>\n",
       "    <tr>\n",
       "      <th>0</th>\n",
       "      <td>item1</td>\n",
       "      <td>2020-12-31 16:00:00-08:00</td>\n",
       "      <td>2021-01-30 16:00:00-08:00</td>\n",
       "      <td>2021-02-05 04:30:00-08:00</td>\n",
       "      <td>5 days 12:30:00</td>\n",
       "    </tr>\n",
       "    <tr>\n",
       "      <th>1</th>\n",
       "      <td>item2</td>\n",
       "      <td>2021-01-01 16:00:00-08:00</td>\n",
       "      <td>2021-01-31 16:00:00-08:00</td>\n",
       "      <td>2021-02-06 04:30:00-08:00</td>\n",
       "      <td>5 days 12:30:00</td>\n",
       "    </tr>\n",
       "    <tr>\n",
       "      <th>2</th>\n",
       "      <td>item3</td>\n",
       "      <td>2021-01-02 16:00:00-08:00</td>\n",
       "      <td>2021-02-01 16:00:00-08:00</td>\n",
       "      <td>2021-02-07 04:30:00-08:00</td>\n",
       "      <td>5 days 12:30:00</td>\n",
       "    </tr>\n",
       "    <tr>\n",
       "      <th>3</th>\n",
       "      <td>item4</td>\n",
       "      <td>2021-01-03 16:00:00-08:00</td>\n",
       "      <td>2021-02-02 16:00:00-08:00</td>\n",
       "      <td>2021-02-08 04:30:00-08:00</td>\n",
       "      <td>5 days 12:30:00</td>\n",
       "    </tr>\n",
       "    <tr>\n",
       "      <th>4</th>\n",
       "      <td>item5</td>\n",
       "      <td>2021-01-04 16:00:00-08:00</td>\n",
       "      <td>2021-02-03 16:00:00-08:00</td>\n",
       "      <td>2021-02-09 04:30:00-08:00</td>\n",
       "      <td>5 days 12:30:00</td>\n",
       "    </tr>\n",
       "    <tr>\n",
       "      <th>5</th>\n",
       "      <td>item6</td>\n",
       "      <td>2021-01-05 16:00:00-08:00</td>\n",
       "      <td>2021-02-04 16:00:00-08:00</td>\n",
       "      <td>2021-02-10 04:30:00-08:00</td>\n",
       "      <td>5 days 12:30:00</td>\n",
       "    </tr>\n",
       "  </tbody>\n",
       "</table>\n",
       "</div>"
      ],
      "text/plain": [
       "    item               purchase_dt             expiration_dt  \\\n",
       "0  item1 2020-12-31 16:00:00-08:00 2021-01-30 16:00:00-08:00   \n",
       "1  item2 2021-01-01 16:00:00-08:00 2021-01-31 16:00:00-08:00   \n",
       "2  item3 2021-01-02 16:00:00-08:00 2021-02-01 16:00:00-08:00   \n",
       "3  item4 2021-01-03 16:00:00-08:00 2021-02-02 16:00:00-08:00   \n",
       "4  item5 2021-01-04 16:00:00-08:00 2021-02-03 16:00:00-08:00   \n",
       "5  item6 2021-01-05 16:00:00-08:00 2021-02-04 16:00:00-08:00   \n",
       "\n",
       "                extended_dt    exp_ext_diff  \n",
       "0 2021-02-05 04:30:00-08:00 5 days 12:30:00  \n",
       "1 2021-02-06 04:30:00-08:00 5 days 12:30:00  \n",
       "2 2021-02-07 04:30:00-08:00 5 days 12:30:00  \n",
       "3 2021-02-08 04:30:00-08:00 5 days 12:30:00  \n",
       "4 2021-02-09 04:30:00-08:00 5 days 12:30:00  \n",
       "5 2021-02-10 04:30:00-08:00 5 days 12:30:00  "
      ]
     },
     "execution_count": 84,
     "metadata": {},
     "output_type": "execute_result"
    }
   ],
   "source": [
    "df['exp_ext_diff'] = df['extended_dt'] - df['expiration_dt']\n",
    "df"
   ]
  },
  {
   "cell_type": "code",
   "execution_count": 85,
   "id": "40913648-a42b-4597-8d77-2f2253800971",
   "metadata": {},
   "outputs": [
    {
     "data": {
      "text/html": [
       "<div>\n",
       "<style scoped>\n",
       "    .dataframe tbody tr th:only-of-type {\n",
       "        vertical-align: middle;\n",
       "    }\n",
       "\n",
       "    .dataframe tbody tr th {\n",
       "        vertical-align: top;\n",
       "    }\n",
       "\n",
       "    .dataframe thead th {\n",
       "        text-align: right;\n",
       "    }\n",
       "</style>\n",
       "<table border=\"1\" class=\"dataframe\">\n",
       "  <thead>\n",
       "    <tr style=\"text-align: right;\">\n",
       "      <th></th>\n",
       "      <th>item</th>\n",
       "      <th>purchase_dt</th>\n",
       "      <th>expiration_dt</th>\n",
       "      <th>extended_dt</th>\n",
       "      <th>exp_ext_diff</th>\n",
       "      <th>test</th>\n",
       "    </tr>\n",
       "  </thead>\n",
       "  <tbody>\n",
       "    <tr>\n",
       "      <th>0</th>\n",
       "      <td>item1</td>\n",
       "      <td>2020-12-31 16:00:00-08:00</td>\n",
       "      <td>2021-01-30 16:00:00-08:00</td>\n",
       "      <td>2021-02-05 04:30:00-08:00</td>\n",
       "      <td>5 days 12:30:00</td>\n",
       "      <td>30 days</td>\n",
       "    </tr>\n",
       "    <tr>\n",
       "      <th>1</th>\n",
       "      <td>item2</td>\n",
       "      <td>2021-01-01 16:00:00-08:00</td>\n",
       "      <td>2021-01-31 16:00:00-08:00</td>\n",
       "      <td>2021-02-06 04:30:00-08:00</td>\n",
       "      <td>5 days 12:30:00</td>\n",
       "      <td>30 days</td>\n",
       "    </tr>\n",
       "    <tr>\n",
       "      <th>2</th>\n",
       "      <td>item3</td>\n",
       "      <td>2021-01-02 16:00:00-08:00</td>\n",
       "      <td>2021-02-01 16:00:00-08:00</td>\n",
       "      <td>2021-02-07 04:30:00-08:00</td>\n",
       "      <td>5 days 12:30:00</td>\n",
       "      <td>30 days</td>\n",
       "    </tr>\n",
       "    <tr>\n",
       "      <th>3</th>\n",
       "      <td>item4</td>\n",
       "      <td>2021-01-03 16:00:00-08:00</td>\n",
       "      <td>2021-02-02 16:00:00-08:00</td>\n",
       "      <td>2021-02-08 04:30:00-08:00</td>\n",
       "      <td>5 days 12:30:00</td>\n",
       "      <td>30 days</td>\n",
       "    </tr>\n",
       "    <tr>\n",
       "      <th>4</th>\n",
       "      <td>item5</td>\n",
       "      <td>2021-01-04 16:00:00-08:00</td>\n",
       "      <td>2021-02-03 16:00:00-08:00</td>\n",
       "      <td>2021-02-09 04:30:00-08:00</td>\n",
       "      <td>5 days 12:30:00</td>\n",
       "      <td>30 days</td>\n",
       "    </tr>\n",
       "    <tr>\n",
       "      <th>5</th>\n",
       "      <td>item6</td>\n",
       "      <td>2021-01-05 16:00:00-08:00</td>\n",
       "      <td>2021-02-04 16:00:00-08:00</td>\n",
       "      <td>2021-02-10 04:30:00-08:00</td>\n",
       "      <td>5 days 12:30:00</td>\n",
       "      <td>30 days</td>\n",
       "    </tr>\n",
       "  </tbody>\n",
       "</table>\n",
       "</div>"
      ],
      "text/plain": [
       "    item               purchase_dt             expiration_dt  \\\n",
       "0  item1 2020-12-31 16:00:00-08:00 2021-01-30 16:00:00-08:00   \n",
       "1  item2 2021-01-01 16:00:00-08:00 2021-01-31 16:00:00-08:00   \n",
       "2  item3 2021-01-02 16:00:00-08:00 2021-02-01 16:00:00-08:00   \n",
       "3  item4 2021-01-03 16:00:00-08:00 2021-02-02 16:00:00-08:00   \n",
       "4  item5 2021-01-04 16:00:00-08:00 2021-02-03 16:00:00-08:00   \n",
       "5  item6 2021-01-05 16:00:00-08:00 2021-02-04 16:00:00-08:00   \n",
       "\n",
       "                extended_dt    exp_ext_diff    test  \n",
       "0 2021-02-05 04:30:00-08:00 5 days 12:30:00 30 days  \n",
       "1 2021-02-06 04:30:00-08:00 5 days 12:30:00 30 days  \n",
       "2 2021-02-07 04:30:00-08:00 5 days 12:30:00 30 days  \n",
       "3 2021-02-08 04:30:00-08:00 5 days 12:30:00 30 days  \n",
       "4 2021-02-09 04:30:00-08:00 5 days 12:30:00 30 days  \n",
       "5 2021-02-10 04:30:00-08:00 5 days 12:30:00 30 days  "
      ]
     },
     "execution_count": 85,
     "metadata": {},
     "output_type": "execute_result"
    }
   ],
   "source": [
    "df['test'] = pd.Timedelta(days=30)\n",
    "df"
   ]
  },
  {
   "cell_type": "code",
   "execution_count": 86,
   "id": "84cc050c-cb24-4c4c-b018-8d6129ac097b",
   "metadata": {},
   "outputs": [
    {
     "data": {
      "text/plain": [
       "TimedeltaIndex(['1 days 00:00:00', '5 days 00:00:00', '10 days 06:00:00'], dtype='timedelta64[ns]', freq=None)"
      ]
     },
     "execution_count": 86,
     "metadata": {},
     "output_type": "execute_result"
    }
   ],
   "source": [
    "tds = pd.to_timedelta(['1 day', '5 days', '10 days 6 hours'])\n",
    "tds"
   ]
  },
  {
   "cell_type": "code",
   "execution_count": 87,
   "id": "48657979-4e7c-44f0-961f-39dc48581c09",
   "metadata": {},
   "outputs": [
    {
     "data": {
      "text/plain": [
       "TimedeltaIndex(['0 days', '7 days', '14 days', '21 days', '28 days'], dtype='timedelta64[ns]', freq=None)"
      ]
     },
     "execution_count": 87,
     "metadata": {},
     "output_type": "execute_result"
    }
   ],
   "source": [
    "pd.to_timedelta(range(5), unit='W')"
   ]
  },
  {
   "cell_type": "code",
   "execution_count": 88,
   "id": "1c0e71d2-5a10-4011-8932-753d638b3ffc",
   "metadata": {},
   "outputs": [
    {
     "data": {
      "text/plain": [
       "0   2020-12-31 16:00:00-08:00\n",
       "1   2021-01-01 16:00:00-08:00\n",
       "2   2021-01-02 16:00:00-08:00\n",
       "3   2021-01-03 16:00:00-08:00\n",
       "4   2021-01-04 16:00:00-08:00\n",
       "5   2021-01-05 16:00:00-08:00\n",
       "Name: purchase_dt, dtype: datetime64[ns, US/Pacific]"
      ]
     },
     "execution_count": 88,
     "metadata": {},
     "output_type": "execute_result"
    }
   ],
   "source": [
    "df['purchase_dt']"
   ]
  },
  {
   "cell_type": "markdown",
   "id": "2cb2b96c-2813-412e-aa42-dcc74aa3eb9a",
   "metadata": {},
   "source": [
    "### Python datetime.timedelta vs pd.Timedelta"
   ]
  },
  {
   "cell_type": "code",
   "execution_count": 89,
   "id": "5e779809-b11d-43d1-9d10-39698680835f",
   "metadata": {},
   "outputs": [],
   "source": [
    "import datetime as dt"
   ]
  },
  {
   "cell_type": "code",
   "execution_count": 90,
   "id": "6025780b-42ed-4384-8ebb-f902436518d9",
   "metadata": {},
   "outputs": [
    {
     "data": {
      "text/plain": [
       "datetime.timedelta(days=1)"
      ]
     },
     "execution_count": 90,
     "metadata": {},
     "output_type": "execute_result"
    }
   ],
   "source": [
    "dt.timedelta(days=1)"
   ]
  },
  {
   "cell_type": "code",
   "execution_count": 91,
   "id": "b42a8845-384e-4b0f-9c32-9f233efb25a3",
   "metadata": {},
   "outputs": [
    {
     "data": {
      "text/plain": [
       "True"
      ]
     },
     "execution_count": 91,
     "metadata": {},
     "output_type": "execute_result"
    }
   ],
   "source": [
    "pd.Timedelta(days=1) == dt.timedelta(days=1)"
   ]
  },
  {
   "cell_type": "code",
   "execution_count": 92,
   "id": "8e35ef56-d651-4d77-a74e-a0a4f0d4fd10",
   "metadata": {},
   "outputs": [
    {
     "data": {
      "text/plain": [
       "False"
      ]
     },
     "execution_count": 92,
     "metadata": {},
     "output_type": "execute_result"
    }
   ],
   "source": [
    "dt_1 = pd.Timedelta(days=1)\n",
    "dt_2 = dt.timedelta(days=1)\n",
    "isinstance(pd.Timedelta, dt.timedelta)"
   ]
  },
  {
   "cell_type": "code",
   "execution_count": 93,
   "id": "1b131e7d-80fe-470d-98f7-27c9e5798f59",
   "metadata": {},
   "outputs": [
    {
     "data": {
      "text/plain": [
       "True"
      ]
     },
     "execution_count": 93,
     "metadata": {},
     "output_type": "execute_result"
    }
   ],
   "source": [
    "isinstance(dt_1, dt.timedelta)"
   ]
  },
  {
   "cell_type": "code",
   "execution_count": 94,
   "id": "2ff2e830-1c13-4142-8e65-877cf6803e9f",
   "metadata": {},
   "outputs": [
    {
     "data": {
      "text/plain": [
       "True"
      ]
     },
     "execution_count": 94,
     "metadata": {},
     "output_type": "execute_result"
    }
   ],
   "source": [
    "isinstance(dt_1, pd.Timedelta)"
   ]
  },
  {
   "cell_type": "code",
   "execution_count": 95,
   "id": "c907d35f-48be-48b6-97f1-f81adb76f8f4",
   "metadata": {},
   "outputs": [
    {
     "data": {
      "text/plain": [
       "True"
      ]
     },
     "execution_count": 95,
     "metadata": {},
     "output_type": "execute_result"
    }
   ],
   "source": [
    "issubclass(pd.Timedelta, dt.timedelta)"
   ]
  },
  {
   "cell_type": "code",
   "execution_count": 96,
   "id": "834c7aa7-f886-4e0f-a11e-5a114cb351dc",
   "metadata": {},
   "outputs": [
    {
     "data": {
      "text/plain": [
       "False"
      ]
     },
     "execution_count": 96,
     "metadata": {},
     "output_type": "execute_result"
    }
   ],
   "source": [
    "issubclass(dt.timedelta, pd.Timedelta)"
   ]
  },
  {
   "cell_type": "code",
   "execution_count": 97,
   "id": "1f01f953-bb92-4bee-9737-88a0e781a03e",
   "metadata": {},
   "outputs": [
    {
     "data": {
      "text/plain": [
       "Timedelta('1 days 12:00:00')"
      ]
     },
     "execution_count": 97,
     "metadata": {},
     "output_type": "execute_result"
    }
   ],
   "source": [
    "pd.Timedelta(days = 1, hours = 12)"
   ]
  },
  {
   "cell_type": "code",
   "execution_count": 98,
   "id": "0f98e84d-6d5a-4da0-8538-f288f54b1526",
   "metadata": {},
   "outputs": [
    {
     "data": {
      "text/plain": [
       "Timedelta('0 days 00:00:00.000010')"
      ]
     },
     "execution_count": 98,
     "metadata": {},
     "output_type": "execute_result"
    }
   ],
   "source": [
    "pd.Timedelta('10 U')"
   ]
  },
  {
   "cell_type": "code",
   "execution_count": 99,
   "id": "878143e2-23a0-48a1-8aee-e5d9ceaee6f3",
   "metadata": {},
   "outputs": [
    {
     "data": {
      "text/plain": [
       "Timedelta('1 days 12:55:00')"
      ]
     },
     "execution_count": 99,
     "metadata": {},
     "output_type": "execute_result"
    }
   ],
   "source": [
    "pd.Timedelta(days=1, hours=12, minutes=55)"
   ]
  },
  {
   "cell_type": "code",
   "execution_count": 100,
   "id": "169b486f-6a29-430f-b3e3-84c3e9dc3a3e",
   "metadata": {},
   "outputs": [
    {
     "data": {
      "text/plain": [
       "Timedelta('1 days 12:55:00')"
      ]
     },
     "execution_count": 100,
     "metadata": {},
     "output_type": "execute_result"
    }
   ],
   "source": [
    "pd.Timedelta('1 day 12 hours 55 minutes')"
   ]
  },
  {
   "cell_type": "code",
   "execution_count": 101,
   "id": "f7335214-35ef-4bf7-969f-98c9fbbba2c7",
   "metadata": {},
   "outputs": [
    {
     "data": {
      "text/plain": [
       "Timedelta('1 days 12:55:00')"
      ]
     },
     "execution_count": 101,
     "metadata": {},
     "output_type": "execute_result"
    }
   ],
   "source": [
    "pd.Timedelta('1D 12H 55T')"
   ]
  },
  {
   "cell_type": "code",
   "execution_count": 102,
   "id": "7db1e357-42bf-44d7-8a0b-a603de8f0a0b",
   "metadata": {},
   "outputs": [
    {
     "data": {
      "text/plain": [
       "Timedelta('-106752 days +00:12:43.145224193')"
      ]
     },
     "execution_count": 102,
     "metadata": {},
     "output_type": "execute_result"
    }
   ],
   "source": [
    "dt_1.min"
   ]
  },
  {
   "cell_type": "code",
   "execution_count": 103,
   "id": "1a8527b2-c552-40b1-bcee-9eb01b93a5fc",
   "metadata": {},
   "outputs": [
    {
     "data": {
      "text/plain": [
       "Timedelta('2 days 00:00:00')"
      ]
     },
     "execution_count": 103,
     "metadata": {},
     "output_type": "execute_result"
    }
   ],
   "source": [
    "2 * dt_1"
   ]
  },
  {
   "cell_type": "code",
   "execution_count": 104,
   "id": "68f8a554-fbd3-409c-9ae3-d4bca5f0b8e5",
   "metadata": {},
   "outputs": [
    {
     "data": {
      "text/plain": [
       "Timestamp('2022-01-08 00:00:00')"
      ]
     },
     "execution_count": 104,
     "metadata": {},
     "output_type": "execute_result"
    }
   ],
   "source": [
    "week_td = pd.Timedelta('1W')\n",
    "pd.to_datetime('1 JAN 2022') + week_td"
   ]
  },
  {
   "cell_type": "code",
   "execution_count": 105,
   "id": "f15f6451-77e5-4213-acd2-95bf7482e9fb",
   "metadata": {},
   "outputs": [
    {
     "data": {
      "text/plain": [
       "Timestamp('2022-01-15 00:00:00')"
      ]
     },
     "execution_count": 105,
     "metadata": {},
     "output_type": "execute_result"
    }
   ],
   "source": [
    "pd.to_datetime('1 JAN 2022') + 2 * week_td"
   ]
  },
  {
   "cell_type": "markdown",
   "id": "4fe92566-0bc2-42a5-a700-487eec71f020",
   "metadata": {},
   "source": [
    "## There is more"
   ]
  },
  {
   "cell_type": "code",
   "execution_count": 106,
   "id": "48014ce0-f79c-4767-8772-1952cad8db9c",
   "metadata": {},
   "outputs": [
    {
     "data": {
      "text/html": [
       "<div>\n",
       "<style scoped>\n",
       "    .dataframe tbody tr th:only-of-type {\n",
       "        vertical-align: middle;\n",
       "    }\n",
       "\n",
       "    .dataframe tbody tr th {\n",
       "        vertical-align: top;\n",
       "    }\n",
       "\n",
       "    .dataframe thead th {\n",
       "        text-align: right;\n",
       "    }\n",
       "</style>\n",
       "<table border=\"1\" class=\"dataframe\">\n",
       "  <thead>\n",
       "    <tr style=\"text-align: right;\">\n",
       "      <th></th>\n",
       "      <th>item</th>\n",
       "      <th>purchase_dt</th>\n",
       "    </tr>\n",
       "  </thead>\n",
       "  <tbody>\n",
       "    <tr>\n",
       "      <th>0</th>\n",
       "      <td>item1</td>\n",
       "      <td>2021-01-01 00:00:00+00:00</td>\n",
       "    </tr>\n",
       "    <tr>\n",
       "      <th>1</th>\n",
       "      <td>item2</td>\n",
       "      <td>2021-01-02 00:00:00+00:00</td>\n",
       "    </tr>\n",
       "    <tr>\n",
       "      <th>2</th>\n",
       "      <td>item3</td>\n",
       "      <td>2021-01-03 00:00:00+00:00</td>\n",
       "    </tr>\n",
       "    <tr>\n",
       "      <th>3</th>\n",
       "      <td>item4</td>\n",
       "      <td>2021-01-04 00:00:00+00:00</td>\n",
       "    </tr>\n",
       "    <tr>\n",
       "      <th>4</th>\n",
       "      <td>item5</td>\n",
       "      <td>2021-01-05 00:00:00+00:00</td>\n",
       "    </tr>\n",
       "    <tr>\n",
       "      <th>5</th>\n",
       "      <td>item6</td>\n",
       "      <td>2021-01-06 00:00:00+00:00</td>\n",
       "    </tr>\n",
       "  </tbody>\n",
       "</table>\n",
       "</div>"
      ],
      "text/plain": [
       "    item               purchase_dt\n",
       "0  item1 2021-01-01 00:00:00+00:00\n",
       "1  item2 2021-01-02 00:00:00+00:00\n",
       "2  item3 2021-01-03 00:00:00+00:00\n",
       "3  item4 2021-01-04 00:00:00+00:00\n",
       "4  item5 2021-01-05 00:00:00+00:00\n",
       "5  item6 2021-01-06 00:00:00+00:00"
      ]
     },
     "execution_count": 106,
     "metadata": {},
     "output_type": "execute_result"
    }
   ],
   "source": [
    "import pandas as pd\n",
    "\n",
    "df = pd.DataFrame({       \n",
    "    'item': ['item1', 'item2', 'item3', 'item4', 'item5', 'item6'],\n",
    "    'purchase_dt': pd.date_range('2021-01-01', periods=6, freq='D', tz='UTC')\n",
    "})\n",
    "df"
   ]
  },
  {
   "cell_type": "code",
   "execution_count": 107,
   "id": "3d94fd92-9147-4774-b2d4-dfa2e333161e",
   "metadata": {},
   "outputs": [
    {
     "name": "stdout",
     "output_type": "stream",
     "text": [
      "<class 'pandas.core.frame.DataFrame'>\n",
      "RangeIndex: 6 entries, 0 to 5\n",
      "Data columns (total 2 columns):\n",
      " #   Column       Non-Null Count  Dtype              \n",
      "---  ------       --------------  -----              \n",
      " 0   item         6 non-null      object             \n",
      " 1   purchase_dt  6 non-null      datetime64[ns, UTC]\n",
      "dtypes: datetime64[ns, UTC](1), object(1)\n",
      "memory usage: 224.0+ bytes\n"
     ]
    }
   ],
   "source": [
    "df.info()"
   ]
  },
  {
   "cell_type": "code",
   "execution_count": 108,
   "id": "91ca02fa-1d4c-49ea-b18a-fb1ab411acbb",
   "metadata": {},
   "outputs": [],
   "source": [
    "df['1 week'] = pd.Timedelta('1W')"
   ]
  },
  {
   "cell_type": "code",
   "execution_count": 109,
   "id": "ab5cd893-e7a4-43e2-8fa9-37d1a37a7b88",
   "metadata": {},
   "outputs": [
    {
     "data": {
      "text/html": [
       "<div>\n",
       "<style scoped>\n",
       "    .dataframe tbody tr th:only-of-type {\n",
       "        vertical-align: middle;\n",
       "    }\n",
       "\n",
       "    .dataframe tbody tr th {\n",
       "        vertical-align: top;\n",
       "    }\n",
       "\n",
       "    .dataframe thead th {\n",
       "        text-align: right;\n",
       "    }\n",
       "</style>\n",
       "<table border=\"1\" class=\"dataframe\">\n",
       "  <thead>\n",
       "    <tr style=\"text-align: right;\">\n",
       "      <th></th>\n",
       "      <th>item</th>\n",
       "      <th>purchase_dt</th>\n",
       "      <th>1 week</th>\n",
       "    </tr>\n",
       "  </thead>\n",
       "  <tbody>\n",
       "    <tr>\n",
       "      <th>0</th>\n",
       "      <td>item1</td>\n",
       "      <td>2021-01-01 00:00:00+00:00</td>\n",
       "      <td>7 days</td>\n",
       "    </tr>\n",
       "    <tr>\n",
       "      <th>1</th>\n",
       "      <td>item2</td>\n",
       "      <td>2021-01-02 00:00:00+00:00</td>\n",
       "      <td>7 days</td>\n",
       "    </tr>\n",
       "    <tr>\n",
       "      <th>2</th>\n",
       "      <td>item3</td>\n",
       "      <td>2021-01-03 00:00:00+00:00</td>\n",
       "      <td>7 days</td>\n",
       "    </tr>\n",
       "    <tr>\n",
       "      <th>3</th>\n",
       "      <td>item4</td>\n",
       "      <td>2021-01-04 00:00:00+00:00</td>\n",
       "      <td>7 days</td>\n",
       "    </tr>\n",
       "    <tr>\n",
       "      <th>4</th>\n",
       "      <td>item5</td>\n",
       "      <td>2021-01-05 00:00:00+00:00</td>\n",
       "      <td>7 days</td>\n",
       "    </tr>\n",
       "    <tr>\n",
       "      <th>5</th>\n",
       "      <td>item6</td>\n",
       "      <td>2021-01-06 00:00:00+00:00</td>\n",
       "      <td>7 days</td>\n",
       "    </tr>\n",
       "  </tbody>\n",
       "</table>\n",
       "</div>"
      ],
      "text/plain": [
       "    item               purchase_dt 1 week\n",
       "0  item1 2021-01-01 00:00:00+00:00 7 days\n",
       "1  item2 2021-01-02 00:00:00+00:00 7 days\n",
       "2  item3 2021-01-03 00:00:00+00:00 7 days\n",
       "3  item4 2021-01-04 00:00:00+00:00 7 days\n",
       "4  item5 2021-01-05 00:00:00+00:00 7 days\n",
       "5  item6 2021-01-06 00:00:00+00:00 7 days"
      ]
     },
     "execution_count": 109,
     "metadata": {},
     "output_type": "execute_result"
    }
   ],
   "source": [
    "df"
   ]
  },
  {
   "cell_type": "code",
   "execution_count": 110,
   "id": "600e0f5f-2350-4912-845e-1ef3fba706d1",
   "metadata": {},
   "outputs": [
    {
     "data": {
      "text/html": [
       "<div>\n",
       "<style scoped>\n",
       "    .dataframe tbody tr th:only-of-type {\n",
       "        vertical-align: middle;\n",
       "    }\n",
       "\n",
       "    .dataframe tbody tr th {\n",
       "        vertical-align: top;\n",
       "    }\n",
       "\n",
       "    .dataframe thead th {\n",
       "        text-align: right;\n",
       "    }\n",
       "</style>\n",
       "<table border=\"1\" class=\"dataframe\">\n",
       "  <thead>\n",
       "    <tr style=\"text-align: right;\">\n",
       "      <th></th>\n",
       "      <th>item</th>\n",
       "      <th>purchase_dt</th>\n",
       "      <th>1 week</th>\n",
       "      <th>1_week_more</th>\n",
       "      <th>1_week_less</th>\n",
       "    </tr>\n",
       "  </thead>\n",
       "  <tbody>\n",
       "    <tr>\n",
       "      <th>0</th>\n",
       "      <td>item1</td>\n",
       "      <td>2021-01-01 00:00:00+00:00</td>\n",
       "      <td>7 days</td>\n",
       "      <td>2021-01-08 00:00:00+00:00</td>\n",
       "      <td>2020-12-25 00:00:00+00:00</td>\n",
       "    </tr>\n",
       "    <tr>\n",
       "      <th>1</th>\n",
       "      <td>item2</td>\n",
       "      <td>2021-01-02 00:00:00+00:00</td>\n",
       "      <td>7 days</td>\n",
       "      <td>2021-01-09 00:00:00+00:00</td>\n",
       "      <td>2020-12-26 00:00:00+00:00</td>\n",
       "    </tr>\n",
       "    <tr>\n",
       "      <th>2</th>\n",
       "      <td>item3</td>\n",
       "      <td>2021-01-03 00:00:00+00:00</td>\n",
       "      <td>7 days</td>\n",
       "      <td>2021-01-10 00:00:00+00:00</td>\n",
       "      <td>2020-12-27 00:00:00+00:00</td>\n",
       "    </tr>\n",
       "    <tr>\n",
       "      <th>3</th>\n",
       "      <td>item4</td>\n",
       "      <td>2021-01-04 00:00:00+00:00</td>\n",
       "      <td>7 days</td>\n",
       "      <td>2021-01-11 00:00:00+00:00</td>\n",
       "      <td>2020-12-28 00:00:00+00:00</td>\n",
       "    </tr>\n",
       "    <tr>\n",
       "      <th>4</th>\n",
       "      <td>item5</td>\n",
       "      <td>2021-01-05 00:00:00+00:00</td>\n",
       "      <td>7 days</td>\n",
       "      <td>2021-01-12 00:00:00+00:00</td>\n",
       "      <td>2020-12-29 00:00:00+00:00</td>\n",
       "    </tr>\n",
       "    <tr>\n",
       "      <th>5</th>\n",
       "      <td>item6</td>\n",
       "      <td>2021-01-06 00:00:00+00:00</td>\n",
       "      <td>7 days</td>\n",
       "      <td>2021-01-13 00:00:00+00:00</td>\n",
       "      <td>2020-12-30 00:00:00+00:00</td>\n",
       "    </tr>\n",
       "  </tbody>\n",
       "</table>\n",
       "</div>"
      ],
      "text/plain": [
       "    item               purchase_dt 1 week               1_week_more  \\\n",
       "0  item1 2021-01-01 00:00:00+00:00 7 days 2021-01-08 00:00:00+00:00   \n",
       "1  item2 2021-01-02 00:00:00+00:00 7 days 2021-01-09 00:00:00+00:00   \n",
       "2  item3 2021-01-03 00:00:00+00:00 7 days 2021-01-10 00:00:00+00:00   \n",
       "3  item4 2021-01-04 00:00:00+00:00 7 days 2021-01-11 00:00:00+00:00   \n",
       "4  item5 2021-01-05 00:00:00+00:00 7 days 2021-01-12 00:00:00+00:00   \n",
       "5  item6 2021-01-06 00:00:00+00:00 7 days 2021-01-13 00:00:00+00:00   \n",
       "\n",
       "                1_week_less  \n",
       "0 2020-12-25 00:00:00+00:00  \n",
       "1 2020-12-26 00:00:00+00:00  \n",
       "2 2020-12-27 00:00:00+00:00  \n",
       "3 2020-12-28 00:00:00+00:00  \n",
       "4 2020-12-29 00:00:00+00:00  \n",
       "5 2020-12-30 00:00:00+00:00  "
      ]
     },
     "execution_count": 110,
     "metadata": {},
     "output_type": "execute_result"
    }
   ],
   "source": [
    "df['1_week_more'] = df['purchase_dt'] + df['1 week']\n",
    "df['1_week_less'] = df['purchase_dt'] - df['1 week']\n",
    "df"
   ]
  },
  {
   "cell_type": "code",
   "execution_count": 111,
   "id": "b15b659e-1a93-497a-9fe7-ddff9a8ecefd",
   "metadata": {},
   "outputs": [
    {
     "name": "stdout",
     "output_type": "stream",
     "text": [
      "<class 'pandas.core.frame.DataFrame'>\n",
      "RangeIndex: 6 entries, 0 to 5\n",
      "Data columns (total 5 columns):\n",
      " #   Column       Non-Null Count  Dtype              \n",
      "---  ------       --------------  -----              \n",
      " 0   item         6 non-null      object             \n",
      " 1   purchase_dt  6 non-null      datetime64[ns, UTC]\n",
      " 2   1 week       6 non-null      timedelta64[ns]    \n",
      " 3   1_week_more  6 non-null      datetime64[ns, UTC]\n",
      " 4   1_week_less  6 non-null      datetime64[ns, UTC]\n",
      "dtypes: datetime64[ns, UTC](3), object(1), timedelta64[ns](1)\n",
      "memory usage: 368.0+ bytes\n"
     ]
    }
   ],
   "source": [
    "df.info()"
   ]
  },
  {
   "cell_type": "code",
   "execution_count": 112,
   "id": "5b064361-2271-4b4b-91c2-748299492372",
   "metadata": {},
   "outputs": [
    {
     "data": {
      "text/plain": [
       "TimedeltaIndex(['9 days', '10 days', '11 days', '12 days', '13 days'], dtype='timedelta64[ns]', freq='D')"
      ]
     },
     "execution_count": 112,
     "metadata": {},
     "output_type": "execute_result"
    }
   ],
   "source": [
    "pd.timedelta_range('1W 2 days', periods=5)"
   ]
  },
  {
   "cell_type": "code",
   "execution_count": 113,
   "id": "c3a4dae1-ced1-42c1-99cd-8ce854042aa1",
   "metadata": {},
   "outputs": [],
   "source": [
    "df = pd.DataFrame({       \n",
    "    'item': ['item1', 'item2', 'item3', 'item4', 'item5'],\n",
    "    'purchase_dt': pd.date_range('2021-01-01', periods=5, freq='D', tz='UTC'),\n",
    "    'time_deltas': pd.timedelta_range('1W 2 days 6 hours', periods=5)\n",
    "})"
   ]
  },
  {
   "cell_type": "markdown",
   "id": "e413c945-2e18-4bb5-8034-a5105475da95",
   "metadata": {},
   "source": [
    "# Recipe 5: Converting Datetime with TimeZone information "
   ]
  },
  {
   "cell_type": "code",
   "execution_count": 114,
   "id": "060d1a30-bd7b-48ee-a503-e1d26e95d50e",
   "metadata": {},
   "outputs": [],
   "source": [
    "import pandas as pd"
   ]
  },
  {
   "cell_type": "code",
   "execution_count": 115,
   "id": "1b1df1eb-8897-4245-a690-5df89ccbeb3d",
   "metadata": {},
   "outputs": [],
   "source": [
    "df = pd.DataFrame({       \n",
    "    'Location': [\n",
    "        'Los Angeles',\n",
    "        'New York',\n",
    "        'Berlin', \n",
    "        'New Delhi', \n",
    "       'Moscow', \n",
    "       'Tokyo', \n",
    "       'Dubai'],\n",
    "    'tz': ['US/Pacific', \n",
    "       'US/Eastern', \n",
    "       'Europe/Berlin', \n",
    "       'Asia/Kolkata', \n",
    "       'Europe/Moscow', \n",
    "       'Asia/Tokyo',\n",
    "       'Asia/Dubai'],\n",
    "    'visit_dt': pd.date_range(start='22:00',periods=7, freq='45min'),\n",
    "}).set_index('visit_dt')\n",
    "df"
   ]
  },
  {
   "cell_type": "code",
   "execution_count": 117,
   "id": "040c9dbf-6237-4bff-97fd-122bd797c964",
   "metadata": {},
   "outputs": [
    {
     "data": {
      "text/html": [
       "<div>\n",
       "<style scoped>\n",
       "    .dataframe tbody tr th:only-of-type {\n",
       "        vertical-align: middle;\n",
       "    }\n",
       "\n",
       "    .dataframe tbody tr th {\n",
       "        vertical-align: top;\n",
       "    }\n",
       "\n",
       "    .dataframe thead th {\n",
       "        text-align: right;\n",
       "    }\n",
       "</style>\n",
       "<table border=\"1\" class=\"dataframe\">\n",
       "  <thead>\n",
       "    <tr style=\"text-align: right;\">\n",
       "      <th></th>\n",
       "      <th>Location</th>\n",
       "      <th>tz</th>\n",
       "    </tr>\n",
       "    <tr>\n",
       "      <th>visit_dt</th>\n",
       "      <th></th>\n",
       "      <th></th>\n",
       "    </tr>\n",
       "  </thead>\n",
       "  <tbody>\n",
       "    <tr>\n",
       "      <th>2022-06-06 22:00:00+00:00</th>\n",
       "      <td>Los Angeles</td>\n",
       "      <td>US/Pacific</td>\n",
       "    </tr>\n",
       "    <tr>\n",
       "      <th>2022-06-06 22:45:00+00:00</th>\n",
       "      <td>New York</td>\n",
       "      <td>US/Eastern</td>\n",
       "    </tr>\n",
       "    <tr>\n",
       "      <th>2022-06-06 23:30:00+00:00</th>\n",
       "      <td>Berlin</td>\n",
       "      <td>Europe/Berlin</td>\n",
       "    </tr>\n",
       "    <tr>\n",
       "      <th>2022-06-07 00:15:00+00:00</th>\n",
       "      <td>New Delhi</td>\n",
       "      <td>Asia/Kolkata</td>\n",
       "    </tr>\n",
       "    <tr>\n",
       "      <th>2022-06-07 01:00:00+00:00</th>\n",
       "      <td>Moscow</td>\n",
       "      <td>Europe/Moscow</td>\n",
       "    </tr>\n",
       "    <tr>\n",
       "      <th>2022-06-07 01:45:00+00:00</th>\n",
       "      <td>Tokyo</td>\n",
       "      <td>Asia/Tokyo</td>\n",
       "    </tr>\n",
       "    <tr>\n",
       "      <th>2022-06-07 02:30:00+00:00</th>\n",
       "      <td>Dubai</td>\n",
       "      <td>Asia/Dubai</td>\n",
       "    </tr>\n",
       "  </tbody>\n",
       "</table>\n",
       "</div>"
      ],
      "text/plain": [
       "                              Location             tz\n",
       "visit_dt                                             \n",
       "2022-06-06 22:00:00+00:00  Los Angeles     US/Pacific\n",
       "2022-06-06 22:45:00+00:00     New York     US/Eastern\n",
       "2022-06-06 23:30:00+00:00       Berlin  Europe/Berlin\n",
       "2022-06-07 00:15:00+00:00    New Delhi   Asia/Kolkata\n",
       "2022-06-07 01:00:00+00:00       Moscow  Europe/Moscow\n",
       "2022-06-07 01:45:00+00:00        Tokyo     Asia/Tokyo\n",
       "2022-06-07 02:30:00+00:00        Dubai     Asia/Dubai"
      ]
     },
     "execution_count": 117,
     "metadata": {},
     "output_type": "execute_result"
    }
   ],
   "source": [
    "df = df.tz_localize('UTC')\n",
    "df"
   ]
  },
  {
   "cell_type": "code",
   "execution_count": 118,
   "id": "ccbf4185-b3b3-41d3-b34b-4eb5cebe468c",
   "metadata": {},
   "outputs": [
    {
     "data": {
      "text/html": [
       "<div>\n",
       "<style scoped>\n",
       "    .dataframe tbody tr th:only-of-type {\n",
       "        vertical-align: middle;\n",
       "    }\n",
       "\n",
       "    .dataframe tbody tr th {\n",
       "        vertical-align: top;\n",
       "    }\n",
       "\n",
       "    .dataframe thead th {\n",
       "        text-align: right;\n",
       "    }\n",
       "</style>\n",
       "<table border=\"1\" class=\"dataframe\">\n",
       "  <thead>\n",
       "    <tr style=\"text-align: right;\">\n",
       "      <th></th>\n",
       "      <th>Location</th>\n",
       "      <th>tz</th>\n",
       "    </tr>\n",
       "    <tr>\n",
       "      <th>visit_dt</th>\n",
       "      <th></th>\n",
       "      <th></th>\n",
       "    </tr>\n",
       "  </thead>\n",
       "  <tbody>\n",
       "    <tr>\n",
       "      <th>2022-06-07 07:00:00+09:00</th>\n",
       "      <td>Los Angeles</td>\n",
       "      <td>US/Pacific</td>\n",
       "    </tr>\n",
       "    <tr>\n",
       "      <th>2022-06-07 07:45:00+09:00</th>\n",
       "      <td>New York</td>\n",
       "      <td>US/Eastern</td>\n",
       "    </tr>\n",
       "    <tr>\n",
       "      <th>2022-06-07 08:30:00+09:00</th>\n",
       "      <td>Berlin</td>\n",
       "      <td>Europe/Berlin</td>\n",
       "    </tr>\n",
       "    <tr>\n",
       "      <th>2022-06-07 09:15:00+09:00</th>\n",
       "      <td>New Delhi</td>\n",
       "      <td>Asia/Kolkata</td>\n",
       "    </tr>\n",
       "    <tr>\n",
       "      <th>2022-06-07 10:00:00+09:00</th>\n",
       "      <td>Moscow</td>\n",
       "      <td>Europe/Moscow</td>\n",
       "    </tr>\n",
       "    <tr>\n",
       "      <th>2022-06-07 10:45:00+09:00</th>\n",
       "      <td>Tokyo</td>\n",
       "      <td>Asia/Tokyo</td>\n",
       "    </tr>\n",
       "    <tr>\n",
       "      <th>2022-06-07 11:30:00+09:00</th>\n",
       "      <td>Dubai</td>\n",
       "      <td>Asia/Dubai</td>\n",
       "    </tr>\n",
       "  </tbody>\n",
       "</table>\n",
       "</div>"
      ],
      "text/plain": [
       "                              Location             tz\n",
       "visit_dt                                             \n",
       "2022-06-07 07:00:00+09:00  Los Angeles     US/Pacific\n",
       "2022-06-07 07:45:00+09:00     New York     US/Eastern\n",
       "2022-06-07 08:30:00+09:00       Berlin  Europe/Berlin\n",
       "2022-06-07 09:15:00+09:00    New Delhi   Asia/Kolkata\n",
       "2022-06-07 10:00:00+09:00       Moscow  Europe/Moscow\n",
       "2022-06-07 10:45:00+09:00        Tokyo     Asia/Tokyo\n",
       "2022-06-07 11:30:00+09:00        Dubai     Asia/Dubai"
      ]
     },
     "execution_count": 118,
     "metadata": {},
     "output_type": "execute_result"
    }
   ],
   "source": [
    "df_hq = df.tz_convert('Asia/Tokyo')\n",
    "df_hq"
   ]
  },
  {
   "cell_type": "code",
   "execution_count": 119,
   "id": "6287b426-be0e-4dee-93d2-1e5b8d09086a",
   "metadata": {},
   "outputs": [
    {
     "data": {
      "text/html": [
       "<div>\n",
       "<style scoped>\n",
       "    .dataframe tbody tr th:only-of-type {\n",
       "        vertical-align: middle;\n",
       "    }\n",
       "\n",
       "    .dataframe tbody tr th {\n",
       "        vertical-align: top;\n",
       "    }\n",
       "\n",
       "    .dataframe thead th {\n",
       "        text-align: right;\n",
       "    }\n",
       "</style>\n",
       "<table border=\"1\" class=\"dataframe\">\n",
       "  <thead>\n",
       "    <tr style=\"text-align: right;\">\n",
       "      <th></th>\n",
       "      <th>Location</th>\n",
       "      <th>tz</th>\n",
       "      <th>local_dt</th>\n",
       "    </tr>\n",
       "    <tr>\n",
       "      <th>visit_dt</th>\n",
       "      <th></th>\n",
       "      <th></th>\n",
       "      <th></th>\n",
       "    </tr>\n",
       "  </thead>\n",
       "  <tbody>\n",
       "    <tr>\n",
       "      <th>2022-06-06 22:00:00+00:00</th>\n",
       "      <td>Los Angeles</td>\n",
       "      <td>US/Pacific</td>\n",
       "      <td>2022-06-06 15:00:00-07:00</td>\n",
       "    </tr>\n",
       "    <tr>\n",
       "      <th>2022-06-06 22:45:00+00:00</th>\n",
       "      <td>New York</td>\n",
       "      <td>US/Eastern</td>\n",
       "      <td>2022-06-06 18:45:00-04:00</td>\n",
       "    </tr>\n",
       "    <tr>\n",
       "      <th>2022-06-06 23:30:00+00:00</th>\n",
       "      <td>Berlin</td>\n",
       "      <td>Europe/Berlin</td>\n",
       "      <td>2022-06-07 01:30:00+02:00</td>\n",
       "    </tr>\n",
       "    <tr>\n",
       "      <th>2022-06-07 00:15:00+00:00</th>\n",
       "      <td>New Delhi</td>\n",
       "      <td>Asia/Kolkata</td>\n",
       "      <td>2022-06-07 05:45:00+05:30</td>\n",
       "    </tr>\n",
       "    <tr>\n",
       "      <th>2022-06-07 01:00:00+00:00</th>\n",
       "      <td>Moscow</td>\n",
       "      <td>Europe/Moscow</td>\n",
       "      <td>2022-06-07 04:00:00+03:00</td>\n",
       "    </tr>\n",
       "    <tr>\n",
       "      <th>2022-06-07 01:45:00+00:00</th>\n",
       "      <td>Tokyo</td>\n",
       "      <td>Asia/Tokyo</td>\n",
       "      <td>2022-06-07 10:45:00+09:00</td>\n",
       "    </tr>\n",
       "    <tr>\n",
       "      <th>2022-06-07 02:30:00+00:00</th>\n",
       "      <td>Dubai</td>\n",
       "      <td>Asia/Dubai</td>\n",
       "      <td>2022-06-07 06:30:00+04:00</td>\n",
       "    </tr>\n",
       "  </tbody>\n",
       "</table>\n",
       "</div>"
      ],
      "text/plain": [
       "                              Location             tz  \\\n",
       "visit_dt                                                \n",
       "2022-06-06 22:00:00+00:00  Los Angeles     US/Pacific   \n",
       "2022-06-06 22:45:00+00:00     New York     US/Eastern   \n",
       "2022-06-06 23:30:00+00:00       Berlin  Europe/Berlin   \n",
       "2022-06-07 00:15:00+00:00    New Delhi   Asia/Kolkata   \n",
       "2022-06-07 01:00:00+00:00       Moscow  Europe/Moscow   \n",
       "2022-06-07 01:45:00+00:00        Tokyo     Asia/Tokyo   \n",
       "2022-06-07 02:30:00+00:00        Dubai     Asia/Dubai   \n",
       "\n",
       "                                            local_dt  \n",
       "visit_dt                                              \n",
       "2022-06-06 22:00:00+00:00  2022-06-06 15:00:00-07:00  \n",
       "2022-06-06 22:45:00+00:00  2022-06-06 18:45:00-04:00  \n",
       "2022-06-06 23:30:00+00:00  2022-06-07 01:30:00+02:00  \n",
       "2022-06-07 00:15:00+00:00  2022-06-07 05:45:00+05:30  \n",
       "2022-06-07 01:00:00+00:00  2022-06-07 04:00:00+03:00  \n",
       "2022-06-07 01:45:00+00:00  2022-06-07 10:45:00+09:00  \n",
       "2022-06-07 02:30:00+00:00  2022-06-07 06:30:00+04:00  "
      ]
     },
     "execution_count": 119,
     "metadata": {},
     "output_type": "execute_result"
    }
   ],
   "source": [
    "df['local_dt'] = df.index\n",
    "df['local_dt'] = \\\n",
    "    df.apply(lambda x: pd.Timestamp.tz_convert(x['local_dt'], x['tz']), axis=1)\n",
    "df"
   ]
  },
  {
   "cell_type": "code",
   "execution_count": 120,
   "id": "2ffceff5-a28f-4dda-969c-2f5ea410b67c",
   "metadata": {},
   "outputs": [
    {
     "data": {
      "text/plain": [
       "visit_dt\n",
       "2022-06-06 22:00:00+00:00    2022-06-06 15:00:00-07:00\n",
       "2022-06-06 22:45:00+00:00    2022-06-06 18:45:00-04:00\n",
       "2022-06-06 23:30:00+00:00    2022-06-07 01:30:00+02:00\n",
       "2022-06-07 00:15:00+00:00    2022-06-07 05:45:00+05:30\n",
       "2022-06-07 01:00:00+00:00    2022-06-07 04:00:00+03:00\n",
       "2022-06-07 01:45:00+00:00    2022-06-07 10:45:00+09:00\n",
       "2022-06-07 02:30:00+00:00    2022-06-07 06:30:00+04:00\n",
       "dtype: object"
      ]
     },
     "execution_count": 120,
     "metadata": {},
     "output_type": "execute_result"
    }
   ],
   "source": [
    "df.apply(lambda x: pd.Timestamp.tz_convert(x['local_dt'], x['tz']), axis=1)"
   ]
  },
  {
   "cell_type": "code",
   "execution_count": 121,
   "id": "bd6ce8d0-c3f1-49c8-b22d-592d2afed664",
   "metadata": {},
   "outputs": [
    {
     "data": {
      "text/plain": [
       "visit_dt\n",
       "2022-06-06 22:00:00+00:00   2022-06-06 22:00:00+00:00\n",
       "2022-06-06 22:45:00+00:00   2022-06-06 22:45:00+00:00\n",
       "2022-06-06 23:30:00+00:00   2022-06-06 23:30:00+00:00\n",
       "2022-06-07 00:15:00+00:00   2022-06-07 00:15:00+00:00\n",
       "2022-06-07 01:00:00+00:00   2022-06-07 01:00:00+00:00\n",
       "2022-06-07 01:45:00+00:00   2022-06-07 01:45:00+00:00\n",
       "2022-06-07 02:30:00+00:00   2022-06-07 02:30:00+00:00\n",
       "Name: local_dt, dtype: datetime64[ns, UTC]"
      ]
     },
     "execution_count": 121,
     "metadata": {},
     "output_type": "execute_result"
    }
   ],
   "source": [
    "pd.to_datetime(df['local_dt'], utc=True)"
   ]
  },
  {
   "cell_type": "markdown",
   "id": "3faa8089-0a4f-4d07-99f7-e35bf2287f12",
   "metadata": {},
   "source": [
    "## There is More"
   ]
  },
  {
   "cell_type": "code",
   "execution_count": 122,
   "id": "b688c2ea-e661-4dc1-b93e-d1136886f0da",
   "metadata": {},
   "outputs": [
    {
     "data": {
      "text/html": [
       "<div>\n",
       "<style scoped>\n",
       "    .dataframe tbody tr th:only-of-type {\n",
       "        vertical-align: middle;\n",
       "    }\n",
       "\n",
       "    .dataframe tbody tr th {\n",
       "        vertical-align: top;\n",
       "    }\n",
       "\n",
       "    .dataframe thead th {\n",
       "        text-align: right;\n",
       "    }\n",
       "</style>\n",
       "<table border=\"1\" class=\"dataframe\">\n",
       "  <thead>\n",
       "    <tr style=\"text-align: right;\">\n",
       "      <th></th>\n",
       "      <th>Location</th>\n",
       "      <th>tz</th>\n",
       "    </tr>\n",
       "    <tr>\n",
       "      <th>visit_dt</th>\n",
       "      <th></th>\n",
       "      <th></th>\n",
       "    </tr>\n",
       "  </thead>\n",
       "  <tbody>\n",
       "    <tr>\n",
       "      <th>2022-06-07 07:00:00+09:00</th>\n",
       "      <td>Los Angeles</td>\n",
       "      <td>US/Pacific</td>\n",
       "    </tr>\n",
       "    <tr>\n",
       "      <th>2022-06-07 07:45:00+09:00</th>\n",
       "      <td>New York</td>\n",
       "      <td>US/Eastern</td>\n",
       "    </tr>\n",
       "    <tr>\n",
       "      <th>2022-06-07 08:30:00+09:00</th>\n",
       "      <td>Berlin</td>\n",
       "      <td>Europe/Berlin</td>\n",
       "    </tr>\n",
       "    <tr>\n",
       "      <th>2022-06-07 09:15:00+09:00</th>\n",
       "      <td>New Delhi</td>\n",
       "      <td>Asia/Kolkata</td>\n",
       "    </tr>\n",
       "    <tr>\n",
       "      <th>2022-06-07 10:00:00+09:00</th>\n",
       "      <td>Moscow</td>\n",
       "      <td>Europe/Moscow</td>\n",
       "    </tr>\n",
       "    <tr>\n",
       "      <th>2022-06-07 10:45:00+09:00</th>\n",
       "      <td>Tokyo</td>\n",
       "      <td>Asia/Tokyo</td>\n",
       "    </tr>\n",
       "    <tr>\n",
       "      <th>2022-06-07 11:30:00+09:00</th>\n",
       "      <td>Dubai</td>\n",
       "      <td>Asia/Dubai</td>\n",
       "    </tr>\n",
       "  </tbody>\n",
       "</table>\n",
       "</div>"
      ],
      "text/plain": [
       "                              Location             tz\n",
       "visit_dt                                             \n",
       "2022-06-07 07:00:00+09:00  Los Angeles     US/Pacific\n",
       "2022-06-07 07:45:00+09:00     New York     US/Eastern\n",
       "2022-06-07 08:30:00+09:00       Berlin  Europe/Berlin\n",
       "2022-06-07 09:15:00+09:00    New Delhi   Asia/Kolkata\n",
       "2022-06-07 10:00:00+09:00       Moscow  Europe/Moscow\n",
       "2022-06-07 10:45:00+09:00        Tokyo     Asia/Tokyo\n",
       "2022-06-07 11:30:00+09:00        Dubai     Asia/Dubai"
      ]
     },
     "execution_count": 122,
     "metadata": {},
     "output_type": "execute_result"
    }
   ],
   "source": [
    "df = pd.DataFrame({       \n",
    "    'Location': ['Los Angeles', \n",
    "'New York',\n",
    "'Berlin', \n",
    "'New Delhi', \n",
    "'Moscow', \n",
    "'Tokyo', \n",
    "'Dubai'],\n",
    "    'tz': ['US/Pacific', \n",
    "'US/Eastern', \n",
    "'Europe/Berlin', \n",
    "'Asia/Kolkata', \n",
    "'Europe/Moscow', \n",
    "'Asia/Tokyo',\n",
    "'Asia/Dubai'],\n",
    "'visit_dt': pd.date_range(start='22:00',periods=7, freq='45min'),\n",
    "}).set_index('visit_dt').tz_localize('UTC').tz_convert('Asia/Tokyo')\n",
    "df"
   ]
  },
  {
   "cell_type": "code",
   "execution_count": 123,
   "id": "af8828e6-17a7-4bcb-9047-9de5f87d46be",
   "metadata": {},
   "outputs": [
    {
     "data": {
      "text/html": [
       "<div>\n",
       "<style scoped>\n",
       "    .dataframe tbody tr th:only-of-type {\n",
       "        vertical-align: middle;\n",
       "    }\n",
       "\n",
       "    .dataframe tbody tr th {\n",
       "        vertical-align: top;\n",
       "    }\n",
       "\n",
       "    .dataframe thead th {\n",
       "        text-align: right;\n",
       "    }\n",
       "</style>\n",
       "<table border=\"1\" class=\"dataframe\">\n",
       "  <thead>\n",
       "    <tr style=\"text-align: right;\">\n",
       "      <th></th>\n",
       "      <th>Location</th>\n",
       "      <th>tz</th>\n",
       "    </tr>\n",
       "    <tr>\n",
       "      <th>visit_dt</th>\n",
       "      <th></th>\n",
       "      <th></th>\n",
       "    </tr>\n",
       "  </thead>\n",
       "  <tbody>\n",
       "    <tr>\n",
       "      <th>2022-06-07 07:00 AM</th>\n",
       "      <td>Los Angeles</td>\n",
       "      <td>US/Pacific</td>\n",
       "    </tr>\n",
       "    <tr>\n",
       "      <th>2022-06-07 07:45 AM</th>\n",
       "      <td>New York</td>\n",
       "      <td>US/Eastern</td>\n",
       "    </tr>\n",
       "    <tr>\n",
       "      <th>2022-06-07 08:30 AM</th>\n",
       "      <td>Berlin</td>\n",
       "      <td>Europe/Berlin</td>\n",
       "    </tr>\n",
       "    <tr>\n",
       "      <th>2022-06-07 09:15 AM</th>\n",
       "      <td>New Delhi</td>\n",
       "      <td>Asia/Kolkata</td>\n",
       "    </tr>\n",
       "    <tr>\n",
       "      <th>2022-06-07 10:00 AM</th>\n",
       "      <td>Moscow</td>\n",
       "      <td>Europe/Moscow</td>\n",
       "    </tr>\n",
       "    <tr>\n",
       "      <th>2022-06-07 10:45 AM</th>\n",
       "      <td>Tokyo</td>\n",
       "      <td>Asia/Tokyo</td>\n",
       "    </tr>\n",
       "    <tr>\n",
       "      <th>2022-06-07 11:30 AM</th>\n",
       "      <td>Dubai</td>\n",
       "      <td>Asia/Dubai</td>\n",
       "    </tr>\n",
       "  </tbody>\n",
       "</table>\n",
       "</div>"
      ],
      "text/plain": [
       "                        Location             tz\n",
       "visit_dt                                       \n",
       "2022-06-07 07:00 AM  Los Angeles     US/Pacific\n",
       "2022-06-07 07:45 AM     New York     US/Eastern\n",
       "2022-06-07 08:30 AM       Berlin  Europe/Berlin\n",
       "2022-06-07 09:15 AM    New Delhi   Asia/Kolkata\n",
       "2022-06-07 10:00 AM       Moscow  Europe/Moscow\n",
       "2022-06-07 10:45 AM        Tokyo     Asia/Tokyo\n",
       "2022-06-07 11:30 AM        Dubai     Asia/Dubai"
      ]
     },
     "execution_count": 123,
     "metadata": {},
     "output_type": "execute_result"
    }
   ],
   "source": [
    "df.index = df.index.strftime('%Y-%m-%d %H:%M %p')\n",
    "df"
   ]
  },
  {
   "cell_type": "code",
   "execution_count": null,
   "id": "8317f909-cedc-47bb-973f-0e4e0cb61869",
   "metadata": {},
   "outputs": [],
   "source": [
    "df.info()"
   ]
  },
  {
   "cell_type": "markdown",
   "id": "946ab47f-0721-4923-afe6-be132b47e503",
   "metadata": {},
   "source": [
    "# Recipe 6: Working with Date Offets"
   ]
  },
  {
   "cell_type": "code",
   "execution_count": 124,
   "id": "6b4f33d2-ed0e-4c2e-ad68-6ea20e6ef79f",
   "metadata": {},
   "outputs": [],
   "source": [
    "import pandas as pd\n",
    "import numpy as np"
   ]
  },
  {
   "cell_type": "code",
   "execution_count": 125,
   "id": "c5615e24-d16b-4e05-a3e5-7ac9b214471d",
   "metadata": {},
   "outputs": [
    {
     "data": {
      "text/html": [
       "<div>\n",
       "<style scoped>\n",
       "    .dataframe tbody tr th:only-of-type {\n",
       "        vertical-align: middle;\n",
       "    }\n",
       "\n",
       "    .dataframe tbody tr th {\n",
       "        vertical-align: top;\n",
       "    }\n",
       "\n",
       "    .dataframe thead th {\n",
       "        text-align: right;\n",
       "    }\n",
       "</style>\n",
       "<table border=\"1\" class=\"dataframe\">\n",
       "  <thead>\n",
       "    <tr style=\"text-align: right;\">\n",
       "      <th></th>\n",
       "      <th>production</th>\n",
       "    </tr>\n",
       "    <tr>\n",
       "      <th>purchase_dt</th>\n",
       "      <th></th>\n",
       "    </tr>\n",
       "  </thead>\n",
       "  <tbody>\n",
       "    <tr>\n",
       "      <th>2021-01-01</th>\n",
       "      <td>13</td>\n",
       "    </tr>\n",
       "    <tr>\n",
       "      <th>2021-01-02</th>\n",
       "      <td>17</td>\n",
       "    </tr>\n",
       "    <tr>\n",
       "      <th>2021-01-03</th>\n",
       "      <td>8</td>\n",
       "    </tr>\n",
       "    <tr>\n",
       "      <th>2021-01-04</th>\n",
       "      <td>19</td>\n",
       "    </tr>\n",
       "    <tr>\n",
       "      <th>2021-01-05</th>\n",
       "      <td>4</td>\n",
       "    </tr>\n",
       "    <tr>\n",
       "      <th>2021-01-06</th>\n",
       "      <td>5</td>\n",
       "    </tr>\n",
       "  </tbody>\n",
       "</table>\n",
       "</div>"
      ],
      "text/plain": [
       "             production\n",
       "purchase_dt            \n",
       "2021-01-01           13\n",
       "2021-01-02           17\n",
       "2021-01-03            8\n",
       "2021-01-04           19\n",
       "2021-01-05            4\n",
       "2021-01-06            5"
      ]
     },
     "execution_count": 125,
     "metadata": {},
     "output_type": "execute_result"
    }
   ],
   "source": [
    "np.random.seed(10)\n",
    "df = pd.DataFrame({       \n",
    "    'purchase_dt': pd.date_range('2021-01-01', periods=6, freq='D'),\n",
    "    'production' : np.random.randint(4, 20, 6)\n",
    "}).set_index('purchase_dt')\n",
    "df"
   ]
  },
  {
   "cell_type": "code",
   "execution_count": 126,
   "id": "fdfcbbc9-59df-4e5c-94b6-34fb407f96c5",
   "metadata": {},
   "outputs": [],
   "source": [
    "df['day'] = df.index.day_name()\n",
    "df"
   ]
  },
  {
   "cell_type": "code",
   "execution_count": 128,
   "id": "4c087c05-3d52-4aae-9f99-2ddf14d6f697",
   "metadata": {},
   "outputs": [
    {
     "data": {
      "text/html": [
       "<div>\n",
       "<style scoped>\n",
       "    .dataframe tbody tr th:only-of-type {\n",
       "        vertical-align: middle;\n",
       "    }\n",
       "\n",
       "    .dataframe tbody tr th {\n",
       "        vertical-align: top;\n",
       "    }\n",
       "\n",
       "    .dataframe thead th {\n",
       "        text-align: right;\n",
       "    }\n",
       "</style>\n",
       "<table border=\"1\" class=\"dataframe\">\n",
       "  <thead>\n",
       "    <tr style=\"text-align: right;\">\n",
       "      <th></th>\n",
       "      <th></th>\n",
       "      <th>production</th>\n",
       "    </tr>\n",
       "    <tr>\n",
       "      <th>purchase_dt</th>\n",
       "      <th>day</th>\n",
       "      <th></th>\n",
       "    </tr>\n",
       "  </thead>\n",
       "  <tbody>\n",
       "    <tr>\n",
       "      <th>2021-01-01</th>\n",
       "      <th>Friday</th>\n",
       "      <td>13</td>\n",
       "    </tr>\n",
       "    <tr>\n",
       "      <th>2021-01-02</th>\n",
       "      <th>Saturday</th>\n",
       "      <td>17</td>\n",
       "    </tr>\n",
       "    <tr>\n",
       "      <th>2021-01-03</th>\n",
       "      <th>Sunday</th>\n",
       "      <td>8</td>\n",
       "    </tr>\n",
       "    <tr>\n",
       "      <th>2021-01-04</th>\n",
       "      <th>Monday</th>\n",
       "      <td>19</td>\n",
       "    </tr>\n",
       "    <tr>\n",
       "      <th>2021-01-05</th>\n",
       "      <th>Tuesday</th>\n",
       "      <td>4</td>\n",
       "    </tr>\n",
       "    <tr>\n",
       "      <th>2021-01-06</th>\n",
       "      <th>Wednesday</th>\n",
       "      <td>5</td>\n",
       "    </tr>\n",
       "  </tbody>\n",
       "</table>\n",
       "</div>"
      ],
      "text/plain": [
       "                       production\n",
       "purchase_dt day                  \n",
       "2021-01-01  Friday             13\n",
       "2021-01-02  Saturday           17\n",
       "2021-01-03  Sunday              8\n",
       "2021-01-04  Monday             19\n",
       "2021-01-05  Tuesday             4\n",
       "2021-01-06  Wednesday           5"
      ]
     },
     "execution_count": 128,
     "metadata": {},
     "output_type": "execute_result"
    }
   ],
   "source": [
    "df.reset_index().groupby(['purchase_dt', 'day']).sum()"
   ]
  },
  {
   "cell_type": "code",
   "execution_count": 129,
   "id": "766f02a7-1575-4486-a779-a34fa3f0bdc3",
   "metadata": {},
   "outputs": [
    {
     "data": {
      "text/plain": [
       "pandas._libs.tslibs.offsets.BusinessDay"
      ]
     },
     "execution_count": 129,
     "metadata": {},
     "output_type": "execute_result"
    }
   ],
   "source": [
    "type(pd.offsets.BDay(0))"
   ]
  },
  {
   "cell_type": "code",
   "execution_count": 130,
   "id": "343116aa-40b4-4835-8d46-477847d5c386",
   "metadata": {},
   "outputs": [
    {
     "data": {
      "text/html": [
       "<div>\n",
       "<style scoped>\n",
       "    .dataframe tbody tr th:only-of-type {\n",
       "        vertical-align: middle;\n",
       "    }\n",
       "\n",
       "    .dataframe tbody tr th {\n",
       "        vertical-align: top;\n",
       "    }\n",
       "\n",
       "    .dataframe thead th {\n",
       "        text-align: right;\n",
       "    }\n",
       "</style>\n",
       "<table border=\"1\" class=\"dataframe\">\n",
       "  <thead>\n",
       "    <tr style=\"text-align: right;\">\n",
       "      <th></th>\n",
       "      <th>production</th>\n",
       "      <th>day</th>\n",
       "      <th>BusinessDay</th>\n",
       "      <th>BDay Name</th>\n",
       "    </tr>\n",
       "    <tr>\n",
       "      <th>purchase_dt</th>\n",
       "      <th></th>\n",
       "      <th></th>\n",
       "      <th></th>\n",
       "      <th></th>\n",
       "    </tr>\n",
       "  </thead>\n",
       "  <tbody>\n",
       "    <tr>\n",
       "      <th>2021-01-01</th>\n",
       "      <td>13</td>\n",
       "      <td>Friday</td>\n",
       "      <td>2021-01-01</td>\n",
       "      <td>Friday</td>\n",
       "    </tr>\n",
       "    <tr>\n",
       "      <th>2021-01-02</th>\n",
       "      <td>17</td>\n",
       "      <td>Saturday</td>\n",
       "      <td>2021-01-04</td>\n",
       "      <td>Monday</td>\n",
       "    </tr>\n",
       "    <tr>\n",
       "      <th>2021-01-03</th>\n",
       "      <td>8</td>\n",
       "      <td>Sunday</td>\n",
       "      <td>2021-01-04</td>\n",
       "      <td>Monday</td>\n",
       "    </tr>\n",
       "    <tr>\n",
       "      <th>2021-01-04</th>\n",
       "      <td>19</td>\n",
       "      <td>Monday</td>\n",
       "      <td>2021-01-04</td>\n",
       "      <td>Monday</td>\n",
       "    </tr>\n",
       "    <tr>\n",
       "      <th>2021-01-05</th>\n",
       "      <td>4</td>\n",
       "      <td>Tuesday</td>\n",
       "      <td>2021-01-05</td>\n",
       "      <td>Tuesday</td>\n",
       "    </tr>\n",
       "    <tr>\n",
       "      <th>2021-01-06</th>\n",
       "      <td>5</td>\n",
       "      <td>Wednesday</td>\n",
       "      <td>2021-01-06</td>\n",
       "      <td>Wednesday</td>\n",
       "    </tr>\n",
       "  </tbody>\n",
       "</table>\n",
       "</div>"
      ],
      "text/plain": [
       "             production        day BusinessDay  BDay Name\n",
       "purchase_dt                                              \n",
       "2021-01-01           13     Friday  2021-01-01     Friday\n",
       "2021-01-02           17   Saturday  2021-01-04     Monday\n",
       "2021-01-03            8     Sunday  2021-01-04     Monday\n",
       "2021-01-04           19     Monday  2021-01-04     Monday\n",
       "2021-01-05            4    Tuesday  2021-01-05    Tuesday\n",
       "2021-01-06            5  Wednesday  2021-01-06  Wednesday"
      ]
     },
     "execution_count": 130,
     "metadata": {},
     "output_type": "execute_result"
    }
   ],
   "source": [
    "df['BusinessDay'] = df.index - pd.offsets.BDay(0)\n",
    "df['BDay Name'] = df['BusinessDay'].dt.day_name()\n",
    "df"
   ]
  },
  {
   "cell_type": "code",
   "execution_count": 131,
   "id": "0ea9823c-4457-4ec9-8f5f-aa8e7767e1db",
   "metadata": {},
   "outputs": [
    {
     "data": {
      "text/html": [
       "<div>\n",
       "<style scoped>\n",
       "    .dataframe tbody tr th:only-of-type {\n",
       "        vertical-align: middle;\n",
       "    }\n",
       "\n",
       "    .dataframe tbody tr th {\n",
       "        vertical-align: top;\n",
       "    }\n",
       "\n",
       "    .dataframe thead th {\n",
       "        text-align: right;\n",
       "    }\n",
       "</style>\n",
       "<table border=\"1\" class=\"dataframe\">\n",
       "  <thead>\n",
       "    <tr style=\"text-align: right;\">\n",
       "      <th></th>\n",
       "      <th></th>\n",
       "      <th>production</th>\n",
       "    </tr>\n",
       "    <tr>\n",
       "      <th>BusinessDay</th>\n",
       "      <th>BDay Name</th>\n",
       "      <th></th>\n",
       "    </tr>\n",
       "  </thead>\n",
       "  <tbody>\n",
       "    <tr>\n",
       "      <th>2021-01-01</th>\n",
       "      <th>Friday</th>\n",
       "      <td>13</td>\n",
       "    </tr>\n",
       "    <tr>\n",
       "      <th>2021-01-04</th>\n",
       "      <th>Monday</th>\n",
       "      <td>44</td>\n",
       "    </tr>\n",
       "    <tr>\n",
       "      <th>2021-01-05</th>\n",
       "      <th>Tuesday</th>\n",
       "      <td>4</td>\n",
       "    </tr>\n",
       "    <tr>\n",
       "      <th>2021-01-06</th>\n",
       "      <th>Wednesday</th>\n",
       "      <td>5</td>\n",
       "    </tr>\n",
       "  </tbody>\n",
       "</table>\n",
       "</div>"
      ],
      "text/plain": [
       "                       production\n",
       "BusinessDay BDay Name            \n",
       "2021-01-01  Friday             13\n",
       "2021-01-04  Monday             44\n",
       "2021-01-05  Tuesday             4\n",
       "2021-01-06  Wednesday           5"
      ]
     },
     "execution_count": 131,
     "metadata": {},
     "output_type": "execute_result"
    }
   ],
   "source": [
    "df.groupby(['BusinessDay', 'BDay Name']).sum()"
   ]
  },
  {
   "cell_type": "code",
   "execution_count": 133,
   "id": "41e435fa-b8de-42ca-9f4e-666e43fbfdf8",
   "metadata": {},
   "outputs": [
    {
     "data": {
      "text/plain": [
       "<AxesSubplot:xlabel='BusinessDay,BDay Name'>"
      ]
     },
     "execution_count": 133,
     "metadata": {},
     "output_type": "execute_result"
    },
    {
     "data": {
      "image/png": "[encoded data removed]",
      "text/plain": [
       "<Figure size 432x288 with 1 Axes>"
      ]
     },
     "metadata": {
      "needs_background": "light"
     },
     "output_type": "display_data"
    }
   ],
   "source": [
    "df.groupby(['BusinessDay', 'BDay Name']).sum().plot.bar(rot=45)"
   ]
  },
  {
   "cell_type": "code",
   "execution_count": 134,
   "id": "1e8b940e-6bee-4a81-8b41-53ad3cfd654c",
   "metadata": {},
   "outputs": [
    {
     "data": {
      "text/html": [
       "<div>\n",
       "<style scoped>\n",
       "    .dataframe tbody tr th:only-of-type {\n",
       "        vertical-align: middle;\n",
       "    }\n",
       "\n",
       "    .dataframe tbody tr th {\n",
       "        vertical-align: top;\n",
       "    }\n",
       "\n",
       "    .dataframe thead th {\n",
       "        text-align: right;\n",
       "    }\n",
       "</style>\n",
       "<table border=\"1\" class=\"dataframe\">\n",
       "  <thead>\n",
       "    <tr style=\"text-align: right;\">\n",
       "      <th></th>\n",
       "      <th>production</th>\n",
       "    </tr>\n",
       "    <tr>\n",
       "      <th>purchase_dt</th>\n",
       "      <th></th>\n",
       "    </tr>\n",
       "  </thead>\n",
       "  <tbody>\n",
       "    <tr>\n",
       "      <th>2021-01-01</th>\n",
       "      <td>13</td>\n",
       "    </tr>\n",
       "    <tr>\n",
       "      <th>2021-01-02</th>\n",
       "      <td>17</td>\n",
       "    </tr>\n",
       "    <tr>\n",
       "      <th>2021-01-03</th>\n",
       "      <td>8</td>\n",
       "    </tr>\n",
       "    <tr>\n",
       "      <th>2021-01-04</th>\n",
       "      <td>19</td>\n",
       "    </tr>\n",
       "    <tr>\n",
       "      <th>2021-01-05</th>\n",
       "      <td>4</td>\n",
       "    </tr>\n",
       "    <tr>\n",
       "      <th>2021-01-06</th>\n",
       "      <td>5</td>\n",
       "    </tr>\n",
       "  </tbody>\n",
       "</table>\n",
       "</div>"
      ],
      "text/plain": [
       "             production\n",
       "purchase_dt            \n",
       "2021-01-01           13\n",
       "2021-01-02           17\n",
       "2021-01-03            8\n",
       "2021-01-04           19\n",
       "2021-01-05            4\n",
       "2021-01-06            5"
      ]
     },
     "execution_count": 134,
     "metadata": {},
     "output_type": "execute_result"
    }
   ],
   "source": [
    "np.random.seed(10)\n",
    "df = pd.DataFrame({       \n",
    "    'purchase_dt': pd.date_range('2021-01-01', periods=6, freq='D'),\n",
    "    'production' : np.random.randint(4, 20, 6)\n",
    "}).set_index('purchase_dt')\n",
    "df"
   ]
  },
  {
   "cell_type": "code",
   "execution_count": 135,
   "id": "836cf501-8a86-4572-8fb7-d1fa45a2fade",
   "metadata": {},
   "outputs": [
    {
     "data": {
      "text/html": [
       "<div>\n",
       "<style scoped>\n",
       "    .dataframe tbody tr th:only-of-type {\n",
       "        vertical-align: middle;\n",
       "    }\n",
       "\n",
       "    .dataframe tbody tr th {\n",
       "        vertical-align: top;\n",
       "    }\n",
       "\n",
       "    .dataframe thead th {\n",
       "        text-align: right;\n",
       "    }\n",
       "</style>\n",
       "<table border=\"1\" class=\"dataframe\">\n",
       "  <thead>\n",
       "    <tr style=\"text-align: right;\">\n",
       "      <th></th>\n",
       "      <th>production</th>\n",
       "      <th>QuarterEnd</th>\n",
       "    </tr>\n",
       "    <tr>\n",
       "      <th>purchase_dt</th>\n",
       "      <th></th>\n",
       "      <th></th>\n",
       "    </tr>\n",
       "  </thead>\n",
       "  <tbody>\n",
       "    <tr>\n",
       "      <th>2021-01-01</th>\n",
       "      <td>13</td>\n",
       "      <td>2021-03-31</td>\n",
       "    </tr>\n",
       "    <tr>\n",
       "      <th>2021-01-02</th>\n",
       "      <td>17</td>\n",
       "      <td>2021-03-31</td>\n",
       "    </tr>\n",
       "    <tr>\n",
       "      <th>2021-01-03</th>\n",
       "      <td>8</td>\n",
       "      <td>2021-03-31</td>\n",
       "    </tr>\n",
       "    <tr>\n",
       "      <th>2021-01-04</th>\n",
       "      <td>19</td>\n",
       "      <td>2021-03-31</td>\n",
       "    </tr>\n",
       "    <tr>\n",
       "      <th>2021-01-05</th>\n",
       "      <td>4</td>\n",
       "      <td>2021-03-31</td>\n",
       "    </tr>\n",
       "    <tr>\n",
       "      <th>2021-01-06</th>\n",
       "      <td>5</td>\n",
       "      <td>2021-03-31</td>\n",
       "    </tr>\n",
       "  </tbody>\n",
       "</table>\n",
       "</div>"
      ],
      "text/plain": [
       "             production QuarterEnd\n",
       "purchase_dt                       \n",
       "2021-01-01           13 2021-03-31\n",
       "2021-01-02           17 2021-03-31\n",
       "2021-01-03            8 2021-03-31\n",
       "2021-01-04           19 2021-03-31\n",
       "2021-01-05            4 2021-03-31\n",
       "2021-01-06            5 2021-03-31"
      ]
     },
     "execution_count": 135,
     "metadata": {},
     "output_type": "execute_result"
    }
   ],
   "source": [
    "df['QuarterEnd'] = df.index + pd.offsets.QuarterEnd(0)\n",
    "# df['BDay Name'] = df['BusinessDay'].dt.day_name()\n",
    "df"
   ]
  },
  {
   "cell_type": "code",
   "execution_count": 136,
   "id": "1ad95f0e-a1ab-4225-9078-660df4c889fa",
   "metadata": {},
   "outputs": [
    {
     "data": {
      "text/html": [
       "<div>\n",
       "<style scoped>\n",
       "    .dataframe tbody tr th:only-of-type {\n",
       "        vertical-align: middle;\n",
       "    }\n",
       "\n",
       "    .dataframe tbody tr th {\n",
       "        vertical-align: top;\n",
       "    }\n",
       "\n",
       "    .dataframe thead th {\n",
       "        text-align: right;\n",
       "    }\n",
       "</style>\n",
       "<table border=\"1\" class=\"dataframe\">\n",
       "  <thead>\n",
       "    <tr style=\"text-align: right;\">\n",
       "      <th></th>\n",
       "      <th>production</th>\n",
       "      <th>QuarterEnd</th>\n",
       "      <th>MonthEnd</th>\n",
       "    </tr>\n",
       "    <tr>\n",
       "      <th>purchase_dt</th>\n",
       "      <th></th>\n",
       "      <th></th>\n",
       "      <th></th>\n",
       "    </tr>\n",
       "  </thead>\n",
       "  <tbody>\n",
       "    <tr>\n",
       "      <th>2021-01-01</th>\n",
       "      <td>13</td>\n",
       "      <td>2021-03-31</td>\n",
       "      <td>2021-01-31</td>\n",
       "    </tr>\n",
       "    <tr>\n",
       "      <th>2021-01-02</th>\n",
       "      <td>17</td>\n",
       "      <td>2021-03-31</td>\n",
       "      <td>2021-01-31</td>\n",
       "    </tr>\n",
       "    <tr>\n",
       "      <th>2021-01-03</th>\n",
       "      <td>8</td>\n",
       "      <td>2021-03-31</td>\n",
       "      <td>2021-01-31</td>\n",
       "    </tr>\n",
       "    <tr>\n",
       "      <th>2021-01-04</th>\n",
       "      <td>19</td>\n",
       "      <td>2021-03-31</td>\n",
       "      <td>2021-01-31</td>\n",
       "    </tr>\n",
       "    <tr>\n",
       "      <th>2021-01-05</th>\n",
       "      <td>4</td>\n",
       "      <td>2021-03-31</td>\n",
       "      <td>2021-01-31</td>\n",
       "    </tr>\n",
       "    <tr>\n",
       "      <th>2021-01-06</th>\n",
       "      <td>5</td>\n",
       "      <td>2021-03-31</td>\n",
       "      <td>2021-01-31</td>\n",
       "    </tr>\n",
       "  </tbody>\n",
       "</table>\n",
       "</div>"
      ],
      "text/plain": [
       "             production QuarterEnd   MonthEnd\n",
       "purchase_dt                                  \n",
       "2021-01-01           13 2021-03-31 2021-01-31\n",
       "2021-01-02           17 2021-03-31 2021-01-31\n",
       "2021-01-03            8 2021-03-31 2021-01-31\n",
       "2021-01-04           19 2021-03-31 2021-01-31\n",
       "2021-01-05            4 2021-03-31 2021-01-31\n",
       "2021-01-06            5 2021-03-31 2021-01-31"
      ]
     },
     "execution_count": 136,
     "metadata": {},
     "output_type": "execute_result"
    }
   ],
   "source": [
    "df['MonthEnd'] = df.index + pd.offsets.MonthEnd(0)\n",
    "# df['BDay Name'] = df['BusinessDay'].dt.day_name()\n",
    "df"
   ]
  },
  {
   "cell_type": "code",
   "execution_count": 137,
   "id": "2046f636-05d4-441f-958d-53d8a9f7c06c",
   "metadata": {},
   "outputs": [],
   "source": [
    "df['BusinessDay'] = df.index + pd.offsets.BDay(0)\n",
    "df"
   ]
  },
  {
   "cell_type": "markdown",
   "id": "161314ad-1714-4707-b009-d037ab9475e2",
   "metadata": {
    "tags": []
   },
   "source": [
    "## There is More"
   ]
  },
  {
   "cell_type": "code",
   "execution_count": 139,
   "id": "32b8cbae-f7ba-485e-aaa5-0f948d70bb00",
   "metadata": {},
   "outputs": [
    {
     "data": {
      "text/html": [
       "<div>\n",
       "<style scoped>\n",
       "    .dataframe tbody tr th:only-of-type {\n",
       "        vertical-align: middle;\n",
       "    }\n",
       "\n",
       "    .dataframe tbody tr th {\n",
       "        vertical-align: top;\n",
       "    }\n",
       "\n",
       "    .dataframe thead th {\n",
       "        text-align: right;\n",
       "    }\n",
       "</style>\n",
       "<table border=\"1\" class=\"dataframe\">\n",
       "  <thead>\n",
       "    <tr style=\"text-align: right;\">\n",
       "      <th></th>\n",
       "      <th>production</th>\n",
       "    </tr>\n",
       "    <tr>\n",
       "      <th>purchase_dt</th>\n",
       "      <th></th>\n",
       "    </tr>\n",
       "  </thead>\n",
       "  <tbody>\n",
       "    <tr>\n",
       "      <th>2021-01-01</th>\n",
       "      <td>15</td>\n",
       "    </tr>\n",
       "    <tr>\n",
       "      <th>2021-01-02</th>\n",
       "      <td>16</td>\n",
       "    </tr>\n",
       "    <tr>\n",
       "      <th>2021-01-03</th>\n",
       "      <td>13</td>\n",
       "    </tr>\n",
       "    <tr>\n",
       "      <th>2021-01-04</th>\n",
       "      <td>17</td>\n",
       "    </tr>\n",
       "    <tr>\n",
       "      <th>2021-01-05</th>\n",
       "      <td>4</td>\n",
       "    </tr>\n",
       "    <tr>\n",
       "      <th>2021-01-06</th>\n",
       "      <td>17</td>\n",
       "    </tr>\n",
       "  </tbody>\n",
       "</table>\n",
       "</div>"
      ],
      "text/plain": [
       "             production\n",
       "purchase_dt            \n",
       "2021-01-01           15\n",
       "2021-01-02           16\n",
       "2021-01-03           13\n",
       "2021-01-04           17\n",
       "2021-01-05            4\n",
       "2021-01-06           17"
      ]
     },
     "execution_count": 139,
     "metadata": {},
     "output_type": "execute_result"
    }
   ],
   "source": [
    "from pandas.tseries.holiday import (\n",
    "    USFederalHolidayCalendar\n",
    ")\n",
    "\n",
    "df = pd.DataFrame({       \n",
    "    'purchase_dt': pd.date_range('2021-01-01', periods=6, freq='D'),\n",
    "    'production' : np.random.randint(4, 20, 6)\n",
    "}).set_index('purchase_dt')\n",
    "df"
   ]
  },
  {
   "cell_type": "code",
   "execution_count": 140,
   "id": "4c248f8c-4282-4220-bac6-e80f9939559c",
   "metadata": {},
   "outputs": [
    {
     "data": {
      "text/plain": [
       "[Holiday: New Year's Day (month=1, day=1, observance=<function nearest_workday at 0x7f8c0c109dc0>),\n",
       " Holiday: Birthday of Martin Luther King, Jr. (month=1, day=1, offset=<DateOffset: weekday=MO(+3)>),\n",
       " Holiday: Washington’s Birthday (month=2, day=1, offset=<DateOffset: weekday=MO(+3)>),\n",
       " Holiday: Memorial Day (month=5, day=31, offset=<DateOffset: weekday=MO(-1)>),\n",
       " Holiday: Juneteenth National Independence Day (month=6, day=19, observance=<function nearest_workday at 0x7f8c0c109dc0>),\n",
       " Holiday: Independence Day (month=7, day=4, observance=<function nearest_workday at 0x7f8c0c109dc0>),\n",
       " Holiday: Labor Day (month=9, day=1, offset=<DateOffset: weekday=MO(+1)>),\n",
       " Holiday: Columbus Day (month=10, day=1, offset=<DateOffset: weekday=MO(+2)>),\n",
       " Holiday: Veterans Day (month=11, day=11, observance=<function nearest_workday at 0x7f8c0c109dc0>),\n",
       " Holiday: Thanksgiving Day (month=11, day=1, offset=<DateOffset: weekday=TH(+4)>),\n",
       " Holiday: Christmas Day (month=12, day=25, observance=<function nearest_workday at 0x7f8c0c109dc0>)]"
      ]
     },
     "execution_count": 140,
     "metadata": {},
     "output_type": "execute_result"
    }
   ],
   "source": [
    "USFederalHolidayCalendar.rules"
   ]
  },
  {
   "cell_type": "code",
   "execution_count": 141,
   "id": "f8937630-f100-4799-b2d7-8b83daadfb4e",
   "metadata": {},
   "outputs": [],
   "source": [
    "df['USFederalHolidays'] = df.index + pd.offsets.CDay(calendar=USFederalHolidayCalendar())\n",
    "df"
   ]
  },
  {
   "cell_type": "code",
   "execution_count": 143,
   "id": "24a7f9d1-1000-4e01-a1cd-2ead5771e8de",
   "metadata": {},
   "outputs": [],
   "source": [
    "from pandas.tseries.holiday import Holiday, nearest_workday"
   ]
  },
  {
   "cell_type": "code",
   "execution_count": 144,
   "id": "286968de-4cfa-4fcd-9bb9-685ef16cc230",
   "metadata": {},
   "outputs": [
    {
     "data": {
      "text/plain": [
       "pandas.tseries.holiday.Holiday"
      ]
     },
     "execution_count": 144,
     "metadata": {},
     "output_type": "execute_result"
    }
   ],
   "source": [
    "Holiday"
   ]
  },
  {
   "cell_type": "code",
   "execution_count": 145,
   "id": "7deb0b2c-a090-49c3-a318-148a2a638c03",
   "metadata": {},
   "outputs": [
    {
     "data": {
      "text/plain": [
       "Holiday: New Years (month=1, day=1, observance=<function nearest_workday at 0x7f8c0c109dc0>)"
      ]
     },
     "execution_count": 145,
     "metadata": {},
     "output_type": "execute_result"
    }
   ],
   "source": [
    "newyears = Holiday(\"New Years\", \n",
    "                   month=1, \n",
    "                   day=1, \n",
    "                   observance=nearest_workday)\n",
    "newyears"
   ]
  },
  {
   "cell_type": "code",
   "execution_count": 146,
   "id": "613e6db7-63c1-4081-8afc-0442710ffa4c",
   "metadata": {},
   "outputs": [
    {
     "data": {
      "text/html": [
       "<div>\n",
       "<style scoped>\n",
       "    .dataframe tbody tr th:only-of-type {\n",
       "        vertical-align: middle;\n",
       "    }\n",
       "\n",
       "    .dataframe tbody tr th {\n",
       "        vertical-align: top;\n",
       "    }\n",
       "\n",
       "    .dataframe thead th {\n",
       "        text-align: right;\n",
       "    }\n",
       "</style>\n",
       "<table border=\"1\" class=\"dataframe\">\n",
       "  <thead>\n",
       "    <tr style=\"text-align: right;\">\n",
       "      <th></th>\n",
       "      <th>production</th>\n",
       "      <th>USFederalHolidays</th>\n",
       "      <th>NewYearsHoliday</th>\n",
       "    </tr>\n",
       "    <tr>\n",
       "      <th>purchase_dt</th>\n",
       "      <th></th>\n",
       "      <th></th>\n",
       "      <th></th>\n",
       "    </tr>\n",
       "  </thead>\n",
       "  <tbody>\n",
       "    <tr>\n",
       "      <th>2021-01-01</th>\n",
       "      <td>15</td>\n",
       "      <td>2021-01-04</td>\n",
       "      <td>2021-01-04</td>\n",
       "    </tr>\n",
       "    <tr>\n",
       "      <th>2021-01-02</th>\n",
       "      <td>16</td>\n",
       "      <td>2021-01-04</td>\n",
       "      <td>2021-01-04</td>\n",
       "    </tr>\n",
       "    <tr>\n",
       "      <th>2021-01-03</th>\n",
       "      <td>13</td>\n",
       "      <td>2021-01-04</td>\n",
       "      <td>2021-01-04</td>\n",
       "    </tr>\n",
       "    <tr>\n",
       "      <th>2021-01-04</th>\n",
       "      <td>17</td>\n",
       "      <td>2021-01-05</td>\n",
       "      <td>2021-01-05</td>\n",
       "    </tr>\n",
       "    <tr>\n",
       "      <th>2021-01-05</th>\n",
       "      <td>4</td>\n",
       "      <td>2021-01-06</td>\n",
       "      <td>2021-01-06</td>\n",
       "    </tr>\n",
       "    <tr>\n",
       "      <th>2021-01-06</th>\n",
       "      <td>17</td>\n",
       "      <td>2021-01-07</td>\n",
       "      <td>2021-01-07</td>\n",
       "    </tr>\n",
       "  </tbody>\n",
       "</table>\n",
       "</div>"
      ],
      "text/plain": [
       "             production USFederalHolidays NewYearsHoliday\n",
       "purchase_dt                                              \n",
       "2021-01-01           15        2021-01-04      2021-01-04\n",
       "2021-01-02           16        2021-01-04      2021-01-04\n",
       "2021-01-03           13        2021-01-04      2021-01-04\n",
       "2021-01-04           17        2021-01-05      2021-01-05\n",
       "2021-01-05            4        2021-01-06      2021-01-06\n",
       "2021-01-06           17        2021-01-07      2021-01-07"
      ]
     },
     "execution_count": 146,
     "metadata": {},
     "output_type": "execute_result"
    }
   ],
   "source": [
    "df['NewYearsHoliday'] = df.index + pd.offsets.CDay(calendar=newyears)\n",
    "df"
   ]
  },
  {
   "cell_type": "code",
   "execution_count": 147,
   "id": "871272c9-0889-45f2-995a-5224b22db96e",
   "metadata": {},
   "outputs": [
    {
     "data": {
      "text/plain": [
       "Timestamp('2021-01-04 00:00:00')"
      ]
     },
     "execution_count": 147,
     "metadata": {},
     "output_type": "execute_result"
    }
   ],
   "source": [
    "nearest_workday(pd.to_datetime('2021-1-3'))"
   ]
  },
  {
   "cell_type": "markdown",
   "id": "61f37943-d87e-4278-98bf-4b7e59ae10fd",
   "metadata": {},
   "source": [
    "# Recipe 7: Working with custom business days"
   ]
  },
  {
   "cell_type": "code",
   "execution_count": 148,
   "id": "64aeedd9-f0e0-4093-9a28-fbc5d7c6cf65",
   "metadata": {},
   "outputs": [],
   "source": [
    "import pandas as pd"
   ]
  },
  {
   "cell_type": "code",
   "execution_count": 149,
   "id": "aedf2508-7ea0-4e8e-9a25-1bf79fcf2c5b",
   "metadata": {},
   "outputs": [],
   "source": [
    "dubai_uae_workdays = \"Sun Mon Tue Wed Thu\"\n",
    "\n",
    "# UAE national day\n",
    "nationalDay = [pd.to_datetime('2021-12-2')]\n",
    "\n",
    "dubai_uae_bday = pd.offsets.CDay(\n",
    "    holidays=nationalDay,\n",
    "    weekmask=dubai_uae_workdays)"
   ]
  },
  {
   "cell_type": "code",
   "execution_count": 150,
   "id": "ef66278f-c4d3-4b14-827a-8be25ae99d32",
   "metadata": {},
   "outputs": [
    {
     "data": {
      "text/plain": [
       "(numpy.datetime64('2021-12-02'),)"
      ]
     },
     "execution_count": 150,
     "metadata": {},
     "output_type": "execute_result"
    }
   ],
   "source": [
    "dubai_uae_bday.holidays"
   ]
  },
  {
   "cell_type": "code",
   "execution_count": 151,
   "id": "13638159-237e-423f-85f9-fbcbd82beaff",
   "metadata": {},
   "outputs": [
    {
     "data": {
      "text/plain": [
       "'Sun Mon Tue Wed Thu'"
      ]
     },
     "execution_count": 151,
     "metadata": {},
     "output_type": "execute_result"
    }
   ],
   "source": [
    "dubai_uae_bday.weekmask"
   ]
  },
  {
   "cell_type": "code",
   "execution_count": 152,
   "id": "b5362b13-63d8-4608-aa13-de064c10c66a",
   "metadata": {},
   "outputs": [
    {
     "data": {
      "text/html": [
       "<div>\n",
       "<style scoped>\n",
       "    .dataframe tbody tr th:only-of-type {\n",
       "        vertical-align: middle;\n",
       "    }\n",
       "\n",
       "    .dataframe tbody tr th {\n",
       "        vertical-align: top;\n",
       "    }\n",
       "\n",
       "    .dataframe thead th {\n",
       "        text-align: right;\n",
       "    }\n",
       "</style>\n",
       "<table border=\"1\" class=\"dataframe\">\n",
       "  <thead>\n",
       "    <tr style=\"text-align: right;\">\n",
       "      <th></th>\n",
       "      <th>Date</th>\n",
       "    </tr>\n",
       "  </thead>\n",
       "  <tbody>\n",
       "    <tr>\n",
       "      <th>0</th>\n",
       "      <td>2021-12-01</td>\n",
       "    </tr>\n",
       "    <tr>\n",
       "      <th>1</th>\n",
       "      <td>2021-12-05</td>\n",
       "    </tr>\n",
       "    <tr>\n",
       "      <th>2</th>\n",
       "      <td>2021-12-06</td>\n",
       "    </tr>\n",
       "    <tr>\n",
       "      <th>3</th>\n",
       "      <td>2021-12-07</td>\n",
       "    </tr>\n",
       "    <tr>\n",
       "      <th>4</th>\n",
       "      <td>2021-12-08</td>\n",
       "    </tr>\n",
       "    <tr>\n",
       "      <th>5</th>\n",
       "      <td>2021-12-09</td>\n",
       "    </tr>\n",
       "    <tr>\n",
       "      <th>6</th>\n",
       "      <td>2021-12-12</td>\n",
       "    </tr>\n",
       "    <tr>\n",
       "      <th>7</th>\n",
       "      <td>2021-12-13</td>\n",
       "    </tr>\n",
       "    <tr>\n",
       "      <th>8</th>\n",
       "      <td>2021-12-14</td>\n",
       "    </tr>\n",
       "    <tr>\n",
       "      <th>9</th>\n",
       "      <td>2021-12-15</td>\n",
       "    </tr>\n",
       "  </tbody>\n",
       "</table>\n",
       "</div>"
      ],
      "text/plain": [
       "        Date\n",
       "0 2021-12-01\n",
       "1 2021-12-05\n",
       "2 2021-12-06\n",
       "3 2021-12-07\n",
       "4 2021-12-08\n",
       "5 2021-12-09\n",
       "6 2021-12-12\n",
       "7 2021-12-13\n",
       "8 2021-12-14\n",
       "9 2021-12-15"
      ]
     },
     "execution_count": 152,
     "metadata": {},
     "output_type": "execute_result"
    }
   ],
   "source": [
    "df = pd.DataFrame({\n",
    "    'Date': pd.date_range('12-1-2021', periods=10, freq=dubai_uae_bday )})\n",
    "df"
   ]
  },
  {
   "cell_type": "code",
   "execution_count": 153,
   "id": "3f75eded-2c05-4760-a743-5f3d05ee29a4",
   "metadata": {},
   "outputs": [
    {
     "data": {
      "text/html": [
       "<div>\n",
       "<style scoped>\n",
       "    .dataframe tbody tr th:only-of-type {\n",
       "        vertical-align: middle;\n",
       "    }\n",
       "\n",
       "    .dataframe tbody tr th {\n",
       "        vertical-align: top;\n",
       "    }\n",
       "\n",
       "    .dataframe thead th {\n",
       "        text-align: right;\n",
       "    }\n",
       "</style>\n",
       "<table border=\"1\" class=\"dataframe\">\n",
       "  <thead>\n",
       "    <tr style=\"text-align: right;\">\n",
       "      <th></th>\n",
       "      <th>Date</th>\n",
       "      <th>Day_name</th>\n",
       "    </tr>\n",
       "  </thead>\n",
       "  <tbody>\n",
       "    <tr>\n",
       "      <th>0</th>\n",
       "      <td>2021-12-01</td>\n",
       "      <td>Wednesday</td>\n",
       "    </tr>\n",
       "    <tr>\n",
       "      <th>1</th>\n",
       "      <td>2021-12-05</td>\n",
       "      <td>Sunday</td>\n",
       "    </tr>\n",
       "    <tr>\n",
       "      <th>2</th>\n",
       "      <td>2021-12-06</td>\n",
       "      <td>Monday</td>\n",
       "    </tr>\n",
       "    <tr>\n",
       "      <th>3</th>\n",
       "      <td>2021-12-07</td>\n",
       "      <td>Tuesday</td>\n",
       "    </tr>\n",
       "    <tr>\n",
       "      <th>4</th>\n",
       "      <td>2021-12-08</td>\n",
       "      <td>Wednesday</td>\n",
       "    </tr>\n",
       "    <tr>\n",
       "      <th>5</th>\n",
       "      <td>2021-12-09</td>\n",
       "      <td>Thursday</td>\n",
       "    </tr>\n",
       "    <tr>\n",
       "      <th>6</th>\n",
       "      <td>2021-12-12</td>\n",
       "      <td>Sunday</td>\n",
       "    </tr>\n",
       "    <tr>\n",
       "      <th>7</th>\n",
       "      <td>2021-12-13</td>\n",
       "      <td>Monday</td>\n",
       "    </tr>\n",
       "    <tr>\n",
       "      <th>8</th>\n",
       "      <td>2021-12-14</td>\n",
       "      <td>Tuesday</td>\n",
       "    </tr>\n",
       "    <tr>\n",
       "      <th>9</th>\n",
       "      <td>2021-12-15</td>\n",
       "      <td>Wednesday</td>\n",
       "    </tr>\n",
       "  </tbody>\n",
       "</table>\n",
       "</div>"
      ],
      "text/plain": [
       "        Date   Day_name\n",
       "0 2021-12-01  Wednesday\n",
       "1 2021-12-05     Sunday\n",
       "2 2021-12-06     Monday\n",
       "3 2021-12-07    Tuesday\n",
       "4 2021-12-08  Wednesday\n",
       "5 2021-12-09   Thursday\n",
       "6 2021-12-12     Sunday\n",
       "7 2021-12-13     Monday\n",
       "8 2021-12-14    Tuesday\n",
       "9 2021-12-15  Wednesday"
      ]
     },
     "execution_count": 153,
     "metadata": {},
     "output_type": "execute_result"
    }
   ],
   "source": [
    "df['Day_name'] = df.Date.dt.day_name()\n",
    "df"
   ]
  },
  {
   "cell_type": "markdown",
   "id": "881097c0-621a-4c23-baa2-e996cf4a22d2",
   "metadata": {},
   "source": [
    "### Custom Business Hours"
   ]
  },
  {
   "cell_type": "code",
   "execution_count": 154,
   "id": "1d9144ac-6e87-428f-af2d-66b5c4dc4302",
   "metadata": {},
   "outputs": [
    {
     "data": {
      "text/plain": [
       "<BusinessHour: BH=09:00-17:00>"
      ]
     },
     "execution_count": 154,
     "metadata": {},
     "output_type": "execute_result"
    }
   ],
   "source": [
    "b_hours = pd.offsets.BusinessHour()\n",
    "b_hours"
   ]
  },
  {
   "cell_type": "code",
   "execution_count": 155,
   "id": "18ebcea1-cb7f-4ddb-8773-8a9edb118a4c",
   "metadata": {},
   "outputs": [],
   "source": [
    "cust_hours = pd.offsets.CustomBusinessHour(\n",
    "    start=\"8:30\",\n",
    "    end=\"15:30\",\n",
    "    holidays=nationalDay,\n",
    "    weekmask=dubai_uae_workdays)"
   ]
  },
  {
   "cell_type": "code",
   "execution_count": 156,
   "id": "fba3b134-e8d5-4da4-8349-04a5b52f42fc",
   "metadata": {},
   "outputs": [],
   "source": [
    "# df['Date'] = \\\n",
    "#      df['Date'].dt.tz_localize('UTC').dt.tz_convert('Asia/Dubai')"
   ]
  },
  {
   "cell_type": "code",
   "execution_count": 157,
   "id": "0ff22c55-ffd8-43af-8132-c1a7811eec42",
   "metadata": {},
   "outputs": [
    {
     "data": {
      "text/html": [
       "<div>\n",
       "<style scoped>\n",
       "    .dataframe tbody tr th:only-of-type {\n",
       "        vertical-align: middle;\n",
       "    }\n",
       "\n",
       "    .dataframe tbody tr th {\n",
       "        vertical-align: top;\n",
       "    }\n",
       "\n",
       "    .dataframe thead th {\n",
       "        text-align: right;\n",
       "    }\n",
       "</style>\n",
       "<table border=\"1\" class=\"dataframe\">\n",
       "  <thead>\n",
       "    <tr style=\"text-align: right;\">\n",
       "      <th></th>\n",
       "      <th>Date</th>\n",
       "      <th>Day_name</th>\n",
       "    </tr>\n",
       "  </thead>\n",
       "  <tbody>\n",
       "    <tr>\n",
       "      <th>0</th>\n",
       "      <td>2021-12-01</td>\n",
       "      <td>Wednesday</td>\n",
       "    </tr>\n",
       "    <tr>\n",
       "      <th>1</th>\n",
       "      <td>2021-12-05</td>\n",
       "      <td>Sunday</td>\n",
       "    </tr>\n",
       "    <tr>\n",
       "      <th>2</th>\n",
       "      <td>2021-12-06</td>\n",
       "      <td>Monday</td>\n",
       "    </tr>\n",
       "    <tr>\n",
       "      <th>3</th>\n",
       "      <td>2021-12-07</td>\n",
       "      <td>Tuesday</td>\n",
       "    </tr>\n",
       "    <tr>\n",
       "      <th>4</th>\n",
       "      <td>2021-12-08</td>\n",
       "      <td>Wednesday</td>\n",
       "    </tr>\n",
       "    <tr>\n",
       "      <th>5</th>\n",
       "      <td>2021-12-09</td>\n",
       "      <td>Thursday</td>\n",
       "    </tr>\n",
       "    <tr>\n",
       "      <th>6</th>\n",
       "      <td>2021-12-12</td>\n",
       "      <td>Sunday</td>\n",
       "    </tr>\n",
       "    <tr>\n",
       "      <th>7</th>\n",
       "      <td>2021-12-13</td>\n",
       "      <td>Monday</td>\n",
       "    </tr>\n",
       "    <tr>\n",
       "      <th>8</th>\n",
       "      <td>2021-12-14</td>\n",
       "      <td>Tuesday</td>\n",
       "    </tr>\n",
       "    <tr>\n",
       "      <th>9</th>\n",
       "      <td>2021-12-15</td>\n",
       "      <td>Wednesday</td>\n",
       "    </tr>\n",
       "  </tbody>\n",
       "</table>\n",
       "</div>"
      ],
      "text/plain": [
       "        Date   Day_name\n",
       "0 2021-12-01  Wednesday\n",
       "1 2021-12-05     Sunday\n",
       "2 2021-12-06     Monday\n",
       "3 2021-12-07    Tuesday\n",
       "4 2021-12-08  Wednesday\n",
       "5 2021-12-09   Thursday\n",
       "6 2021-12-12     Sunday\n",
       "7 2021-12-13     Monday\n",
       "8 2021-12-14    Tuesday\n",
       "9 2021-12-15  Wednesday"
      ]
     },
     "execution_count": 157,
     "metadata": {},
     "output_type": "execute_result"
    }
   ],
   "source": [
    "df"
   ]
  },
  {
   "cell_type": "code",
   "execution_count": 158,
   "id": "b8b7d20e-7b4d-4d0b-ad81-5f1a96ad8b86",
   "metadata": {},
   "outputs": [
    {
     "data": {
      "text/plain": [
       "0   2021-12-06 10:30:00\n",
       "1   2021-12-07 10:30:00\n",
       "2   2021-12-08 10:30:00\n",
       "3   2021-12-09 10:30:00\n",
       "4   2021-12-12 10:30:00\n",
       "5   2021-12-13 10:30:00\n",
       "6   2021-12-14 10:30:00\n",
       "7   2021-12-15 10:30:00\n",
       "8   2021-12-16 10:30:00\n",
       "9   2021-12-19 10:30:00\n",
       "Name: Date, dtype: datetime64[ns]"
      ]
     },
     "execution_count": 158,
     "metadata": {},
     "output_type": "execute_result"
    }
   ],
   "source": [
    "df['Date'] + cust_hours * 16"
   ]
  }
 ],
 "metadata": {
  "kernelspec": {
   "display_name": "Python [conda env:ch6]",
   "language": "python",
   "name": "conda-env-ch6-py"
  },
  "language_info": {
   "codemirror_mode": {
    "name": "ipython",
    "version": 3
   },
   "file_extension": ".py",
   "mimetype": "text/x-python",
   "name": "python",
   "nbconvert_exporter": "python",
   "pygments_lexer": "ipython3",
   "version": "3.9.12"
  }
 },
 "nbformat": 4,
 "nbformat_minor": 5
}
