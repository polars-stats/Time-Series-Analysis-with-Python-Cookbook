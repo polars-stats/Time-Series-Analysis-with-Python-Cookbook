{
 "cells": [
  {
   "cell_type": "code",
   "execution_count": null,
   "id": "20b01b3b-b9cf-4447-9259-93ed9bcdefb3",
   "metadata": {},
   "outputs": [],
   "source": [
    "#%config Completer.use_jedi = False"
   ]
  },
  {
   "cell_type": "markdown",
   "id": "194fd2c3-001f-4949-8a91-a9ee91c87809",
   "metadata": {},
   "source": [
    "# **Chapter 4**\n",
    "## *Persisting Time Series Data to Files*, \n",
    "\n",
    "This chapter covers different options and use cases to store time series data for later retrieval. The techniques will cover various methods and file types, whether on-premises or in the cloud. In addition, this chapter covers serialization, compression, overwriting, or appending to files. \n",
    "\n",
    "We will cover the following recipes on how to ingest data into a pandas DataFrame:\n",
    "* Time series data serialization with pickle\n",
    "* Writing to CSV and other delimited files\n",
    "* Writing data to an Excel file\n",
    "* Storing data to a private S3 bucket"
   ]
  },
  {
   "cell_type": "markdown",
   "id": "b826dd84-6964-4512-90de-50e8d23b5868",
   "metadata": {},
   "source": [
    "# Recipe 1: Serializing time series data with pickle\n",
    "* This recipe explains the concept of data serialization \n",
    "* Demonstrate how pickling works "
   ]
  },
  {
   "cell_type": "code",
   "execution_count": 3,
   "id": "65b6c194-3b9e-410e-ab5b-40c62585d799",
   "metadata": {},
   "outputs": [],
   "source": [
    "import pandas as pd\n",
    "from pathlib import Path"
   ]
  },
  {
   "cell_type": "code",
   "execution_count": 2,
   "id": "e5badf72-9648-4a0d-9d4f-bc96b2f8ab15",
   "metadata": {},
   "outputs": [],
   "source": [
    "file = Path('../../datasets/Ch4/time_series_covid19_confirmed_global.csv')\n",
    "df = pd.read_csv(file)"
   ]
  },
  {
   "cell_type": "code",
   "execution_count": 3,
   "id": "e59c28e5-5eb0-4550-9797-53648bc64185",
   "metadata": {},
   "outputs": [
    {
     "data": {
      "text/html": [
       "<div>\n",
       "<style scoped>\n",
       "    .dataframe tbody tr th:only-of-type {\n",
       "        vertical-align: middle;\n",
       "    }\n",
       "\n",
       "    .dataframe tbody tr th {\n",
       "        vertical-align: top;\n",
       "    }\n",
       "\n",
       "    .dataframe thead th {\n",
       "        text-align: right;\n",
       "    }\n",
       "</style>\n",
       "<table border=\"1\" class=\"dataframe\">\n",
       "  <thead>\n",
       "    <tr style=\"text-align: right;\">\n",
       "      <th></th>\n",
       "      <th>Province/State</th>\n",
       "      <th>Country/Region</th>\n",
       "      <th>Lat</th>\n",
       "      <th>Long</th>\n",
       "      <th>1/22/20</th>\n",
       "      <th>1/23/20</th>\n",
       "      <th>1/24/20</th>\n",
       "      <th>1/25/20</th>\n",
       "      <th>1/26/20</th>\n",
       "      <th>1/27/20</th>\n",
       "      <th>...</th>\n",
       "      <th>9/19/21</th>\n",
       "      <th>9/20/21</th>\n",
       "      <th>9/21/21</th>\n",
       "      <th>9/22/21</th>\n",
       "      <th>9/23/21</th>\n",
       "      <th>9/24/21</th>\n",
       "      <th>9/25/21</th>\n",
       "      <th>9/26/21</th>\n",
       "      <th>9/27/21</th>\n",
       "      <th>9/28/21</th>\n",
       "    </tr>\n",
       "  </thead>\n",
       "  <tbody>\n",
       "    <tr>\n",
       "      <th>0</th>\n",
       "      <td>NaN</td>\n",
       "      <td>Afghanistan</td>\n",
       "      <td>33.93911</td>\n",
       "      <td>67.709953</td>\n",
       "      <td>0</td>\n",
       "      <td>0</td>\n",
       "      <td>0</td>\n",
       "      <td>0</td>\n",
       "      <td>0</td>\n",
       "      <td>0</td>\n",
       "      <td>...</td>\n",
       "      <td>154487</td>\n",
       "      <td>154585</td>\n",
       "      <td>154712</td>\n",
       "      <td>154757</td>\n",
       "      <td>154800</td>\n",
       "      <td>154960</td>\n",
       "      <td>154960</td>\n",
       "      <td>154960</td>\n",
       "      <td>155072</td>\n",
       "      <td>155093</td>\n",
       "    </tr>\n",
       "    <tr>\n",
       "      <th>1</th>\n",
       "      <td>NaN</td>\n",
       "      <td>Albania</td>\n",
       "      <td>41.15330</td>\n",
       "      <td>20.168300</td>\n",
       "      <td>0</td>\n",
       "      <td>0</td>\n",
       "      <td>0</td>\n",
       "      <td>0</td>\n",
       "      <td>0</td>\n",
       "      <td>0</td>\n",
       "      <td>...</td>\n",
       "      <td>162953</td>\n",
       "      <td>163404</td>\n",
       "      <td>164276</td>\n",
       "      <td>165096</td>\n",
       "      <td>165864</td>\n",
       "      <td>166690</td>\n",
       "      <td>167354</td>\n",
       "      <td>167893</td>\n",
       "      <td>168188</td>\n",
       "      <td>168782</td>\n",
       "    </tr>\n",
       "    <tr>\n",
       "      <th>2</th>\n",
       "      <td>NaN</td>\n",
       "      <td>Algeria</td>\n",
       "      <td>28.03390</td>\n",
       "      <td>1.659600</td>\n",
       "      <td>0</td>\n",
       "      <td>0</td>\n",
       "      <td>0</td>\n",
       "      <td>0</td>\n",
       "      <td>0</td>\n",
       "      <td>0</td>\n",
       "      <td>...</td>\n",
       "      <td>201600</td>\n",
       "      <td>201766</td>\n",
       "      <td>201948</td>\n",
       "      <td>202122</td>\n",
       "      <td>202283</td>\n",
       "      <td>202449</td>\n",
       "      <td>202574</td>\n",
       "      <td>202722</td>\n",
       "      <td>202877</td>\n",
       "      <td>203045</td>\n",
       "    </tr>\n",
       "    <tr>\n",
       "      <th>3</th>\n",
       "      <td>NaN</td>\n",
       "      <td>Andorra</td>\n",
       "      <td>42.50630</td>\n",
       "      <td>1.521800</td>\n",
       "      <td>0</td>\n",
       "      <td>0</td>\n",
       "      <td>0</td>\n",
       "      <td>0</td>\n",
       "      <td>0</td>\n",
       "      <td>0</td>\n",
       "      <td>...</td>\n",
       "      <td>15124</td>\n",
       "      <td>15140</td>\n",
       "      <td>15140</td>\n",
       "      <td>15153</td>\n",
       "      <td>15156</td>\n",
       "      <td>15167</td>\n",
       "      <td>15167</td>\n",
       "      <td>15167</td>\n",
       "      <td>15189</td>\n",
       "      <td>15192</td>\n",
       "    </tr>\n",
       "    <tr>\n",
       "      <th>4</th>\n",
       "      <td>NaN</td>\n",
       "      <td>Angola</td>\n",
       "      <td>-11.20270</td>\n",
       "      <td>17.873900</td>\n",
       "      <td>0</td>\n",
       "      <td>0</td>\n",
       "      <td>0</td>\n",
       "      <td>0</td>\n",
       "      <td>0</td>\n",
       "      <td>0</td>\n",
       "      <td>...</td>\n",
       "      <td>52307</td>\n",
       "      <td>52644</td>\n",
       "      <td>52968</td>\n",
       "      <td>53387</td>\n",
       "      <td>53840</td>\n",
       "      <td>54280</td>\n",
       "      <td>54795</td>\n",
       "      <td>55121</td>\n",
       "      <td>55583</td>\n",
       "      <td>56040</td>\n",
       "    </tr>\n",
       "  </tbody>\n",
       "</table>\n",
       "<p>5 rows × 620 columns</p>\n",
       "</div>"
      ],
      "text/plain": [
       "  Province/State Country/Region       Lat       Long  1/22/20  1/23/20  \\\n",
       "0            NaN    Afghanistan  33.93911  67.709953        0        0   \n",
       "1            NaN        Albania  41.15330  20.168300        0        0   \n",
       "2            NaN        Algeria  28.03390   1.659600        0        0   \n",
       "3            NaN        Andorra  42.50630   1.521800        0        0   \n",
       "4            NaN         Angola -11.20270  17.873900        0        0   \n",
       "\n",
       "   1/24/20  1/25/20  1/26/20  1/27/20  ...  9/19/21  9/20/21  9/21/21  \\\n",
       "0        0        0        0        0  ...   154487   154585   154712   \n",
       "1        0        0        0        0  ...   162953   163404   164276   \n",
       "2        0        0        0        0  ...   201600   201766   201948   \n",
       "3        0        0        0        0  ...    15124    15140    15140   \n",
       "4        0        0        0        0  ...    52307    52644    52968   \n",
       "\n",
       "   9/22/21  9/23/21  9/24/21  9/25/21  9/26/21  9/27/21  9/28/21  \n",
       "0   154757   154800   154960   154960   154960   155072   155093  \n",
       "1   165096   165864   166690   167354   167893   168188   168782  \n",
       "2   202122   202283   202449   202574   202722   202877   203045  \n",
       "3    15153    15156    15167    15167    15167    15189    15192  \n",
       "4    53387    53840    54280    54795    55121    55583    56040  \n",
       "\n",
       "[5 rows x 620 columns]"
      ]
     },
     "execution_count": 3,
     "metadata": {},
     "output_type": "execute_result"
    }
   ],
   "source": [
    "df.head()"
   ]
  },
  {
   "cell_type": "code",
   "execution_count": 4,
   "id": "1a34737a-9af9-486a-a65a-b7a15f8fdc7d",
   "metadata": {},
   "outputs": [
    {
     "data": {
      "text/html": [
       "<div>\n",
       "<style scoped>\n",
       "    .dataframe tbody tr th:only-of-type {\n",
       "        vertical-align: middle;\n",
       "    }\n",
       "\n",
       "    .dataframe tbody tr th {\n",
       "        vertical-align: top;\n",
       "    }\n",
       "\n",
       "    .dataframe thead th {\n",
       "        text-align: right;\n",
       "    }\n",
       "</style>\n",
       "<table border=\"1\" class=\"dataframe\">\n",
       "  <thead>\n",
       "    <tr style=\"text-align: right;\">\n",
       "      <th></th>\n",
       "      <th>6/1/20</th>\n",
       "      <th>6/2/20</th>\n",
       "      <th>6/3/20</th>\n",
       "      <th>6/4/20</th>\n",
       "      <th>6/5/20</th>\n",
       "      <th>6/6/20</th>\n",
       "      <th>6/7/20</th>\n",
       "      <th>6/8/20</th>\n",
       "      <th>6/9/20</th>\n",
       "      <th>6/10/20</th>\n",
       "      <th>...</th>\n",
       "      <th>9/21/20</th>\n",
       "      <th>9/22/20</th>\n",
       "      <th>9/23/20</th>\n",
       "      <th>9/24/20</th>\n",
       "      <th>9/25/20</th>\n",
       "      <th>9/26/20</th>\n",
       "      <th>9/27/20</th>\n",
       "      <th>9/28/20</th>\n",
       "      <th>9/29/20</th>\n",
       "      <th>9/30/20</th>\n",
       "    </tr>\n",
       "  </thead>\n",
       "  <tbody>\n",
       "    <tr>\n",
       "      <th>254</th>\n",
       "      <td>1816679</td>\n",
       "      <td>1837948</td>\n",
       "      <td>1857728</td>\n",
       "      <td>1879463</td>\n",
       "      <td>1904375</td>\n",
       "      <td>1925849</td>\n",
       "      <td>1944117</td>\n",
       "      <td>1960815</td>\n",
       "      <td>1978823</td>\n",
       "      <td>2000019</td>\n",
       "      <td>...</td>\n",
       "      <td>6860254</td>\n",
       "      <td>6900324</td>\n",
       "      <td>6939235</td>\n",
       "      <td>6986604</td>\n",
       "      <td>7034971</td>\n",
       "      <td>7079902</td>\n",
       "      <td>7117964</td>\n",
       "      <td>7150631</td>\n",
       "      <td>7194195</td>\n",
       "      <td>7233295</td>\n",
       "    </tr>\n",
       "  </tbody>\n",
       "</table>\n",
       "<p>1 rows × 122 columns</p>\n",
       "</div>"
      ],
      "text/plain": [
       "      6/1/20   6/2/20   6/3/20   6/4/20   6/5/20   6/6/20   6/7/20   6/8/20  \\\n",
       "254  1816679  1837948  1857728  1879463  1904375  1925849  1944117  1960815   \n",
       "\n",
       "      6/9/20  6/10/20  ...  9/21/20  9/22/20  9/23/20  9/24/20  9/25/20  \\\n",
       "254  1978823  2000019  ...  6860254  6900324  6939235  6986604  7034971   \n",
       "\n",
       "     9/26/20  9/27/20  9/28/20  9/29/20  9/30/20  \n",
       "254  7079902  7117964  7150631  7194195  7233295  \n",
       "\n",
       "[1 rows x 122 columns]"
      ]
     },
     "execution_count": 4,
     "metadata": {},
     "output_type": "execute_result"
    }
   ],
   "source": [
    "# filter data where Country is United States\n",
    "df_usa = df[df['Country/Region'] == 'US']\n",
    "# filter columns from June to end of September\n",
    "df_usa_summer = df_usa.loc[:, '6/1/20':'9/30/20']\n",
    "# pivot the data \n",
    "df_usa_summer"
   ]
  },
  {
   "cell_type": "code",
   "execution_count": 5,
   "id": "33c445c9-1d8f-4a22-9632-7a3fbe8da2f0",
   "metadata": {},
   "outputs": [
    {
     "name": "stdout",
     "output_type": "stream",
     "text": [
      "<class 'pandas.core.frame.DataFrame'>\n",
      "DatetimeIndex: 122 entries, 2020-06-01 to 2020-09-30\n",
      "Data columns (total 1 columns):\n",
      " #   Column  Non-Null Count  Dtype\n",
      "---  ------  --------------  -----\n",
      " 0   cases   122 non-null    int64\n",
      "dtypes: int64(1)\n",
      "memory usage: 1.9 KB\n"
     ]
    }
   ],
   "source": [
    "# unpivot using pd.melt()\n",
    "df_usa_summer_unpivoted = pd.melt(df_usa_summer,\n",
    "                                  value_vars=df_usa_summer.columns,\n",
    "                                  value_name='cases',\n",
    "                                  var_name='date').set_index('date')\n",
    "df_usa_summer_unpivoted.index = pd.to_datetime(df_usa_summer_unpivoted.index)\n",
    "df_usa_summer_unpivoted.info()"
   ]
  },
  {
   "cell_type": "code",
   "execution_count": 6,
   "id": "7483557b-191d-47d4-909a-d2d98eada98a",
   "metadata": {},
   "outputs": [
    {
     "data": {
      "text/html": [
       "<div>\n",
       "<style scoped>\n",
       "    .dataframe tbody tr th:only-of-type {\n",
       "        vertical-align: middle;\n",
       "    }\n",
       "\n",
       "    .dataframe tbody tr th {\n",
       "        vertical-align: top;\n",
       "    }\n",
       "\n",
       "    .dataframe thead th {\n",
       "        text-align: right;\n",
       "    }\n",
       "</style>\n",
       "<table border=\"1\" class=\"dataframe\">\n",
       "  <thead>\n",
       "    <tr style=\"text-align: right;\">\n",
       "      <th></th>\n",
       "      <th>cases</th>\n",
       "    </tr>\n",
       "    <tr>\n",
       "      <th>date</th>\n",
       "      <th></th>\n",
       "    </tr>\n",
       "  </thead>\n",
       "  <tbody>\n",
       "    <tr>\n",
       "      <th>2020-06-01</th>\n",
       "      <td>1816679</td>\n",
       "    </tr>\n",
       "    <tr>\n",
       "      <th>2020-06-02</th>\n",
       "      <td>1837948</td>\n",
       "    </tr>\n",
       "    <tr>\n",
       "      <th>2020-06-03</th>\n",
       "      <td>1857728</td>\n",
       "    </tr>\n",
       "    <tr>\n",
       "      <th>2020-06-04</th>\n",
       "      <td>1879463</td>\n",
       "    </tr>\n",
       "    <tr>\n",
       "      <th>2020-06-05</th>\n",
       "      <td>1904375</td>\n",
       "    </tr>\n",
       "  </tbody>\n",
       "</table>\n",
       "</div>"
      ],
      "text/plain": [
       "              cases\n",
       "date               \n",
       "2020-06-01  1816679\n",
       "2020-06-02  1837948\n",
       "2020-06-03  1857728\n",
       "2020-06-04  1879463\n",
       "2020-06-05  1904375"
      ]
     },
     "execution_count": 6,
     "metadata": {},
     "output_type": "execute_result"
    }
   ],
   "source": [
    "df_usa_summer_unpivoted.head()"
   ]
  },
  {
   "cell_type": "code",
   "execution_count": 7,
   "id": "e9ef960f-d0cf-4180-b10f-d698bd393a8e",
   "metadata": {},
   "outputs": [],
   "source": [
    "output = Path('../../datasets/Ch4/covid_usa_summer_2020.pkl')\n",
    "df_usa_summer_unpivoted.to_pickle(output)"
   ]
  },
  {
   "cell_type": "code",
   "execution_count": 8,
   "id": "a7e93ae0-7435-41cd-9e4e-d6136c6cf82e",
   "metadata": {},
   "outputs": [
    {
     "name": "stdout",
     "output_type": "stream",
     "text": [
      "<class 'pandas.core.frame.DataFrame'>\n",
      "DatetimeIndex: 122 entries, 2020-06-01 to 2020-09-30\n",
      "Data columns (total 1 columns):\n",
      " #   Column  Non-Null Count  Dtype\n",
      "---  ------  --------------  -----\n",
      " 0   cases   122 non-null    int64\n",
      "dtypes: int64(1)\n",
      "memory usage: 1.9 KB\n"
     ]
    }
   ],
   "source": [
    "unpickled_df = pd.read_pickle(output)\n",
    "unpickled_df.info()"
   ]
  },
  {
   "cell_type": "markdown",
   "id": "68b1cdc8-efcd-453b-8e74-4ef9fe3ef565",
   "metadata": {},
   "source": [
    "## Writing a Pickle file using the Pickle library"
   ]
  },
  {
   "cell_type": "code",
   "execution_count": 9,
   "id": "60f0c22e-141f-4808-b3b3-f1eba0743ccc",
   "metadata": {},
   "outputs": [],
   "source": [
    "import pickle"
   ]
  },
  {
   "cell_type": "code",
   "execution_count": 10,
   "id": "8f6ee014-c730-4c91-adf3-659a27eaa09f",
   "metadata": {},
   "outputs": [],
   "source": [
    "output = Path('../../datasets/Ch4/covid_usa_summer_2020_v2.pkl')\n",
    "pickle.dump(df_usa_summer_unpivoted,\n",
    "           open(output, \"wb\"))"
   ]
  },
  {
   "cell_type": "code",
   "execution_count": 11,
   "id": "7e4ec6bb-6301-466a-bb4f-182c587775f0",
   "metadata": {},
   "outputs": [
    {
     "data": {
      "text/plain": [
       "pandas.core.frame.DataFrame"
      ]
     },
     "execution_count": 11,
     "metadata": {},
     "output_type": "execute_result"
    }
   ],
   "source": [
    "df = pickle.load(open(output, \"rb\"))\n",
    "type(df)"
   ]
  },
  {
   "cell_type": "code",
   "execution_count": 12,
   "id": "cf1ccdd1-a5a6-4913-8654-b2f0b5b88308",
   "metadata": {},
   "outputs": [],
   "source": [
    "with open(output, \"wb\") as file:\n",
    "    pickle.dump(df_usa_summer_unpivoted, file)"
   ]
  },
  {
   "cell_type": "code",
   "execution_count": 13,
   "id": "f75206b5-1216-43ed-bb77-d770f4288125",
   "metadata": {},
   "outputs": [],
   "source": [
    "with open(output, \"rb\") as file:\n",
    "    df = pickle.load(file)"
   ]
  },
  {
   "cell_type": "markdown",
   "id": "6e411774-dbf3-4cbf-9e5f-66f426781c72",
   "metadata": {},
   "source": [
    "#### Check seriealization protocols"
   ]
  },
  {
   "cell_type": "code",
   "execution_count": 14,
   "id": "9b0e6ba7-3891-4f2f-a1f6-9fe20582f7bb",
   "metadata": {},
   "outputs": [
    {
     "data": {
      "text/plain": [
       "5"
      ]
     },
     "execution_count": 14,
     "metadata": {},
     "output_type": "execute_result"
    }
   ],
   "source": [
    "pickle.HIGHEST_PROTOCOL"
   ]
  },
  {
   "cell_type": "code",
   "execution_count": 15,
   "id": "d9404b3d-c334-43b9-82dd-dae3b89b6c1f",
   "metadata": {},
   "outputs": [],
   "source": [
    "with open(output, \"wb\") as file:\n",
    "    pickle.dump(df_usa_summer_unpivoted,\n",
    "                file,\n",
    "                pickle.HIGHEST_PROTOCOL)\n",
    "\n",
    "# this is equivalent to the following\n",
    "with open(output, \"wb\") as file:\n",
    "    pickle.dump(df_usa_summer_unpivoted, file, 5)"
   ]
  },
  {
   "cell_type": "markdown",
   "id": "2138370c-b519-4558-a6b2-4d7eb9e98471",
   "metadata": {},
   "source": [
    "## There is more"
   ]
  },
  {
   "cell_type": "code",
   "execution_count": 16,
   "id": "04581924-19bf-4c8d-8292-0729df0588e3",
   "metadata": {},
   "outputs": [],
   "source": [
    "def covid_by_country(file, days, country):\n",
    "    ts = pd.read_csv(file)\n",
    "    ts = ts[ts['Country/Region'] == country]\n",
    "    final = ts.iloc[:, -days:].sum()\n",
    "    final.index = pd.to_datetime(final.index)\n",
    "    return final"
   ]
  },
  {
   "cell_type": "code",
   "execution_count": 17,
   "id": "280659da-d401-4eb1-b239-e572af3ac6fb",
   "metadata": {},
   "outputs": [
    {
     "data": {
      "text/plain": [
       "<AxesSubplot:title={'center':'COVID confirmed case for US'}, xlabel='Date', ylabel='Number of Confirmed Cases'>"
      ]
     },
     "execution_count": 17,
     "metadata": {},
     "output_type": "execute_result"
    },
    {
     "data": {
      "image/png": "[encoded data removed]",
      "text/plain": [
       "<Figure size 432x288 with 1 Axes>"
      ]
     },
     "metadata": {
      "needs_background": "light"
     },
     "output_type": "display_data"
    }
   ],
   "source": [
    "file = Path('../../datasets/Ch4/time_series_covid19_confirmed_global.csv')\n",
    "\n",
    "us_past_120_days = covid_by_country(file, 200, 'US')\n",
    "us_past_120_days.plot(title=f'COVID confirmed case for US',\n",
    "                xlabel='Date',\n",
    "                ylabel='Number of Confirmed Cases')"
   ]
  },
  {
   "cell_type": "code",
   "execution_count": 18,
   "id": "e07cd645-cb80-49ed-bfd0-9e84ef145f81",
   "metadata": {},
   "outputs": [],
   "source": [
    "from datetime import datetime\n",
    "metadata = {\n",
    "    'date': datetime.now(),\n",
    "    'data': '''\n",
    "        COVID-19 Data Repository by the \n",
    "        Center for Systems Science and Engineering (CSSE) \n",
    "        at Johns Hopkins University'\n",
    "        ''',\n",
    "    'author': 'Tarek Atwan',\n",
    "    'version': 1.0,\n",
    "    'function': covid_by_country,\n",
    "    'example' : us_past_120_days\n",
    "}\n",
    "\n",
    "output = Path('../../datasets/Ch4/covid.pkl')\n",
    "with open(output, 'wb') as file:\n",
    "    pickle.dump(metadata, file)"
   ]
  },
  {
   "cell_type": "code",
   "execution_count": 19,
   "id": "73aef365-0be4-4766-9bdb-98f0be6eaa99",
   "metadata": {},
   "outputs": [
    {
     "data": {
      "text/plain": [
       "dict_keys(['date', 'data', 'author', 'version', 'function', 'example'])"
      ]
     },
     "execution_count": 19,
     "metadata": {},
     "output_type": "execute_result"
    }
   ],
   "source": [
    "with open(output, 'rb') as file:\n",
    "    content = pickle.load(file)\n",
    "content.keys()"
   ]
  },
  {
   "cell_type": "code",
   "execution_count": 20,
   "id": "280c1432-0352-4629-aab8-92fbd14296b2",
   "metadata": {},
   "outputs": [
    {
     "data": {
      "text/plain": [
       "2021-09-24    108227\n",
       "2021-09-25    108266\n",
       "2021-09-26    108309\n",
       "2021-09-27    108344\n",
       "2021-09-28    108386\n",
       "dtype: int64"
      ]
     },
     "execution_count": 20,
     "metadata": {},
     "output_type": "execute_result"
    }
   ],
   "source": [
    "file = Path('../../datasets/Ch4/time_series_covid19_confirmed_global.csv')\n",
    "new_func = content['function']\n",
    "new_func(file, 120, 'China').tail()"
   ]
  },
  {
   "cell_type": "code",
   "execution_count": 21,
   "id": "40683457-427d-4603-8b8d-0a2571859005",
   "metadata": {},
   "outputs": [
    {
     "data": {
      "text/plain": [
       "2021-09-24    42852871\n",
       "2021-09-25    42900402\n",
       "2021-09-26    42931354\n",
       "2021-09-27    43116442\n",
       "2021-09-28    43227604\n",
       "dtype: int64"
      ]
     },
     "execution_count": 21,
     "metadata": {},
     "output_type": "execute_result"
    }
   ],
   "source": [
    "content['example'].tail()"
   ]
  },
  {
   "cell_type": "code",
   "execution_count": 22,
   "id": "fe8add49-08d3-4146-bbb1-9d0862ed02c9",
   "metadata": {},
   "outputs": [
    {
     "data": {
      "text/plain": [
       "5"
      ]
     },
     "execution_count": 22,
     "metadata": {},
     "output_type": "execute_result"
    }
   ],
   "source": [
    "pickle.HIGHEST_PROTOCOL"
   ]
  },
  {
   "cell_type": "markdown",
   "id": "7cfd144c-a97f-409f-a707-d014eef41a52",
   "metadata": {},
   "source": [
    "# Recipe 2: Writing as CSV and other delimited files"
   ]
  },
  {
   "cell_type": "code",
   "execution_count": 5,
   "id": "ea95f4fd-961f-4b79-b5c7-f9c68c770dd8",
   "metadata": {},
   "outputs": [
    {
     "name": "stdout",
     "output_type": "stream",
     "text": [
      "<class 'pandas.core.frame.DataFrame'>\n",
      "DatetimeIndex: 128 entries, 2021-04-26 to 2021-08-31\n",
      "Data columns (total 1 columns):\n",
      " #   Column  Non-Null Count  Dtype \n",
      "---  ------  --------------  ----- \n",
      " 0   Daily   128 non-null    object\n",
      "dtypes: object(1)\n",
      "memory usage: 2.0+ KB\n"
     ]
    }
   ],
   "source": [
    "import pandas as pd\n",
    "from pathlib import Path\n",
    "filepath = Path('../../datasets/Ch4/movieboxoffice.csv')\n",
    "\n",
    "movies = pd.read_csv(filepath,\n",
    "                 header=0,\n",
    "                 parse_dates=[0],\n",
    "                 index_col=0,\n",
    "                 infer_datetime_format=True,\n",
    "                 usecols=['Date',\n",
    "                          'Daily'])\n",
    "movies.info()"
   ]
  },
  {
   "cell_type": "code",
   "execution_count": 6,
   "id": "41fc5436-8c2f-434e-ba0e-8347c676f78f",
   "metadata": {},
   "outputs": [
    {
     "data": {
      "text/html": [
       "<div>\n",
       "<style scoped>\n",
       "    .dataframe tbody tr th:only-of-type {\n",
       "        vertical-align: middle;\n",
       "    }\n",
       "\n",
       "    .dataframe tbody tr th {\n",
       "        vertical-align: top;\n",
       "    }\n",
       "\n",
       "    .dataframe thead th {\n",
       "        text-align: right;\n",
       "    }\n",
       "</style>\n",
       "<table border=\"1\" class=\"dataframe\">\n",
       "  <thead>\n",
       "    <tr style=\"text-align: right;\">\n",
       "      <th></th>\n",
       "      <th>Daily</th>\n",
       "    </tr>\n",
       "    <tr>\n",
       "      <th>Date</th>\n",
       "      <th></th>\n",
       "    </tr>\n",
       "  </thead>\n",
       "  <tbody>\n",
       "    <tr>\n",
       "      <th>2021-04-26</th>\n",
       "      <td>$125,789.89</td>\n",
       "    </tr>\n",
       "    <tr>\n",
       "      <th>2021-04-27</th>\n",
       "      <td>$99,374.01</td>\n",
       "    </tr>\n",
       "    <tr>\n",
       "      <th>2021-04-28</th>\n",
       "      <td>$82,203.16</td>\n",
       "    </tr>\n",
       "    <tr>\n",
       "      <th>2021-04-29</th>\n",
       "      <td>$33,530.26</td>\n",
       "    </tr>\n",
       "    <tr>\n",
       "      <th>2021-04-30</th>\n",
       "      <td>$30,105.24</td>\n",
       "    </tr>\n",
       "  </tbody>\n",
       "</table>\n",
       "</div>"
      ],
      "text/plain": [
       "                    Daily\n",
       "Date                     \n",
       "2021-04-26   $125,789.89 \n",
       "2021-04-27    $99,374.01 \n",
       "2021-04-28    $82,203.16 \n",
       "2021-04-29    $33,530.26 \n",
       "2021-04-30    $30,105.24 "
      ]
     },
     "execution_count": 6,
     "metadata": {},
     "output_type": "execute_result"
    }
   ],
   "source": [
    "movies.head()"
   ]
  },
  {
   "cell_type": "code",
   "execution_count": 7,
   "id": "b06c88f2-25ec-4d42-a8b7-469f4bfc41fc",
   "metadata": {},
   "outputs": [],
   "source": [
    "output = Path('../../datasets/Ch4/my_movies.csv')\n",
    "movies.to_csv(output)"
   ]
  },
  {
   "cell_type": "code",
   "execution_count": 8,
   "id": "49d2d5a3-5dda-432c-a472-c221fb9551c9",
   "metadata": {},
   "outputs": [],
   "source": [
    "output = Path('../../datasets/Ch4/piped_movies.csv')\n",
    "movies.to_csv(output, sep='|')"
   ]
  },
  {
   "cell_type": "code",
   "execution_count": 27,
   "id": "ae2a6260-72d5-4f4c-92a0-325c693cc1bc",
   "metadata": {},
   "outputs": [],
   "source": [
    "movies_df = pd.read_csv(output, sep='|')"
   ]
  },
  {
   "cell_type": "code",
   "execution_count": 2,
   "id": "0189ccf5-0646-4180-94da-a45ed484ea2b",
   "metadata": {},
   "outputs": [],
   "source": [
    "movies_df.info()"
   ]
  },
  {
   "cell_type": "markdown",
   "id": "19a4d644-13af-4cbd-930b-0385c289cf8e",
   "metadata": {},
   "source": [
    "\n",
    "### Special cases when using `.to_csv()`"
   ]
  },
  {
   "cell_type": "code",
   "execution_count": 29,
   "id": "d5e50c98-4bf5-4192-8fd2-7945455be4a2",
   "metadata": {},
   "outputs": [
    {
     "data": {
      "text/html": [
       "<div>\n",
       "<style scoped>\n",
       "    .dataframe tbody tr th:only-of-type {\n",
       "        vertical-align: middle;\n",
       "    }\n",
       "\n",
       "    .dataframe tbody tr th {\n",
       "        vertical-align: top;\n",
       "    }\n",
       "\n",
       "    .dataframe thead th {\n",
       "        text-align: right;\n",
       "    }\n",
       "</style>\n",
       "<table border=\"1\" class=\"dataframe\">\n",
       "  <thead>\n",
       "    <tr style=\"text-align: right;\">\n",
       "      <th></th>\n",
       "      <th>name</th>\n",
       "      <th>location</th>\n",
       "      <th>net_worth</th>\n",
       "    </tr>\n",
       "  </thead>\n",
       "  <tbody>\n",
       "    <tr>\n",
       "      <th>0</th>\n",
       "      <td>Bond, James</td>\n",
       "      <td>Los Angeles, CA</td>\n",
       "      <td>10000</td>\n",
       "    </tr>\n",
       "    <tr>\n",
       "      <th>1</th>\n",
       "      <td>Smith, James</td>\n",
       "      <td>Phoenix, AZ</td>\n",
       "      <td>9000</td>\n",
       "    </tr>\n",
       "    <tr>\n",
       "      <th>2</th>\n",
       "      <td>Bacon, Kevin</td>\n",
       "      <td>New York, NY</td>\n",
       "      <td>8000</td>\n",
       "    </tr>\n",
       "  </tbody>\n",
       "</table>\n",
       "</div>"
      ],
      "text/plain": [
       "           name         location  net_worth\n",
       "0   Bond, James  Los Angeles, CA      10000\n",
       "1  Smith, James      Phoenix, AZ       9000\n",
       "2  Bacon, Kevin     New York, NY       8000"
      ]
     },
     "execution_count": 29,
     "metadata": {},
     "output_type": "execute_result"
    }
   ],
   "source": [
    "import pandas as pd\n",
    "person = pd.DataFrame({\n",
    "    'name': ['Bond, James', 'Smith, James', 'Bacon, Kevin'],\n",
    "    'location': ['Los Angeles, CA', 'Phoenix, AZ', 'New York, NY'],\n",
    "    'net_worth': [10000, 9000, 8000]\n",
    "})\n",
    "\n",
    "person"
   ]
  },
  {
   "cell_type": "code",
   "execution_count": 30,
   "id": "e2ed15fb-f77d-4c78-9c67-366c58d263bd",
   "metadata": {},
   "outputs": [],
   "source": [
    "person.to_csv('person_a.csv', index=False)"
   ]
  },
  {
   "cell_type": "code",
   "execution_count": 31,
   "id": "ba330bb2-9ec3-4165-a143-d48b78c8ca33",
   "metadata": {},
   "outputs": [],
   "source": [
    "import csv\n",
    "\n",
    "person.to_csv('person_b.csv', \n",
    "               index=False, \n",
    "               quoting=csv.QUOTE_ALL)\n",
    "\n",
    "person.to_csv('person_c.csv', \n",
    "               index=False, \n",
    "               quoting=csv.QUOTE_MINIMAL)\n",
    "\n",
    "person.to_csv('person_d.csv', \n",
    "               index=False, \n",
    "               quoting= csv.QUOTE_NONNUMERIC)\n",
    "\n",
    "person.to_csv('person_e.csv', \n",
    "               index=False, \n",
    "               quoting= csv.QUOTE_NONE, escapechar='\\t')"
   ]
  },
  {
   "cell_type": "markdown",
   "id": "91db8aa7-95b5-4219-a130-465d8dca583e",
   "metadata": {},
   "source": [
    "# Recipe 3: Writing data to an Excel file"
   ]
  },
  {
   "cell_type": "markdown",
   "id": "b348ab72-2d41-4318-a124-9a877f20cec4",
   "metadata": {},
   "source": [
    "In the *Reading data from an Excel file* recipe in **Chapter 2**, *Reading Time Series Data from Files*, you were instructed to install `openpyxl` for the read engine. For this recipe, you will be using the same openpyxl for the write engine.  \n",
    "\n",
    "* To install `openpyxl` using `conda`, run the following:\n",
    "\n",
    "```\n",
    "conda install openpyxl\n",
    "```\n",
    "* You can also use `pip`:\n",
    "\n",
    "```\n",
    "pip install openpyxl\n",
    "```"
   ]
  },
  {
   "cell_type": "code",
   "execution_count": 32,
   "id": "b29eba17-2bdc-4788-8b6c-31ded2b0b369",
   "metadata": {},
   "outputs": [],
   "source": [
    "import openpyxl\n",
    "import xlsxwriter"
   ]
  },
  {
   "cell_type": "code",
   "execution_count": 33,
   "id": "37b7cd98-423f-432e-8506-c666c6ba3cf6",
   "metadata": {},
   "outputs": [
    {
     "name": "stdout",
     "output_type": "stream",
     "text": [
      "3.0.9\n",
      "3.0.3\n"
     ]
    }
   ],
   "source": [
    "print(openpyxl.__version__)\n",
    "print(xlsxwriter.__version__)"
   ]
  },
  {
   "cell_type": "code",
   "execution_count": 34,
   "id": "b486e05e-7d4b-49e2-bf8d-a190bbdd717f",
   "metadata": {},
   "outputs": [],
   "source": [
    "output = Path('../../datasets/Ch4/daily_boxoffice.xlsx')\n",
    "movies.to_excel(output,\n",
    "               sheet_name='movies',\n",
    "               engine='openpyxl') # default engine for xlsx files"
   ]
  },
  {
   "cell_type": "code",
   "execution_count": 35,
   "id": "6f716d04-7a03-4dba-b46c-2825bdcd4f20",
   "metadata": {},
   "outputs": [],
   "source": [
    "date_format = 'MM-DD-YYYY'\n",
    "with pd.ExcelWriter(output,  \n",
    "                    engine='openpyxl',\n",
    "                    mode='a',\n",
    "                   if_sheet_exists='replace') as writer:\n",
    "    writer.datetime_format = date_format\n",
    "    movies.to_excel(writer, sheet_name='movies_fixed_dates')"
   ]
  },
  {
   "cell_type": "code",
   "execution_count": 36,
   "id": "906e38bb-dcd5-4eb7-8df5-ac65913b4943",
   "metadata": {},
   "outputs": [],
   "source": [
    "date_format = 'MM-DD-YYYY'\n",
    "with pd.ExcelWriter(output,  \n",
    "                    engine='openpyxl',\n",
    "                    mode='a',\n",
    "                   if_sheet_exists='new') as writer:\n",
    "    writer.datetime_format = date_format\n",
    "    movies.to_excel(writer, sheet_name='movies_fixed_dates')"
   ]
  },
  {
   "cell_type": "code",
   "execution_count": 37,
   "id": "1407d16e-516f-4be1-9403-07f989e02084",
   "metadata": {},
   "outputs": [
    {
     "data": {
      "text/html": [
       "<div>\n",
       "<style scoped>\n",
       "    .dataframe tbody tr th:only-of-type {\n",
       "        vertical-align: middle;\n",
       "    }\n",
       "\n",
       "    .dataframe tbody tr th {\n",
       "        vertical-align: top;\n",
       "    }\n",
       "\n",
       "    .dataframe thead th {\n",
       "        text-align: right;\n",
       "    }\n",
       "</style>\n",
       "<table border=\"1\" class=\"dataframe\">\n",
       "  <thead>\n",
       "    <tr style=\"text-align: right;\">\n",
       "      <th></th>\n",
       "      <th>Daily</th>\n",
       "    </tr>\n",
       "    <tr>\n",
       "      <th>Date</th>\n",
       "      <th></th>\n",
       "    </tr>\n",
       "  </thead>\n",
       "  <tbody>\n",
       "    <tr>\n",
       "      <th>2021-04-26</th>\n",
       "      <td>$125,789.89</td>\n",
       "    </tr>\n",
       "    <tr>\n",
       "      <th>2021-04-27</th>\n",
       "      <td>$99,374.01</td>\n",
       "    </tr>\n",
       "    <tr>\n",
       "      <th>2021-04-28</th>\n",
       "      <td>$82,203.16</td>\n",
       "    </tr>\n",
       "    <tr>\n",
       "      <th>2021-04-29</th>\n",
       "      <td>$33,530.26</td>\n",
       "    </tr>\n",
       "    <tr>\n",
       "      <th>2021-04-30</th>\n",
       "      <td>$30,105.24</td>\n",
       "    </tr>\n",
       "    <tr>\n",
       "      <th>...</th>\n",
       "      <td>...</td>\n",
       "    </tr>\n",
       "    <tr>\n",
       "      <th>2021-08-27</th>\n",
       "      <td>$0.00</td>\n",
       "    </tr>\n",
       "    <tr>\n",
       "      <th>2021-08-28</th>\n",
       "      <td>$0.00</td>\n",
       "    </tr>\n",
       "    <tr>\n",
       "      <th>2021-08-29</th>\n",
       "      <td>$0.00</td>\n",
       "    </tr>\n",
       "    <tr>\n",
       "      <th>2021-08-30</th>\n",
       "      <td>$0.00</td>\n",
       "    </tr>\n",
       "    <tr>\n",
       "      <th>2021-08-31</th>\n",
       "      <td>$0.00</td>\n",
       "    </tr>\n",
       "  </tbody>\n",
       "</table>\n",
       "<p>128 rows × 1 columns</p>\n",
       "</div>"
      ],
      "text/plain": [
       "                    Daily\n",
       "Date                     \n",
       "2021-04-26   $125,789.89 \n",
       "2021-04-27    $99,374.01 \n",
       "2021-04-28    $82,203.16 \n",
       "2021-04-29    $33,530.26 \n",
       "2021-04-30    $30,105.24 \n",
       "...                   ...\n",
       "2021-08-27         $0.00 \n",
       "2021-08-28         $0.00 \n",
       "2021-08-29         $0.00 \n",
       "2021-08-30         $0.00 \n",
       "2021-08-31         $0.00 \n",
       "\n",
       "[128 rows x 1 columns]"
      ]
     },
     "execution_count": 37,
     "metadata": {},
     "output_type": "execute_result"
    }
   ],
   "source": [
    "movies"
   ]
  },
  {
   "cell_type": "code",
   "execution_count": 38,
   "id": "51755f18-ad96-4e87-bd0f-2ee40d48c008",
   "metadata": {},
   "outputs": [
    {
     "data": {
      "text/html": [
       "<div>\n",
       "<style scoped>\n",
       "    .dataframe tbody tr th:only-of-type {\n",
       "        vertical-align: middle;\n",
       "    }\n",
       "\n",
       "    .dataframe tbody tr th {\n",
       "        vertical-align: top;\n",
       "    }\n",
       "\n",
       "    .dataframe thead th {\n",
       "        text-align: right;\n",
       "    }\n",
       "</style>\n",
       "<table border=\"1\" class=\"dataframe\">\n",
       "  <thead>\n",
       "    <tr style=\"text-align: right;\">\n",
       "      <th></th>\n",
       "      <th>Daily</th>\n",
       "      <th>Month</th>\n",
       "    </tr>\n",
       "    <tr>\n",
       "      <th>Date</th>\n",
       "      <th></th>\n",
       "      <th></th>\n",
       "    </tr>\n",
       "  </thead>\n",
       "  <tbody>\n",
       "    <tr>\n",
       "      <th>2021-04-26</th>\n",
       "      <td>$125,789.89</td>\n",
       "      <td>April</td>\n",
       "    </tr>\n",
       "    <tr>\n",
       "      <th>2021-04-27</th>\n",
       "      <td>$99,374.01</td>\n",
       "      <td>April</td>\n",
       "    </tr>\n",
       "    <tr>\n",
       "      <th>2021-04-28</th>\n",
       "      <td>$82,203.16</td>\n",
       "      <td>April</td>\n",
       "    </tr>\n",
       "    <tr>\n",
       "      <th>2021-04-29</th>\n",
       "      <td>$33,530.26</td>\n",
       "      <td>April</td>\n",
       "    </tr>\n",
       "    <tr>\n",
       "      <th>2021-04-30</th>\n",
       "      <td>$30,105.24</td>\n",
       "      <td>April</td>\n",
       "    </tr>\n",
       "  </tbody>\n",
       "</table>\n",
       "</div>"
      ],
      "text/plain": [
       "                    Daily  Month\n",
       "Date                            \n",
       "2021-04-26   $125,789.89   April\n",
       "2021-04-27    $99,374.01   April\n",
       "2021-04-28    $82,203.16   April\n",
       "2021-04-29    $33,530.26   April\n",
       "2021-04-30    $30,105.24   April"
      ]
     },
     "execution_count": 38,
     "metadata": {},
     "output_type": "execute_result"
    }
   ],
   "source": [
    "movies['Month'] = movies.index.month_name()\n",
    "movies.head()"
   ]
  },
  {
   "cell_type": "markdown",
   "id": "abcbeafc-8074-4371-90a0-4e6b8d86b838",
   "metadata": {},
   "source": [
    "### Split the DataFrame into multiple sheets by Month"
   ]
  },
  {
   "cell_type": "code",
   "execution_count": 39,
   "id": "3b26d38b-f442-4183-a218-294ad0eaa9f1",
   "metadata": {},
   "outputs": [],
   "source": [
    "output = Path('../../datasets/Ch4/boxoffice_by_month.xlsx')\n",
    "with pd.ExcelWriter(output,\n",
    "                    engine='openpyxl') as writer:\n",
    "    for month, data in movies.groupby('Month'):\n",
    "        writer.datetime_format = 'YYYY-MM-DD'\n",
    "        data.to_excel(writer, sheet_name=month)"
   ]
  },
  {
   "cell_type": "markdown",
   "id": "f04e4669-e0ba-4b8a-9fb6-b6fb9502ceca",
   "metadata": {},
   "source": [
    "# Recipe 4: Storing Data to S3\n",
    "In this recipe, you will explore writing to AWS S3 using pandas and another approach using the AWS Python SDK. The pandas approach can be used to write files to other cloud storage locations, such as Azure or Google Cloud.\n",
    "\n",
    "In the *Reading data from a URL* recipe in **Chapter 2**, *Reading Time Series Data from Files*, you were instructed to install boto3 and s3fs in order to read from AWS S3 buckets. In this recipe, you will be leveraging the same libraries.\n",
    "\n",
    "* To install using pip, you can use this:\n",
    "\n",
    "```\n",
    "pip install boto3 s3fs\n",
    "```\n",
    "\n",
    "* To install using conda, you can use this:\n",
    "\n",
    "```\n",
    "conda install boto3 s3fs -y\n",
    "```"
   ]
  },
  {
   "cell_type": "code",
   "execution_count": 40,
   "id": "c6a734cc-f8e0-4c27-aea4-777fd06235b1",
   "metadata": {},
   "outputs": [],
   "source": [
    "import configparser\n",
    "config = configparser.ConfigParser()\n",
    "config.read('aws.cfg')\n",
    "\n",
    "AWS_ACCESS_KEY = config['AWS']['aws_access_key']\n",
    "AWS_SECRET_KEY = config['AWS']['aws_secret_key']"
   ]
  },
  {
   "cell_type": "code",
   "execution_count": 41,
   "id": "417785e4-e0ca-4709-8cba-02f2ab1c862f",
   "metadata": {},
   "outputs": [],
   "source": [
    "import pandas as pd\n",
    "from pathlib import Path\n",
    "source = \"../../datasets/Ch4/boxoffice_by_month.xlsx\"\n",
    "movies = pd.concat(pd.read_excel(source,\n",
    "             sheet_name=None,\n",
    "             index_col='Date',\n",
    "             parse_dates=True)).droplevel(0)"
   ]
  },
  {
   "cell_type": "code",
   "execution_count": 42,
   "id": "fd57a54b-27fc-4efc-adb7-e9b26f83500f",
   "metadata": {},
   "outputs": [],
   "source": [
    "movies.to_excel('s3://tscookbook/movies.xlsx',\n",
    "                sheet_name='Sheet1',\n",
    "                storage_options={'key': AWS_ACCESS_KEY,\n",
    "                                 'secret': AWS_SECRET_KEY})\n",
    "\n",
    "movies.to_csv('s3://tscookbook-private/movies.csv',\n",
    "               storage_options={'key': AWS_ACCESS_KEY,\n",
    "                                'secret': AWS_SECRET_KEY})"
   ]
  },
  {
   "cell_type": "markdown",
   "id": "e3d1b4e2-656e-4ab1-b1c3-48cd5b984bec",
   "metadata": {},
   "source": [
    "## There is more\n",
    "#### Using Boto3 and StringIO"
   ]
  },
  {
   "cell_type": "code",
   "execution_count": 43,
   "id": "c884cf44-4a5e-46ed-a1c0-3e94117acba9",
   "metadata": {},
   "outputs": [
    {
     "name": "stdout",
     "output_type": "stream",
     "text": [
      "Successful Write\n"
     ]
    }
   ],
   "source": [
    "import boto3\n",
    "from io import StringIO\n",
    "\n",
    "bucket = \"tscookbook-private\"\n",
    "s3_client = boto3.resource(\"s3\",\n",
    "            aws_access_key_id = AWS_ACCESS_KEY,\n",
    "            aws_secret_access_key = AWS_SECRET_KEY)\n",
    "\n",
    "with StringIO() as in_memory_buffer:\n",
    "    movies.to_csv(in_memory_buffer)\n",
    "    response = s3_client.Object(bucket, 'new_df.csv').put(Body=in_memory_buffer.getvalue())\n",
    "    status = response['ResponseMetadata']['HTTPStatusCode']\n",
    "    if status == 200:\n",
    "        print('Successful Write')\n",
    "    else:\n",
    "        print('Unsucessful Write - ', status)"
   ]
  }
 ],
 "metadata": {
  "kernelspec": {
   "display_name": "Python [conda env:dev]",
   "language": "python",
   "name": "conda-env-dev-py"
  },
  "language_info": {
   "codemirror_mode": {
    "name": "ipython",
    "version": 3
   },
   "file_extension": ".py",
   "mimetype": "text/x-python",
   "name": "python",
   "nbconvert_exporter": "python",
   "pygments_lexer": "ipython3",
   "version": "3.9.12"
  }
 },
 "nbformat": 4,
 "nbformat_minor": 5
}
